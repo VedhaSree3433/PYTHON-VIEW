{
 "cells": [
  {
   "cell_type": "markdown",
   "id": "8aba0e70",
   "metadata": {},
   "source": [
    "# Packages and modules\n",
    "## Package is a collection of modules\n",
    "## Module is a collection of functions\n",
    "* User defined modules\n",
    "* Predefined modules\n",
    "# File and File operations"
   ]
  },
  {
   "cell_type": "code",
   "execution_count": 1,
   "id": "ba29959c",
   "metadata": {},
   "outputs": [
    {
     "name": "stdout",
     "output_type": "stream",
     "text": [
      "['ArithmeticError', 'AssertionError', 'AttributeError', 'BaseException', 'BlockingIOError', 'BrokenPipeError', 'BufferError', 'BytesWarning', 'ChildProcessError', 'ConnectionAbortedError', 'ConnectionError', 'ConnectionRefusedError', 'ConnectionResetError', 'DeprecationWarning', 'EOFError', 'Ellipsis', 'EnvironmentError', 'Exception', 'False', 'FileExistsError', 'FileNotFoundError', 'FloatingPointError', 'FutureWarning', 'GeneratorExit', 'IOError', 'ImportError', 'ImportWarning', 'IndentationError', 'IndexError', 'InterruptedError', 'IsADirectoryError', 'KeyError', 'KeyboardInterrupt', 'LookupError', 'MemoryError', 'ModuleNotFoundError', 'NameError', 'None', 'NotADirectoryError', 'NotImplemented', 'NotImplementedError', 'OSError', 'OverflowError', 'PendingDeprecationWarning', 'PermissionError', 'ProcessLookupError', 'RecursionError', 'ReferenceError', 'ResourceWarning', 'RuntimeError', 'RuntimeWarning', 'StopAsyncIteration', 'StopIteration', 'SyntaxError', 'SyntaxWarning', 'SystemError', 'SystemExit', 'TabError', 'TimeoutError', 'True', 'TypeError', 'UnboundLocalError', 'UnicodeDecodeError', 'UnicodeEncodeError', 'UnicodeError', 'UnicodeTranslateError', 'UnicodeWarning', 'UserWarning', 'ValueError', 'Warning', 'WindowsError', 'ZeroDivisionError', '__IPYTHON__', '__build_class__', '__debug__', '__doc__', '__import__', '__loader__', '__name__', '__package__', '__spec__', 'abs', 'all', 'any', 'ascii', 'bin', 'bool', 'breakpoint', 'bytearray', 'bytes', 'callable', 'chr', 'classmethod', 'compile', 'complex', 'copyright', 'credits', 'delattr', 'dict', 'dir', 'display', 'divmod', 'enumerate', 'eval', 'exec', 'filter', 'float', 'format', 'frozenset', 'get_ipython', 'getattr', 'globals', 'hasattr', 'hash', 'help', 'hex', 'id', 'input', 'int', 'isinstance', 'issubclass', 'iter', 'len', 'license', 'list', 'locals', 'map', 'max', 'memoryview', 'min', 'next', 'object', 'oct', 'open', 'ord', 'pow', 'print', 'property', 'range', 'repr', 'reversed', 'round', 'set', 'setattr', 'slice', 'sorted', 'staticmethod', 'str', 'sum', 'super', 'tuple', 'type', 'vars', 'zip']\n"
     ]
    }
   ],
   "source": [
    "import builtins\n",
    "print(dir(builtins))"
   ]
  },
  {
   "cell_type": "code",
   "execution_count": 2,
   "id": "ff443b55",
   "metadata": {},
   "outputs": [
    {
     "name": "stdout",
     "output_type": "stream",
     "text": [
      "['__doc__', '__loader__', '__name__', '__package__', '__spec__', 'acos', 'acosh', 'asin', 'asinh', 'atan', 'atan2', 'atanh', 'ceil', 'comb', 'copysign', 'cos', 'cosh', 'degrees', 'dist', 'e', 'erf', 'erfc', 'exp', 'expm1', 'fabs', 'factorial', 'floor', 'fmod', 'frexp', 'fsum', 'gamma', 'gcd', 'hypot', 'inf', 'isclose', 'isfinite', 'isinf', 'isnan', 'isqrt', 'ldexp', 'lgamma', 'log', 'log10', 'log1p', 'log2', 'modf', 'nan', 'perm', 'pi', 'pow', 'prod', 'radians', 'remainder', 'sin', 'sinh', 'sqrt', 'tan', 'tanh', 'tau', 'trunc']\n"
     ]
    }
   ],
   "source": [
    "import math as mt\n",
    "print(dir(mt))\n"
   ]
  },
  {
   "cell_type": "code",
   "execution_count": 3,
   "id": "1c2803fb",
   "metadata": {},
   "outputs": [
    {
     "name": "stdout",
     "output_type": "stream",
     "text": [
      "8.0\n"
     ]
    }
   ],
   "source": [
    "print(mt.pow(2,3))"
   ]
  },
  {
   "cell_type": "code",
   "execution_count": 4,
   "id": "e48e842b",
   "metadata": {},
   "outputs": [
    {
     "name": "stdout",
     "output_type": "stream",
     "text": [
      "27.0\n"
     ]
    }
   ],
   "source": [
    "print(mt.pow(3,3))"
   ]
  },
  {
   "cell_type": "code",
   "execution_count": 5,
   "id": "010a6352",
   "metadata": {},
   "outputs": [
    {
     "name": "stdout",
     "output_type": "stream",
     "text": [
      "729.0\n"
     ]
    }
   ],
   "source": [
    "print(mt.pow(9,3))"
   ]
  },
  {
   "cell_type": "code",
   "execution_count": 6,
   "id": "dad5212a",
   "metadata": {},
   "outputs": [
    {
     "name": "stdout",
     "output_type": "stream",
     "text": [
      "3.0\n"
     ]
    }
   ],
   "source": [
    "print(mt.sqrt(9))"
   ]
  },
  {
   "cell_type": "code",
   "execution_count": 7,
   "id": "64904382",
   "metadata": {},
   "outputs": [
    {
     "name": "stdout",
     "output_type": "stream",
     "text": [
      "1.6197751905438615\n"
     ]
    }
   ],
   "source": [
    "print(mt.tan(45))"
   ]
  },
  {
   "cell_type": "code",
   "execution_count": 8,
   "id": "ab5edd45",
   "metadata": {},
   "outputs": [
    {
     "name": "stdout",
     "output_type": "stream",
     "text": [
      "6\n"
     ]
    }
   ],
   "source": [
    "# ceil (round figure, largest value)\n",
    "a=5.6\n",
    "print(mt.ceil(a))"
   ]
  },
  {
   "cell_type": "code",
   "execution_count": 9,
   "id": "9bde81ed",
   "metadata": {},
   "outputs": [
    {
     "name": "stdout",
     "output_type": "stream",
     "text": [
      "5\n"
     ]
    }
   ],
   "source": [
    "# floor (smallest value)\n",
    "a=5.6\n",
    "print(mt.floor(a))"
   ]
  },
  {
   "cell_type": "code",
   "execution_count": 12,
   "id": "9715e462",
   "metadata": {},
   "outputs": [
    {
     "name": "stdout",
     "output_type": "stream",
     "text": [
      "120\n"
     ]
    }
   ],
   "source": [
    "a=5\n",
    "print(mt.factorial(a))"
   ]
  },
  {
   "cell_type": "code",
   "execution_count": 14,
   "id": "c39aff4f",
   "metadata": {},
   "outputs": [
    {
     "name": "stdout",
     "output_type": "stream",
     "text": [
      "['BPF', 'LOG4', 'NV_MAGICCONST', 'RECIP_BPF', 'Random', 'SG_MAGICCONST', 'SystemRandom', 'TWOPI', '_Sequence', '_Set', '__all__', '__builtins__', '__cached__', '__doc__', '__file__', '__loader__', '__name__', '__package__', '__spec__', '_accumulate', '_acos', '_bisect', '_ceil', '_cos', '_e', '_exp', '_inst', '_log', '_os', '_pi', '_random', '_repeat', '_sha512', '_sin', '_sqrt', '_test', '_test_generator', '_urandom', '_warn', 'betavariate', 'choice', 'choices', 'expovariate', 'gammavariate', 'gauss', 'getrandbits', 'getstate', 'lognormvariate', 'normalvariate', 'paretovariate', 'randint', 'random', 'randrange', 'sample', 'seed', 'setstate', 'shuffle', 'triangular', 'uniform', 'vonmisesvariate', 'weibullvariate']\n"
     ]
    }
   ],
   "source": [
    "import random as rd\n",
    "print(dir(rd))"
   ]
  },
  {
   "cell_type": "code",
   "execution_count": 16,
   "id": "398df0e6",
   "metadata": {},
   "outputs": [
    {
     "name": "stdout",
     "output_type": "stream",
     "text": [
      "29\n"
     ]
    }
   ],
   "source": [
    "print(rd.randint(10,50))"
   ]
  },
  {
   "cell_type": "code",
   "execution_count": 17,
   "id": "26065327",
   "metadata": {},
   "outputs": [
    {
     "name": "stdout",
     "output_type": "stream",
     "text": [
      "0.6812367300836802\n"
     ]
    }
   ],
   "source": [
    "print(rd.random())"
   ]
  },
  {
   "cell_type": "markdown",
   "id": "7467e4e2",
   "metadata": {},
   "source": [
    "# User defined modules"
   ]
  },
  {
   "cell_type": "code",
   "execution_count": 18,
   "id": "a03bde22",
   "metadata": {},
   "outputs": [
    {
     "data": {
      "text/plain": [
       "'C:\\\\Users\\\\ESWER\\\\Desktop\\\\PYTHON VIEW'"
      ]
     },
     "execution_count": 18,
     "metadata": {},
     "output_type": "execute_result"
    }
   ],
   "source": [
    "pwd()"
   ]
  },
  {
   "cell_type": "code",
   "execution_count": 24,
   "id": "c1259490",
   "metadata": {},
   "outputs": [
    {
     "name": "stdout",
     "output_type": "stream",
     "text": [
      " Volume in drive C has no label.\n",
      " Volume Serial Number is 7E43-9A0F\n",
      "\n",
      " Directory of C:\\Users\\ESWER\\Desktop\\PYTHON VIEW\n",
      "\n",
      "07-06-2021  13:58    <DIR>          .\n",
      "07-06-2021  13:58    <DIR>          ..\n",
      "07-06-2021  13:06    <DIR>          .ipynb_checkpoints\n",
      "07-06-2021  13:26           156,967 25-5-2021.ipynb\n",
      "07-06-2021  13:58             8,941 7-6-2021.ipynb\n",
      "07-06-2021  13:37                 0 module.py\n",
      "26-05-2021  13:38             2,456 puppy.jpg\n",
      "03-06-2021  13:06                72 Untitled1.ipynb\n",
      "               5 File(s)        168,436 bytes\n",
      "               3 Dir(s)   9,242,951,680 bytes free\n"
     ]
    }
   ],
   "source": [
    "ls"
   ]
  },
  {
   "cell_type": "code",
   "execution_count": 27,
   "id": "65beaea6",
   "metadata": {},
   "outputs": [
    {
     "name": "stdout",
     "output_type": "stream",
     "text": [
      "15\n"
     ]
    }
   ],
   "source": [
    "import module\n",
    "print(module.add(5,10))"
   ]
  },
  {
   "cell_type": "code",
   "execution_count": 31,
   "id": "d067eaac",
   "metadata": {},
   "outputs": [
    {
     "name": "stdout",
     "output_type": "stream",
     "text": [
      "15\n",
      "40\n",
      "100\n"
     ]
    }
   ],
   "source": [
    "import module as pt\n",
    "print(pt.add(5,10))\n",
    "print(pt.sub(50,10))\n",
    "print(pt.mul(5,20))"
   ]
  },
  {
   "cell_type": "code",
   "execution_count": 32,
   "id": "6d1c812c",
   "metadata": {},
   "outputs": [
    {
     "name": "stdout",
     "output_type": "stream",
     "text": [
      "11\n"
     ]
    }
   ],
   "source": [
    "import module as pt \n",
    "print(pt.add(5,6))"
   ]
  },
  {
   "cell_type": "markdown",
   "id": "162b1bf6",
   "metadata": {},
   "source": [
    "# File is a collection of data\n",
    "## File operations \n",
    "## open\n",
    "### write() w\n",
    "### read() r\n",
    "### append() a\n",
    "### close\n"
   ]
  },
  {
   "cell_type": "code",
   "execution_count": 33,
   "id": "f2dfc7dd",
   "metadata": {},
   "outputs": [
    {
     "name": "stdout",
     "output_type": "stream",
     "text": [
      "14\n"
     ]
    }
   ],
   "source": [
    "f=open('data.txt','w')\n",
    "kk=f.write(\"Good Afternoon\")\n",
    "print(kk) # how much data is printed length is displayed\n",
    "f.close()"
   ]
  },
  {
   "cell_type": "code",
   "execution_count": 34,
   "id": "e73dbd4f",
   "metadata": {},
   "outputs": [],
   "source": [
    "f2=open(\"data1.txt\",\"w\")\n",
    "fk2=f2.write(\"Good Afternoon\\n\"*100)\n",
    "f2.close()"
   ]
  },
  {
   "cell_type": "code",
   "execution_count": 35,
   "id": "66833d72",
   "metadata": {},
   "outputs": [
    {
     "ename": "ValueError",
     "evalue": "I/O operation on closed file.",
     "output_type": "error",
     "traceback": [
      "\u001b[1;31m---------------------------------------------------------------------------\u001b[0m",
      "\u001b[1;31mValueError\u001b[0m                                Traceback (most recent call last)",
      "\u001b[1;32m<ipython-input-35-a1645a250a41>\u001b[0m in \u001b[0;36m<module>\u001b[1;34m\u001b[0m\n\u001b[1;32m----> 1\u001b[1;33m \u001b[0mfk2\u001b[0m\u001b[1;33m=\u001b[0m\u001b[0mf2\u001b[0m\u001b[1;33m.\u001b[0m\u001b[0mwrite\u001b[0m\u001b[1;33m(\u001b[0m\u001b[1;34m\"Good Afternoon\\n\"\u001b[0m\u001b[1;33m*\u001b[0m\u001b[1;36m100\u001b[0m\u001b[1;33m)\u001b[0m\u001b[1;33m\u001b[0m\u001b[1;33m\u001b[0m\u001b[0m\n\u001b[0m",
      "\u001b[1;31mValueError\u001b[0m: I/O operation on closed file."
     ]
    }
   ],
   "source": [
    "fk2=f2.write(\"Good Afternoon\\n\"*100)"
   ]
  },
  {
   "cell_type": "code",
   "execution_count": 40,
   "id": "5000ac06",
   "metadata": {},
   "outputs": [
    {
     "name": "stdout",
     "output_type": "stream",
     "text": [
      "Good Afternoon\n"
     ]
    }
   ],
   "source": [
    "fr=open(\"data.txt\",\"r\")\n",
    "frr=fr.read()\n",
    "print(frr)\n",
    "fr.close()"
   ]
  },
  {
   "cell_type": "code",
   "execution_count": 42,
   "id": "f524893f",
   "metadata": {},
   "outputs": [
    {
     "name": "stdout",
     "output_type": "stream",
     "text": [
      "['Good Afternoon']\n"
     ]
    }
   ],
   "source": [
    "fl=open(\"data.txt\",'r')\n",
    "flr=fl.readlines()\n",
    "print(flr)\n",
    "fl.close()"
   ]
  },
  {
   "cell_type": "code",
   "execution_count": 45,
   "id": "20bc95bd",
   "metadata": {},
   "outputs": [],
   "source": [
    "fa=open(\"data.txt\",'a')\n",
    "fw=fa.write(\"\\nGood Evening\")\n",
    "fa.close()"
   ]
  },
  {
   "cell_type": "code",
   "execution_count": 51,
   "id": "b3d657a8",
   "metadata": {},
   "outputs": [
    {
     "name": "stdout",
     "output_type": "stream",
     "text": [
      "Number of lines in file:  2\n"
     ]
    }
   ],
   "source": [
    "# Task\n",
    "t=open(\"data.txt\",\"r\")\n",
    "rt=t.read()\n",
    "c=1\n",
    "for i in rt:\n",
    "    if i==\"\\n\":\n",
    "        c=c+1\n",
    "print(\"Number of lines in file: \",c)"
   ]
  },
  {
   "cell_type": "code",
   "execution_count": 55,
   "id": "e540048d",
   "metadata": {},
   "outputs": [
    {
     "name": "stdout",
     "output_type": "stream",
     "text": [
      "Number of characters in file:  40\n"
     ]
    }
   ],
   "source": [
    "t=open(\"data.txt\",\"r\")\n",
    "rt=t.read()\n",
    "c=1\n",
    "for i in rt:\n",
    "    if i.isalpha:\n",
    "        c=c+1\n",
    "print(\"Number of characters in file: \",c)"
   ]
  },
  {
   "cell_type": "code",
   "execution_count": 2,
   "id": "707ea790",
   "metadata": {},
   "outputs": [
    {
     "name": "stdout",
     "output_type": "stream",
     "text": [
      "Number of lines in file:  2\n",
      "Number of characters in file:  39\n"
     ]
    }
   ],
   "source": [
    "t=open(\"data.txt\",\"r\")\n",
    "rt=t.read()\n",
    "c=1\n",
    "for i in rt:\n",
    "    if i==\"\\n\":\n",
    "        c=c+1\n",
    "print(\"Number of lines in file: \",c)\n",
    "print(\"Number of characters in file: \",len(rt))"
   ]
  },
  {
   "cell_type": "code",
   "execution_count": 4,
   "id": "245c5518",
   "metadata": {},
   "outputs": [
    {
     "name": "stdout",
     "output_type": "stream",
     "text": [
      "no.of words in file: 5\n"
     ]
    }
   ],
   "source": [
    "#no. of words in a file\n",
    "w=open(\"data.txt\",\"r\")\n",
    "f=w.read()\n",
    "wt=f.split()\n",
    "print(\"number of words in file:\",len(wt))"
   ]
  },
  {
   "cell_type": "code",
   "execution_count": 5,
   "id": "1309fe44",
   "metadata": {},
   "outputs": [
    {
     "name": "stdout",
     "output_type": "stream",
     "text": [
      "['BPF', 'LOG4', 'NV_MAGICCONST', 'RECIP_BPF', 'Random', 'SG_MAGICCONST', 'SystemRandom', 'TWOPI', '_Sequence', '_Set', '__all__', '__builtins__', '__cached__', '__doc__', '__file__', '__loader__', '__name__', '__package__', '__spec__', '_accumulate', '_acos', '_bisect', '_ceil', '_cos', '_e', '_exp', '_inst', '_log', '_os', '_pi', '_random', '_repeat', '_sha512', '_sin', '_sqrt', '_test', '_test_generator', '_urandom', '_warn', 'betavariate', 'choice', 'choices', 'expovariate', 'gammavariate', 'gauss', 'getrandbits', 'getstate', 'lognormvariate', 'normalvariate', 'paretovariate', 'randint', 'random', 'randrange', 'sample', 'seed', 'setstate', 'shuffle', 'triangular', 'uniform', 'vonmisesvariate', 'weibullvariate']\n"
     ]
    }
   ],
   "source": [
    "import random\n",
    "print(dir(random))"
   ]
  },
  {
   "cell_type": "code",
   "execution_count": 6,
   "id": "b1d69bb8",
   "metadata": {},
   "outputs": [],
   "source": [
    "from random import randint"
   ]
  },
  {
   "cell_type": "code",
   "execution_count": 7,
   "id": "8ddceb8b",
   "metadata": {},
   "outputs": [
    {
     "data": {
      "text/plain": [
       "47"
      ]
     },
     "execution_count": 7,
     "metadata": {},
     "output_type": "execute_result"
    }
   ],
   "source": [
    "randint(1,100)"
   ]
  },
  {
   "cell_type": "code",
   "execution_count": 8,
   "id": "42f4e335",
   "metadata": {},
   "outputs": [],
   "source": [
    "# 100 Students marks in file\n",
    "## find pass students\n",
    "## find fail students\n",
    "## first class students"
   ]
  },
  {
   "cell_type": "code",
   "execution_count": 11,
   "id": "401c4991",
   "metadata": {},
   "outputs": [],
   "source": [
    "from random import randint\n",
    "def studentsmarks(n,lb,ub):\n",
    "    f=open(\"marks.txt\",\"w\")\n",
    "    for i in range(n):\n",
    "        mt=randint(lb,ub)\n",
    "        f.write(str(mt)+\"\\n\")\n",
    "studentsmarks(100,1,100)"
   ]
  },
  {
   "cell_type": "code",
   "execution_count": 14,
   "id": "e35fa300",
   "metadata": {},
   "outputs": [
    {
     "name": "stdout",
     "output_type": "stream",
     "text": [
      "Number of students passed in a class 69\n",
      "Number of students failed in a class 33\n"
     ]
    }
   ],
   "source": [
    "# no.of pass students and fail students data\n",
    "def passfail():\n",
    "    pas=1\n",
    "    fail=1\n",
    "    with open(\"marks.txt\",\"r\") as fn:\n",
    "        for i in fn:\n",
    "            if i>=\"40\":\n",
    "                pas=pas+1\n",
    "            else:\n",
    "                fail=fail+1\n",
    "        print(\"Number of students passed in a class\",pas)\n",
    "        print(\"Number of students failed in a class\",fail)\n",
    "passfail()"
   ]
  },
  {
   "cell_type": "code",
   "execution_count": 40,
   "id": "c4a64f6a",
   "metadata": {},
   "outputs": [
    {
     "name": "stdout",
     "output_type": "stream",
     "text": [
      "Number of students distinction in a class 14\n"
     ]
    }
   ],
   "source": [
    "def distinction():\n",
    "    dist=1\n",
    "    with open(\"marks.txt\",\"r\") as fn:\n",
    "        for i in fn:\n",
    "            if i>=\"85\":\n",
    "                dist=dist+1\n",
    "        print(\"Number of students distinction in a class\",dist)\n",
    "distinction()"
   ]
  },
  {
   "cell_type": "code",
   "execution_count": 18,
   "id": "bf502f91",
   "metadata": {},
   "outputs": [],
   "source": [
    "for i in range(100):\n",
    "    f=open(\"data\"+str(i)+\".txt\",\"w\")"
   ]
  },
  {
   "cell_type": "code",
   "execution_count": 19,
   "id": "28ce859e",
   "metadata": {},
   "outputs": [],
   "source": [
    "# num=\"8074513566\"\n",
    "# num2=\"937652468\"\n",
    "# start ^ end $\n",
    "## do operations"
   ]
  },
  {
   "cell_type": "code",
   "execution_count": 20,
   "id": "0a293513",
   "metadata": {},
   "outputs": [
    {
     "name": "stdout",
     "output_type": "stream",
     "text": [
      "['A', 'ASCII', 'DEBUG', 'DOTALL', 'I', 'IGNORECASE', 'L', 'LOCALE', 'M', 'MULTILINE', 'Match', 'Pattern', 'RegexFlag', 'S', 'Scanner', 'T', 'TEMPLATE', 'U', 'UNICODE', 'VERBOSE', 'X', '_MAXCACHE', '__all__', '__builtins__', '__cached__', '__doc__', '__file__', '__loader__', '__name__', '__package__', '__spec__', '__version__', '_cache', '_compile', '_compile_repl', '_expand', '_locale', '_pickle', '_special_chars_map', '_subx', 'compile', 'copyreg', 'enum', 'error', 'escape', 'findall', 'finditer', 'fullmatch', 'functools', 'match', 'purge', 'search', 'split', 'sre_compile', 'sre_parse', 'sub', 'subn', 'template']\n"
     ]
    }
   ],
   "source": [
    "import re\n",
    "print(dir(re))"
   ]
  },
  {
   "cell_type": "code",
   "execution_count": 23,
   "id": "fcecf3fc",
   "metadata": {},
   "outputs": [
    {
     "name": "stdout",
     "output_type": "stream",
     "text": [
      "enter the number: 7247418\n",
      "Not valid\n"
     ]
    }
   ],
   "source": [
    "import re\n",
    "num=input(\"enter the number: \")\n",
    "pt=\"^[6-9]{1}[0-9]{9}$\"\n",
    "if re.match(pt,num):\n",
    "    print(\"Given number is valid\")\n",
    "else:\n",
    "    print(\"Not valid\")"
   ]
  },
  {
   "cell_type": "code",
   "execution_count": 26,
   "id": "0c5f1e7b",
   "metadata": {},
   "outputs": [
    {
     "name": "stdout",
     "output_type": "stream",
     "text": [
      "enter the mail: vedha@gmail.com\n",
      "Given email is valid\n"
     ]
    }
   ],
   "source": [
    "email=input(\"enter the mail: \")\n",
    "pt=\"^[a-z_.0-9]{4,10}[@][a-z]{3,8}[.][a-z]{3,4}$\"\n",
    "if re.match(pt,email):\n",
    "    print(\"Given email is valid\")\n",
    "else:\n",
    "    print(\"Not valid\")"
   ]
  },
  {
   "cell_type": "code",
   "execution_count": 27,
   "id": "6c0f06b1",
   "metadata": {},
   "outputs": [
    {
     "name": "stdout",
     "output_type": "stream",
     "text": [
      "['A', 'ASCII', 'DEBUG', 'DOTALL', 'I', 'IGNORECASE', 'L', 'LOCALE', 'M', 'MULTILINE', 'Match', 'Pattern', 'RegexFlag', 'S', 'Scanner', 'T', 'TEMPLATE', 'U', 'UNICODE', 'VERBOSE', 'X', '_MAXCACHE', '__all__', '__builtins__', '__cached__', '__doc__', '__file__', '__loader__', '__name__', '__package__', '__spec__', '__version__', '_cache', '_compile', '_compile_repl', '_expand', '_locale', '_pickle', '_special_chars_map', '_subx', 'compile', 'copyreg', 'enum', 'error', 'escape', 'findall', 'finditer', 'fullmatch', 'functools', 'match', 'purge', 'search', 'split', 'sre_compile', 'sre_parse', 'sub', 'subn', 'template']\n"
     ]
    }
   ],
   "source": [
    "print(dir(re))"
   ]
  },
  {
   "cell_type": "code",
   "execution_count": 33,
   "id": "fd27eecf",
   "metadata": {},
   "outputs": [
    {
     "name": "stdout",
     "output_type": "stream",
     "text": [
      "['Sr']\n"
     ]
    }
   ],
   "source": [
    "name=\"VedhaSree\"\n",
    "k=re.findall(\"Sr\",name)\n",
    "print(k)"
   ]
  },
  {
   "cell_type": "code",
   "execution_count": 38,
   "id": "d18fd05e",
   "metadata": {},
   "outputs": [
    {
     "name": "stdout",
     "output_type": "stream",
     "text": [
      "<re.Match object; span=(3, 6), match='nan'>\n"
     ]
    }
   ],
   "source": [
    "name=\"Vignan college\"\n",
    "s=re.search(\"nan\",name)\n",
    "print(s)"
   ]
  },
  {
   "cell_type": "code",
   "execution_count": 39,
   "id": "ba64a9ec",
   "metadata": {},
   "outputs": [
    {
     "name": "stdout",
     "output_type": "stream",
     "text": [
      "['Vig', ' college']\n"
     ]
    }
   ],
   "source": [
    "name=\"Vignan college\"\n",
    "sp=re.split(\"nan\",name)\n",
    "print(sp)"
   ]
  },
  {
   "cell_type": "code",
   "execution_count": 2,
   "id": "a5264b53",
   "metadata": {},
   "outputs": [
    {
     "name": "stdout",
     "output_type": "stream",
     "text": [
      "Number of students passed with distinction in class: 14\n"
     ]
    }
   ],
   "source": [
    "def distinction():\n",
    "    dist=1\n",
    "    with open(\"marks.txt\",\"r\") as fn:\n",
    "        for i in fn:\n",
    "            if i>=\"85\":\n",
    "                dist=dist+1\n",
    "        print(\"Number of students passed with distinction in class:\",dist)\n",
    "distinction()"
   ]
  },
  {
   "cell_type": "markdown",
   "id": "f20faee2",
   "metadata": {},
   "source": [
    "# List Comprehension"
   ]
  },
  {
   "cell_type": "code",
   "execution_count": 4,
   "id": "855f473b",
   "metadata": {},
   "outputs": [
    {
     "name": "stdout",
     "output_type": "stream",
     "text": [
      "<class 'list'>\n"
     ]
    }
   ],
   "source": [
    "h=[1,2,3,4,5,6]\n",
    "print(type(h))"
   ]
  },
  {
   "cell_type": "markdown",
   "id": "9c431927",
   "metadata": {},
   "source": [
    "* [out loop condition]\n",
    "* output or expression\n",
    "* Main theme is to reduce code complexity"
   ]
  },
  {
   "cell_type": "code",
   "execution_count": 5,
   "id": "2d310fd2",
   "metadata": {},
   "outputs": [
    {
     "name": "stdout",
     "output_type": "stream",
     "text": [
      "[0, 1, 2, 3, 4, 5, 6, 7, 8, 9]\n"
     ]
    }
   ],
   "source": [
    "l=[]\n",
    "for i in range(10):\n",
    "    l.append(i)\n",
    "print(l)"
   ]
  },
  {
   "cell_type": "code",
   "execution_count": 7,
   "id": "c3b45a8d",
   "metadata": {},
   "outputs": [
    {
     "data": {
      "text/plain": [
       "[0, 1, 2, 3, 4, 5, 6, 7, 8, 9]"
      ]
     },
     "execution_count": 7,
     "metadata": {},
     "output_type": "execute_result"
    }
   ],
   "source": [
    "[ll for ll in range(10)]"
   ]
  },
  {
   "cell_type": "code",
   "execution_count": 9,
   "id": "c1541721",
   "metadata": {},
   "outputs": [
    {
     "name": "stdout",
     "output_type": "stream",
     "text": [
      "[0, 2, 4, 6, 8, 10, 12, 14, 16, 18]\n"
     ]
    }
   ],
   "source": [
    "data=[ll for ll in range(20) if ll%2==0]\n",
    "print(data)"
   ]
  },
  {
   "cell_type": "code",
   "execution_count": 10,
   "id": "d35ec576",
   "metadata": {},
   "outputs": [
    {
     "name": "stdout",
     "output_type": "stream",
     "text": [
      "['G', 'o', 'o', 'd', ' ', 'A', 'f', 't', 'e', 'r', 'n', 'o', 'o', 'n']\n"
     ]
    }
   ],
   "source": [
    "st=[ch for ch in \"Good Afternoon\"]\n",
    "print(st)"
   ]
  },
  {
   "cell_type": "code",
   "execution_count": 19,
   "id": "f4124497",
   "metadata": {},
   "outputs": [
    {
     "name": "stdout",
     "output_type": "stream",
     "text": [
      "['hi', 'hello', 'hai', 'how are you', 'how many members are joined', 'how was class']\n"
     ]
    }
   ],
   "source": [
    "clz=[\"hi\",\"hello\",\"hai\",\"how are you\",\"how many members are joined\",\"how was class\",\"bad\",\"good\",\"avg\"]\n",
    "nl=[]\n",
    "for i in clz:\n",
    "    if \"h\" in i:\n",
    "        nl.append(i)\n",
    "print(nl)"
   ]
  },
  {
   "cell_type": "code",
   "execution_count": 22,
   "id": "de3ab0b4",
   "metadata": {},
   "outputs": [
    {
     "data": {
      "text/plain": [
       "['hi',\n",
       " 'hello',\n",
       " 'hai',\n",
       " 'how are you',\n",
       " 'how many members are joined',\n",
       " 'how was class']"
      ]
     },
     "execution_count": 22,
     "metadata": {},
     "output_type": "execute_result"
    }
   ],
   "source": [
    "[nlist for nlist in clz if \"h\" in nlist]"
   ]
  },
  {
   "cell_type": "code",
   "execution_count": 27,
   "id": "7d0f43a4",
   "metadata": {},
   "outputs": [
    {
     "data": {
      "text/plain": [
       "[5, 6, 7, 8, 9]"
      ]
     },
     "execution_count": 27,
     "metadata": {},
     "output_type": "execute_result"
    }
   ],
   "source": [
    "[l for l in range(10) if l>4]"
   ]
  },
  {
   "cell_type": "code",
   "execution_count": 28,
   "id": "7dea84a9",
   "metadata": {},
   "outputs": [
    {
     "data": {
      "text/plain": [
       "[1, 2, 3, 4]"
      ]
     },
     "execution_count": 28,
     "metadata": {},
     "output_type": "execute_result"
    }
   ],
   "source": [
    "[out for out in (1,2,3,4)]"
   ]
  },
  {
   "cell_type": "code",
   "execution_count": 30,
   "id": "a54cdcad",
   "metadata": {},
   "outputs": [
    {
     "data": {
      "text/plain": [
       "[1, 2, 3, 4, 5, 6]"
      ]
     },
     "execution_count": 30,
     "metadata": {},
     "output_type": "execute_result"
    }
   ],
   "source": [
    "[out for out in {1,2,3,4,5,6,1,2,3}]"
   ]
  },
  {
   "cell_type": "code",
   "execution_count": 35,
   "id": "df116b68",
   "metadata": {},
   "outputs": [
    {
     "data": {
      "text/plain": [
       "[1, 2, 3, 4, 5, 6, 7, 8, 9]"
      ]
     },
     "execution_count": 35,
     "metadata": {},
     "output_type": "execute_result"
    }
   ],
   "source": [
    "l=[[1,2,3],[4,5,6],[7,8,9]] \n",
    "[out for l1 in l for out in l1] "
   ]
  },
  {
   "cell_type": "markdown",
   "id": "61130978",
   "metadata": {},
   "source": [
    "# Iterators and generators"
   ]
  },
  {
   "cell_type": "code",
   "execution_count": 37,
   "id": "c2bca2ff",
   "metadata": {},
   "outputs": [
    {
     "name": "stdout",
     "output_type": "stream",
     "text": [
      "vignan\n",
      "women's\n",
      "dvd\n"
     ]
    }
   ],
   "source": [
    "clz=(\"vignan\",\"women's\",\"dvd\")\n",
    "hello=iter(clz)\n",
    "print(next(hello))\n",
    "print(next(hello))\n",
    "print(next(hello))"
   ]
  },
  {
   "cell_type": "code",
   "execution_count": 40,
   "id": "2a4ebb5c",
   "metadata": {},
   "outputs": [
    {
     "name": "stdout",
     "output_type": "stream",
     "text": [
      "1\n",
      "2\n",
      "3\n",
      "4\n",
      "5\n"
     ]
    }
   ],
   "source": [
    "l=[1,2,3,4,5]\n",
    "l2=iter(l)\n",
    "print(next(l2))\n",
    "print(next(l2))\n",
    "print(next(l2))\n",
    "print(next(l2))\n",
    "print(next(l2))"
   ]
  },
  {
   "cell_type": "markdown",
   "id": "e5f0ccfb",
   "metadata": {},
   "source": [
    "* generator is a function which returns one value at a time"
   ]
  },
  {
   "cell_type": "code",
   "execution_count": 42,
   "id": "16b98d78",
   "metadata": {},
   "outputs": [
    {
     "name": "stdout",
     "output_type": "stream",
     "text": [
      "1\n",
      "2\n",
      "3\n",
      "4\n"
     ]
    }
   ],
   "source": [
    "def gen():\n",
    "    yield 1\n",
    "    yield 2\n",
    "    yield 3\n",
    "    yield 4\n",
    "for i in gen():\n",
    "    print(i)"
   ]
  },
  {
   "cell_type": "code",
   "execution_count": 43,
   "id": "f27c4a46",
   "metadata": {},
   "outputs": [
    {
     "name": "stdout",
     "output_type": "stream",
     "text": [
      "2\n",
      "4\n",
      "6\n",
      "8\n"
     ]
    }
   ],
   "source": [
    "def gen():\n",
    "    yield 2\n",
    "    yield 4\n",
    "    yield 6\n",
    "    yield 8\n",
    "for i in gen():\n",
    "    print(i)"
   ]
  },
  {
   "cell_type": "markdown",
   "id": "6be39576",
   "metadata": {},
   "source": [
    "# Map\n",
    "* Map is builtin function its working like iterating"
   ]
  },
  {
   "cell_type": "code",
   "execution_count": 46,
   "id": "ab62ab0c",
   "metadata": {},
   "outputs": [
    {
     "name": "stdout",
     "output_type": "stream",
     "text": [
      "[0, 2, 4, 6, 8, 10, 12, 14, 16, 18]\n"
     ]
    }
   ],
   "source": [
    "def add(n):\n",
    "    return n+n\n",
    "result=list(map(add,range(10)))\n",
    "print(result)"
   ]
  },
  {
   "cell_type": "code",
   "execution_count": 2,
   "id": "3395c50d",
   "metadata": {},
   "outputs": [
    {
     "name": "stdout",
     "output_type": "stream",
     "text": [
      "4\n",
      "16\n",
      "256\n",
      "65536\n",
      "4294967296\n"
     ]
    }
   ],
   "source": [
    "def taskyield():\n",
    "    n=2\n",
    "    while True:\n",
    "        n**=2\n",
    "        yield n\n",
    "a=taskyield()\n",
    "for i in range(5):\n",
    "    print(next(a))"
   ]
  },
  {
   "cell_type": "markdown",
   "id": "07fa2cac",
   "metadata": {},
   "source": [
    "* Class is set of methods and set of variables\n",
    "* Class is blueprint of object"
   ]
  },
  {
   "cell_type": "code",
   "execution_count": 3,
   "id": "a30837bf",
   "metadata": {},
   "outputs": [],
   "source": [
    "# class classname:\n",
    "#   set variables\n",
    "#   set methods\n"
   ]
  },
  {
   "cell_type": "code",
   "execution_count": 4,
   "id": "dcfaec61",
   "metadata": {},
   "outputs": [
    {
     "name": "stdout",
     "output_type": "stream",
     "text": [
      "10\n",
      "20\n"
     ]
    }
   ],
   "source": [
    "class hell:\n",
    "    a=10\n",
    "    b=20\n",
    "print(hell.a)\n",
    "print(hell.b)"
   ]
  },
  {
   "cell_type": "code",
   "execution_count": 5,
   "id": "0ce142c1",
   "metadata": {},
   "outputs": [
    {
     "name": "stdout",
     "output_type": "stream",
     "text": [
      "Good Morning\n",
      "None\n"
     ]
    }
   ],
   "source": [
    "class GoodMorning():\n",
    "    def great():\n",
    "        print(\"Good Morning\")\n",
    "print(GoodMorning.great())"
   ]
  },
  {
   "cell_type": "code",
   "execution_count": 6,
   "id": "d591be17",
   "metadata": {},
   "outputs": [
    {
     "name": "stdout",
     "output_type": "stream",
     "text": [
      "30\n",
      "50\n",
      "50\n"
     ]
    }
   ],
   "source": [
    "class Math:\n",
    "    def add(a,b):\n",
    "        return a+b\n",
    "    def mul(a,b):\n",
    "        return a*b\n",
    "    def sub(a,b):\n",
    "        return a-b\n",
    "obj=Math\n",
    "print(obj.add(10,20))\n",
    "print(obj.mul(5,10))\n",
    "print(obj.sub(100,50))"
   ]
  },
  {
   "cell_type": "markdown",
   "id": "d14b58ad",
   "metadata": {},
   "source": [
    "* Constructors is to initialize to the data mebers of the class when an object of class is created"
   ]
  },
  {
   "cell_type": "code",
   "execution_count": 7,
   "id": "4794d56b",
   "metadata": {},
   "outputs": [
    {
     "name": "stdout",
     "output_type": "stream",
     "text": [
      "hi students\n"
     ]
    }
   ],
   "source": [
    "# default constructors\n",
    "class good():\n",
    "    def __init__(n):\n",
    "        print(\"hi students\")\n",
    "ob=good()"
   ]
  },
  {
   "cell_type": "code",
   "execution_count": 9,
   "id": "96ba2a81",
   "metadata": {},
   "outputs": [
    {
     "name": "stdout",
     "output_type": "stream",
     "text": [
      "hello my name is vedha my role is student\n"
     ]
    }
   ],
   "source": [
    "class userdef():\n",
    "    def __hello__(self,name,role):\n",
    "        print(\"hello my name is\",name,\"my role is\",role)\n",
    "ob=userdef()\n",
    "ob.__hello__(\"vedha\",\"student\")"
   ]
  },
  {
   "cell_type": "code",
   "execution_count": 12,
   "id": "8422c674",
   "metadata": {},
   "outputs": [
    {
     "name": "stdout",
     "output_type": "stream",
     "text": [
      "80\n"
     ]
    }
   ],
   "source": [
    "class para:\n",
    "    def __init__(self,a,b):\n",
    "        self.a=a\n",
    "        self.b=b\n",
    "    def sub(self):\n",
    "        return self.a-self.b\n",
    "ob=para(100,20)\n",
    "print(ob.sub())"
   ]
  },
  {
   "cell_type": "markdown",
   "id": "d7dab603",
   "metadata": {},
   "source": [
    "# Inheritance\n",
    "* Single level\n",
    "* multi level\n",
    "* filter, reduce, lambda\n",
    "* numpy"
   ]
  },
  {
   "cell_type": "code",
   "execution_count": 9,
   "id": "4c2ae5c4",
   "metadata": {},
   "outputs": [
    {
     "name": "stdout",
     "output_type": "stream",
     "text": [
      "This is class A function\n",
      "None\n",
      "This is class B function\n",
      "None\n"
     ]
    }
   ],
   "source": [
    "# Single level inheritance\n",
    "class A():\n",
    "    def sample():\n",
    "        print(\"This is class A function\")\n",
    "class B(A):\n",
    "    def sample2():\n",
    "        print(\"This is class B function\")\n",
    "obj=B\n",
    "print(obj.sample())\n",
    "print(obj.sample2())"
   ]
  },
  {
   "cell_type": "code",
   "execution_count": 10,
   "id": "e13742f2",
   "metadata": {},
   "outputs": [
    {
     "name": "stdout",
     "output_type": "stream",
     "text": [
      "50\n",
      "20\n",
      "This is class A function\n",
      "None\n",
      "This is class B function\n",
      "None\n"
     ]
    }
   ],
   "source": [
    "class A():\n",
    "    a=50\n",
    "    b=20\n",
    "    def sample():\n",
    "        print(\"This is class A function\")\n",
    "class B(A):\n",
    "    def sample2():\n",
    "        print(\"This is class B function\")\n",
    "obj=B\n",
    "print(obj.a)\n",
    "print(obj.b)\n",
    "print(obj.sample())\n",
    "print(obj.sample2())"
   ]
  },
  {
   "cell_type": "code",
   "execution_count": 11,
   "id": "c272c4a9",
   "metadata": {},
   "outputs": [
    {
     "name": "stdout",
     "output_type": "stream",
     "text": [
      "50\n",
      "20\n",
      "This is class A function\n",
      "None\n",
      "This is class B function\n",
      "None\n",
      "This is class C function\n",
      "None\n"
     ]
    }
   ],
   "source": [
    "# Multilevel inheritance\n",
    "class A():\n",
    "    a=50\n",
    "    b=20\n",
    "    def sample():\n",
    "        print(\"This is class A function\")\n",
    "class B(A):\n",
    "    def sample2():\n",
    "        print(\"This is class B function\")\n",
    "class C(B):\n",
    "    def sample3():\n",
    "        print(\"This is class C function\")        \n",
    "obj=C\n",
    "print(obj.a)\n",
    "print(obj.b)\n",
    "print(obj.sample())\n",
    "print(obj.sample2())\n",
    "print(obj.sample3())"
   ]
  },
  {
   "cell_type": "code",
   "execution_count": 15,
   "id": "1178f469",
   "metadata": {},
   "outputs": [
    {
     "name": "stdout",
     "output_type": "stream",
     "text": [
      "enter a number: 5\n",
      "odd number\n"
     ]
    }
   ],
   "source": [
    "def evenodd(n):\n",
    "    if a%2==0:\n",
    "        print(\"even number\")\n",
    "    else:\n",
    "        print(\"odd number\")\n",
    "a=int(input(\"enter a number: \"))\n",
    "evenodd(a)"
   ]
  },
  {
   "cell_type": "code",
   "execution_count": 18,
   "id": "73fa49c2",
   "metadata": {},
   "outputs": [
    {
     "name": "stdout",
     "output_type": "stream",
     "text": [
      "False\n",
      "True\n",
      "True\n",
      "False\n"
     ]
    }
   ],
   "source": [
    "from oops import Math\n",
    "obj=Math\n",
    "print(obj.even(5))\n",
    "print(obj.odd(3))\n",
    "print(obj.even(4))\n",
    "print(obj.odd(6))"
   ]
  },
  {
   "cell_type": "markdown",
   "id": "5b0a829b",
   "metadata": {},
   "source": [
    "# filter(fun,iter)"
   ]
  },
  {
   "cell_type": "code",
   "execution_count": 26,
   "id": "db7ad6a8",
   "metadata": {},
   "outputs": [
    {
     "name": "stdout",
     "output_type": "stream",
     "text": [
      "[52, 54, 56, 58, 60, 62, 64, 66, 68, 70, 72, 74, 76, 78, 80, 82, 84, 86, 88, 90, 92, 94, 96, 98]\n"
     ]
    }
   ],
   "source": [
    "def filterdata(n):\n",
    "    if n>50 and n%2==0:\n",
    "        return n\n",
    "data=filter(filterdata,range(100))\n",
    "print(list(data))"
   ]
  },
  {
   "cell_type": "code",
   "execution_count": 25,
   "id": "67449928",
   "metadata": {},
   "outputs": [
    {
     "name": "stdout",
     "output_type": "stream",
     "text": [
      "[50, 52, 54, 56, 58, 60, 62, 64, 66, 68, 70, 72, 74, 76, 78, 80, 82, 84, 86, 88, 90, 92, 94, 96, 98, 100]\n"
     ]
    }
   ],
   "source": [
    "def filterdata(n):\n",
    "    if n>=50 and n%2==0:\n",
    "        return n\n",
    "data=filter(filterdata,range(101))\n",
    "print(list(data))"
   ]
  },
  {
   "cell_type": "code",
   "execution_count": 27,
   "id": "ef6b9cfa",
   "metadata": {},
   "outputs": [
    {
     "name": "stdout",
     "output_type": "stream",
     "text": [
      "[51, 52, 53, 54, 55, 56, 57, 58, 59, 60, 61, 62, 63, 64, 65, 66, 67, 68, 69, 70, 71, 72, 73, 74, 75, 76, 77, 78, 79, 80, 81, 82, 83, 84, 85, 86, 87, 88, 89, 90, 91, 92, 93, 94, 95, 96, 97, 98, 99]\n"
     ]
    }
   ],
   "source": [
    "def filterdata(n):\n",
    "    if n>50:\n",
    "        return n\n",
    "data=filter(filterdata,range(100))\n",
    "print(list(data))"
   ]
  },
  {
   "cell_type": "code",
   "execution_count": 28,
   "id": "58a1ef1d",
   "metadata": {},
   "outputs": [
    {
     "data": {
      "text/plain": [
       "100"
      ]
     },
     "execution_count": 28,
     "metadata": {},
     "output_type": "execute_result"
    }
   ],
   "source": [
    "def add(a,b):\n",
    "    c=a+b\n",
    "    return c\n",
    "add(10,90)"
   ]
  },
  {
   "cell_type": "code",
   "execution_count": 33,
   "id": "c6caea3c",
   "metadata": {},
   "outputs": [
    {
     "data": {
      "text/plain": [
       "19"
      ]
     },
     "execution_count": 33,
     "metadata": {},
     "output_type": "execute_result"
    }
   ],
   "source": [
    "from functools import reduce\n",
    "val=[0,1,3,4,5,6]\n",
    "reduce(add,val)"
   ]
  },
  {
   "cell_type": "code",
   "execution_count": 34,
   "id": "48f0ccd9",
   "metadata": {},
   "outputs": [
    {
     "name": "stdout",
     "output_type": "stream",
     "text": [
      "a value is: 10 b value is: 90 c value is: 100\n"
     ]
    },
    {
     "data": {
      "text/plain": [
       "100"
      ]
     },
     "execution_count": 34,
     "metadata": {},
     "output_type": "execute_result"
    }
   ],
   "source": [
    "def add(a,b):\n",
    "    c=a+b\n",
    "    print(\"a value is:\",a,\"b value is:\",b,\"c value is:\",a+b)\n",
    "    return c\n",
    "add(10,90)"
   ]
  },
  {
   "cell_type": "code",
   "execution_count": 35,
   "id": "6cb32675",
   "metadata": {},
   "outputs": [
    {
     "name": "stdout",
     "output_type": "stream",
     "text": [
      "a value is: 0 b value is: 1 c value is: 1\n",
      "a value is: 1 b value is: 3 c value is: 4\n",
      "a value is: 4 b value is: 4 c value is: 8\n",
      "a value is: 8 b value is: 5 c value is: 13\n",
      "a value is: 13 b value is: 6 c value is: 19\n"
     ]
    },
    {
     "data": {
      "text/plain": [
       "19"
      ]
     },
     "execution_count": 35,
     "metadata": {},
     "output_type": "execute_result"
    }
   ],
   "source": [
    "from functools import reduce\n",
    "val=[0,1,3,4,5,6]\n",
    "reduce(add,val)"
   ]
  },
  {
   "cell_type": "code",
   "execution_count": 37,
   "id": "06fb157c",
   "metadata": {},
   "outputs": [
    {
     "name": "stdout",
     "output_type": "stream",
     "text": [
      "20\n"
     ]
    }
   ],
   "source": [
    "# lambda a,b,c:a+b+c\n",
    "def lamdafun(n):\n",
    "    return lambda a:a*n\n",
    "output=lamdafun(2)\n",
    "print(output(10))"
   ]
  },
  {
   "cell_type": "code",
   "execution_count": 38,
   "id": "57277de3",
   "metadata": {},
   "outputs": [
    {
     "name": "stdout",
     "output_type": "stream",
     "text": [
      "20\n"
     ]
    }
   ],
   "source": [
    "def lam(k):\n",
    "    return lambda a:a*k\n",
    "out=lam(10)\n",
    "print(out(2))"
   ]
  },
  {
   "cell_type": "markdown",
   "id": "c8d95953",
   "metadata": {},
   "source": [
    "# Numpy\n",
    "* It provides a high- performance multi dimentional array object\n",
    "* more efficiently and with less code\n",
    "* numpy is python library\n",
    "* if you want use numpy we can import numpy as np\n",
    "* num-py Numerical Python\n",
    "* Scientific calculations\n",
    "* available onwards 2005"
   ]
  },
  {
   "cell_type": "code",
   "execution_count": 39,
   "id": "dc9b8c29",
   "metadata": {},
   "outputs": [],
   "source": [
    "import numpy as np"
   ]
  },
  {
   "cell_type": "code",
   "execution_count": 40,
   "id": "eb608382",
   "metadata": {},
   "outputs": [
    {
     "name": "stdout",
     "output_type": "stream",
     "text": [
      "<class 'module'>\n"
     ]
    }
   ],
   "source": [
    "print(type(np))"
   ]
  },
  {
   "cell_type": "code",
   "execution_count": 44,
   "id": "0a781d18",
   "metadata": {},
   "outputs": [
    {
     "name": "stdout",
     "output_type": "stream",
     "text": [
      "<class 'numpy.ndarray'>\n"
     ]
    }
   ],
   "source": [
    "data=np.array([1,2,3])\n",
    "print(type(data))"
   ]
  },
  {
   "cell_type": "code",
   "execution_count": 46,
   "id": "7ff559c2",
   "metadata": {},
   "outputs": [
    {
     "name": "stdout",
     "output_type": "stream",
     "text": [
      "<class 'numpy.ndarray'>\n"
     ]
    }
   ],
   "source": [
    "data2=np.array([[1,2,3],[4,5,6]])\n",
    "print(type(data2))"
   ]
  },
  {
   "cell_type": "code",
   "execution_count": 48,
   "id": "6e71b92d",
   "metadata": {},
   "outputs": [
    {
     "data": {
      "text/plain": [
       "(2, 3)"
      ]
     },
     "execution_count": 48,
     "metadata": {},
     "output_type": "execute_result"
    }
   ],
   "source": [
    "data2.shape"
   ]
  },
  {
   "cell_type": "code",
   "execution_count": 49,
   "id": "6c18a19e",
   "metadata": {},
   "outputs": [
    {
     "data": {
      "text/plain": [
       "2"
      ]
     },
     "execution_count": 49,
     "metadata": {},
     "output_type": "execute_result"
    }
   ],
   "source": [
    "data2.ndim"
   ]
  },
  {
   "cell_type": "code",
   "execution_count": 52,
   "id": "dd814d54",
   "metadata": {},
   "outputs": [
    {
     "data": {
      "text/plain": [
       "24"
      ]
     },
     "execution_count": 52,
     "metadata": {},
     "output_type": "execute_result"
    }
   ],
   "source": [
    "data2.nbytes"
   ]
  },
  {
   "cell_type": "code",
   "execution_count": 56,
   "id": "d071e775",
   "metadata": {},
   "outputs": [
    {
     "data": {
      "text/plain": [
       "dtype('int32')"
      ]
     },
     "execution_count": 56,
     "metadata": {},
     "output_type": "execute_result"
    }
   ],
   "source": [
    "data.dtype"
   ]
  },
  {
   "cell_type": "code",
   "execution_count": 57,
   "id": "8debc0b4",
   "metadata": {},
   "outputs": [
    {
     "name": "stdout",
     "output_type": "stream",
     "text": [
      "['ALLOW_THREADS', 'AxisError', 'BUFSIZE', 'Bytes0', 'CLIP', 'ComplexWarning', 'DataSource', 'Datetime64', 'ERR_CALL', 'ERR_DEFAULT', 'ERR_IGNORE', 'ERR_LOG', 'ERR_PRINT', 'ERR_RAISE', 'ERR_WARN', 'FLOATING_POINT_SUPPORT', 'FPE_DIVIDEBYZERO', 'FPE_INVALID', 'FPE_OVERFLOW', 'FPE_UNDERFLOW', 'False_', 'Inf', 'Infinity', 'MAXDIMS', 'MAY_SHARE_BOUNDS', 'MAY_SHARE_EXACT', 'MachAr', 'ModuleDeprecationWarning', 'NAN', 'NINF', 'NZERO', 'NaN', 'PINF', 'PZERO', 'RAISE', 'RankWarning', 'SHIFT_DIVIDEBYZERO', 'SHIFT_INVALID', 'SHIFT_OVERFLOW', 'SHIFT_UNDERFLOW', 'ScalarType', 'Str0', 'Tester', 'TooHardError', 'True_', 'UFUNC_BUFSIZE_DEFAULT', 'UFUNC_PYVALS_NAME', 'Uint64', 'VisibleDeprecationWarning', 'WRAP', '_NoValue', '_UFUNC_API', '__NUMPY_SETUP__', '__all__', '__builtins__', '__cached__', '__config__', '__deprecated_attrs__', '__dir__', '__doc__', '__expired_functions__', '__file__', '__getattr__', '__git_revision__', '__loader__', '__mkl_version__', '__name__', '__package__', '__path__', '__spec__', '__version__', '_add_newdoc_ufunc', '_distributor_init', '_financial_names', '_globals', '_mat', '_pytesttester', 'abs', 'absolute', 'add', 'add_docstring', 'add_newdoc', 'add_newdoc_ufunc', 'alen', 'all', 'allclose', 'alltrue', 'amax', 'amin', 'angle', 'any', 'append', 'apply_along_axis', 'apply_over_axes', 'arange', 'arccos', 'arccosh', 'arcsin', 'arcsinh', 'arctan', 'arctan2', 'arctanh', 'argmax', 'argmin', 'argpartition', 'argsort', 'argwhere', 'around', 'array', 'array2string', 'array_equal', 'array_equiv', 'array_repr', 'array_split', 'array_str', 'asanyarray', 'asarray', 'asarray_chkfinite', 'ascontiguousarray', 'asfarray', 'asfortranarray', 'asmatrix', 'asscalar', 'atleast_1d', 'atleast_2d', 'atleast_3d', 'average', 'bartlett', 'base_repr', 'binary_repr', 'bincount', 'bitwise_and', 'bitwise_not', 'bitwise_or', 'bitwise_xor', 'blackman', 'block', 'bmat', 'bool8', 'bool_', 'broadcast', 'broadcast_arrays', 'broadcast_shapes', 'broadcast_to', 'busday_count', 'busday_offset', 'busdaycalendar', 'byte', 'byte_bounds', 'bytes0', 'bytes_', 'c_', 'can_cast', 'cast', 'cbrt', 'cdouble', 'ceil', 'cfloat', 'char', 'character', 'chararray', 'choose', 'clip', 'clongdouble', 'clongfloat', 'column_stack', 'common_type', 'compare_chararrays', 'compat', 'complex128', 'complex64', 'complex_', 'complexfloating', 'compress', 'concatenate', 'conj', 'conjugate', 'convolve', 'copy', 'copysign', 'copyto', 'core', 'corrcoef', 'correlate', 'cos', 'cosh', 'count_nonzero', 'cov', 'cross', 'csingle', 'ctypeslib', 'cumprod', 'cumproduct', 'cumsum', 'datetime64', 'datetime_as_string', 'datetime_data', 'deg2rad', 'degrees', 'delete', 'deprecate', 'deprecate_with_doc', 'diag', 'diag_indices', 'diag_indices_from', 'diagflat', 'diagonal', 'diff', 'digitize', 'disp', 'divide', 'divmod', 'dot', 'double', 'dsplit', 'dstack', 'dtype', 'e', 'ediff1d', 'einsum', 'einsum_path', 'emath', 'empty', 'empty_like', 'equal', 'errstate', 'euler_gamma', 'exp', 'exp2', 'expand_dims', 'expm1', 'extract', 'eye', 'fabs', 'fastCopyAndTranspose', 'fft', 'fill_diagonal', 'find_common_type', 'finfo', 'fix', 'flatiter', 'flatnonzero', 'flexible', 'flip', 'fliplr', 'flipud', 'float16', 'float32', 'float64', 'float_', 'float_power', 'floating', 'floor', 'floor_divide', 'fmax', 'fmin', 'fmod', 'format_float_positional', 'format_float_scientific', 'format_parser', 'frexp', 'frombuffer', 'fromfile', 'fromfunction', 'fromiter', 'frompyfunc', 'fromregex', 'fromstring', 'full', 'full_like', 'gcd', 'generic', 'genfromtxt', 'geomspace', 'get_array_wrap', 'get_include', 'get_printoptions', 'getbufsize', 'geterr', 'geterrcall', 'geterrobj', 'gradient', 'greater', 'greater_equal', 'half', 'hamming', 'hanning', 'heaviside', 'histogram', 'histogram2d', 'histogram_bin_edges', 'histogramdd', 'hsplit', 'hstack', 'hypot', 'i0', 'identity', 'iinfo', 'imag', 'in1d', 'index_exp', 'indices', 'inexact', 'inf', 'info', 'infty', 'inner', 'insert', 'int0', 'int16', 'int32', 'int64', 'int8', 'int_', 'intc', 'integer', 'interp', 'intersect1d', 'intp', 'invert', 'is_busday', 'isclose', 'iscomplex', 'iscomplexobj', 'isfinite', 'isfortran', 'isin', 'isinf', 'isnan', 'isnat', 'isneginf', 'isposinf', 'isreal', 'isrealobj', 'isscalar', 'issctype', 'issubclass_', 'issubdtype', 'issubsctype', 'iterable', 'ix_', 'kaiser', 'kron', 'lcm', 'ldexp', 'left_shift', 'less', 'less_equal', 'lexsort', 'lib', 'linalg', 'linspace', 'little_endian', 'load', 'loads', 'loadtxt', 'log', 'log10', 'log1p', 'log2', 'logaddexp', 'logaddexp2', 'logical_and', 'logical_not', 'logical_or', 'logical_xor', 'logspace', 'longcomplex', 'longdouble', 'longfloat', 'longlong', 'lookfor', 'ma', 'mafromtxt', 'mask_indices', 'mat', 'math', 'matmul', 'matrix', 'matrixlib', 'max', 'maximum', 'maximum_sctype', 'may_share_memory', 'mean', 'median', 'memmap', 'meshgrid', 'mgrid', 'min', 'min_scalar_type', 'minimum', 'mintypecode', 'mkl', 'mod', 'modf', 'moveaxis', 'msort', 'multiply', 'nan', 'nan_to_num', 'nanargmax', 'nanargmin', 'nancumprod', 'nancumsum', 'nanmax', 'nanmean', 'nanmedian', 'nanmin', 'nanpercentile', 'nanprod', 'nanquantile', 'nanstd', 'nansum', 'nanvar', 'nbytes', 'ndarray', 'ndenumerate', 'ndfromtxt', 'ndim', 'ndindex', 'nditer', 'negative', 'nested_iters', 'newaxis', 'nextafter', 'nonzero', 'not_equal', 'numarray', 'number', 'obj2sctype', 'object0', 'object_', 'ogrid', 'oldnumeric', 'ones', 'ones_like', 'os', 'outer', 'packbits', 'pad', 'partition', 'percentile', 'pi', 'piecewise', 'place', 'poly', 'poly1d', 'polyadd', 'polyder', 'polydiv', 'polyfit', 'polyint', 'polymul', 'polynomial', 'polysub', 'polyval', 'positive', 'power', 'printoptions', 'prod', 'product', 'promote_types', 'ptp', 'put', 'put_along_axis', 'putmask', 'quantile', 'r_', 'rad2deg', 'radians', 'random', 'ravel', 'ravel_multi_index', 'real', 'real_if_close', 'rec', 'recarray', 'recfromcsv', 'recfromtxt', 'reciprocal', 'record', 'remainder', 'repeat', 'require', 'reshape', 'resize', 'result_type', 'right_shift', 'rint', 'roll', 'rollaxis', 'roots', 'rot90', 'round', 'round_', 'row_stack', 's_', 'safe_eval', 'save', 'savetxt', 'savez', 'savez_compressed', 'sctype2char', 'sctypeDict', 'sctypes', 'searchsorted', 'select', 'set_numeric_ops', 'set_printoptions', 'set_string_function', 'setbufsize', 'setdiff1d', 'seterr', 'seterrcall', 'seterrobj', 'setxor1d', 'shape', 'shares_memory', 'short', 'show_config', 'sign', 'signbit', 'signedinteger', 'sin', 'sinc', 'single', 'singlecomplex', 'sinh', 'size', 'sometrue', 'sort', 'sort_complex', 'source', 'spacing', 'split', 'sqrt', 'square', 'squeeze', 'stack', 'std', 'str0', 'str_', 'string_', 'subtract', 'sum', 'swapaxes', 'sys', 'take', 'take_along_axis', 'tan', 'tanh', 'tensordot', 'test', 'testing', 'tile', 'timedelta64', 'trace', 'tracemalloc_domain', 'transpose', 'trapz', 'tri', 'tril', 'tril_indices', 'tril_indices_from', 'trim_zeros', 'triu', 'triu_indices', 'triu_indices_from', 'true_divide', 'trunc', 'typeDict', 'typecodes', 'typename', 'ubyte', 'ufunc', 'uint', 'uint0', 'uint16', 'uint32', 'uint64', 'uint8', 'uintc', 'uintp', 'ulonglong', 'unicode_', 'union1d', 'unique', 'unpackbits', 'unravel_index', 'unsignedinteger', 'unwrap', 'use_hugepage', 'ushort', 'vander', 'var', 'vdot', 'vectorize', 'version', 'void', 'void0', 'vsplit', 'vstack', 'warnings', 'where', 'who', 'zeros', 'zeros_like']\n"
     ]
    }
   ],
   "source": [
    "print(dir(np))"
   ]
  },
  {
   "cell_type": "code",
   "execution_count": 60,
   "id": "55701603",
   "metadata": {},
   "outputs": [
    {
     "name": "stdout",
     "output_type": "stream",
     "text": [
      "[1 2 3 4 5 6 7 8 9]\n"
     ]
    }
   ],
   "source": [
    "da=np.arange(1,10)\n",
    "print(da)"
   ]
  },
  {
   "cell_type": "code",
   "execution_count": 61,
   "id": "9f40a02f",
   "metadata": {},
   "outputs": [
    {
     "name": "stdout",
     "output_type": "stream",
     "text": [
      "[ 1  2  3  4  5  6  7  8  9 10 11 12 13 14 15 16 17 18 19 20 21 22 23 24\n",
      " 25 26 27 28 29 30 31 32 33 34 35 36 37 38 39 40 41 42 43 44 45 46 47 48\n",
      " 49 50 51 52 53 54 55 56 57 58 59 60 61 62 63 64 65 66 67 68 69 70 71 72\n",
      " 73 74 75 76 77 78 79 80 81 82 83 84 85 86 87 88 89 90 91 92 93 94 95 96\n",
      " 97 98 99]\n"
     ]
    }
   ],
   "source": [
    "d2=np.arange(1,100)\n",
    "print(d2)"
   ]
  },
  {
   "cell_type": "code",
   "execution_count": 67,
   "id": "2ea8ed72",
   "metadata": {},
   "outputs": [
    {
     "data": {
      "text/plain": [
       "array([ 0,  2,  4,  6,  8, 10, 12, 14, 16, 18, 20, 22, 24, 26, 28, 30, 32,\n",
       "       34, 36, 38, 40, 42, 44, 46, 48, 50, 52, 54, 56, 58, 60, 62, 64, 66,\n",
       "       68, 70, 72, 74, 76, 78, 80, 82, 84, 86, 88, 90, 92, 94, 96, 98])"
      ]
     },
     "execution_count": 67,
     "metadata": {},
     "output_type": "execute_result"
    }
   ],
   "source": [
    "d3=np.arange(0,100,2)\n",
    "d3"
   ]
  },
  {
   "cell_type": "code",
   "execution_count": 68,
   "id": "5c61880e",
   "metadata": {},
   "outputs": [
    {
     "data": {
      "text/plain": [
       "array([100,  99,  98,  97,  96,  95,  94,  93,  92,  91,  90,  89,  88,\n",
       "        87,  86,  85,  84,  83,  82,  81,  80,  79,  78,  77,  76,  75,\n",
       "        74,  73,  72,  71,  70,  69,  68,  67,  66,  65,  64,  63,  62,\n",
       "        61,  60,  59,  58,  57,  56,  55,  54,  53,  52,  51,  50,  49,\n",
       "        48,  47,  46,  45,  44,  43,  42,  41,  40,  39,  38,  37,  36,\n",
       "        35,  34,  33,  32,  31,  30,  29,  28,  27,  26,  25,  24,  23,\n",
       "        22,  21,  20,  19,  18,  17,  16,  15,  14,  13,  12,  11,  10,\n",
       "         9,   8,   7,   6,   5,   4,   3,   2])"
      ]
     },
     "execution_count": 68,
     "metadata": {},
     "output_type": "execute_result"
    }
   ],
   "source": [
    "d4=np.arange(100,1,-1)\n",
    "d4"
   ]
  },
  {
   "cell_type": "code",
   "execution_count": 69,
   "id": "05dc2cc9",
   "metadata": {},
   "outputs": [
    {
     "data": {
      "text/plain": [
       "array([98, 96, 94, 92, 90, 88, 86, 84, 82, 80, 78, 76, 74, 72, 70, 68, 66,\n",
       "       64, 62, 60, 58, 56, 54, 52, 50, 48, 46, 44, 42, 40, 38, 36, 34, 32,\n",
       "       30, 28, 26, 24, 22, 20, 18, 16, 14, 12, 10,  8,  6,  4,  2,  0])"
      ]
     },
     "execution_count": 69,
     "metadata": {},
     "output_type": "execute_result"
    }
   ],
   "source": [
    "d3[::-1]"
   ]
  },
  {
   "cell_type": "code",
   "execution_count": 72,
   "id": "418ea1db",
   "metadata": {},
   "outputs": [
    {
     "data": {
      "text/plain": [
       "array([ 0,  2,  4,  6,  8, 10, 12, 14, 16, 18, 20, 22, 24, 26, 28, 30, 32,\n",
       "       34, 36, 38, 40, 42, 44, 46, 48, 50, 52, 54, 56, 58, 60, 62, 64, 66,\n",
       "       68, 70, 72, 74, 76, 78, 80, 82, 84, 86, 88, 90, 92, 94, 96, 98])"
      ]
     },
     "execution_count": 72,
     "metadata": {},
     "output_type": "execute_result"
    }
   ],
   "source": [
    "d5=np.arange(0,100,2)\n",
    "d5"
   ]
  },
  {
   "cell_type": "code",
   "execution_count": 87,
   "id": "c6ddac4e",
   "metadata": {},
   "outputs": [
    {
     "data": {
      "text/plain": [
       "array([98, 96, 94, 92, 90, 88, 86, 84, 82, 80, 78, 76, 74, 72, 70, 68, 66,\n",
       "       64, 62, 60, 58, 56, 54, 52, 50, 48, 46, 44, 42, 40, 38, 36, 34, 32,\n",
       "       30, 28, 26, 24, 22, 20, 18, 16, 14, 12, 10,  8,  6,  4,  2,  0])"
      ]
     },
     "execution_count": 87,
     "metadata": {},
     "output_type": "execute_result"
    }
   ],
   "source": [
    "d5[::-1]"
   ]
  },
  {
   "cell_type": "code",
   "execution_count": 88,
   "id": "9b0fb735",
   "metadata": {},
   "outputs": [
    {
     "data": {
      "text/plain": [
       "array([50, 48, 46, 44, 42, 40, 38, 36, 34, 32, 30, 28, 26, 24, 22, 20, 18,\n",
       "       16, 14, 12, 10,  8,  6,  4,  2,  0])"
      ]
     },
     "execution_count": 88,
     "metadata": {},
     "output_type": "execute_result"
    }
   ],
   "source": [
    "d5[25::-1]"
   ]
  },
  {
   "cell_type": "code",
   "execution_count": 78,
   "id": "c3f32475",
   "metadata": {},
   "outputs": [
    {
     "data": {
      "text/plain": [
       "array([0., 0., 0., 0., 0., 0., 0., 0., 0., 0.])"
      ]
     },
     "execution_count": 78,
     "metadata": {},
     "output_type": "execute_result"
    }
   ],
   "source": [
    "ze=np.zeros(10)\n",
    "ze"
   ]
  },
  {
   "cell_type": "code",
   "execution_count": 82,
   "id": "6cc14d8d",
   "metadata": {},
   "outputs": [
    {
     "data": {
      "text/plain": [
       "array([1., 1., 1., 1., 1., 1., 1., 1., 1., 1.])"
      ]
     },
     "execution_count": 82,
     "metadata": {},
     "output_type": "execute_result"
    }
   ],
   "source": [
    "ze=np.ones(10)\n",
    "ze"
   ]
  },
  {
   "cell_type": "code",
   "execution_count": 89,
   "id": "ec46330b",
   "metadata": {},
   "outputs": [
    {
     "name": "stdout",
     "output_type": "stream",
     "text": [
      "[[ 0  1  2]\n",
      " [ 3  4  5]\n",
      " [ 6  7  8]\n",
      " [ 9 10 11]]\n"
     ]
    }
   ],
   "source": [
    "r=np.arange(12)\n",
    "k=r.reshape(4,3)\n",
    "print(k)"
   ]
  },
  {
   "cell_type": "code",
   "execution_count": 91,
   "id": "e25cb876",
   "metadata": {},
   "outputs": [
    {
     "data": {
      "text/plain": [
       "array([[9, 9],\n",
       "       [9, 9]])"
      ]
     },
     "execution_count": 91,
     "metadata": {},
     "output_type": "execute_result"
    }
   ],
   "source": [
    "kk=np.full((2,2),9)\n",
    "kk"
   ]
  },
  {
   "cell_type": "code",
   "execution_count": null,
   "id": "9590a2b1",
   "metadata": {},
   "outputs": [],
   "source": []
  }
 ],
 "metadata": {
  "kernelspec": {
   "display_name": "Python 3",
   "language": "python",
   "name": "python3"
  },
  "language_info": {
   "codemirror_mode": {
    "name": "ipython",
    "version": 3
   },
   "file_extension": ".py",
   "mimetype": "text/x-python",
   "name": "python",
   "nbconvert_exporter": "python",
   "pygments_lexer": "ipython3",
   "version": "3.8.8"
  }
 },
 "nbformat": 4,
 "nbformat_minor": 5
}
