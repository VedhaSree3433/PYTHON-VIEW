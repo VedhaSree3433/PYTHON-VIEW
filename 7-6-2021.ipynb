{
 "cells": [
  {
   "cell_type": "markdown",
   "id": "8aba0e70",
   "metadata": {},
   "source": [
    "# Packages and modules\n",
    "## Package is a collection of modules\n",
    "## Module is a collection of functions\n",
    "* User defined modules\n",
    "* Predefined modules\n",
    "# File and File operations"
   ]
  },
  {
   "cell_type": "code",
   "execution_count": 1,
   "id": "ba29959c",
   "metadata": {},
   "outputs": [
    {
     "name": "stdout",
     "output_type": "stream",
     "text": [
      "['ArithmeticError', 'AssertionError', 'AttributeError', 'BaseException', 'BlockingIOError', 'BrokenPipeError', 'BufferError', 'BytesWarning', 'ChildProcessError', 'ConnectionAbortedError', 'ConnectionError', 'ConnectionRefusedError', 'ConnectionResetError', 'DeprecationWarning', 'EOFError', 'Ellipsis', 'EnvironmentError', 'Exception', 'False', 'FileExistsError', 'FileNotFoundError', 'FloatingPointError', 'FutureWarning', 'GeneratorExit', 'IOError', 'ImportError', 'ImportWarning', 'IndentationError', 'IndexError', 'InterruptedError', 'IsADirectoryError', 'KeyError', 'KeyboardInterrupt', 'LookupError', 'MemoryError', 'ModuleNotFoundError', 'NameError', 'None', 'NotADirectoryError', 'NotImplemented', 'NotImplementedError', 'OSError', 'OverflowError', 'PendingDeprecationWarning', 'PermissionError', 'ProcessLookupError', 'RecursionError', 'ReferenceError', 'ResourceWarning', 'RuntimeError', 'RuntimeWarning', 'StopAsyncIteration', 'StopIteration', 'SyntaxError', 'SyntaxWarning', 'SystemError', 'SystemExit', 'TabError', 'TimeoutError', 'True', 'TypeError', 'UnboundLocalError', 'UnicodeDecodeError', 'UnicodeEncodeError', 'UnicodeError', 'UnicodeTranslateError', 'UnicodeWarning', 'UserWarning', 'ValueError', 'Warning', 'WindowsError', 'ZeroDivisionError', '__IPYTHON__', '__build_class__', '__debug__', '__doc__', '__import__', '__loader__', '__name__', '__package__', '__spec__', 'abs', 'all', 'any', 'ascii', 'bin', 'bool', 'breakpoint', 'bytearray', 'bytes', 'callable', 'chr', 'classmethod', 'compile', 'complex', 'copyright', 'credits', 'delattr', 'dict', 'dir', 'display', 'divmod', 'enumerate', 'eval', 'exec', 'filter', 'float', 'format', 'frozenset', 'get_ipython', 'getattr', 'globals', 'hasattr', 'hash', 'help', 'hex', 'id', 'input', 'int', 'isinstance', 'issubclass', 'iter', 'len', 'license', 'list', 'locals', 'map', 'max', 'memoryview', 'min', 'next', 'object', 'oct', 'open', 'ord', 'pow', 'print', 'property', 'range', 'repr', 'reversed', 'round', 'set', 'setattr', 'slice', 'sorted', 'staticmethod', 'str', 'sum', 'super', 'tuple', 'type', 'vars', 'zip']\n"
     ]
    }
   ],
   "source": [
    "import builtins\n",
    "print(dir(builtins))"
   ]
  },
  {
   "cell_type": "code",
   "execution_count": 2,
   "id": "ff443b55",
   "metadata": {},
   "outputs": [
    {
     "name": "stdout",
     "output_type": "stream",
     "text": [
      "['__doc__', '__loader__', '__name__', '__package__', '__spec__', 'acos', 'acosh', 'asin', 'asinh', 'atan', 'atan2', 'atanh', 'ceil', 'comb', 'copysign', 'cos', 'cosh', 'degrees', 'dist', 'e', 'erf', 'erfc', 'exp', 'expm1', 'fabs', 'factorial', 'floor', 'fmod', 'frexp', 'fsum', 'gamma', 'gcd', 'hypot', 'inf', 'isclose', 'isfinite', 'isinf', 'isnan', 'isqrt', 'ldexp', 'lgamma', 'log', 'log10', 'log1p', 'log2', 'modf', 'nan', 'perm', 'pi', 'pow', 'prod', 'radians', 'remainder', 'sin', 'sinh', 'sqrt', 'tan', 'tanh', 'tau', 'trunc']\n"
     ]
    }
   ],
   "source": [
    "import math as mt\n",
    "print(dir(mt))\n"
   ]
  },
  {
   "cell_type": "code",
   "execution_count": 3,
   "id": "1c2803fb",
   "metadata": {},
   "outputs": [
    {
     "name": "stdout",
     "output_type": "stream",
     "text": [
      "8.0\n"
     ]
    }
   ],
   "source": [
    "print(mt.pow(2,3))"
   ]
  },
  {
   "cell_type": "code",
   "execution_count": 4,
   "id": "e48e842b",
   "metadata": {},
   "outputs": [
    {
     "name": "stdout",
     "output_type": "stream",
     "text": [
      "27.0\n"
     ]
    }
   ],
   "source": [
    "print(mt.pow(3,3))"
   ]
  },
  {
   "cell_type": "code",
   "execution_count": 5,
   "id": "010a6352",
   "metadata": {},
   "outputs": [
    {
     "name": "stdout",
     "output_type": "stream",
     "text": [
      "729.0\n"
     ]
    }
   ],
   "source": [
    "print(mt.pow(9,3))"
   ]
  },
  {
   "cell_type": "code",
   "execution_count": 6,
   "id": "dad5212a",
   "metadata": {},
   "outputs": [
    {
     "name": "stdout",
     "output_type": "stream",
     "text": [
      "3.0\n"
     ]
    }
   ],
   "source": [
    "print(mt.sqrt(9))"
   ]
  },
  {
   "cell_type": "code",
   "execution_count": 7,
   "id": "64904382",
   "metadata": {},
   "outputs": [
    {
     "name": "stdout",
     "output_type": "stream",
     "text": [
      "1.6197751905438615\n"
     ]
    }
   ],
   "source": [
    "print(mt.tan(45))"
   ]
  },
  {
   "cell_type": "code",
   "execution_count": 8,
   "id": "ab5edd45",
   "metadata": {},
   "outputs": [
    {
     "name": "stdout",
     "output_type": "stream",
     "text": [
      "6\n"
     ]
    }
   ],
   "source": [
    "# ceil (round figure, largest value)\n",
    "a=5.6\n",
    "print(mt.ceil(a))"
   ]
  },
  {
   "cell_type": "code",
   "execution_count": 9,
   "id": "9bde81ed",
   "metadata": {},
   "outputs": [
    {
     "name": "stdout",
     "output_type": "stream",
     "text": [
      "5\n"
     ]
    }
   ],
   "source": [
    "# floor (smallest value)\n",
    "a=5.6\n",
    "print(mt.floor(a))"
   ]
  },
  {
   "cell_type": "code",
   "execution_count": 12,
   "id": "9715e462",
   "metadata": {},
   "outputs": [
    {
     "name": "stdout",
     "output_type": "stream",
     "text": [
      "120\n"
     ]
    }
   ],
   "source": [
    "a=5\n",
    "print(mt.factorial(a))"
   ]
  },
  {
   "cell_type": "code",
   "execution_count": 14,
   "id": "c39aff4f",
   "metadata": {},
   "outputs": [
    {
     "name": "stdout",
     "output_type": "stream",
     "text": [
      "['BPF', 'LOG4', 'NV_MAGICCONST', 'RECIP_BPF', 'Random', 'SG_MAGICCONST', 'SystemRandom', 'TWOPI', '_Sequence', '_Set', '__all__', '__builtins__', '__cached__', '__doc__', '__file__', '__loader__', '__name__', '__package__', '__spec__', '_accumulate', '_acos', '_bisect', '_ceil', '_cos', '_e', '_exp', '_inst', '_log', '_os', '_pi', '_random', '_repeat', '_sha512', '_sin', '_sqrt', '_test', '_test_generator', '_urandom', '_warn', 'betavariate', 'choice', 'choices', 'expovariate', 'gammavariate', 'gauss', 'getrandbits', 'getstate', 'lognormvariate', 'normalvariate', 'paretovariate', 'randint', 'random', 'randrange', 'sample', 'seed', 'setstate', 'shuffle', 'triangular', 'uniform', 'vonmisesvariate', 'weibullvariate']\n"
     ]
    }
   ],
   "source": [
    "import random as rd\n",
    "print(dir(rd))"
   ]
  },
  {
   "cell_type": "code",
   "execution_count": 16,
   "id": "398df0e6",
   "metadata": {},
   "outputs": [
    {
     "name": "stdout",
     "output_type": "stream",
     "text": [
      "29\n"
     ]
    }
   ],
   "source": [
    "print(rd.randint(10,50))"
   ]
  },
  {
   "cell_type": "code",
   "execution_count": 17,
   "id": "26065327",
   "metadata": {},
   "outputs": [
    {
     "name": "stdout",
     "output_type": "stream",
     "text": [
      "0.6812367300836802\n"
     ]
    }
   ],
   "source": [
    "print(rd.random())"
   ]
  },
  {
   "cell_type": "markdown",
   "id": "7467e4e2",
   "metadata": {},
   "source": [
    "# User defined modules"
   ]
  },
  {
   "cell_type": "code",
   "execution_count": 18,
   "id": "a03bde22",
   "metadata": {},
   "outputs": [
    {
     "data": {
      "text/plain": [
       "'C:\\\\Users\\\\ESWER\\\\Desktop\\\\PYTHON VIEW'"
      ]
     },
     "execution_count": 18,
     "metadata": {},
     "output_type": "execute_result"
    }
   ],
   "source": [
    "pwd()"
   ]
  },
  {
   "cell_type": "code",
   "execution_count": 24,
   "id": "c1259490",
   "metadata": {},
   "outputs": [
    {
     "name": "stdout",
     "output_type": "stream",
     "text": [
      " Volume in drive C has no label.\n",
      " Volume Serial Number is 7E43-9A0F\n",
      "\n",
      " Directory of C:\\Users\\ESWER\\Desktop\\PYTHON VIEW\n",
      "\n",
      "07-06-2021  13:58    <DIR>          .\n",
      "07-06-2021  13:58    <DIR>          ..\n",
      "07-06-2021  13:06    <DIR>          .ipynb_checkpoints\n",
      "07-06-2021  13:26           156,967 25-5-2021.ipynb\n",
      "07-06-2021  13:58             8,941 7-6-2021.ipynb\n",
      "07-06-2021  13:37                 0 module.py\n",
      "26-05-2021  13:38             2,456 puppy.jpg\n",
      "03-06-2021  13:06                72 Untitled1.ipynb\n",
      "               5 File(s)        168,436 bytes\n",
      "               3 Dir(s)   9,242,951,680 bytes free\n"
     ]
    }
   ],
   "source": [
    "ls"
   ]
  },
  {
   "cell_type": "code",
   "execution_count": 27,
   "id": "65beaea6",
   "metadata": {},
   "outputs": [
    {
     "name": "stdout",
     "output_type": "stream",
     "text": [
      "15\n"
     ]
    }
   ],
   "source": [
    "import module\n",
    "print(module.add(5,10))"
   ]
  },
  {
   "cell_type": "code",
   "execution_count": 31,
   "id": "d067eaac",
   "metadata": {},
   "outputs": [
    {
     "name": "stdout",
     "output_type": "stream",
     "text": [
      "15\n",
      "40\n",
      "100\n"
     ]
    }
   ],
   "source": [
    "import module as pt\n",
    "print(pt.add(5,10))\n",
    "print(pt.sub(50,10))\n",
    "print(pt.mul(5,20))"
   ]
  },
  {
   "cell_type": "code",
   "execution_count": 32,
   "id": "6d1c812c",
   "metadata": {},
   "outputs": [
    {
     "name": "stdout",
     "output_type": "stream",
     "text": [
      "11\n"
     ]
    }
   ],
   "source": [
    "import module as pt \n",
    "print(pt.add(5,6))"
   ]
  },
  {
   "cell_type": "markdown",
   "id": "162b1bf6",
   "metadata": {},
   "source": [
    "# File is a collection of data\n",
    "## File operations \n",
    "## open\n",
    "### write() w\n",
    "### read() r\n",
    "### append() a\n",
    "### close\n"
   ]
  },
  {
   "cell_type": "code",
   "execution_count": 33,
   "id": "f2dfc7dd",
   "metadata": {},
   "outputs": [
    {
     "name": "stdout",
     "output_type": "stream",
     "text": [
      "14\n"
     ]
    }
   ],
   "source": [
    "f=open('data.txt','w')\n",
    "kk=f.write(\"Good Afternoon\")\n",
    "print(kk) # how much data is printed length is displayed\n",
    "f.close()"
   ]
  },
  {
   "cell_type": "code",
   "execution_count": 34,
   "id": "e73dbd4f",
   "metadata": {},
   "outputs": [],
   "source": [
    "f2=open(\"data1.txt\",\"w\")\n",
    "fk2=f2.write(\"Good Afternoon\\n\"*100)\n",
    "f2.close()"
   ]
  },
  {
   "cell_type": "code",
   "execution_count": 35,
   "id": "66833d72",
   "metadata": {},
   "outputs": [
    {
     "ename": "ValueError",
     "evalue": "I/O operation on closed file.",
     "output_type": "error",
     "traceback": [
      "\u001b[1;31m---------------------------------------------------------------------------\u001b[0m",
      "\u001b[1;31mValueError\u001b[0m                                Traceback (most recent call last)",
      "\u001b[1;32m<ipython-input-35-a1645a250a41>\u001b[0m in \u001b[0;36m<module>\u001b[1;34m\u001b[0m\n\u001b[1;32m----> 1\u001b[1;33m \u001b[0mfk2\u001b[0m\u001b[1;33m=\u001b[0m\u001b[0mf2\u001b[0m\u001b[1;33m.\u001b[0m\u001b[0mwrite\u001b[0m\u001b[1;33m(\u001b[0m\u001b[1;34m\"Good Afternoon\\n\"\u001b[0m\u001b[1;33m*\u001b[0m\u001b[1;36m100\u001b[0m\u001b[1;33m)\u001b[0m\u001b[1;33m\u001b[0m\u001b[1;33m\u001b[0m\u001b[0m\n\u001b[0m",
      "\u001b[1;31mValueError\u001b[0m: I/O operation on closed file."
     ]
    }
   ],
   "source": [
    "fk2=f2.write(\"Good Afternoon\\n\"*100)"
   ]
  },
  {
   "cell_type": "code",
   "execution_count": 40,
   "id": "5000ac06",
   "metadata": {},
   "outputs": [
    {
     "name": "stdout",
     "output_type": "stream",
     "text": [
      "Good Afternoon\n"
     ]
    }
   ],
   "source": [
    "fr=open(\"data.txt\",\"r\")\n",
    "frr=fr.read()\n",
    "print(frr)\n",
    "fr.close()"
   ]
  },
  {
   "cell_type": "code",
   "execution_count": 42,
   "id": "f524893f",
   "metadata": {},
   "outputs": [
    {
     "name": "stdout",
     "output_type": "stream",
     "text": [
      "['Good Afternoon']\n"
     ]
    }
   ],
   "source": [
    "fl=open(\"data.txt\",'r')\n",
    "flr=fl.readlines()\n",
    "print(flr)\n",
    "fl.close()"
   ]
  },
  {
   "cell_type": "code",
   "execution_count": 45,
   "id": "20bc95bd",
   "metadata": {},
   "outputs": [],
   "source": [
    "fa=open(\"data.txt\",'a')\n",
    "fw=fa.write(\"\\nGood Evening\")\n",
    "fa.close()"
   ]
  },
  {
   "cell_type": "code",
   "execution_count": 51,
   "id": "b3d657a8",
   "metadata": {},
   "outputs": [
    {
     "name": "stdout",
     "output_type": "stream",
     "text": [
      "Number of lines in file:  2\n"
     ]
    }
   ],
   "source": [
    "# Task\n",
    "t=open(\"data.txt\",\"r\")\n",
    "rt=t.read()\n",
    "c=1\n",
    "for i in rt:\n",
    "    if i==\"\\n\":\n",
    "        c=c+1\n",
    "print(\"Number of lines in file: \",c)"
   ]
  },
  {
   "cell_type": "code",
   "execution_count": 55,
   "id": "e540048d",
   "metadata": {},
   "outputs": [
    {
     "name": "stdout",
     "output_type": "stream",
     "text": [
      "Number of characters in file:  40\n"
     ]
    }
   ],
   "source": [
    "t=open(\"data.txt\",\"r\")\n",
    "rt=t.read()\n",
    "c=1\n",
    "for i in rt:\n",
    "    if i.isalpha:\n",
    "        c=c+1\n",
    "print(\"Number of characters in file: \",c)"
   ]
  },
  {
   "cell_type": "code",
   "execution_count": 2,
   "id": "707ea790",
   "metadata": {},
   "outputs": [
    {
     "name": "stdout",
     "output_type": "stream",
     "text": [
      "Number of lines in file:  2\n",
      "Number of characters in file:  39\n"
     ]
    }
   ],
   "source": [
    "t=open(\"data.txt\",\"r\")\n",
    "rt=t.read()\n",
    "c=1\n",
    "for i in rt:\n",
    "    if i==\"\\n\":\n",
    "        c=c+1\n",
    "print(\"Number of lines in file: \",c)\n",
    "print(\"Number of characters in file: \",len(rt))"
   ]
  },
  {
   "cell_type": "code",
   "execution_count": 4,
   "id": "245c5518",
   "metadata": {},
   "outputs": [
    {
     "name": "stdout",
     "output_type": "stream",
     "text": [
      "no.of words in file: 5\n"
     ]
    }
   ],
   "source": [
    "#no. of words in a file\n",
    "w=open(\"data.txt\",\"r\")\n",
    "f=w.read()\n",
    "wt=f.split()\n",
    "print(\"number of words in file:\",len(wt))"
   ]
  },
  {
   "cell_type": "code",
   "execution_count": 5,
   "id": "1309fe44",
   "metadata": {},
   "outputs": [
    {
     "name": "stdout",
     "output_type": "stream",
     "text": [
      "['BPF', 'LOG4', 'NV_MAGICCONST', 'RECIP_BPF', 'Random', 'SG_MAGICCONST', 'SystemRandom', 'TWOPI', '_Sequence', '_Set', '__all__', '__builtins__', '__cached__', '__doc__', '__file__', '__loader__', '__name__', '__package__', '__spec__', '_accumulate', '_acos', '_bisect', '_ceil', '_cos', '_e', '_exp', '_inst', '_log', '_os', '_pi', '_random', '_repeat', '_sha512', '_sin', '_sqrt', '_test', '_test_generator', '_urandom', '_warn', 'betavariate', 'choice', 'choices', 'expovariate', 'gammavariate', 'gauss', 'getrandbits', 'getstate', 'lognormvariate', 'normalvariate', 'paretovariate', 'randint', 'random', 'randrange', 'sample', 'seed', 'setstate', 'shuffle', 'triangular', 'uniform', 'vonmisesvariate', 'weibullvariate']\n"
     ]
    }
   ],
   "source": [
    "import random\n",
    "print(dir(random))"
   ]
  },
  {
   "cell_type": "code",
   "execution_count": 6,
   "id": "b1d69bb8",
   "metadata": {},
   "outputs": [],
   "source": [
    "from random import randint"
   ]
  },
  {
   "cell_type": "code",
   "execution_count": 7,
   "id": "8ddceb8b",
   "metadata": {},
   "outputs": [
    {
     "data": {
      "text/plain": [
       "47"
      ]
     },
     "execution_count": 7,
     "metadata": {},
     "output_type": "execute_result"
    }
   ],
   "source": [
    "randint(1,100)"
   ]
  },
  {
   "cell_type": "code",
   "execution_count": 8,
   "id": "42f4e335",
   "metadata": {},
   "outputs": [],
   "source": [
    "# 100 Students marks in file\n",
    "## find pass students\n",
    "## find fail students\n",
    "## first class students"
   ]
  },
  {
   "cell_type": "code",
   "execution_count": 11,
   "id": "401c4991",
   "metadata": {},
   "outputs": [],
   "source": [
    "from random import randint\n",
    "def studentsmarks(n,lb,ub):\n",
    "    f=open(\"marks.txt\",\"w\")\n",
    "    for i in range(n):\n",
    "        mt=randint(lb,ub)\n",
    "        f.write(str(mt)+\"\\n\")\n",
    "studentsmarks(100,1,100)"
   ]
  },
  {
   "cell_type": "code",
   "execution_count": 14,
   "id": "e35fa300",
   "metadata": {},
   "outputs": [
    {
     "name": "stdout",
     "output_type": "stream",
     "text": [
      "Number of students passed in a class 69\n",
      "Number of students failed in a class 33\n"
     ]
    }
   ],
   "source": [
    "# no.of pass students and fail students data\n",
    "def passfail():\n",
    "    pas=1\n",
    "    fail=1\n",
    "    with open(\"marks.txt\",\"r\") as fn:\n",
    "        for i in fn:\n",
    "            if i>=\"40\":\n",
    "                pas=pas+1\n",
    "            else:\n",
    "                fail=fail+1\n",
    "        print(\"Number of students passed in a class\",pas)\n",
    "        print(\"Number of students failed in a class\",fail)\n",
    "passfail()"
   ]
  },
  {
   "cell_type": "code",
   "execution_count": 40,
   "id": "c4a64f6a",
   "metadata": {},
   "outputs": [
    {
     "name": "stdout",
     "output_type": "stream",
     "text": [
      "Number of students distinction in a class 14\n"
     ]
    }
   ],
   "source": [
    "def distinction():\n",
    "    dist=1\n",
    "    with open(\"marks.txt\",\"r\") as fn:\n",
    "        for i in fn:\n",
    "            if i>=\"85\":\n",
    "                dist=dist+1\n",
    "        print(\"Number of students distinction in a class\",dist)\n",
    "distinction()"
   ]
  },
  {
   "cell_type": "code",
   "execution_count": 18,
   "id": "bf502f91",
   "metadata": {},
   "outputs": [],
   "source": [
    "for i in range(100):\n",
    "    f=open(\"data\"+str(i)+\".txt\",\"w\")"
   ]
  },
  {
   "cell_type": "code",
   "execution_count": 19,
   "id": "28ce859e",
   "metadata": {},
   "outputs": [],
   "source": [
    "# num=\"8074513566\"\n",
    "# num2=\"937652468\"\n",
    "# start ^ end $\n",
    "## do operations"
   ]
  },
  {
   "cell_type": "code",
   "execution_count": 20,
   "id": "0a293513",
   "metadata": {},
   "outputs": [
    {
     "name": "stdout",
     "output_type": "stream",
     "text": [
      "['A', 'ASCII', 'DEBUG', 'DOTALL', 'I', 'IGNORECASE', 'L', 'LOCALE', 'M', 'MULTILINE', 'Match', 'Pattern', 'RegexFlag', 'S', 'Scanner', 'T', 'TEMPLATE', 'U', 'UNICODE', 'VERBOSE', 'X', '_MAXCACHE', '__all__', '__builtins__', '__cached__', '__doc__', '__file__', '__loader__', '__name__', '__package__', '__spec__', '__version__', '_cache', '_compile', '_compile_repl', '_expand', '_locale', '_pickle', '_special_chars_map', '_subx', 'compile', 'copyreg', 'enum', 'error', 'escape', 'findall', 'finditer', 'fullmatch', 'functools', 'match', 'purge', 'search', 'split', 'sre_compile', 'sre_parse', 'sub', 'subn', 'template']\n"
     ]
    }
   ],
   "source": [
    "import re\n",
    "print(dir(re))"
   ]
  },
  {
   "cell_type": "code",
   "execution_count": 23,
   "id": "fcecf3fc",
   "metadata": {},
   "outputs": [
    {
     "name": "stdout",
     "output_type": "stream",
     "text": [
      "enter the number: 7247418\n",
      "Not valid\n"
     ]
    }
   ],
   "source": [
    "import re\n",
    "num=input(\"enter the number: \")\n",
    "pt=\"^[6-9]{1}[0-9]{9}$\"\n",
    "if re.match(pt,num):\n",
    "    print(\"Given number is valid\")\n",
    "else:\n",
    "    print(\"Not valid\")"
   ]
  },
  {
   "cell_type": "code",
   "execution_count": 26,
   "id": "0c5f1e7b",
   "metadata": {},
   "outputs": [
    {
     "name": "stdout",
     "output_type": "stream",
     "text": [
      "enter the mail: vedha@gmail.com\n",
      "Given email is valid\n"
     ]
    }
   ],
   "source": [
    "email=input(\"enter the mail: \")\n",
    "pt=\"^[a-z_.0-9]{4,10}[@][a-z]{3,8}[.][a-z]{3,4}$\"\n",
    "if re.match(pt,email):\n",
    "    print(\"Given email is valid\")\n",
    "else:\n",
    "    print(\"Not valid\")"
   ]
  },
  {
   "cell_type": "code",
   "execution_count": 27,
   "id": "6c0f06b1",
   "metadata": {},
   "outputs": [
    {
     "name": "stdout",
     "output_type": "stream",
     "text": [
      "['A', 'ASCII', 'DEBUG', 'DOTALL', 'I', 'IGNORECASE', 'L', 'LOCALE', 'M', 'MULTILINE', 'Match', 'Pattern', 'RegexFlag', 'S', 'Scanner', 'T', 'TEMPLATE', 'U', 'UNICODE', 'VERBOSE', 'X', '_MAXCACHE', '__all__', '__builtins__', '__cached__', '__doc__', '__file__', '__loader__', '__name__', '__package__', '__spec__', '__version__', '_cache', '_compile', '_compile_repl', '_expand', '_locale', '_pickle', '_special_chars_map', '_subx', 'compile', 'copyreg', 'enum', 'error', 'escape', 'findall', 'finditer', 'fullmatch', 'functools', 'match', 'purge', 'search', 'split', 'sre_compile', 'sre_parse', 'sub', 'subn', 'template']\n"
     ]
    }
   ],
   "source": [
    "print(dir(re))"
   ]
  },
  {
   "cell_type": "code",
   "execution_count": 33,
   "id": "fd27eecf",
   "metadata": {},
   "outputs": [
    {
     "name": "stdout",
     "output_type": "stream",
     "text": [
      "['Sr']\n"
     ]
    }
   ],
   "source": [
    "name=\"VedhaSree\"\n",
    "k=re.findall(\"Sr\",name)\n",
    "print(k)"
   ]
  },
  {
   "cell_type": "code",
   "execution_count": 38,
   "id": "d18fd05e",
   "metadata": {},
   "outputs": [
    {
     "name": "stdout",
     "output_type": "stream",
     "text": [
      "<re.Match object; span=(3, 6), match='nan'>\n"
     ]
    }
   ],
   "source": [
    "name=\"Vignan college\"\n",
    "s=re.search(\"nan\",name)\n",
    "print(s)"
   ]
  },
  {
   "cell_type": "code",
   "execution_count": 39,
   "id": "ba64a9ec",
   "metadata": {},
   "outputs": [
    {
     "name": "stdout",
     "output_type": "stream",
     "text": [
      "['Vig', ' college']\n"
     ]
    }
   ],
   "source": [
    "name=\"Vignan college\"\n",
    "sp=re.split(\"nan\",name)\n",
    "print(sp)"
   ]
  },
  {
   "cell_type": "code",
   "execution_count": 2,
   "id": "a5264b53",
   "metadata": {},
   "outputs": [
    {
     "name": "stdout",
     "output_type": "stream",
     "text": [
      "Number of students passed with distinction in class: 14\n"
     ]
    }
   ],
   "source": [
    "def distinction():\n",
    "    dist=1\n",
    "    with open(\"marks.txt\",\"r\") as fn:\n",
    "        for i in fn:\n",
    "            if i>=\"85\":\n",
    "                dist=dist+1\n",
    "        print(\"Number of students passed with distinction in class:\",dist)\n",
    "distinction()"
   ]
  },
  {
   "cell_type": "markdown",
   "id": "f20faee2",
   "metadata": {},
   "source": [
    "# List Comprehension"
   ]
  },
  {
   "cell_type": "code",
   "execution_count": 4,
   "id": "855f473b",
   "metadata": {},
   "outputs": [
    {
     "name": "stdout",
     "output_type": "stream",
     "text": [
      "<class 'list'>\n"
     ]
    }
   ],
   "source": [
    "h=[1,2,3,4,5,6]\n",
    "print(type(h))"
   ]
  },
  {
   "cell_type": "markdown",
   "id": "9c431927",
   "metadata": {},
   "source": [
    "* [out loop condition]\n",
    "* output or expression\n",
    "* Main theme is to reduce code complexity"
   ]
  },
  {
   "cell_type": "code",
   "execution_count": 5,
   "id": "2d310fd2",
   "metadata": {},
   "outputs": [
    {
     "name": "stdout",
     "output_type": "stream",
     "text": [
      "[0, 1, 2, 3, 4, 5, 6, 7, 8, 9]\n"
     ]
    }
   ],
   "source": [
    "l=[]\n",
    "for i in range(10):\n",
    "    l.append(i)\n",
    "print(l)"
   ]
  },
  {
   "cell_type": "code",
   "execution_count": 7,
   "id": "c3b45a8d",
   "metadata": {},
   "outputs": [
    {
     "data": {
      "text/plain": [
       "[0, 1, 2, 3, 4, 5, 6, 7, 8, 9]"
      ]
     },
     "execution_count": 7,
     "metadata": {},
     "output_type": "execute_result"
    }
   ],
   "source": [
    "[ll for ll in range(10)]"
   ]
  },
  {
   "cell_type": "code",
   "execution_count": 9,
   "id": "c1541721",
   "metadata": {},
   "outputs": [
    {
     "name": "stdout",
     "output_type": "stream",
     "text": [
      "[0, 2, 4, 6, 8, 10, 12, 14, 16, 18]\n"
     ]
    }
   ],
   "source": [
    "data=[ll for ll in range(20) if ll%2==0]\n",
    "print(data)"
   ]
  },
  {
   "cell_type": "code",
   "execution_count": 10,
   "id": "d35ec576",
   "metadata": {},
   "outputs": [
    {
     "name": "stdout",
     "output_type": "stream",
     "text": [
      "['G', 'o', 'o', 'd', ' ', 'A', 'f', 't', 'e', 'r', 'n', 'o', 'o', 'n']\n"
     ]
    }
   ],
   "source": [
    "st=[ch for ch in \"Good Afternoon\"]\n",
    "print(st)"
   ]
  },
  {
   "cell_type": "code",
   "execution_count": 19,
   "id": "f4124497",
   "metadata": {},
   "outputs": [
    {
     "name": "stdout",
     "output_type": "stream",
     "text": [
      "['hi', 'hello', 'hai', 'how are you', 'how many members are joined', 'how was class']\n"
     ]
    }
   ],
   "source": [
    "clz=[\"hi\",\"hello\",\"hai\",\"how are you\",\"how many members are joined\",\"how was class\",\"bad\",\"good\",\"avg\"]\n",
    "nl=[]\n",
    "for i in clz:\n",
    "    if \"h\" in i:\n",
    "        nl.append(i)\n",
    "print(nl)"
   ]
  },
  {
   "cell_type": "code",
   "execution_count": 22,
   "id": "de3ab0b4",
   "metadata": {},
   "outputs": [
    {
     "data": {
      "text/plain": [
       "['hi',\n",
       " 'hello',\n",
       " 'hai',\n",
       " 'how are you',\n",
       " 'how many members are joined',\n",
       " 'how was class']"
      ]
     },
     "execution_count": 22,
     "metadata": {},
     "output_type": "execute_result"
    }
   ],
   "source": [
    "[nlist for nlist in clz if \"h\" in nlist]"
   ]
  },
  {
   "cell_type": "code",
   "execution_count": 27,
   "id": "7d0f43a4",
   "metadata": {},
   "outputs": [
    {
     "data": {
      "text/plain": [
       "[5, 6, 7, 8, 9]"
      ]
     },
     "execution_count": 27,
     "metadata": {},
     "output_type": "execute_result"
    }
   ],
   "source": [
    "[l for l in range(10) if l>4]"
   ]
  },
  {
   "cell_type": "code",
   "execution_count": 28,
   "id": "7dea84a9",
   "metadata": {},
   "outputs": [
    {
     "data": {
      "text/plain": [
       "[1, 2, 3, 4]"
      ]
     },
     "execution_count": 28,
     "metadata": {},
     "output_type": "execute_result"
    }
   ],
   "source": [
    "[out for out in (1,2,3,4)]"
   ]
  },
  {
   "cell_type": "code",
   "execution_count": 30,
   "id": "a54cdcad",
   "metadata": {},
   "outputs": [
    {
     "data": {
      "text/plain": [
       "[1, 2, 3, 4, 5, 6]"
      ]
     },
     "execution_count": 30,
     "metadata": {},
     "output_type": "execute_result"
    }
   ],
   "source": [
    "[out for out in {1,2,3,4,5,6,1,2,3}]"
   ]
  },
  {
   "cell_type": "code",
   "execution_count": 35,
   "id": "df116b68",
   "metadata": {},
   "outputs": [
    {
     "data": {
      "text/plain": [
       "[1, 2, 3, 4, 5, 6, 7, 8, 9]"
      ]
     },
     "execution_count": 35,
     "metadata": {},
     "output_type": "execute_result"
    }
   ],
   "source": [
    "l=[[1,2,3],[4,5,6],[7,8,9]] \n",
    "[out for l1 in l for out in l1] "
   ]
  },
  {
   "cell_type": "markdown",
   "id": "61130978",
   "metadata": {},
   "source": [
    "# Iterators and generators"
   ]
  },
  {
   "cell_type": "code",
   "execution_count": 37,
   "id": "c2bca2ff",
   "metadata": {},
   "outputs": [
    {
     "name": "stdout",
     "output_type": "stream",
     "text": [
      "vignan\n",
      "women's\n",
      "dvd\n"
     ]
    }
   ],
   "source": [
    "clz=(\"vignan\",\"women's\",\"dvd\")\n",
    "hello=iter(clz)\n",
    "print(next(hello))\n",
    "print(next(hello))\n",
    "print(next(hello))"
   ]
  },
  {
   "cell_type": "code",
   "execution_count": 40,
   "id": "2a4ebb5c",
   "metadata": {},
   "outputs": [
    {
     "name": "stdout",
     "output_type": "stream",
     "text": [
      "1\n",
      "2\n",
      "3\n",
      "4\n",
      "5\n"
     ]
    }
   ],
   "source": [
    "l=[1,2,3,4,5]\n",
    "l2=iter(l)\n",
    "print(next(l2))\n",
    "print(next(l2))\n",
    "print(next(l2))\n",
    "print(next(l2))\n",
    "print(next(l2))"
   ]
  },
  {
   "cell_type": "markdown",
   "id": "e5f0ccfb",
   "metadata": {},
   "source": [
    "* generator is a function which returns one value at a time"
   ]
  },
  {
   "cell_type": "code",
   "execution_count": 42,
   "id": "16b98d78",
   "metadata": {},
   "outputs": [
    {
     "name": "stdout",
     "output_type": "stream",
     "text": [
      "1\n",
      "2\n",
      "3\n",
      "4\n"
     ]
    }
   ],
   "source": [
    "def gen():\n",
    "    yield 1\n",
    "    yield 2\n",
    "    yield 3\n",
    "    yield 4\n",
    "for i in gen():\n",
    "    print(i)"
   ]
  },
  {
   "cell_type": "code",
   "execution_count": 43,
   "id": "f27c4a46",
   "metadata": {},
   "outputs": [
    {
     "name": "stdout",
     "output_type": "stream",
     "text": [
      "2\n",
      "4\n",
      "6\n",
      "8\n"
     ]
    }
   ],
   "source": [
    "def gen():\n",
    "    yield 2\n",
    "    yield 4\n",
    "    yield 6\n",
    "    yield 8\n",
    "for i in gen():\n",
    "    print(i)"
   ]
  },
  {
   "cell_type": "markdown",
   "id": "6be39576",
   "metadata": {},
   "source": [
    "# Map\n",
    "* Map is builtin function its working like iterating"
   ]
  },
  {
   "cell_type": "code",
   "execution_count": 46,
   "id": "ab62ab0c",
   "metadata": {},
   "outputs": [
    {
     "name": "stdout",
     "output_type": "stream",
     "text": [
      "[0, 2, 4, 6, 8, 10, 12, 14, 16, 18]\n"
     ]
    }
   ],
   "source": [
    "def add(n):\n",
    "    return n+n\n",
    "result=list(map(add,range(10)))\n",
    "print(result)"
   ]
  },
  {
   "cell_type": "code",
   "execution_count": 2,
   "id": "3395c50d",
   "metadata": {},
   "outputs": [
    {
     "name": "stdout",
     "output_type": "stream",
     "text": [
      "4\n",
      "16\n",
      "256\n",
      "65536\n",
      "4294967296\n"
     ]
    }
   ],
   "source": [
    "def taskyield():\n",
    "    n=2\n",
    "    while True:\n",
    "        n**=2\n",
    "        yield n\n",
    "a=taskyield()\n",
    "for i in range(5):\n",
    "    print(next(a))"
   ]
  },
  {
   "cell_type": "markdown",
   "id": "07fa2cac",
   "metadata": {},
   "source": [
    "* Class is set of methods and set of variables\n",
    "* Class is blueprint of object"
   ]
  },
  {
   "cell_type": "code",
   "execution_count": 3,
   "id": "a30837bf",
   "metadata": {},
   "outputs": [],
   "source": [
    "# class classname:\n",
    "#   set variables\n",
    "#   set methods\n"
   ]
  },
  {
   "cell_type": "code",
   "execution_count": 4,
   "id": "dcfaec61",
   "metadata": {},
   "outputs": [
    {
     "name": "stdout",
     "output_type": "stream",
     "text": [
      "10\n",
      "20\n"
     ]
    }
   ],
   "source": [
    "class hell:\n",
    "    a=10\n",
    "    b=20\n",
    "print(hell.a)\n",
    "print(hell.b)"
   ]
  },
  {
   "cell_type": "code",
   "execution_count": 5,
   "id": "0ce142c1",
   "metadata": {},
   "outputs": [
    {
     "name": "stdout",
     "output_type": "stream",
     "text": [
      "Good Morning\n",
      "None\n"
     ]
    }
   ],
   "source": [
    "class GoodMorning():\n",
    "    def great():\n",
    "        print(\"Good Morning\")\n",
    "print(GoodMorning.great())"
   ]
  },
  {
   "cell_type": "code",
   "execution_count": 6,
   "id": "d591be17",
   "metadata": {},
   "outputs": [
    {
     "name": "stdout",
     "output_type": "stream",
     "text": [
      "30\n",
      "50\n",
      "50\n"
     ]
    }
   ],
   "source": [
    "class Math:\n",
    "    def add(a,b):\n",
    "        return a+b\n",
    "    def mul(a,b):\n",
    "        return a*b\n",
    "    def sub(a,b):\n",
    "        return a-b\n",
    "obj=Math\n",
    "print(obj.add(10,20))\n",
    "print(obj.mul(5,10))\n",
    "print(obj.sub(100,50))"
   ]
  },
  {
   "cell_type": "markdown",
   "id": "d14b58ad",
   "metadata": {},
   "source": [
    "* Constructors is to initialize to the data mebers of the class when an object of class is created"
   ]
  },
  {
   "cell_type": "code",
   "execution_count": 7,
   "id": "4794d56b",
   "metadata": {},
   "outputs": [
    {
     "name": "stdout",
     "output_type": "stream",
     "text": [
      "hi students\n"
     ]
    }
   ],
   "source": [
    "# default constructors\n",
    "class good():\n",
    "    def __init__(n):\n",
    "        print(\"hi students\")\n",
    "ob=good()"
   ]
  },
  {
   "cell_type": "code",
   "execution_count": 9,
   "id": "96ba2a81",
   "metadata": {},
   "outputs": [
    {
     "name": "stdout",
     "output_type": "stream",
     "text": [
      "hello my name is vedha my role is student\n"
     ]
    }
   ],
   "source": [
    "class userdef():\n",
    "    def __hello__(self,name,role):\n",
    "        print(\"hello my name is\",name,\"my role is\",role)\n",
    "ob=userdef()\n",
    "ob.__hello__(\"vedha\",\"student\")"
   ]
  },
  {
   "cell_type": "code",
   "execution_count": 12,
   "id": "8422c674",
   "metadata": {},
   "outputs": [
    {
     "name": "stdout",
     "output_type": "stream",
     "text": [
      "80\n"
     ]
    }
   ],
   "source": [
    "class para:\n",
    "    def __init__(self,a,b):\n",
    "        self.a=a\n",
    "        self.b=b\n",
    "    def sub(self):\n",
    "        return self.a-self.b\n",
    "ob=para(100,20)\n",
    "print(ob.sub())"
   ]
  },
  {
   "cell_type": "markdown",
   "id": "6f2bf15a",
   "metadata": {},
   "source": [
    "# Inheritance\n",
    "* Single level\n",
    "* multi level\n",
    "* filter, reduce, lambda\n",
    "* numpy"
   ]
  },
  {
   "cell_type": "code",
   "execution_count": 9,
   "id": "f475f477",
   "metadata": {},
   "outputs": [
    {
     "name": "stdout",
     "output_type": "stream",
     "text": [
      "This is class A function\n",
      "None\n",
      "This is class B function\n",
      "None\n"
     ]
    }
   ],
   "source": [
    "# Single level inheritance\n",
    "class A():\n",
    "    def sample():\n",
    "        print(\"This is class A function\")\n",
    "class B(A):\n",
    "    def sample2():\n",
    "        print(\"This is class B function\")\n",
    "obj=B\n",
    "print(obj.sample())\n",
    "print(obj.sample2())"
   ]
  },
  {
   "cell_type": "code",
   "execution_count": 10,
   "id": "32237c75",
   "metadata": {},
   "outputs": [
    {
     "name": "stdout",
     "output_type": "stream",
     "text": [
      "50\n",
      "20\n",
      "This is class A function\n",
      "None\n",
      "This is class B function\n",
      "None\n"
     ]
    }
   ],
   "source": [
    "class A():\n",
    "    a=50\n",
    "    b=20\n",
    "    def sample():\n",
    "        print(\"This is class A function\")\n",
    "class B(A):\n",
    "    def sample2():\n",
    "        print(\"This is class B function\")\n",
    "obj=B\n",
    "print(obj.a)\n",
    "print(obj.b)\n",
    "print(obj.sample())\n",
    "print(obj.sample2())"
   ]
  },
  {
   "cell_type": "code",
   "execution_count": 11,
   "id": "5a4e6ba0",
   "metadata": {},
   "outputs": [
    {
     "name": "stdout",
     "output_type": "stream",
     "text": [
      "50\n",
      "20\n",
      "This is class A function\n",
      "None\n",
      "This is class B function\n",
      "None\n",
      "This is class C function\n",
      "None\n"
     ]
    }
   ],
   "source": [
    "# Multilevel inheritance\n",
    "class A():\n",
    "    a=50\n",
    "    b=20\n",
    "    def sample():\n",
    "        print(\"This is class A function\")\n",
    "class B(A):\n",
    "    def sample2():\n",
    "        print(\"This is class B function\")\n",
    "class C(B):\n",
    "    def sample3():\n",
    "        print(\"This is class C function\")        \n",
    "obj=C\n",
    "print(obj.a)\n",
    "print(obj.b)\n",
    "print(obj.sample())\n",
    "print(obj.sample2())\n",
    "print(obj.sample3())"
   ]
  },
  {
   "cell_type": "code",
   "execution_count": 15,
   "id": "4eaf0c9d",
   "metadata": {},
   "outputs": [
    {
     "name": "stdout",
     "output_type": "stream",
     "text": [
      "enter a number: 5\n",
      "odd number\n"
     ]
    }
   ],
   "source": [
    "def evenodd(n):\n",
    "    if a%2==0:\n",
    "        print(\"even number\")\n",
    "    else:\n",
    "        print(\"odd number\")\n",
    "a=int(input(\"enter a number: \"))\n",
    "evenodd(a)"
   ]
  },
  {
   "cell_type": "code",
   "execution_count": 18,
   "id": "d3ce2bcf",
   "metadata": {},
   "outputs": [
    {
     "name": "stdout",
     "output_type": "stream",
     "text": [
      "False\n",
      "True\n",
      "True\n",
      "False\n"
     ]
    }
   ],
   "source": [
    "from oops import Math\n",
    "obj=Math\n",
    "print(obj.even(5))\n",
    "print(obj.odd(3))\n",
    "print(obj.even(4))\n",
    "print(obj.odd(6))"
   ]
  },
  {
   "cell_type": "markdown",
   "id": "50cc6328",
   "metadata": {},
   "source": [
    "# filter(fun,iter)"
   ]
  },
  {
   "cell_type": "code",
   "execution_count": 26,
   "id": "a9382a44",
   "metadata": {},
   "outputs": [
    {
     "name": "stdout",
     "output_type": "stream",
     "text": [
      "[52, 54, 56, 58, 60, 62, 64, 66, 68, 70, 72, 74, 76, 78, 80, 82, 84, 86, 88, 90, 92, 94, 96, 98]\n"
     ]
    }
   ],
   "source": [
    "def filterdata(n):\n",
    "    if n>50 and n%2==0:\n",
    "        return n\n",
    "data=filter(filterdata,range(100))\n",
    "print(list(data))"
   ]
  },
  {
   "cell_type": "code",
   "execution_count": 25,
   "id": "582ff14d",
   "metadata": {},
   "outputs": [
    {
     "name": "stdout",
     "output_type": "stream",
     "text": [
      "[50, 52, 54, 56, 58, 60, 62, 64, 66, 68, 70, 72, 74, 76, 78, 80, 82, 84, 86, 88, 90, 92, 94, 96, 98, 100]\n"
     ]
    }
   ],
   "source": [
    "def filterdata(n):\n",
    "    if n>=50 and n%2==0:\n",
    "        return n\n",
    "data=filter(filterdata,range(101))\n",
    "print(list(data))"
   ]
  },
  {
   "cell_type": "code",
   "execution_count": 27,
   "id": "faee212b",
   "metadata": {},
   "outputs": [
    {
     "name": "stdout",
     "output_type": "stream",
     "text": [
      "[51, 52, 53, 54, 55, 56, 57, 58, 59, 60, 61, 62, 63, 64, 65, 66, 67, 68, 69, 70, 71, 72, 73, 74, 75, 76, 77, 78, 79, 80, 81, 82, 83, 84, 85, 86, 87, 88, 89, 90, 91, 92, 93, 94, 95, 96, 97, 98, 99]\n"
     ]
    }
   ],
   "source": [
    "def filterdata(n):\n",
    "    if n>50:\n",
    "        return n\n",
    "data=filter(filterdata,range(100))\n",
    "print(list(data))"
   ]
  },
  {
   "cell_type": "code",
   "execution_count": 28,
   "id": "dd79cf3c",
   "metadata": {},
   "outputs": [
    {
     "data": {
      "text/plain": [
       "100"
      ]
     },
     "execution_count": 28,
     "metadata": {},
     "output_type": "execute_result"
    }
   ],
   "source": [
    "def add(a,b):\n",
    "    c=a+b\n",
    "    return c\n",
    "add(10,90)"
   ]
  },
  {
   "cell_type": "code",
   "execution_count": 33,
   "id": "d2691484",
   "metadata": {},
   "outputs": [
    {
     "data": {
      "text/plain": [
       "19"
      ]
     },
     "execution_count": 33,
     "metadata": {},
     "output_type": "execute_result"
    }
   ],
   "source": [
    "from functools import reduce\n",
    "val=[0,1,3,4,5,6]\n",
    "reduce(add,val)"
   ]
  },
  {
   "cell_type": "code",
   "execution_count": 34,
   "id": "e8661a23",
   "metadata": {},
   "outputs": [
    {
     "name": "stdout",
     "output_type": "stream",
     "text": [
      "a value is: 10 b value is: 90 c value is: 100\n"
     ]
    },
    {
     "data": {
      "text/plain": [
       "100"
      ]
     },
     "execution_count": 34,
     "metadata": {},
     "output_type": "execute_result"
    }
   ],
   "source": [
    "def add(a,b):\n",
    "    c=a+b\n",
    "    print(\"a value is:\",a,\"b value is:\",b,\"c value is:\",a+b)\n",
    "    return c\n",
    "add(10,90)"
   ]
  },
  {
   "cell_type": "code",
   "execution_count": 35,
   "id": "771ac53c",
   "metadata": {},
   "outputs": [
    {
     "name": "stdout",
     "output_type": "stream",
     "text": [
      "a value is: 0 b value is: 1 c value is: 1\n",
      "a value is: 1 b value is: 3 c value is: 4\n",
      "a value is: 4 b value is: 4 c value is: 8\n",
      "a value is: 8 b value is: 5 c value is: 13\n",
      "a value is: 13 b value is: 6 c value is: 19\n"
     ]
    },
    {
     "data": {
      "text/plain": [
       "19"
      ]
     },
     "execution_count": 35,
     "metadata": {},
     "output_type": "execute_result"
    }
   ],
   "source": [
    "from functools import reduce\n",
    "val=[0,1,3,4,5,6]\n",
    "reduce(add,val)"
   ]
  },
  {
   "cell_type": "code",
   "execution_count": 37,
   "id": "bcbc2de0",
   "metadata": {},
   "outputs": [
    {
     "name": "stdout",
     "output_type": "stream",
     "text": [
      "20\n"
     ]
    }
   ],
   "source": [
    "# lambda a,b,c:a+b+c\n",
    "def lamdafun(n):\n",
    "    return lambda a:a*n\n",
    "output=lamdafun(2)\n",
    "print(output(10))"
   ]
  },
  {
   "cell_type": "code",
   "execution_count": 38,
   "id": "564ad500",
   "metadata": {},
   "outputs": [
    {
     "name": "stdout",
     "output_type": "stream",
     "text": [
      "20\n"
     ]
    }
   ],
   "source": [
    "def lam(k):\n",
    "    return lambda a:a*k\n",
    "out=lam(10)\n",
    "print(out(2))"
   ]
  },
  {
   "cell_type": "markdown",
   "id": "f051de83",
   "metadata": {},
   "source": [
    "# Numpy\n",
    "* It provides a high- performance multi dimentional array object\n",
    "* more efficiently and with less code\n",
    "* numpy is python library\n",
    "* if you want use numpy we can import numpy as np\n",
    "* num-py Numerical Python\n",
    "* Scientific calculations\n",
    "* available onwards 2005"
   ]
  },
  {
   "cell_type": "code",
   "execution_count": 39,
   "id": "93656835",
   "metadata": {},
   "outputs": [],
   "source": [
    "import numpy as np"
   ]
  },
  {
   "cell_type": "code",
   "execution_count": 40,
   "id": "2caf470c",
   "metadata": {},
   "outputs": [
    {
     "name": "stdout",
     "output_type": "stream",
     "text": [
      "<class 'module'>\n"
     ]
    }
   ],
   "source": [
    "print(type(np))"
   ]
  },
  {
   "cell_type": "code",
   "execution_count": 44,
   "id": "1b794b25",
   "metadata": {},
   "outputs": [
    {
     "name": "stdout",
     "output_type": "stream",
     "text": [
      "<class 'numpy.ndarray'>\n"
     ]
    }
   ],
   "source": [
    "data=np.array([1,2,3])\n",
    "print(type(data))"
   ]
  },
  {
   "cell_type": "code",
   "execution_count": 46,
   "id": "c26ab6d5",
   "metadata": {},
   "outputs": [
    {
     "name": "stdout",
     "output_type": "stream",
     "text": [
      "<class 'numpy.ndarray'>\n"
     ]
    }
   ],
   "source": [
    "data2=np.array([[1,2,3],[4,5,6]])\n",
    "print(type(data2))"
   ]
  },
  {
   "cell_type": "code",
   "execution_count": 48,
   "id": "1b5303fe",
   "metadata": {},
   "outputs": [
    {
     "data": {
      "text/plain": [
       "(2, 3)"
      ]
     },
     "execution_count": 48,
     "metadata": {},
     "output_type": "execute_result"
    }
   ],
   "source": [
    "data2.shape"
   ]
  },
  {
   "cell_type": "code",
   "execution_count": 49,
   "id": "5f541d98",
   "metadata": {},
   "outputs": [
    {
     "data": {
      "text/plain": [
       "2"
      ]
     },
     "execution_count": 49,
     "metadata": {},
     "output_type": "execute_result"
    }
   ],
   "source": [
    "data2.ndim"
   ]
  },
  {
   "cell_type": "code",
   "execution_count": 52,
   "id": "104bd86f",
   "metadata": {},
   "outputs": [
    {
     "data": {
      "text/plain": [
       "24"
      ]
     },
     "execution_count": 52,
     "metadata": {},
     "output_type": "execute_result"
    }
   ],
   "source": [
    "data2.nbytes"
   ]
  },
  {
   "cell_type": "code",
   "execution_count": 56,
   "id": "3b6d06a8",
   "metadata": {},
   "outputs": [
    {
     "data": {
      "text/plain": [
       "dtype('int32')"
      ]
     },
     "execution_count": 56,
     "metadata": {},
     "output_type": "execute_result"
    }
   ],
   "source": [
    "data.dtype"
   ]
  },
  {
   "cell_type": "code",
   "execution_count": 57,
   "id": "b9e6546c",
   "metadata": {},
   "outputs": [
    {
     "name": "stdout",
     "output_type": "stream",
     "text": [
      "['ALLOW_THREADS', 'AxisError', 'BUFSIZE', 'Bytes0', 'CLIP', 'ComplexWarning', 'DataSource', 'Datetime64', 'ERR_CALL', 'ERR_DEFAULT', 'ERR_IGNORE', 'ERR_LOG', 'ERR_PRINT', 'ERR_RAISE', 'ERR_WARN', 'FLOATING_POINT_SUPPORT', 'FPE_DIVIDEBYZERO', 'FPE_INVALID', 'FPE_OVERFLOW', 'FPE_UNDERFLOW', 'False_', 'Inf', 'Infinity', 'MAXDIMS', 'MAY_SHARE_BOUNDS', 'MAY_SHARE_EXACT', 'MachAr', 'ModuleDeprecationWarning', 'NAN', 'NINF', 'NZERO', 'NaN', 'PINF', 'PZERO', 'RAISE', 'RankWarning', 'SHIFT_DIVIDEBYZERO', 'SHIFT_INVALID', 'SHIFT_OVERFLOW', 'SHIFT_UNDERFLOW', 'ScalarType', 'Str0', 'Tester', 'TooHardError', 'True_', 'UFUNC_BUFSIZE_DEFAULT', 'UFUNC_PYVALS_NAME', 'Uint64', 'VisibleDeprecationWarning', 'WRAP', '_NoValue', '_UFUNC_API', '__NUMPY_SETUP__', '__all__', '__builtins__', '__cached__', '__config__', '__deprecated_attrs__', '__dir__', '__doc__', '__expired_functions__', '__file__', '__getattr__', '__git_revision__', '__loader__', '__mkl_version__', '__name__', '__package__', '__path__', '__spec__', '__version__', '_add_newdoc_ufunc', '_distributor_init', '_financial_names', '_globals', '_mat', '_pytesttester', 'abs', 'absolute', 'add', 'add_docstring', 'add_newdoc', 'add_newdoc_ufunc', 'alen', 'all', 'allclose', 'alltrue', 'amax', 'amin', 'angle', 'any', 'append', 'apply_along_axis', 'apply_over_axes', 'arange', 'arccos', 'arccosh', 'arcsin', 'arcsinh', 'arctan', 'arctan2', 'arctanh', 'argmax', 'argmin', 'argpartition', 'argsort', 'argwhere', 'around', 'array', 'array2string', 'array_equal', 'array_equiv', 'array_repr', 'array_split', 'array_str', 'asanyarray', 'asarray', 'asarray_chkfinite', 'ascontiguousarray', 'asfarray', 'asfortranarray', 'asmatrix', 'asscalar', 'atleast_1d', 'atleast_2d', 'atleast_3d', 'average', 'bartlett', 'base_repr', 'binary_repr', 'bincount', 'bitwise_and', 'bitwise_not', 'bitwise_or', 'bitwise_xor', 'blackman', 'block', 'bmat', 'bool8', 'bool_', 'broadcast', 'broadcast_arrays', 'broadcast_shapes', 'broadcast_to', 'busday_count', 'busday_offset', 'busdaycalendar', 'byte', 'byte_bounds', 'bytes0', 'bytes_', 'c_', 'can_cast', 'cast', 'cbrt', 'cdouble', 'ceil', 'cfloat', 'char', 'character', 'chararray', 'choose', 'clip', 'clongdouble', 'clongfloat', 'column_stack', 'common_type', 'compare_chararrays', 'compat', 'complex128', 'complex64', 'complex_', 'complexfloating', 'compress', 'concatenate', 'conj', 'conjugate', 'convolve', 'copy', 'copysign', 'copyto', 'core', 'corrcoef', 'correlate', 'cos', 'cosh', 'count_nonzero', 'cov', 'cross', 'csingle', 'ctypeslib', 'cumprod', 'cumproduct', 'cumsum', 'datetime64', 'datetime_as_string', 'datetime_data', 'deg2rad', 'degrees', 'delete', 'deprecate', 'deprecate_with_doc', 'diag', 'diag_indices', 'diag_indices_from', 'diagflat', 'diagonal', 'diff', 'digitize', 'disp', 'divide', 'divmod', 'dot', 'double', 'dsplit', 'dstack', 'dtype', 'e', 'ediff1d', 'einsum', 'einsum_path', 'emath', 'empty', 'empty_like', 'equal', 'errstate', 'euler_gamma', 'exp', 'exp2', 'expand_dims', 'expm1', 'extract', 'eye', 'fabs', 'fastCopyAndTranspose', 'fft', 'fill_diagonal', 'find_common_type', 'finfo', 'fix', 'flatiter', 'flatnonzero', 'flexible', 'flip', 'fliplr', 'flipud', 'float16', 'float32', 'float64', 'float_', 'float_power', 'floating', 'floor', 'floor_divide', 'fmax', 'fmin', 'fmod', 'format_float_positional', 'format_float_scientific', 'format_parser', 'frexp', 'frombuffer', 'fromfile', 'fromfunction', 'fromiter', 'frompyfunc', 'fromregex', 'fromstring', 'full', 'full_like', 'gcd', 'generic', 'genfromtxt', 'geomspace', 'get_array_wrap', 'get_include', 'get_printoptions', 'getbufsize', 'geterr', 'geterrcall', 'geterrobj', 'gradient', 'greater', 'greater_equal', 'half', 'hamming', 'hanning', 'heaviside', 'histogram', 'histogram2d', 'histogram_bin_edges', 'histogramdd', 'hsplit', 'hstack', 'hypot', 'i0', 'identity', 'iinfo', 'imag', 'in1d', 'index_exp', 'indices', 'inexact', 'inf', 'info', 'infty', 'inner', 'insert', 'int0', 'int16', 'int32', 'int64', 'int8', 'int_', 'intc', 'integer', 'interp', 'intersect1d', 'intp', 'invert', 'is_busday', 'isclose', 'iscomplex', 'iscomplexobj', 'isfinite', 'isfortran', 'isin', 'isinf', 'isnan', 'isnat', 'isneginf', 'isposinf', 'isreal', 'isrealobj', 'isscalar', 'issctype', 'issubclass_', 'issubdtype', 'issubsctype', 'iterable', 'ix_', 'kaiser', 'kron', 'lcm', 'ldexp', 'left_shift', 'less', 'less_equal', 'lexsort', 'lib', 'linalg', 'linspace', 'little_endian', 'load', 'loads', 'loadtxt', 'log', 'log10', 'log1p', 'log2', 'logaddexp', 'logaddexp2', 'logical_and', 'logical_not', 'logical_or', 'logical_xor', 'logspace', 'longcomplex', 'longdouble', 'longfloat', 'longlong', 'lookfor', 'ma', 'mafromtxt', 'mask_indices', 'mat', 'math', 'matmul', 'matrix', 'matrixlib', 'max', 'maximum', 'maximum_sctype', 'may_share_memory', 'mean', 'median', 'memmap', 'meshgrid', 'mgrid', 'min', 'min_scalar_type', 'minimum', 'mintypecode', 'mkl', 'mod', 'modf', 'moveaxis', 'msort', 'multiply', 'nan', 'nan_to_num', 'nanargmax', 'nanargmin', 'nancumprod', 'nancumsum', 'nanmax', 'nanmean', 'nanmedian', 'nanmin', 'nanpercentile', 'nanprod', 'nanquantile', 'nanstd', 'nansum', 'nanvar', 'nbytes', 'ndarray', 'ndenumerate', 'ndfromtxt', 'ndim', 'ndindex', 'nditer', 'negative', 'nested_iters', 'newaxis', 'nextafter', 'nonzero', 'not_equal', 'numarray', 'number', 'obj2sctype', 'object0', 'object_', 'ogrid', 'oldnumeric', 'ones', 'ones_like', 'os', 'outer', 'packbits', 'pad', 'partition', 'percentile', 'pi', 'piecewise', 'place', 'poly', 'poly1d', 'polyadd', 'polyder', 'polydiv', 'polyfit', 'polyint', 'polymul', 'polynomial', 'polysub', 'polyval', 'positive', 'power', 'printoptions', 'prod', 'product', 'promote_types', 'ptp', 'put', 'put_along_axis', 'putmask', 'quantile', 'r_', 'rad2deg', 'radians', 'random', 'ravel', 'ravel_multi_index', 'real', 'real_if_close', 'rec', 'recarray', 'recfromcsv', 'recfromtxt', 'reciprocal', 'record', 'remainder', 'repeat', 'require', 'reshape', 'resize', 'result_type', 'right_shift', 'rint', 'roll', 'rollaxis', 'roots', 'rot90', 'round', 'round_', 'row_stack', 's_', 'safe_eval', 'save', 'savetxt', 'savez', 'savez_compressed', 'sctype2char', 'sctypeDict', 'sctypes', 'searchsorted', 'select', 'set_numeric_ops', 'set_printoptions', 'set_string_function', 'setbufsize', 'setdiff1d', 'seterr', 'seterrcall', 'seterrobj', 'setxor1d', 'shape', 'shares_memory', 'short', 'show_config', 'sign', 'signbit', 'signedinteger', 'sin', 'sinc', 'single', 'singlecomplex', 'sinh', 'size', 'sometrue', 'sort', 'sort_complex', 'source', 'spacing', 'split', 'sqrt', 'square', 'squeeze', 'stack', 'std', 'str0', 'str_', 'string_', 'subtract', 'sum', 'swapaxes', 'sys', 'take', 'take_along_axis', 'tan', 'tanh', 'tensordot', 'test', 'testing', 'tile', 'timedelta64', 'trace', 'tracemalloc_domain', 'transpose', 'trapz', 'tri', 'tril', 'tril_indices', 'tril_indices_from', 'trim_zeros', 'triu', 'triu_indices', 'triu_indices_from', 'true_divide', 'trunc', 'typeDict', 'typecodes', 'typename', 'ubyte', 'ufunc', 'uint', 'uint0', 'uint16', 'uint32', 'uint64', 'uint8', 'uintc', 'uintp', 'ulonglong', 'unicode_', 'union1d', 'unique', 'unpackbits', 'unravel_index', 'unsignedinteger', 'unwrap', 'use_hugepage', 'ushort', 'vander', 'var', 'vdot', 'vectorize', 'version', 'void', 'void0', 'vsplit', 'vstack', 'warnings', 'where', 'who', 'zeros', 'zeros_like']\n"
     ]
    }
   ],
   "source": [
    "print(dir(np))"
   ]
  },
  {
   "cell_type": "code",
   "execution_count": 60,
   "id": "2577040d",
   "metadata": {},
   "outputs": [
    {
     "name": "stdout",
     "output_type": "stream",
     "text": [
      "[1 2 3 4 5 6 7 8 9]\n"
     ]
    }
   ],
   "source": [
    "da=np.arange(1,10)\n",
    "print(da)"
   ]
  },
  {
   "cell_type": "code",
   "execution_count": 61,
   "id": "9f2ef84e",
   "metadata": {},
   "outputs": [
    {
     "name": "stdout",
     "output_type": "stream",
     "text": [
      "[ 1  2  3  4  5  6  7  8  9 10 11 12 13 14 15 16 17 18 19 20 21 22 23 24\n",
      " 25 26 27 28 29 30 31 32 33 34 35 36 37 38 39 40 41 42 43 44 45 46 47 48\n",
      " 49 50 51 52 53 54 55 56 57 58 59 60 61 62 63 64 65 66 67 68 69 70 71 72\n",
      " 73 74 75 76 77 78 79 80 81 82 83 84 85 86 87 88 89 90 91 92 93 94 95 96\n",
      " 97 98 99]\n"
     ]
    }
   ],
   "source": [
    "d2=np.arange(1,100)\n",
    "print(d2)"
   ]
  },
  {
   "cell_type": "code",
   "execution_count": 67,
   "id": "3cc6f3a7",
   "metadata": {},
   "outputs": [
    {
     "data": {
      "text/plain": [
       "array([ 0,  2,  4,  6,  8, 10, 12, 14, 16, 18, 20, 22, 24, 26, 28, 30, 32,\n",
       "       34, 36, 38, 40, 42, 44, 46, 48, 50, 52, 54, 56, 58, 60, 62, 64, 66,\n",
       "       68, 70, 72, 74, 76, 78, 80, 82, 84, 86, 88, 90, 92, 94, 96, 98])"
      ]
     },
     "execution_count": 67,
     "metadata": {},
     "output_type": "execute_result"
    }
   ],
   "source": [
    "d3=np.arange(0,100,2)\n",
    "d3"
   ]
  },
  {
   "cell_type": "code",
   "execution_count": 68,
   "id": "702059a3",
   "metadata": {},
   "outputs": [
    {
     "data": {
      "text/plain": [
       "array([100,  99,  98,  97,  96,  95,  94,  93,  92,  91,  90,  89,  88,\n",
       "        87,  86,  85,  84,  83,  82,  81,  80,  79,  78,  77,  76,  75,\n",
       "        74,  73,  72,  71,  70,  69,  68,  67,  66,  65,  64,  63,  62,\n",
       "        61,  60,  59,  58,  57,  56,  55,  54,  53,  52,  51,  50,  49,\n",
       "        48,  47,  46,  45,  44,  43,  42,  41,  40,  39,  38,  37,  36,\n",
       "        35,  34,  33,  32,  31,  30,  29,  28,  27,  26,  25,  24,  23,\n",
       "        22,  21,  20,  19,  18,  17,  16,  15,  14,  13,  12,  11,  10,\n",
       "         9,   8,   7,   6,   5,   4,   3,   2])"
      ]
     },
     "execution_count": 68,
     "metadata": {},
     "output_type": "execute_result"
    }
   ],
   "source": [
    "d4=np.arange(100,1,-1)\n",
    "d4"
   ]
  },
  {
   "cell_type": "code",
   "execution_count": 69,
   "id": "32af79c6",
   "metadata": {},
   "outputs": [
    {
     "data": {
      "text/plain": [
       "array([98, 96, 94, 92, 90, 88, 86, 84, 82, 80, 78, 76, 74, 72, 70, 68, 66,\n",
       "       64, 62, 60, 58, 56, 54, 52, 50, 48, 46, 44, 42, 40, 38, 36, 34, 32,\n",
       "       30, 28, 26, 24, 22, 20, 18, 16, 14, 12, 10,  8,  6,  4,  2,  0])"
      ]
     },
     "execution_count": 69,
     "metadata": {},
     "output_type": "execute_result"
    }
   ],
   "source": [
    "d3[::-1]"
   ]
  },
  {
   "cell_type": "code",
   "execution_count": 72,
   "id": "9787e7d2",
   "metadata": {},
   "outputs": [
    {
     "data": {
      "text/plain": [
       "array([ 0,  2,  4,  6,  8, 10, 12, 14, 16, 18, 20, 22, 24, 26, 28, 30, 32,\n",
       "       34, 36, 38, 40, 42, 44, 46, 48, 50, 52, 54, 56, 58, 60, 62, 64, 66,\n",
       "       68, 70, 72, 74, 76, 78, 80, 82, 84, 86, 88, 90, 92, 94, 96, 98])"
      ]
     },
     "execution_count": 72,
     "metadata": {},
     "output_type": "execute_result"
    }
   ],
   "source": [
    "d5=np.arange(0,100,2)\n",
    "d5"
   ]
  },
  {
   "cell_type": "code",
   "execution_count": 87,
   "id": "3db1b59e",
   "metadata": {},
   "outputs": [
    {
     "data": {
      "text/plain": [
       "array([98, 96, 94, 92, 90, 88, 86, 84, 82, 80, 78, 76, 74, 72, 70, 68, 66,\n",
       "       64, 62, 60, 58, 56, 54, 52, 50, 48, 46, 44, 42, 40, 38, 36, 34, 32,\n",
       "       30, 28, 26, 24, 22, 20, 18, 16, 14, 12, 10,  8,  6,  4,  2,  0])"
      ]
     },
     "execution_count": 87,
     "metadata": {},
     "output_type": "execute_result"
    }
   ],
   "source": [
    "d5[::-1]"
   ]
  },
  {
   "cell_type": "code",
   "execution_count": 88,
   "id": "686965b7",
   "metadata": {},
   "outputs": [
    {
     "data": {
      "text/plain": [
       "array([50, 48, 46, 44, 42, 40, 38, 36, 34, 32, 30, 28, 26, 24, 22, 20, 18,\n",
       "       16, 14, 12, 10,  8,  6,  4,  2,  0])"
      ]
     },
     "execution_count": 88,
     "metadata": {},
     "output_type": "execute_result"
    }
   ],
   "source": [
    "d5[25::-1]"
   ]
  },
  {
   "cell_type": "code",
   "execution_count": 78,
   "id": "427eba8c",
   "metadata": {},
   "outputs": [
    {
     "data": {
      "text/plain": [
       "array([0., 0., 0., 0., 0., 0., 0., 0., 0., 0.])"
      ]
     },
     "execution_count": 78,
     "metadata": {},
     "output_type": "execute_result"
    }
   ],
   "source": [
    "ze=np.zeros(10)\n",
    "ze"
   ]
  },
  {
   "cell_type": "code",
   "execution_count": 82,
   "id": "3b1d2c82",
   "metadata": {},
   "outputs": [
    {
     "data": {
      "text/plain": [
       "array([1., 1., 1., 1., 1., 1., 1., 1., 1., 1.])"
      ]
     },
     "execution_count": 82,
     "metadata": {},
     "output_type": "execute_result"
    }
   ],
   "source": [
    "ze=np.ones(10)\n",
    "ze"
   ]
  },
  {
   "cell_type": "code",
   "execution_count": 89,
   "id": "d072b8ba",
   "metadata": {},
   "outputs": [
    {
     "name": "stdout",
     "output_type": "stream",
     "text": [
      "[[ 0  1  2]\n",
      " [ 3  4  5]\n",
      " [ 6  7  8]\n",
      " [ 9 10 11]]\n"
     ]
    }
   ],
   "source": [
    "r=np.arange(12)\n",
    "k=r.reshape(4,3)\n",
    "print(k)"
   ]
  },
  {
   "cell_type": "code",
   "execution_count": 91,
   "id": "284bafa8",
   "metadata": {},
   "outputs": [
    {
     "data": {
      "text/plain": [
       "array([[9, 9],\n",
       "       [9, 9]])"
      ]
     },
     "execution_count": 91,
     "metadata": {},
     "output_type": "execute_result"
    }
   ],
   "source": [
    "kk=np.full((2,2),9)\n",
    "kk"
   ]
  },
  {
   "cell_type": "markdown",
   "id": "5228beec",
   "metadata": {},
   "source": [
    "# Numpy\n",
    "# Mataplotlib\n",
    "# Pandas"
   ]
  },
  {
   "cell_type": "code",
   "execution_count": 6,
   "id": "217bac0c",
   "metadata": {},
   "outputs": [
    {
     "name": "stdout",
     "output_type": "stream",
     "text": [
      "['ALLOW_THREADS', 'AxisError', 'BUFSIZE', 'Bytes0', 'CLIP', 'ComplexWarning', 'DataSource', 'Datetime64', 'ERR_CALL', 'ERR_DEFAULT', 'ERR_IGNORE', 'ERR_LOG', 'ERR_PRINT', 'ERR_RAISE', 'ERR_WARN', 'FLOATING_POINT_SUPPORT', 'FPE_DIVIDEBYZERO', 'FPE_INVALID', 'FPE_OVERFLOW', 'FPE_UNDERFLOW', 'False_', 'Inf', 'Infinity', 'MAXDIMS', 'MAY_SHARE_BOUNDS', 'MAY_SHARE_EXACT', 'MachAr', 'ModuleDeprecationWarning', 'NAN', 'NINF', 'NZERO', 'NaN', 'PINF', 'PZERO', 'RAISE', 'RankWarning', 'SHIFT_DIVIDEBYZERO', 'SHIFT_INVALID', 'SHIFT_OVERFLOW', 'SHIFT_UNDERFLOW', 'ScalarType', 'Str0', 'Tester', 'TooHardError', 'True_', 'UFUNC_BUFSIZE_DEFAULT', 'UFUNC_PYVALS_NAME', 'Uint64', 'VisibleDeprecationWarning', 'WRAP', '_NoValue', '_UFUNC_API', '__NUMPY_SETUP__', '__all__', '__builtins__', '__cached__', '__config__', '__deprecated_attrs__', '__dir__', '__doc__', '__expired_functions__', '__file__', '__getattr__', '__git_revision__', '__loader__', '__mkl_version__', '__name__', '__package__', '__path__', '__spec__', '__version__', '_add_newdoc_ufunc', '_distributor_init', '_financial_names', '_globals', '_mat', '_pytesttester', 'abs', 'absolute', 'add', 'add_docstring', 'add_newdoc', 'add_newdoc_ufunc', 'alen', 'all', 'allclose', 'alltrue', 'amax', 'amin', 'angle', 'any', 'append', 'apply_along_axis', 'apply_over_axes', 'arange', 'arccos', 'arccosh', 'arcsin', 'arcsinh', 'arctan', 'arctan2', 'arctanh', 'argmax', 'argmin', 'argpartition', 'argsort', 'argwhere', 'around', 'array', 'array2string', 'array_equal', 'array_equiv', 'array_repr', 'array_split', 'array_str', 'asanyarray', 'asarray', 'asarray_chkfinite', 'ascontiguousarray', 'asfarray', 'asfortranarray', 'asmatrix', 'asscalar', 'atleast_1d', 'atleast_2d', 'atleast_3d', 'average', 'bartlett', 'base_repr', 'binary_repr', 'bincount', 'bitwise_and', 'bitwise_not', 'bitwise_or', 'bitwise_xor', 'blackman', 'block', 'bmat', 'bool8', 'bool_', 'broadcast', 'broadcast_arrays', 'broadcast_shapes', 'broadcast_to', 'busday_count', 'busday_offset', 'busdaycalendar', 'byte', 'byte_bounds', 'bytes0', 'bytes_', 'c_', 'can_cast', 'cast', 'cbrt', 'cdouble', 'ceil', 'cfloat', 'char', 'character', 'chararray', 'choose', 'clip', 'clongdouble', 'clongfloat', 'column_stack', 'common_type', 'compare_chararrays', 'compat', 'complex128', 'complex64', 'complex_', 'complexfloating', 'compress', 'concatenate', 'conj', 'conjugate', 'convolve', 'copy', 'copysign', 'copyto', 'core', 'corrcoef', 'correlate', 'cos', 'cosh', 'count_nonzero', 'cov', 'cross', 'csingle', 'ctypeslib', 'cumprod', 'cumproduct', 'cumsum', 'datetime64', 'datetime_as_string', 'datetime_data', 'deg2rad', 'degrees', 'delete', 'deprecate', 'deprecate_with_doc', 'diag', 'diag_indices', 'diag_indices_from', 'diagflat', 'diagonal', 'diff', 'digitize', 'disp', 'divide', 'divmod', 'dot', 'double', 'dsplit', 'dstack', 'dtype', 'e', 'ediff1d', 'einsum', 'einsum_path', 'emath', 'empty', 'empty_like', 'equal', 'errstate', 'euler_gamma', 'exp', 'exp2', 'expand_dims', 'expm1', 'extract', 'eye', 'fabs', 'fastCopyAndTranspose', 'fft', 'fill_diagonal', 'find_common_type', 'finfo', 'fix', 'flatiter', 'flatnonzero', 'flexible', 'flip', 'fliplr', 'flipud', 'float16', 'float32', 'float64', 'float_', 'float_power', 'floating', 'floor', 'floor_divide', 'fmax', 'fmin', 'fmod', 'format_float_positional', 'format_float_scientific', 'format_parser', 'frexp', 'frombuffer', 'fromfile', 'fromfunction', 'fromiter', 'frompyfunc', 'fromregex', 'fromstring', 'full', 'full_like', 'gcd', 'generic', 'genfromtxt', 'geomspace', 'get_array_wrap', 'get_include', 'get_printoptions', 'getbufsize', 'geterr', 'geterrcall', 'geterrobj', 'gradient', 'greater', 'greater_equal', 'half', 'hamming', 'hanning', 'heaviside', 'histogram', 'histogram2d', 'histogram_bin_edges', 'histogramdd', 'hsplit', 'hstack', 'hypot', 'i0', 'identity', 'iinfo', 'imag', 'in1d', 'index_exp', 'indices', 'inexact', 'inf', 'info', 'infty', 'inner', 'insert', 'int0', 'int16', 'int32', 'int64', 'int8', 'int_', 'intc', 'integer', 'interp', 'intersect1d', 'intp', 'invert', 'is_busday', 'isclose', 'iscomplex', 'iscomplexobj', 'isfinite', 'isfortran', 'isin', 'isinf', 'isnan', 'isnat', 'isneginf', 'isposinf', 'isreal', 'isrealobj', 'isscalar', 'issctype', 'issubclass_', 'issubdtype', 'issubsctype', 'iterable', 'ix_', 'kaiser', 'kron', 'lcm', 'ldexp', 'left_shift', 'less', 'less_equal', 'lexsort', 'lib', 'linalg', 'linspace', 'little_endian', 'load', 'loads', 'loadtxt', 'log', 'log10', 'log1p', 'log2', 'logaddexp', 'logaddexp2', 'logical_and', 'logical_not', 'logical_or', 'logical_xor', 'logspace', 'longcomplex', 'longdouble', 'longfloat', 'longlong', 'lookfor', 'ma', 'mafromtxt', 'mask_indices', 'mat', 'math', 'matmul', 'matrix', 'matrixlib', 'max', 'maximum', 'maximum_sctype', 'may_share_memory', 'mean', 'median', 'memmap', 'meshgrid', 'mgrid', 'min', 'min_scalar_type', 'minimum', 'mintypecode', 'mkl', 'mod', 'modf', 'moveaxis', 'msort', 'multiply', 'nan', 'nan_to_num', 'nanargmax', 'nanargmin', 'nancumprod', 'nancumsum', 'nanmax', 'nanmean', 'nanmedian', 'nanmin', 'nanpercentile', 'nanprod', 'nanquantile', 'nanstd', 'nansum', 'nanvar', 'nbytes', 'ndarray', 'ndenumerate', 'ndfromtxt', 'ndim', 'ndindex', 'nditer', 'negative', 'nested_iters', 'newaxis', 'nextafter', 'nonzero', 'not_equal', 'numarray', 'number', 'obj2sctype', 'object0', 'object_', 'ogrid', 'oldnumeric', 'ones', 'ones_like', 'os', 'outer', 'packbits', 'pad', 'partition', 'percentile', 'pi', 'piecewise', 'place', 'poly', 'poly1d', 'polyadd', 'polyder', 'polydiv', 'polyfit', 'polyint', 'polymul', 'polynomial', 'polysub', 'polyval', 'positive', 'power', 'printoptions', 'prod', 'product', 'promote_types', 'ptp', 'put', 'put_along_axis', 'putmask', 'quantile', 'r_', 'rad2deg', 'radians', 'random', 'ravel', 'ravel_multi_index', 'real', 'real_if_close', 'rec', 'recarray', 'recfromcsv', 'recfromtxt', 'reciprocal', 'record', 'remainder', 'repeat', 'require', 'reshape', 'resize', 'result_type', 'right_shift', 'rint', 'roll', 'rollaxis', 'roots', 'rot90', 'round', 'round_', 'row_stack', 's_', 'safe_eval', 'save', 'savetxt', 'savez', 'savez_compressed', 'sctype2char', 'sctypeDict', 'sctypes', 'searchsorted', 'select', 'set_numeric_ops', 'set_printoptions', 'set_string_function', 'setbufsize', 'setdiff1d', 'seterr', 'seterrcall', 'seterrobj', 'setxor1d', 'shape', 'shares_memory', 'short', 'show_config', 'sign', 'signbit', 'signedinteger', 'sin', 'sinc', 'single', 'singlecomplex', 'sinh', 'size', 'sometrue', 'sort', 'sort_complex', 'source', 'spacing', 'split', 'sqrt', 'square', 'squeeze', 'stack', 'std', 'str0', 'str_', 'string_', 'subtract', 'sum', 'swapaxes', 'sys', 'take', 'take_along_axis', 'tan', 'tanh', 'tensordot', 'test', 'testing', 'tile', 'timedelta64', 'trace', 'tracemalloc_domain', 'transpose', 'trapz', 'tri', 'tril', 'tril_indices', 'tril_indices_from', 'trim_zeros', 'triu', 'triu_indices', 'triu_indices_from', 'true_divide', 'trunc', 'typeDict', 'typecodes', 'typename', 'ubyte', 'ufunc', 'uint', 'uint0', 'uint16', 'uint32', 'uint64', 'uint8', 'uintc', 'uintp', 'ulonglong', 'unicode_', 'union1d', 'unique', 'unpackbits', 'unravel_index', 'unsignedinteger', 'unwrap', 'use_hugepage', 'ushort', 'vander', 'var', 'vdot', 'vectorize', 'version', 'void', 'void0', 'vsplit', 'vstack', 'warnings', 'where', 'who', 'zeros', 'zeros_like']\n"
     ]
    }
   ],
   "source": [
    "import numpy as np\n",
    "print(dir(np))"
   ]
  },
  {
   "cell_type": "code",
   "execution_count": 2,
   "id": "3d84db14",
   "metadata": {},
   "outputs": [
    {
     "data": {
      "text/plain": [
       "array([1, 2, 3, 4, 5, 6, 7, 8, 9])"
      ]
     },
     "execution_count": 2,
     "metadata": {},
     "output_type": "execute_result"
    }
   ],
   "source": [
    "d=np.arange(1,10)\n",
    "d"
   ]
  },
  {
   "cell_type": "code",
   "execution_count": 7,
   "id": "1d2baa43",
   "metadata": {},
   "outputs": [
    {
     "name": "stdout",
     "output_type": "stream",
     "text": [
      "[5 5 5 5 5 5 5 5 5 5]\n"
     ]
    }
   ],
   "source": [
    "k=np.arange(10)\n",
    "t=np.full_like(k,5) \n",
    "print(t)"
   ]
  },
  {
   "cell_type": "code",
   "execution_count": 8,
   "id": "0749e0d3",
   "metadata": {},
   "outputs": [
    {
     "data": {
      "text/plain": [
       "array([0.76863084, 0.19953108, 0.23726067, 0.28754911, 0.28902714])"
      ]
     },
     "execution_count": 8,
     "metadata": {},
     "output_type": "execute_result"
    }
   ],
   "source": [
    "# rand\n",
    "r=np.random.rand(5)\n",
    "r"
   ]
  },
  {
   "cell_type": "code",
   "execution_count": 9,
   "id": "82600b5a",
   "metadata": {},
   "outputs": [
    {
     "data": {
      "text/plain": [
       "array([[0.02972998, 0.86869746],\n",
       "       [0.74254666, 0.77858356],\n",
       "       [0.34410094, 0.37581669],\n",
       "       [0.39834186, 0.76982049]])"
      ]
     },
     "execution_count": 9,
     "metadata": {},
     "output_type": "execute_result"
    }
   ],
   "source": [
    "r2=np.random.rand(4,2)\n",
    "r2"
   ]
  },
  {
   "cell_type": "code",
   "execution_count": 10,
   "id": "03ce1212",
   "metadata": {},
   "outputs": [
    {
     "data": {
      "text/plain": [
       "array([[1., 0., 0., 0., 0.],\n",
       "       [0., 1., 0., 0., 0.],\n",
       "       [0., 0., 1., 0., 0.],\n",
       "       [0., 0., 0., 1., 0.],\n",
       "       [0., 0., 0., 0., 1.]])"
      ]
     },
     "execution_count": 10,
     "metadata": {},
     "output_type": "execute_result"
    }
   ],
   "source": [
    "i=np.identity(5)\n",
    "i"
   ]
  },
  {
   "cell_type": "code",
   "execution_count": 11,
   "id": "c568805e",
   "metadata": {},
   "outputs": [
    {
     "data": {
      "text/plain": [
       "array([[0, 1],\n",
       "       [2, 3],\n",
       "       [4, 5],\n",
       "       [6, 7],\n",
       "       [8, 9]])"
      ]
     },
     "execution_count": 11,
     "metadata": {},
     "output_type": "execute_result"
    }
   ],
   "source": [
    "rp=np.arange(10).reshape(5,2)\n",
    "rp"
   ]
  },
  {
   "cell_type": "markdown",
   "id": "26d82f9a",
   "metadata": {},
   "source": [
    "# return array use repeat"
   ]
  },
  {
   "cell_type": "code",
   "execution_count": 12,
   "id": "7f6af284",
   "metadata": {},
   "outputs": [
    {
     "data": {
      "text/plain": [
       "array([1, 1, 2, 2, 3, 3])"
      ]
     },
     "execution_count": 12,
     "metadata": {},
     "output_type": "execute_result"
    }
   ],
   "source": [
    "ar=np.array([1,2,3])\n",
    "nr=np.repeat(ar,2)\n",
    "nr"
   ]
  },
  {
   "cell_type": "markdown",
   "id": "61ce66c0",
   "metadata": {},
   "source": [
    "* axis- we will get access 0 data to coloumn\n",
    "* axis- is 1 data to row"
   ]
  },
  {
   "cell_type": "code",
   "execution_count": 16,
   "id": "328f0ac3",
   "metadata": {},
   "outputs": [
    {
     "data": {
      "text/plain": [
       "array([[1, 2, 3],\n",
       "       [1, 2, 3],\n",
       "       [1, 2, 3],\n",
       "       [1, 2, 3],\n",
       "       [1, 2, 3]])"
      ]
     },
     "execution_count": 16,
     "metadata": {},
     "output_type": "execute_result"
    }
   ],
   "source": [
    "ar=np.array([[1,2,3]])\n",
    "nr=np.repeat(ar,5,axis=0)\n",
    "nr"
   ]
  },
  {
   "cell_type": "code",
   "execution_count": 17,
   "id": "0e329d63",
   "metadata": {},
   "outputs": [
    {
     "data": {
      "text/plain": [
       "array([[1, 1, 1, 1, 1, 2, 2, 2, 2, 2, 3, 3, 3, 3, 3]])"
      ]
     },
     "execution_count": 17,
     "metadata": {},
     "output_type": "execute_result"
    }
   ],
   "source": [
    "ar=np.array([[1,2,3]])\n",
    "nr=np.repeat(ar,5,axis=1)\n",
    "nr"
   ]
  },
  {
   "cell_type": "code",
   "execution_count": 18,
   "id": "f03c4285",
   "metadata": {},
   "outputs": [
    {
     "data": {
      "text/plain": [
       "array([], shape=(0, 1), dtype=int32)"
      ]
     },
     "execution_count": 18,
     "metadata": {},
     "output_type": "execute_result"
    }
   ],
   "source": [
    "ar[1:-1,1:-1]"
   ]
  },
  {
   "cell_type": "code",
   "execution_count": 19,
   "id": "482662a7",
   "metadata": {},
   "outputs": [
    {
     "data": {
      "text/plain": [
       "array([[1, 1, 1, 1, 1, 2, 2, 2, 2, 2, 3, 3, 3, 3, 3]])"
      ]
     },
     "execution_count": 19,
     "metadata": {},
     "output_type": "execute_result"
    }
   ],
   "source": [
    "nr"
   ]
  },
  {
   "cell_type": "code",
   "execution_count": 20,
   "id": "3ec988c9",
   "metadata": {},
   "outputs": [
    {
     "data": {
      "text/plain": [
       "array([[0, 1],\n",
       "       [2, 3],\n",
       "       [4, 5],\n",
       "       [6, 7],\n",
       "       [8, 9]])"
      ]
     },
     "execution_count": 20,
     "metadata": {},
     "output_type": "execute_result"
    }
   ],
   "source": [
    "rp=np.arange(10).reshape(5,2)\n",
    "rp"
   ]
  },
  {
   "cell_type": "code",
   "execution_count": 21,
   "id": "ba398da2",
   "metadata": {},
   "outputs": [
    {
     "name": "stdout",
     "output_type": "stream",
     "text": [
      "[[10  1]\n",
      " [ 2  3]\n",
      " [ 4  5]\n",
      " [ 6  7]\n",
      " [ 8  9]]\n"
     ]
    }
   ],
   "source": [
    "rp[0,0]=10\n",
    "print(rp)"
   ]
  },
  {
   "cell_type": "code",
   "execution_count": 22,
   "id": "91575406",
   "metadata": {},
   "outputs": [
    {
     "name": "stdout",
     "output_type": "stream",
     "text": [
      "[ 0  1  2  3  4  5  6  7  8  9 10 11 12 13 14 15 16 17 18 19]\n"
     ]
    }
   ],
   "source": [
    "# copy- copies the array\n",
    "cp=np.arange(20)\n",
    "b=cp.copy()\n",
    "print(b)"
   ]
  },
  {
   "cell_type": "code",
   "execution_count": 24,
   "id": "360de55f",
   "metadata": {},
   "outputs": [],
   "source": [
    "m=np.arange(20)"
   ]
  },
  {
   "cell_type": "code",
   "execution_count": 25,
   "id": "2ea54799",
   "metadata": {},
   "outputs": [
    {
     "data": {
      "text/plain": [
       "array([ 2,  3,  4,  5,  6,  7,  8,  9, 10, 11, 12, 13, 14, 15, 16, 17, 18,\n",
       "       19, 20, 21])"
      ]
     },
     "execution_count": 25,
     "metadata": {},
     "output_type": "execute_result"
    }
   ],
   "source": [
    "m+2"
   ]
  },
  {
   "cell_type": "code",
   "execution_count": 26,
   "id": "e10c7de7",
   "metadata": {},
   "outputs": [
    {
     "data": {
      "text/plain": [
       "array([ 0,  2,  4,  6,  8, 10, 12, 14, 16, 18, 20, 22, 24, 26, 28, 30, 32,\n",
       "       34, 36, 38])"
      ]
     },
     "execution_count": 26,
     "metadata": {},
     "output_type": "execute_result"
    }
   ],
   "source": [
    "m*2"
   ]
  },
  {
   "cell_type": "code",
   "execution_count": 27,
   "id": "cc536cc7",
   "metadata": {},
   "outputs": [
    {
     "data": {
      "text/plain": [
       "array([0. , 0.5, 1. , 1.5, 2. , 2.5, 3. , 3.5, 4. , 4.5, 5. , 5.5, 6. ,\n",
       "       6.5, 7. , 7.5, 8. , 8.5, 9. , 9.5])"
      ]
     },
     "execution_count": 27,
     "metadata": {},
     "output_type": "execute_result"
    }
   ],
   "source": [
    "m/2"
   ]
  },
  {
   "cell_type": "code",
   "execution_count": 28,
   "id": "a0eb4792",
   "metadata": {},
   "outputs": [
    {
     "data": {
      "text/plain": [
       "array([  0,   1,   4,   9,  16,  25,  36,  49,  64,  81, 100, 121, 144,\n",
       "       169, 196, 225, 256, 289, 324, 361], dtype=int32)"
      ]
     },
     "execution_count": 28,
     "metadata": {},
     "output_type": "execute_result"
    }
   ],
   "source": [
    "m**2"
   ]
  },
  {
   "cell_type": "code",
   "execution_count": 29,
   "id": "391274d4",
   "metadata": {},
   "outputs": [
    {
     "data": {
      "text/plain": [
       "array([-2, -1,  0,  1,  2,  3,  4,  5,  6,  7,  8,  9, 10, 11, 12, 13, 14,\n",
       "       15, 16, 17])"
      ]
     },
     "execution_count": 29,
     "metadata": {},
     "output_type": "execute_result"
    }
   ],
   "source": [
    "m-2"
   ]
  },
  {
   "cell_type": "code",
   "execution_count": 31,
   "id": "f82b53c3",
   "metadata": {},
   "outputs": [
    {
     "data": {
      "text/plain": [
       "array([[3, 3, 3, 3],\n",
       "       [3, 3, 3, 3],\n",
       "       [3, 3, 3, 3],\n",
       "       [3, 3, 3, 3]])"
      ]
     },
     "execution_count": 31,
     "metadata": {},
     "output_type": "execute_result"
    }
   ],
   "source": [
    "b=np.full((4,4),3)\n",
    "b"
   ]
  },
  {
   "cell_type": "code",
   "execution_count": 33,
   "id": "80bc4a9a",
   "metadata": {},
   "outputs": [
    {
     "data": {
      "text/plain": [
       "0"
      ]
     },
     "execution_count": 33,
     "metadata": {},
     "output_type": "execute_result"
    }
   ],
   "source": [
    "sd=np.arange(100)\n",
    "sd.min()"
   ]
  },
  {
   "cell_type": "code",
   "execution_count": 34,
   "id": "db344ead",
   "metadata": {},
   "outputs": [
    {
     "data": {
      "text/plain": [
       "99"
      ]
     },
     "execution_count": 34,
     "metadata": {},
     "output_type": "execute_result"
    }
   ],
   "source": [
    "sd.max()"
   ]
  },
  {
   "cell_type": "code",
   "execution_count": 35,
   "id": "6bd186f1",
   "metadata": {},
   "outputs": [
    {
     "data": {
      "text/plain": [
       "28.86607004772212"
      ]
     },
     "execution_count": 35,
     "metadata": {},
     "output_type": "execute_result"
    }
   ],
   "source": [
    "sd.std()"
   ]
  },
  {
   "cell_type": "code",
   "execution_count": 36,
   "id": "c53ac30f",
   "metadata": {},
   "outputs": [
    {
     "data": {
      "text/plain": [
       "49.5"
      ]
     },
     "execution_count": 36,
     "metadata": {},
     "output_type": "execute_result"
    }
   ],
   "source": [
    "sd.mean()"
   ]
  },
  {
   "cell_type": "code",
   "execution_count": 37,
   "id": "6a387ea5",
   "metadata": {},
   "outputs": [
    {
     "data": {
      "text/plain": [
       "array([[ 0,  1,  2,  3,  4],\n",
       "       [ 5,  6,  7,  8,  9],\n",
       "       [10, 11, 12, 13, 14],\n",
       "       [15, 16, 17, 18, 19]])"
      ]
     },
     "execution_count": 37,
     "metadata": {},
     "output_type": "execute_result"
    }
   ],
   "source": [
    "sd1=np.arange(20).reshape(4,5)\n",
    "sd1"
   ]
  },
  {
   "cell_type": "code",
   "execution_count": 38,
   "id": "3e9a459b",
   "metadata": {},
   "outputs": [
    {
     "data": {
      "text/plain": [
       "array([ 4,  9, 14, 19])"
      ]
     },
     "execution_count": 38,
     "metadata": {},
     "output_type": "execute_result"
    }
   ],
   "source": [
    "sd1.max(axis=1)"
   ]
  },
  {
   "cell_type": "code",
   "execution_count": 39,
   "id": "a84a38ca",
   "metadata": {},
   "outputs": [
    {
     "data": {
      "text/plain": [
       "array([15, 16, 17, 18, 19])"
      ]
     },
     "execution_count": 39,
     "metadata": {},
     "output_type": "execute_result"
    }
   ],
   "source": [
    "sd1.max(axis=0)"
   ]
  },
  {
   "cell_type": "code",
   "execution_count": 41,
   "id": "a3b682b3",
   "metadata": {},
   "outputs": [
    {
     "name": "stdout",
     "output_type": "stream",
     "text": [
      "[[0]\n",
      " [1]\n",
      " [2]\n",
      " [3]\n",
      " [4]]\n",
      "[10 11 12 13 14]\n"
     ]
    }
   ],
   "source": [
    "v1=np.arange(5)\n",
    "v2=np.arange(10,15)\n",
    "print(np.vstack(v1))\n",
    "print(np.hstack(v2))"
   ]
  },
  {
   "cell_type": "code",
   "execution_count": 43,
   "id": "038a8266",
   "metadata": {},
   "outputs": [
    {
     "data": {
      "text/plain": [
       "array([ True,  True,  True,  True,  True])"
      ]
     },
     "execution_count": 43,
     "metadata": {},
     "output_type": "execute_result"
    }
   ],
   "source": [
    "# to check values into higher and lower\n",
    "v2>v1"
   ]
  },
  {
   "cell_type": "markdown",
   "id": "79d74b60",
   "metadata": {},
   "source": [
    "# Mataplotlib\n",
    "* visualize of data"
   ]
  },
  {
   "cell_type": "code",
   "execution_count": 45,
   "id": "f7dd488f",
   "metadata": {},
   "outputs": [],
   "source": [
    "import numpy as np\n",
    "import matplotlib.pyplot as plt"
   ]
  },
  {
   "cell_type": "code",
   "execution_count": 46,
   "id": "e83b9f38",
   "metadata": {},
   "outputs": [
    {
     "data": {
      "text/plain": [
       "[<matplotlib.lines.Line2D at 0x1b4c956bbe0>]"
      ]
     },
     "execution_count": 46,
     "metadata": {},
     "output_type": "execute_result"
    },
    {
     "data": {
      "image/png": "[encoded data removed]",
      "text/plain": [
       "<Figure size 432x288 with 1 Axes>"
      ]
     },
     "metadata": {
      "needs_background": "light"
     },
     "output_type": "display_data"
    }
   ],
   "source": [
    "gp=np.arange(10)\n",
    "plt.plot(gp)"
   ]
  },
  {
   "cell_type": "code",
   "execution_count": 50,
   "id": "13601ae9",
   "metadata": {},
   "outputs": [
    {
     "data": {
      "text/plain": [
       "[<matplotlib.lines.Line2D at 0x1b4c9719070>]"
      ]
     },
     "execution_count": 50,
     "metadata": {},
     "output_type": "execute_result"
    },
    {
     "data": {
      "image/png": "[encoded data removed]",
      "text/plain": [
       "<Figure size 432x288 with 1 Axes>"
      ]
     },
     "metadata": {
      "needs_background": "light"
     },
     "output_type": "display_data"
    }
   ],
   "source": [
    "gp=np.arange(10)\n",
    "gp2=np.arange(20,30)\n",
    "plt.plot(gp)\n",
    "plt.plot(gp2)"
   ]
  },
  {
   "cell_type": "code",
   "execution_count": 51,
   "id": "22b6b7d5",
   "metadata": {},
   "outputs": [
    {
     "data": {
      "image/png": "[encoded data removed]",
      "text/plain": [
       "<Figure size 432x288 with 1 Axes>"
      ]
     },
     "metadata": {
      "needs_background": "light"
     },
     "output_type": "display_data"
    }
   ],
   "source": [
    "n=np.arange(5)\n",
    "n2=np.arange(5)\n",
    "plt.plot(n,n2)\n",
    "plt.show()"
   ]
  },
  {
   "cell_type": "code",
   "execution_count": 52,
   "id": "fa3af660",
   "metadata": {},
   "outputs": [
    {
     "data": {
      "image/png": "[encoded data removed]",
      "text/plain": [
       "<Figure size 432x288 with 1 Axes>"
      ]
     },
     "metadata": {
      "needs_background": "light"
     },
     "output_type": "display_data"
    }
   ],
   "source": [
    "n=np.arange(5)\n",
    "n2=np.arange(5)\n",
    "n11=np.arange(5,10)\n",
    "n22=np.arange(5,10)\n",
    "plt.plot(n,n2)\n",
    "plt.plot(n11,n22)\n",
    "plt.show()"
   ]
  },
  {
   "cell_type": "code",
   "execution_count": 53,
   "id": "e6af33d2",
   "metadata": {},
   "outputs": [
    {
     "data": {
      "image/png": "[encoded data removed]",
      "text/plain": [
       "<Figure size 432x288 with 1 Axes>"
      ]
     },
     "metadata": {
      "needs_background": "light"
     },
     "output_type": "display_data"
    }
   ],
   "source": [
    "n=np.arange(5)\n",
    "n2=np.arange(5)\n",
    "n11=np.arange(5,10)\n",
    "n22=np.arange(5,10)\n",
    "plt.plot(n,n2,linestyle=\"--\",c=\"g\")\n",
    "plt.plot(n11,n22,linestyle=\"--\",c=\"r\")\n",
    "plt.show()"
   ]
  },
  {
   "cell_type": "code",
   "execution_count": 56,
   "id": "ae14e6dc",
   "metadata": {},
   "outputs": [
    {
     "data": {
      "image/png": "[encoded data removed]",
      "text/plain": [
       "<Figure size 432x288 with 1 Axes>"
      ]
     },
     "metadata": {
      "needs_background": "light"
     },
     "output_type": "display_data"
    }
   ],
   "source": [
    "n=np.arange(5)\n",
    "n2=np.arange(5)\n",
    "n11=np.arange(5,10)\n",
    "n22=np.arange(5,10)\n",
    "plt.plot(n,n2,linestyle=\"--\",c=\"g\")\n",
    "plt.plot(n11,n22,linestyle=\"--\",c=\"r\")\n",
    "plt.xlabel(\"x-values\")\n",
    "plt.ylabel(\"y-values\")\n",
    "plt.title(\"my graph\")\n",
    "plt.savefig(\"graph.jpg\")\n",
    "plt.show()"
   ]
  },
  {
   "cell_type": "code",
   "execution_count": 58,
   "id": "fb5b4383",
   "metadata": {},
   "outputs": [
    {
     "data": {
      "image/png": "[encoded data removed]",
      "text/plain": [
       "<Figure size 432x288 with 1 Axes>"
      ]
     },
     "metadata": {
      "needs_background": "light"
     },
     "output_type": "display_data"
    }
   ],
   "source": [
    "br=np.arange(7)\n",
    "br2=np.arange(20,27)\n",
    "plt.bar(br,br2)\n",
    "plt.title(\"my graph\")\n",
    "plt.savefig(\"bar.jpg\")"
   ]
  },
  {
   "cell_type": "code",
   "execution_count": 61,
   "id": "45e5f78f",
   "metadata": {},
   "outputs": [
    {
     "data": {
      "text/plain": [
       "(array([1., 1., 1., 1., 1., 1., 1., 1., 2.]),\n",
       " array([0, 1, 2, 3, 4, 5, 6, 7, 8, 9]),\n",
       " <BarContainer object of 9 artists>)"
      ]
     },
     "execution_count": 61,
     "metadata": {},
     "output_type": "execute_result"
    },
    {
     "data": {
      "image/png": "[encoded data removed]",
      "text/plain": [
       "<Figure size 432x288 with 1 Axes>"
      ]
     },
     "metadata": {
      "needs_background": "light"
     },
     "output_type": "display_data"
    }
   ],
   "source": [
    "nh=np.arange(10)\n",
    "nh2=np.arange(10)\n",
    "plt.hist(nh,nh2)"
   ]
  },
  {
   "cell_type": "code",
   "execution_count": 62,
   "id": "2ae96a5a",
   "metadata": {},
   "outputs": [
    {
     "data": {
      "text/plain": [
       "(array([1., 1., 1., 1., 1., 1., 1., 1., 2.]),\n",
       " array([10, 11, 12, 13, 14, 15, 16, 17, 18, 19]),\n",
       " <BarContainer object of 9 artists>)"
      ]
     },
     "execution_count": 62,
     "metadata": {},
     "output_type": "execute_result"
    },
    {
     "data": {
      "image/png": "[encoded data removed]",
      "text/plain": [
       "<Figure size 432x288 with 1 Axes>"
      ]
     },
     "metadata": {
      "needs_background": "light"
     },
     "output_type": "display_data"
    }
   ],
   "source": [
    "nh=np.arange(10,20)\n",
    "nh2=np.arange(10,20)\n",
    "plt.hist(nh,nh2)"
   ]
  },
  {
   "cell_type": "code",
   "execution_count": 63,
   "id": "c12ef029",
   "metadata": {},
   "outputs": [
    {
     "data": {
      "text/plain": [
       "(array([1., 1., 1., 1., 1., 1., 1., 1., 1., 1.]),\n",
       " array([10. , 10.9, 11.8, 12.7, 13.6, 14.5, 15.4, 16.3, 17.2, 18.1, 19. ]),\n",
       " <BarContainer object of 10 artists>)"
      ]
     },
     "execution_count": 63,
     "metadata": {},
     "output_type": "execute_result"
    },
    {
     "data": {
      "image/png": "[encoded data removed]",
      "text/plain": [
       "<Figure size 432x288 with 1 Axes>"
      ]
     },
     "metadata": {
      "needs_background": "light"
     },
     "output_type": "display_data"
    }
   ],
   "source": [
    "nh=np.arange(10,20)\n",
    "nh2=np.arange(10,20)\n",
    "plt.hist(nh)"
   ]
  },
  {
   "cell_type": "code",
   "execution_count": 68,
   "id": "74e13300",
   "metadata": {},
   "outputs": [
    {
     "data": {
      "image/png": "[encoded data removed]",
      "text/plain": [
       "<Figure size 432x288 with 1 Axes>"
      ]
     },
     "metadata": {
      "needs_background": "light"
     },
     "output_type": "display_data"
    }
   ],
   "source": [
    "x=np.random.randn(200)\n",
    "y=np.random.randn(200)\n",
    "plt.scatter(x,y,c=\"r\")\n",
    "plt.xlabel(\"x-values\")\n",
    "plt.ylabel(\"y-values\")\n",
    "plt.title(\"my scatter\")\n",
    "plt.savefig(\"Scatter.jpg\")"
   ]
  },
  {
   "cell_type": "code",
   "execution_count": 71,
   "id": "59e168c8",
   "metadata": {},
   "outputs": [
    {
     "data": {
      "image/png": "[encoded data removed]",
      "text/plain": [
       "<Figure size 432x288 with 1 Axes>"
      ]
     },
     "metadata": {},
     "output_type": "display_data"
    }
   ],
   "source": [
    "sub=[\"LCS\",\"EMTL\",\"CAO\",\"AC\",\"ECA\",\"MOB\"]\n",
    "ex=[\"70\",\"60\",\"80\",\"55\",\"95\",\"75\"]\n",
    "plt.pie(ex,labels=sub,shadow=\"True\")\n",
    "plt.show()"
   ]
  },
  {
   "cell_type": "markdown",
   "id": "9e9613fe",
   "metadata": {},
   "source": [
    "# Pandas\n",
    "* It is a python library\n",
    "* data selection\n",
    "* reading data\n",
    "* writing data\n",
    "* use data indexing"
   ]
  },
  {
   "cell_type": "code",
   "execution_count": 72,
   "id": "51f40248",
   "metadata": {},
   "outputs": [],
   "source": [
    "import pandas as pd\n",
    "# Series"
   ]
  },
  {
   "cell_type": "code",
   "execution_count": 75,
   "id": "c8e8eaff",
   "metadata": {},
   "outputs": [
    {
     "name": "stdout",
     "output_type": "stream",
     "text": [
      "<class 'list'>\n"
     ]
    }
   ],
   "source": [
    "sa=[1,3,5,7,9,11,13]\n",
    "print(type(sa))"
   ]
  },
  {
   "cell_type": "code",
   "execution_count": 77,
   "id": "3214176b",
   "metadata": {},
   "outputs": [
    {
     "data": {
      "text/plain": [
       "0     1\n",
       "1     3\n",
       "2     5\n",
       "3     7\n",
       "4     9\n",
       "5    11\n",
       "6    13\n",
       "dtype: int64"
      ]
     },
     "execution_count": 77,
     "metadata": {},
     "output_type": "execute_result"
    }
   ],
   "source": [
    "sa=pd.Series([1,3,5,7,9,11,13])\n",
    "sa"
   ]
  },
  {
   "cell_type": "code",
   "execution_count": 78,
   "id": "567bca39",
   "metadata": {},
   "outputs": [
    {
     "data": {
      "text/plain": [
       "array([ 1,  3,  5,  7,  9, 11, 13], dtype=int64)"
      ]
     },
     "execution_count": 78,
     "metadata": {},
     "output_type": "execute_result"
    }
   ],
   "source": [
    "sa.values"
   ]
  },
  {
   "cell_type": "code",
   "execution_count": 80,
   "id": "791f2780",
   "metadata": {},
   "outputs": [
    {
     "name": "stdout",
     "output_type": "stream",
     "text": [
      "RangeIndex(start=0, stop=7, step=1)\n"
     ]
    }
   ],
   "source": [
    "print(sa.index)"
   ]
  },
  {
   "cell_type": "code",
   "execution_count": 81,
   "id": "a61ea529",
   "metadata": {},
   "outputs": [],
   "source": [
    "s2=pd.Series([5,  7,  9, 11, 13],index=[\"a\",\"b\",\"c\",\"d\",\"e\"])"
   ]
  },
  {
   "cell_type": "code",
   "execution_count": 82,
   "id": "4679b9df",
   "metadata": {},
   "outputs": [
    {
     "data": {
      "text/plain": [
       "a     5\n",
       "b     7\n",
       "c     9\n",
       "d    11\n",
       "e    13\n",
       "dtype: int64"
      ]
     },
     "execution_count": 82,
     "metadata": {},
     "output_type": "execute_result"
    }
   ],
   "source": [
    "s2"
   ]
  },
  {
   "cell_type": "code",
   "execution_count": 85,
   "id": "6c49dbb6",
   "metadata": {},
   "outputs": [
    {
     "data": {
      "text/plain": [
       "True"
      ]
     },
     "execution_count": 85,
     "metadata": {},
     "output_type": "execute_result"
    }
   ],
   "source": [
    "s2[4]==s2[\"e\"]"
   ]
  },
  {
   "cell_type": "code",
   "execution_count": 86,
   "id": "76d920d2",
   "metadata": {},
   "outputs": [
    {
     "data": {
      "text/plain": [
       "c     9\n",
       "d    11\n",
       "e    13\n",
       "dtype: int64"
      ]
     },
     "execution_count": 86,
     "metadata": {},
     "output_type": "execute_result"
    }
   ],
   "source": [
    "s2[s2>7]"
   ]
  },
  {
   "cell_type": "code",
   "execution_count": 87,
   "id": "1a189b44",
   "metadata": {},
   "outputs": [
    {
     "data": {
      "text/plain": [
       "c     9\n",
       "d    11\n",
       "dtype: int64"
      ]
     },
     "execution_count": 87,
     "metadata": {},
     "output_type": "execute_result"
    }
   ],
   "source": [
    "s2[[\"c\",\"d\"]]"
   ]
  },
  {
   "cell_type": "code",
   "execution_count": 88,
   "id": "e9266242",
   "metadata": {},
   "outputs": [
    {
     "data": {
      "text/plain": [
       "c    9\n",
       "dtype: int64"
      ]
     },
     "execution_count": 88,
     "metadata": {},
     "output_type": "execute_result"
    }
   ],
   "source": [
    "s2[[\"c\"]]"
   ]
  },
  {
   "cell_type": "code",
   "execution_count": 89,
   "id": "fb2eb847",
   "metadata": {},
   "outputs": [
    {
     "data": {
      "text/plain": [
       "c    18\n",
       "d    22\n",
       "dtype: int64"
      ]
     },
     "execution_count": 89,
     "metadata": {},
     "output_type": "execute_result"
    }
   ],
   "source": [
    "s2[[\"c\",\"d\"]]*2"
   ]
  },
  {
   "cell_type": "code",
   "execution_count": 90,
   "id": "f99f705d",
   "metadata": {},
   "outputs": [],
   "source": [
    "dc={\"Name\":\"Vedha\",\"Role\":\"Student\",\"College\":\"VIEW\",\"Y\":\"2\"}"
   ]
  },
  {
   "cell_type": "code",
   "execution_count": 91,
   "id": "3c5e2f6c",
   "metadata": {},
   "outputs": [],
   "source": [
    "s3=pd.Series(dc)"
   ]
  },
  {
   "cell_type": "code",
   "execution_count": 92,
   "id": "3fb2df9c",
   "metadata": {},
   "outputs": [
    {
     "data": {
      "text/plain": [
       "Name         Vedha\n",
       "Role       Student\n",
       "College       VIEW\n",
       "Y                2\n",
       "dtype: object"
      ]
     },
     "execution_count": 92,
     "metadata": {},
     "output_type": "execute_result"
    }
   ],
   "source": [
    "s3"
   ]
  },
  {
   "cell_type": "code",
   "execution_count": 93,
   "id": "f9d941b1",
   "metadata": {},
   "outputs": [],
   "source": [
    "ind=[\"1\",\"2\",\"3\",\"4\",\"5\"]\n",
    "slt=pd.Series(dc,index=ind)"
   ]
  },
  {
   "cell_type": "code",
   "execution_count": 97,
   "id": "52c78a82",
   "metadata": {},
   "outputs": [
    {
     "data": {
      "text/plain": [
       "1    True\n",
       "2    True\n",
       "3    True\n",
       "4    True\n",
       "5    True\n",
       "dtype: bool"
      ]
     },
     "execution_count": 97,
     "metadata": {},
     "output_type": "execute_result"
    }
   ],
   "source": [
    "pd.isnull(slt)"
   ]
  },
  {
   "cell_type": "code",
   "execution_count": 1,
   "id": "3a42f497",
   "metadata": {},
   "outputs": [],
   "source": [
    "# data frames\n",
    "## tabular data like rows and columns\n",
    "## 2"
   ]
  },
  {
   "cell_type": "code",
   "execution_count": 2,
   "id": "4d218a5a",
   "metadata": {},
   "outputs": [],
   "source": [
    "import numpy as np\n",
    "from pandas import DataFrame"
   ]
  },
  {
   "cell_type": "code",
   "execution_count": 7,
   "id": "f3d611f2",
   "metadata": {},
   "outputs": [
    {
     "data": {
      "text/html": [
       "<div>\n",
       "<style scoped>\n",
       "    .dataframe tbody tr th:only-of-type {\n",
       "        vertical-align: middle;\n",
       "    }\n",
       "\n",
       "    .dataframe tbody tr th {\n",
       "        vertical-align: top;\n",
       "    }\n",
       "\n",
       "    .dataframe thead th {\n",
       "        text-align: right;\n",
       "    }\n",
       "</style>\n",
       "<table border=\"1\" class=\"dataframe\">\n",
       "  <thead>\n",
       "    <tr style=\"text-align: right;\">\n",
       "      <th></th>\n",
       "      <th>Name</th>\n",
       "      <th>Branch</th>\n",
       "      <th>RNo</th>\n",
       "    </tr>\n",
       "  </thead>\n",
       "  <tbody>\n",
       "    <tr>\n",
       "      <th>0</th>\n",
       "      <td>Vedha</td>\n",
       "      <td>ECE</td>\n",
       "      <td>449</td>\n",
       "    </tr>\n",
       "    <tr>\n",
       "      <th>1</th>\n",
       "      <td>Usha</td>\n",
       "      <td>ECE</td>\n",
       "      <td>488</td>\n",
       "    </tr>\n",
       "    <tr>\n",
       "      <th>2</th>\n",
       "      <td>Bindu</td>\n",
       "      <td>CSE</td>\n",
       "      <td>557</td>\n",
       "    </tr>\n",
       "    <tr>\n",
       "      <th>3</th>\n",
       "      <td>Veda</td>\n",
       "      <td>ECE</td>\n",
       "      <td>467</td>\n",
       "    </tr>\n",
       "  </tbody>\n",
       "</table>\n",
       "</div>"
      ],
      "text/plain": [
       "    Name Branch  RNo\n",
       "0  Vedha    ECE  449\n",
       "1   Usha    ECE  488\n",
       "2  Bindu    CSE  557\n",
       "3   Veda    ECE  467"
      ]
     },
     "execution_count": 7,
     "metadata": {},
     "output_type": "execute_result"
    }
   ],
   "source": [
    "data={\n",
    "    \"Name\":[\"Vedha\",\"Usha\",\"Bindu\",\"Veda\"],\n",
    "    \"Branch\":[\"ECE\",\"ECE\",\"CSE\",\"ECE\"],\n",
    "    \"RNo\":[449,488,557,467]\n",
    "}\n",
    "da1=DataFrame(data)\n",
    "da1"
   ]
  },
  {
   "cell_type": "code",
   "execution_count": 8,
   "id": "74f9ab02",
   "metadata": {},
   "outputs": [
    {
     "data": {
      "text/plain": [
       "0    Vedha\n",
       "1     Usha\n",
       "2    Bindu\n",
       "3     Veda\n",
       "Name: Name, dtype: object"
      ]
     },
     "execution_count": 8,
     "metadata": {},
     "output_type": "execute_result"
    }
   ],
   "source": [
    "da1[\"Name\"]"
   ]
  },
  {
   "cell_type": "code",
   "execution_count": 9,
   "id": "09e7cff0",
   "metadata": {},
   "outputs": [
    {
     "data": {
      "text/plain": [
       "0    ECE\n",
       "1    ECE\n",
       "2    CSE\n",
       "3    ECE\n",
       "Name: Branch, dtype: object"
      ]
     },
     "execution_count": 9,
     "metadata": {},
     "output_type": "execute_result"
    }
   ],
   "source": [
    "da1[\"Branch\"]"
   ]
  },
  {
   "cell_type": "code",
   "execution_count": 17,
   "id": "71a11db4",
   "metadata": {},
   "outputs": [],
   "source": [
    "d2=DataFrame(da1,columns=[\"Name\",\"Branch\",\"RNo\",\"Marks\"])"
   ]
  },
  {
   "cell_type": "code",
   "execution_count": 18,
   "id": "fc64c1d4",
   "metadata": {},
   "outputs": [
    {
     "data": {
      "text/html": [
       "<div>\n",
       "<style scoped>\n",
       "    .dataframe tbody tr th:only-of-type {\n",
       "        vertical-align: middle;\n",
       "    }\n",
       "\n",
       "    .dataframe tbody tr th {\n",
       "        vertical-align: top;\n",
       "    }\n",
       "\n",
       "    .dataframe thead th {\n",
       "        text-align: right;\n",
       "    }\n",
       "</style>\n",
       "<table border=\"1\" class=\"dataframe\">\n",
       "  <thead>\n",
       "    <tr style=\"text-align: right;\">\n",
       "      <th></th>\n",
       "      <th>Name</th>\n",
       "      <th>Branch</th>\n",
       "      <th>RNo</th>\n",
       "      <th>Marks</th>\n",
       "    </tr>\n",
       "  </thead>\n",
       "  <tbody>\n",
       "    <tr>\n",
       "      <th>0</th>\n",
       "      <td>Vedha</td>\n",
       "      <td>ECE</td>\n",
       "      <td>449</td>\n",
       "      <td>NaN</td>\n",
       "    </tr>\n",
       "    <tr>\n",
       "      <th>1</th>\n",
       "      <td>Usha</td>\n",
       "      <td>ECE</td>\n",
       "      <td>488</td>\n",
       "      <td>NaN</td>\n",
       "    </tr>\n",
       "    <tr>\n",
       "      <th>2</th>\n",
       "      <td>Bindu</td>\n",
       "      <td>CSE</td>\n",
       "      <td>557</td>\n",
       "      <td>NaN</td>\n",
       "    </tr>\n",
       "    <tr>\n",
       "      <th>3</th>\n",
       "      <td>Veda</td>\n",
       "      <td>ECE</td>\n",
       "      <td>467</td>\n",
       "      <td>NaN</td>\n",
       "    </tr>\n",
       "  </tbody>\n",
       "</table>\n",
       "</div>"
      ],
      "text/plain": [
       "    Name Branch  RNo  Marks\n",
       "0  Vedha    ECE  449    NaN\n",
       "1   Usha    ECE  488    NaN\n",
       "2  Bindu    CSE  557    NaN\n",
       "3   Veda    ECE  467    NaN"
      ]
     },
     "execution_count": 18,
     "metadata": {},
     "output_type": "execute_result"
    }
   ],
   "source": [
    "d2"
   ]
  },
  {
   "cell_type": "code",
   "execution_count": 19,
   "id": "3bd33abe",
   "metadata": {},
   "outputs": [
    {
     "data": {
      "text/html": [
       "<div>\n",
       "<style scoped>\n",
       "    .dataframe tbody tr th:only-of-type {\n",
       "        vertical-align: middle;\n",
       "    }\n",
       "\n",
       "    .dataframe tbody tr th {\n",
       "        vertical-align: top;\n",
       "    }\n",
       "\n",
       "    .dataframe thead th {\n",
       "        text-align: right;\n",
       "    }\n",
       "</style>\n",
       "<table border=\"1\" class=\"dataframe\">\n",
       "  <thead>\n",
       "    <tr style=\"text-align: right;\">\n",
       "      <th></th>\n",
       "      <th>Name</th>\n",
       "      <th>Branch</th>\n",
       "      <th>RNo</th>\n",
       "      <th>Marks</th>\n",
       "    </tr>\n",
       "  </thead>\n",
       "  <tbody>\n",
       "    <tr>\n",
       "      <th>0</th>\n",
       "      <td>False</td>\n",
       "      <td>False</td>\n",
       "      <td>False</td>\n",
       "      <td>True</td>\n",
       "    </tr>\n",
       "    <tr>\n",
       "      <th>1</th>\n",
       "      <td>False</td>\n",
       "      <td>False</td>\n",
       "      <td>False</td>\n",
       "      <td>True</td>\n",
       "    </tr>\n",
       "    <tr>\n",
       "      <th>2</th>\n",
       "      <td>False</td>\n",
       "      <td>False</td>\n",
       "      <td>False</td>\n",
       "      <td>True</td>\n",
       "    </tr>\n",
       "    <tr>\n",
       "      <th>3</th>\n",
       "      <td>False</td>\n",
       "      <td>False</td>\n",
       "      <td>False</td>\n",
       "      <td>True</td>\n",
       "    </tr>\n",
       "  </tbody>\n",
       "</table>\n",
       "</div>"
      ],
      "text/plain": [
       "    Name  Branch    RNo  Marks\n",
       "0  False   False  False   True\n",
       "1  False   False  False   True\n",
       "2  False   False  False   True\n",
       "3  False   False  False   True"
      ]
     },
     "execution_count": 19,
     "metadata": {},
     "output_type": "execute_result"
    }
   ],
   "source": [
    "d2.isnull()"
   ]
  },
  {
   "cell_type": "code",
   "execution_count": 20,
   "id": "86d28125",
   "metadata": {},
   "outputs": [],
   "source": [
    "d2[\"Marks\"]=np.arange(4)"
   ]
  },
  {
   "cell_type": "code",
   "execution_count": 21,
   "id": "b9bc2ee6",
   "metadata": {},
   "outputs": [
    {
     "data": {
      "text/html": [
       "<div>\n",
       "<style scoped>\n",
       "    .dataframe tbody tr th:only-of-type {\n",
       "        vertical-align: middle;\n",
       "    }\n",
       "\n",
       "    .dataframe tbody tr th {\n",
       "        vertical-align: top;\n",
       "    }\n",
       "\n",
       "    .dataframe thead th {\n",
       "        text-align: right;\n",
       "    }\n",
       "</style>\n",
       "<table border=\"1\" class=\"dataframe\">\n",
       "  <thead>\n",
       "    <tr style=\"text-align: right;\">\n",
       "      <th></th>\n",
       "      <th>Name</th>\n",
       "      <th>Branch</th>\n",
       "      <th>RNo</th>\n",
       "      <th>Marks</th>\n",
       "    </tr>\n",
       "  </thead>\n",
       "  <tbody>\n",
       "    <tr>\n",
       "      <th>0</th>\n",
       "      <td>Vedha</td>\n",
       "      <td>ECE</td>\n",
       "      <td>449</td>\n",
       "      <td>0</td>\n",
       "    </tr>\n",
       "    <tr>\n",
       "      <th>1</th>\n",
       "      <td>Usha</td>\n",
       "      <td>ECE</td>\n",
       "      <td>488</td>\n",
       "      <td>1</td>\n",
       "    </tr>\n",
       "    <tr>\n",
       "      <th>2</th>\n",
       "      <td>Bindu</td>\n",
       "      <td>CSE</td>\n",
       "      <td>557</td>\n",
       "      <td>2</td>\n",
       "    </tr>\n",
       "    <tr>\n",
       "      <th>3</th>\n",
       "      <td>Veda</td>\n",
       "      <td>ECE</td>\n",
       "      <td>467</td>\n",
       "      <td>3</td>\n",
       "    </tr>\n",
       "  </tbody>\n",
       "</table>\n",
       "</div>"
      ],
      "text/plain": [
       "    Name Branch  RNo  Marks\n",
       "0  Vedha    ECE  449      0\n",
       "1   Usha    ECE  488      1\n",
       "2  Bindu    CSE  557      2\n",
       "3   Veda    ECE  467      3"
      ]
     },
     "execution_count": 21,
     "metadata": {},
     "output_type": "execute_result"
    }
   ],
   "source": [
    "d2"
   ]
  },
  {
   "cell_type": "code",
   "execution_count": 22,
   "id": "24991f78",
   "metadata": {},
   "outputs": [
    {
     "data": {
      "text/plain": [
       "Name      Bindu\n",
       "Branch      CSE\n",
       "RNo         449\n",
       "Marks         0\n",
       "dtype: object"
      ]
     },
     "execution_count": 22,
     "metadata": {},
     "output_type": "execute_result"
    }
   ],
   "source": [
    "d2.min()"
   ]
  },
  {
   "cell_type": "code",
   "execution_count": 23,
   "id": "116354a3",
   "metadata": {},
   "outputs": [
    {
     "data": {
      "text/plain": [
       "Name      Vedha\n",
       "Branch      ECE\n",
       "RNo         557\n",
       "Marks         3\n",
       "dtype: object"
      ]
     },
     "execution_count": 23,
     "metadata": {},
     "output_type": "execute_result"
    }
   ],
   "source": [
    "d2.max()"
   ]
  },
  {
   "cell_type": "code",
   "execution_count": 24,
   "id": "ba5507ae",
   "metadata": {},
   "outputs": [
    {
     "data": {
      "text/plain": [
       "<bound method DataFrame.info of     Name Branch  RNo  Marks\n",
       "0  Vedha    ECE  449      0\n",
       "1   Usha    ECE  488      1\n",
       "2  Bindu    CSE  557      2\n",
       "3   Veda    ECE  467      3>"
      ]
     },
     "execution_count": 24,
     "metadata": {},
     "output_type": "execute_result"
    }
   ],
   "source": [
    "d2.info"
   ]
  },
  {
   "cell_type": "code",
   "execution_count": 25,
   "id": "a944d433",
   "metadata": {},
   "outputs": [
    {
     "data": {
      "text/html": [
       "<div>\n",
       "<style scoped>\n",
       "    .dataframe tbody tr th:only-of-type {\n",
       "        vertical-align: middle;\n",
       "    }\n",
       "\n",
       "    .dataframe tbody tr th {\n",
       "        vertical-align: top;\n",
       "    }\n",
       "\n",
       "    .dataframe thead th {\n",
       "        text-align: right;\n",
       "    }\n",
       "</style>\n",
       "<table border=\"1\" class=\"dataframe\">\n",
       "  <thead>\n",
       "    <tr style=\"text-align: right;\">\n",
       "      <th></th>\n",
       "      <th>RNo</th>\n",
       "      <th>Marks</th>\n",
       "    </tr>\n",
       "  </thead>\n",
       "  <tbody>\n",
       "    <tr>\n",
       "      <th>count</th>\n",
       "      <td>4.000000</td>\n",
       "      <td>4.000000</td>\n",
       "    </tr>\n",
       "    <tr>\n",
       "      <th>mean</th>\n",
       "      <td>490.250000</td>\n",
       "      <td>1.500000</td>\n",
       "    </tr>\n",
       "    <tr>\n",
       "      <th>std</th>\n",
       "      <td>47.267854</td>\n",
       "      <td>1.290994</td>\n",
       "    </tr>\n",
       "    <tr>\n",
       "      <th>min</th>\n",
       "      <td>449.000000</td>\n",
       "      <td>0.000000</td>\n",
       "    </tr>\n",
       "    <tr>\n",
       "      <th>25%</th>\n",
       "      <td>462.500000</td>\n",
       "      <td>0.750000</td>\n",
       "    </tr>\n",
       "    <tr>\n",
       "      <th>50%</th>\n",
       "      <td>477.500000</td>\n",
       "      <td>1.500000</td>\n",
       "    </tr>\n",
       "    <tr>\n",
       "      <th>75%</th>\n",
       "      <td>505.250000</td>\n",
       "      <td>2.250000</td>\n",
       "    </tr>\n",
       "    <tr>\n",
       "      <th>max</th>\n",
       "      <td>557.000000</td>\n",
       "      <td>3.000000</td>\n",
       "    </tr>\n",
       "  </tbody>\n",
       "</table>\n",
       "</div>"
      ],
      "text/plain": [
       "              RNo     Marks\n",
       "count    4.000000  4.000000\n",
       "mean   490.250000  1.500000\n",
       "std     47.267854  1.290994\n",
       "min    449.000000  0.000000\n",
       "25%    462.500000  0.750000\n",
       "50%    477.500000  1.500000\n",
       "75%    505.250000  2.250000\n",
       "max    557.000000  3.000000"
      ]
     },
     "execution_count": 25,
     "metadata": {},
     "output_type": "execute_result"
    }
   ],
   "source": [
    "d2.describe()"
   ]
  },
  {
   "cell_type": "code",
   "execution_count": 29,
   "id": "f49d8e0f",
   "metadata": {},
   "outputs": [
    {
     "data": {
      "text/html": [
       "<div>\n",
       "<style scoped>\n",
       "    .dataframe tbody tr th:only-of-type {\n",
       "        vertical-align: middle;\n",
       "    }\n",
       "\n",
       "    .dataframe tbody tr th {\n",
       "        vertical-align: top;\n",
       "    }\n",
       "\n",
       "    .dataframe thead th {\n",
       "        text-align: right;\n",
       "    }\n",
       "</style>\n",
       "<table border=\"1\" class=\"dataframe\">\n",
       "  <thead>\n",
       "    <tr style=\"text-align: right;\">\n",
       "      <th></th>\n",
       "      <th>Name</th>\n",
       "      <th>Branch</th>\n",
       "      <th>RNo</th>\n",
       "      <th>Marks</th>\n",
       "    </tr>\n",
       "  </thead>\n",
       "  <tbody>\n",
       "    <tr>\n",
       "      <th>0</th>\n",
       "      <td>Vedha</td>\n",
       "      <td>ECE</td>\n",
       "      <td>449</td>\n",
       "      <td>0</td>\n",
       "    </tr>\n",
       "    <tr>\n",
       "      <th>1</th>\n",
       "      <td>Usha</td>\n",
       "      <td>ECE</td>\n",
       "      <td>488</td>\n",
       "      <td>1</td>\n",
       "    </tr>\n",
       "    <tr>\n",
       "      <th>2</th>\n",
       "      <td>Bindu</td>\n",
       "      <td>CSE</td>\n",
       "      <td>557</td>\n",
       "      <td>2</td>\n",
       "    </tr>\n",
       "  </tbody>\n",
       "</table>\n",
       "</div>"
      ],
      "text/plain": [
       "    Name Branch  RNo  Marks\n",
       "0  Vedha    ECE  449      0\n",
       "1   Usha    ECE  488      1\n",
       "2  Bindu    CSE  557      2"
      ]
     },
     "execution_count": 29,
     "metadata": {},
     "output_type": "execute_result"
    }
   ],
   "source": [
    "d2.head(3)"
   ]
  },
  {
   "cell_type": "code",
   "execution_count": 28,
   "id": "54e22355",
   "metadata": {},
   "outputs": [
    {
     "data": {
      "text/html": [
       "<div>\n",
       "<style scoped>\n",
       "    .dataframe tbody tr th:only-of-type {\n",
       "        vertical-align: middle;\n",
       "    }\n",
       "\n",
       "    .dataframe tbody tr th {\n",
       "        vertical-align: top;\n",
       "    }\n",
       "\n",
       "    .dataframe thead th {\n",
       "        text-align: right;\n",
       "    }\n",
       "</style>\n",
       "<table border=\"1\" class=\"dataframe\">\n",
       "  <thead>\n",
       "    <tr style=\"text-align: right;\">\n",
       "      <th></th>\n",
       "      <th>Name</th>\n",
       "      <th>Branch</th>\n",
       "      <th>RNo</th>\n",
       "      <th>Marks</th>\n",
       "    </tr>\n",
       "  </thead>\n",
       "  <tbody>\n",
       "    <tr>\n",
       "      <th>2</th>\n",
       "      <td>Bindu</td>\n",
       "      <td>CSE</td>\n",
       "      <td>557</td>\n",
       "      <td>2</td>\n",
       "    </tr>\n",
       "    <tr>\n",
       "      <th>3</th>\n",
       "      <td>Veda</td>\n",
       "      <td>ECE</td>\n",
       "      <td>467</td>\n",
       "      <td>3</td>\n",
       "    </tr>\n",
       "  </tbody>\n",
       "</table>\n",
       "</div>"
      ],
      "text/plain": [
       "    Name Branch  RNo  Marks\n",
       "2  Bindu    CSE  557      2\n",
       "3   Veda    ECE  467      3"
      ]
     },
     "execution_count": 28,
     "metadata": {},
     "output_type": "execute_result"
    }
   ],
   "source": [
    "d2.tail(2)"
   ]
  },
  {
   "cell_type": "code",
   "execution_count": 30,
   "id": "69c06a89",
   "metadata": {},
   "outputs": [
    {
     "data": {
      "text/plain": [
       "'C:\\\\Users\\\\ESWER\\\\Desktop\\\\PYTHON VIEW'"
      ]
     },
     "execution_count": 30,
     "metadata": {},
     "output_type": "execute_result"
    }
   ],
   "source": [
    "pwd()"
   ]
  },
  {
   "cell_type": "code",
   "execution_count": 31,
   "id": "454466dc",
   "metadata": {},
   "outputs": [
    {
     "name": "stdout",
     "output_type": "stream",
     "text": [
      " Volume in drive C has no label.\n",
      " Volume Serial Number is 7E43-9A0F\n",
      "\n",
      " Directory of C:\\Users\\ESWER\\Desktop\\PYTHON VIEW\n",
      "\n",
      "12-06-2021  13:45    <DIR>          .\n",
      "12-06-2021  13:45    <DIR>          ..\n",
      "07-06-2021  13:06    <DIR>          .ipynb_checkpoints\n",
      "10-06-2021  13:35    <DIR>          __pycache__\n",
      "07-06-2021  13:26           156,967 25-5-2021.ipynb\n",
      "12-06-2021  13:45           222,807 7-6-2021.ipynb\n",
      "11-06-2021  14:25            21,049 bar.jpg\n",
      "07-06-2021  14:48                40 data.txt\n",
      "08-06-2021  14:02                 0 data0.txt\n",
      "08-06-2021  14:02                 0 data1.txt\n",
      "08-06-2021  14:02                 0 data10.txt\n",
      "08-06-2021  14:02                 0 data11.txt\n",
      "08-06-2021  14:02                 0 data12.txt\n",
      "08-06-2021  14:02                 0 data13.txt\n",
      "08-06-2021  14:02                 0 data14.txt\n",
      "08-06-2021  14:02                 0 data15.txt\n",
      "08-06-2021  14:02                 0 data16.txt\n",
      "08-06-2021  14:02                 0 data17.txt\n",
      "08-06-2021  14:02                 0 data18.txt\n",
      "08-06-2021  14:02                 0 data19.txt\n",
      "08-06-2021  14:02                 0 data2.txt\n",
      "08-06-2021  14:02                 0 data20.txt\n",
      "08-06-2021  14:02                 0 data21.txt\n",
      "08-06-2021  14:02                 0 data22.txt\n",
      "08-06-2021  14:02                 0 data23.txt\n",
      "08-06-2021  14:02                 0 data24.txt\n",
      "08-06-2021  14:02                 0 data25.txt\n",
      "08-06-2021  14:02                 0 data26.txt\n",
      "08-06-2021  14:02                 0 data27.txt\n",
      "08-06-2021  14:02                 0 data28.txt\n",
      "08-06-2021  14:02                 0 data29.txt\n",
      "08-06-2021  14:02                 0 data3.txt\n",
      "08-06-2021  14:02                 0 data30.txt\n",
      "08-06-2021  14:02                 0 data31.txt\n",
      "08-06-2021  14:02                 0 data32.txt\n",
      "08-06-2021  14:02                 0 data33.txt\n",
      "08-06-2021  14:02                 0 data34.txt\n",
      "08-06-2021  14:02                 0 data35.txt\n",
      "08-06-2021  14:02                 0 data36.txt\n",
      "08-06-2021  14:02                 0 data37.txt\n",
      "08-06-2021  14:02                 0 data38.txt\n",
      "08-06-2021  14:02                 0 data39.txt\n",
      "08-06-2021  14:02                 0 data4.txt\n",
      "08-06-2021  14:02                 0 data40.txt\n",
      "08-06-2021  14:02                 0 data41.txt\n",
      "08-06-2021  14:02                 0 data42.txt\n",
      "08-06-2021  14:02                 0 data43.txt\n",
      "08-06-2021  14:02                 0 data44.txt\n",
      "08-06-2021  14:02                 0 data45.txt\n",
      "08-06-2021  14:02                 0 data46.txt\n",
      "08-06-2021  14:02                 0 data47.txt\n",
      "08-06-2021  14:02                 0 data48.txt\n",
      "08-06-2021  14:02                 0 data49.txt\n",
      "08-06-2021  14:02                 0 data5.txt\n",
      "08-06-2021  14:02                 0 data50.txt\n",
      "08-06-2021  14:02                 0 data51.txt\n",
      "08-06-2021  14:02                 0 data52.txt\n",
      "08-06-2021  14:02                 0 data53.txt\n",
      "08-06-2021  14:02                 0 data54.txt\n",
      "08-06-2021  14:02                 0 data55.txt\n",
      "08-06-2021  14:02                 0 data56.txt\n",
      "08-06-2021  14:02                 0 data57.txt\n",
      "08-06-2021  14:02                 0 data58.txt\n",
      "08-06-2021  14:02                 0 data59.txt\n",
      "08-06-2021  14:02                 0 data6.txt\n",
      "08-06-2021  14:02                 0 data60.txt\n",
      "08-06-2021  14:02                 0 data61.txt\n",
      "08-06-2021  14:02                 0 data62.txt\n",
      "08-06-2021  14:02                 0 data63.txt\n",
      "08-06-2021  14:02                 0 data64.txt\n",
      "08-06-2021  14:02                 0 data65.txt\n",
      "08-06-2021  14:02                 0 data66.txt\n",
      "08-06-2021  14:02                 0 data67.txt\n",
      "08-06-2021  14:02                 0 data68.txt\n",
      "08-06-2021  14:02                 0 data69.txt\n",
      "08-06-2021  14:02                 0 data7.txt\n",
      "08-06-2021  14:02                 0 data70.txt\n",
      "08-06-2021  14:02                 0 data71.txt\n",
      "08-06-2021  14:02                 0 data72.txt\n",
      "08-06-2021  14:02                 0 data73.txt\n",
      "08-06-2021  14:02                 0 data74.txt\n",
      "08-06-2021  14:02                 0 data75.txt\n",
      "08-06-2021  14:02                 0 data76.txt\n",
      "08-06-2021  14:02                 0 data77.txt\n",
      "08-06-2021  14:02                 0 data78.txt\n",
      "08-06-2021  14:02                 0 data79.txt\n",
      "08-06-2021  14:02                 0 data8.txt\n",
      "08-06-2021  14:02                 0 data80.txt\n",
      "08-06-2021  14:02                 0 data81.txt\n",
      "08-06-2021  14:02                 0 data82.txt\n",
      "08-06-2021  14:02                 0 data83.txt\n",
      "08-06-2021  14:02                 0 data84.txt\n",
      "08-06-2021  14:02                 0 data85.txt\n",
      "08-06-2021  14:02                 0 data86.txt\n",
      "08-06-2021  14:02                 0 data87.txt\n",
      "08-06-2021  14:02                 0 data88.txt\n",
      "08-06-2021  14:02                 0 data89.txt\n",
      "08-06-2021  14:02                 0 data9.txt\n",
      "08-06-2021  14:02                 0 data90.txt\n",
      "08-06-2021  14:02                 0 data91.txt\n",
      "08-06-2021  14:02                 0 data92.txt\n",
      "08-06-2021  14:02                 0 data93.txt\n",
      "08-06-2021  14:02                 0 data94.txt\n",
      "08-06-2021  14:02                 0 data95.txt\n",
      "08-06-2021  14:02                 0 data96.txt\n",
      "08-06-2021  14:02                 0 data97.txt\n",
      "08-06-2021  14:02                 0 data98.txt\n",
      "08-06-2021  14:02                 0 data99.txt\n",
      "11-06-2021  14:22            13,851 graph.jpg\n",
      "08-06-2021  13:40               397 marks.txt\n",
      "07-06-2021  15:15                87 module.py\n",
      "10-06-2021  15:13               181 oops.py\n",
      "26-05-2021  13:38             2,456 puppy.jpg\n",
      "11-06-2021  14:36            35,078 Scatter.jpg\n",
      "11-06-2021  14:35            34,268 Sctter.jpg\n",
      "12-06-2021  13:32            19,517 Students.xlsx\n",
      "03-06-2021  13:06                72 Untitled1.ipynb\n",
      "             113 File(s)        506,770 bytes\n",
      "               4 Dir(s)   7,933,386,752 bytes free\n"
     ]
    }
   ],
   "source": [
    "ls"
   ]
  },
  {
   "cell_type": "code",
   "execution_count": 32,
   "id": "74fa2308",
   "metadata": {},
   "outputs": [
    {
     "name": "stdout",
     "output_type": "stream",
     "text": [
      " Volume in drive C has no label.\n",
      " Volume Serial Number is 7E43-9A0F\n",
      "\n",
      " Directory of C:\\Users\\ESWER\\Desktop\\PYTHON VIEW\n",
      "\n",
      "12-06-2021  13:46    <DIR>          .\n",
      "12-06-2021  13:46    <DIR>          ..\n",
      "07-06-2021  13:06    <DIR>          .ipynb_checkpoints\n",
      "10-06-2021  13:35    <DIR>          __pycache__\n",
      "07-06-2021  13:26           156,967 25-5-2021.ipynb\n",
      "12-06-2021  13:45           222,807 7-6-2021.ipynb\n",
      "11-06-2021  14:25            21,049 bar.jpg\n",
      "07-06-2021  14:48                40 data.txt\n",
      "08-06-2021  14:02                 0 data0.txt\n",
      "08-06-2021  14:02                 0 data1.txt\n",
      "08-06-2021  14:02                 0 data10.txt\n",
      "08-06-2021  14:02                 0 data11.txt\n",
      "08-06-2021  14:02                 0 data12.txt\n",
      "08-06-2021  14:02                 0 data13.txt\n",
      "08-06-2021  14:02                 0 data14.txt\n",
      "08-06-2021  14:02                 0 data15.txt\n",
      "08-06-2021  14:02                 0 data16.txt\n",
      "08-06-2021  14:02                 0 data17.txt\n",
      "08-06-2021  14:02                 0 data18.txt\n",
      "08-06-2021  14:02                 0 data19.txt\n",
      "08-06-2021  14:02                 0 data2.txt\n",
      "08-06-2021  14:02                 0 data20.txt\n",
      "08-06-2021  14:02                 0 data21.txt\n",
      "08-06-2021  14:02                 0 data22.txt\n",
      "08-06-2021  14:02                 0 data23.txt\n",
      "08-06-2021  14:02                 0 data24.txt\n",
      "08-06-2021  14:02                 0 data25.txt\n",
      "08-06-2021  14:02                 0 data26.txt\n",
      "08-06-2021  14:02                 0 data27.txt\n",
      "08-06-2021  14:02                 0 data28.txt\n",
      "08-06-2021  14:02                 0 data29.txt\n",
      "08-06-2021  14:02                 0 data3.txt\n",
      "08-06-2021  14:02                 0 data30.txt\n",
      "08-06-2021  14:02                 0 data31.txt\n",
      "08-06-2021  14:02                 0 data32.txt\n",
      "08-06-2021  14:02                 0 data33.txt\n",
      "08-06-2021  14:02                 0 data34.txt\n",
      "08-06-2021  14:02                 0 data35.txt\n",
      "08-06-2021  14:02                 0 data36.txt\n",
      "08-06-2021  14:02                 0 data37.txt\n",
      "08-06-2021  14:02                 0 data38.txt\n",
      "08-06-2021  14:02                 0 data39.txt\n",
      "08-06-2021  14:02                 0 data4.txt\n",
      "08-06-2021  14:02                 0 data40.txt\n",
      "08-06-2021  14:02                 0 data41.txt\n",
      "08-06-2021  14:02                 0 data42.txt\n",
      "08-06-2021  14:02                 0 data43.txt\n",
      "08-06-2021  14:02                 0 data44.txt\n",
      "08-06-2021  14:02                 0 data45.txt\n",
      "08-06-2021  14:02                 0 data46.txt\n",
      "08-06-2021  14:02                 0 data47.txt\n",
      "08-06-2021  14:02                 0 data48.txt\n",
      "08-06-2021  14:02                 0 data49.txt\n",
      "08-06-2021  14:02                 0 data5.txt\n",
      "08-06-2021  14:02                 0 data50.txt\n",
      "08-06-2021  14:02                 0 data51.txt\n",
      "08-06-2021  14:02                 0 data52.txt\n",
      "08-06-2021  14:02                 0 data53.txt\n",
      "08-06-2021  14:02                 0 data54.txt\n",
      "08-06-2021  14:02                 0 data55.txt\n",
      "08-06-2021  14:02                 0 data56.txt\n",
      "08-06-2021  14:02                 0 data57.txt\n",
      "08-06-2021  14:02                 0 data58.txt\n",
      "08-06-2021  14:02                 0 data59.txt\n",
      "08-06-2021  14:02                 0 data6.txt\n",
      "08-06-2021  14:02                 0 data60.txt\n",
      "08-06-2021  14:02                 0 data61.txt\n",
      "08-06-2021  14:02                 0 data62.txt\n",
      "08-06-2021  14:02                 0 data63.txt\n",
      "08-06-2021  14:02                 0 data64.txt\n",
      "08-06-2021  14:02                 0 data65.txt\n",
      "08-06-2021  14:02                 0 data66.txt\n",
      "08-06-2021  14:02                 0 data67.txt\n",
      "08-06-2021  14:02                 0 data68.txt\n",
      "08-06-2021  14:02                 0 data69.txt\n",
      "08-06-2021  14:02                 0 data7.txt\n",
      "08-06-2021  14:02                 0 data70.txt\n",
      "08-06-2021  14:02                 0 data71.txt\n",
      "08-06-2021  14:02                 0 data72.txt\n",
      "08-06-2021  14:02                 0 data73.txt\n",
      "08-06-2021  14:02                 0 data74.txt\n",
      "08-06-2021  14:02                 0 data75.txt\n",
      "08-06-2021  14:02                 0 data76.txt\n",
      "08-06-2021  14:02                 0 data77.txt\n",
      "08-06-2021  14:02                 0 data78.txt\n",
      "08-06-2021  14:02                 0 data79.txt\n",
      "08-06-2021  14:02                 0 data8.txt\n",
      "08-06-2021  14:02                 0 data80.txt\n",
      "08-06-2021  14:02                 0 data81.txt\n",
      "08-06-2021  14:02                 0 data82.txt\n",
      "08-06-2021  14:02                 0 data83.txt\n",
      "08-06-2021  14:02                 0 data84.txt\n",
      "08-06-2021  14:02                 0 data85.txt\n",
      "08-06-2021  14:02                 0 data86.txt\n",
      "08-06-2021  14:02                 0 data87.txt\n",
      "08-06-2021  14:02                 0 data88.txt\n",
      "08-06-2021  14:02                 0 data89.txt\n",
      "08-06-2021  14:02                 0 data9.txt\n",
      "08-06-2021  14:02                 0 data90.txt\n",
      "08-06-2021  14:02                 0 data91.txt\n",
      "08-06-2021  14:02                 0 data92.txt\n",
      "08-06-2021  14:02                 0 data93.txt\n",
      "08-06-2021  14:02                 0 data94.txt\n",
      "08-06-2021  14:02                 0 data95.txt\n",
      "08-06-2021  14:02                 0 data96.txt\n",
      "08-06-2021  14:02                 0 data97.txt\n",
      "08-06-2021  14:02                 0 data98.txt\n",
      "08-06-2021  14:02                 0 data99.txt\n",
      "11-06-2021  14:22            13,851 graph.jpg\n",
      "08-06-2021  13:40               397 marks.txt\n",
      "07-06-2021  15:15                87 module.py\n",
      "10-06-2021  15:13               181 oops.py\n",
      "26-05-2021  13:38             2,456 puppy.jpg\n",
      "11-06-2021  14:36            35,078 Scatter.jpg\n",
      "11-06-2021  14:35            34,268 Sctter.jpg\n",
      "12-06-2021  13:32            19,517 Students.xlsx\n",
      "03-06-2021  13:06                72 Untitled1.ipynb\n",
      "             113 File(s)        506,770 bytes\n",
      "               4 Dir(s)   7,931,170,816 bytes free\n"
     ]
    }
   ],
   "source": [
    "ls"
   ]
  },
  {
   "cell_type": "code",
   "execution_count": 66,
   "id": "525b390f",
   "metadata": {},
   "outputs": [
    {
     "data": {
      "text/html": [
       "<div>\n",
       "<style scoped>\n",
       "    .dataframe tbody tr th:only-of-type {\n",
       "        vertical-align: middle;\n",
       "    }\n",
       "\n",
       "    .dataframe tbody tr th {\n",
       "        vertical-align: top;\n",
       "    }\n",
       "\n",
       "    .dataframe thead th {\n",
       "        text-align: right;\n",
       "    }\n",
       "</style>\n",
       "<table border=\"1\" class=\"dataframe\">\n",
       "  <thead>\n",
       "    <tr style=\"text-align: right;\">\n",
       "      <th></th>\n",
       "      <th>Roll Number</th>\n",
       "      <th>Name</th>\n",
       "      <th>Telugu</th>\n",
       "      <th>English</th>\n",
       "      <th>Hindi</th>\n",
       "      <th>Scocial</th>\n",
       "      <th>Science</th>\n",
       "      <th>Maths</th>\n",
       "      <th>Total</th>\n",
       "      <th>Grade</th>\n",
       "    </tr>\n",
       "  </thead>\n",
       "  <tbody>\n",
       "    <tr>\n",
       "      <th>0</th>\n",
       "      <td>19NM1A0402</td>\n",
       "      <td>ADDAGARLA GURUNADHA SAI LIKHITA SIVANI</td>\n",
       "      <td>11</td>\n",
       "      <td>57</td>\n",
       "      <td>46</td>\n",
       "      <td>49</td>\n",
       "      <td>9</td>\n",
       "      <td>7</td>\n",
       "      <td>179</td>\n",
       "      <td>FAIL</td>\n",
       "    </tr>\n",
       "    <tr>\n",
       "      <th>1</th>\n",
       "      <td>19NM1A0403</td>\n",
       "      <td>AGARAPU VINEETHA KUMARI</td>\n",
       "      <td>97</td>\n",
       "      <td>77</td>\n",
       "      <td>78</td>\n",
       "      <td>60</td>\n",
       "      <td>44</td>\n",
       "      <td>32</td>\n",
       "      <td>388</td>\n",
       "      <td>PASS</td>\n",
       "    </tr>\n",
       "    <tr>\n",
       "      <th>2</th>\n",
       "      <td>19NM1A0404</td>\n",
       "      <td>ALAMURI SREE POORNIMA</td>\n",
       "      <td>23</td>\n",
       "      <td>73</td>\n",
       "      <td>26</td>\n",
       "      <td>39</td>\n",
       "      <td>67</td>\n",
       "      <td>34</td>\n",
       "      <td>262</td>\n",
       "      <td>PASS</td>\n",
       "    </tr>\n",
       "    <tr>\n",
       "      <th>3</th>\n",
       "      <td>19NM1A0407</td>\n",
       "      <td>AMARAPINNI ASHA SHINEE</td>\n",
       "      <td>78</td>\n",
       "      <td>27</td>\n",
       "      <td>28</td>\n",
       "      <td>28</td>\n",
       "      <td>37</td>\n",
       "      <td>33</td>\n",
       "      <td>231</td>\n",
       "      <td>PASS</td>\n",
       "    </tr>\n",
       "    <tr>\n",
       "      <th>4</th>\n",
       "      <td>19NM1A0409</td>\n",
       "      <td>ATHMAKURI BHARGAVI</td>\n",
       "      <td>35</td>\n",
       "      <td>56</td>\n",
       "      <td>48</td>\n",
       "      <td>1</td>\n",
       "      <td>59</td>\n",
       "      <td>16</td>\n",
       "      <td>215</td>\n",
       "      <td>PASS</td>\n",
       "    </tr>\n",
       "    <tr>\n",
       "      <th>...</th>\n",
       "      <td>...</td>\n",
       "      <td>...</td>\n",
       "      <td>...</td>\n",
       "      <td>...</td>\n",
       "      <td>...</td>\n",
       "      <td>...</td>\n",
       "      <td>...</td>\n",
       "      <td>...</td>\n",
       "      <td>...</td>\n",
       "      <td>...</td>\n",
       "    </tr>\n",
       "    <tr>\n",
       "      <th>175</th>\n",
       "      <td>20NM5A0304</td>\n",
       "      <td>KORUPOLU AISWARYA</td>\n",
       "      <td>47</td>\n",
       "      <td>1</td>\n",
       "      <td>4</td>\n",
       "      <td>4</td>\n",
       "      <td>62</td>\n",
       "      <td>83</td>\n",
       "      <td>201</td>\n",
       "      <td>PASS</td>\n",
       "    </tr>\n",
       "    <tr>\n",
       "      <th>176</th>\n",
       "      <td>20NM5A0305</td>\n",
       "      <td>LEENASRI NAKKA</td>\n",
       "      <td>67</td>\n",
       "      <td>47</td>\n",
       "      <td>96</td>\n",
       "      <td>67</td>\n",
       "      <td>31</td>\n",
       "      <td>84</td>\n",
       "      <td>392</td>\n",
       "      <td>PASS</td>\n",
       "    </tr>\n",
       "    <tr>\n",
       "      <th>177</th>\n",
       "      <td>20NM5A0306</td>\n",
       "      <td>SEEKU HARSHA DEEPIKA</td>\n",
       "      <td>92</td>\n",
       "      <td>82</td>\n",
       "      <td>32</td>\n",
       "      <td>83</td>\n",
       "      <td>13</td>\n",
       "      <td>28</td>\n",
       "      <td>330</td>\n",
       "      <td>PASS</td>\n",
       "    </tr>\n",
       "    <tr>\n",
       "      <th>178</th>\n",
       "      <td>20NM5A0307</td>\n",
       "      <td>Shabana</td>\n",
       "      <td>71</td>\n",
       "      <td>2</td>\n",
       "      <td>2</td>\n",
       "      <td>81</td>\n",
       "      <td>68</td>\n",
       "      <td>32</td>\n",
       "      <td>256</td>\n",
       "      <td>PASS</td>\n",
       "    </tr>\n",
       "    <tr>\n",
       "      <th>179</th>\n",
       "      <td>20NM5A0309</td>\n",
       "      <td>TAGARAMPUDI GREESHMA</td>\n",
       "      <td>69</td>\n",
       "      <td>76</td>\n",
       "      <td>90</td>\n",
       "      <td>50</td>\n",
       "      <td>8</td>\n",
       "      <td>47</td>\n",
       "      <td>340</td>\n",
       "      <td>PASS</td>\n",
       "    </tr>\n",
       "  </tbody>\n",
       "</table>\n",
       "<p>180 rows × 10 columns</p>\n",
       "</div>"
      ],
      "text/plain": [
       "    Roll Number                                    Name  Telugu  English   \\\n",
       "0    19NM1A0402  ADDAGARLA GURUNADHA SAI LIKHITA SIVANI      11        57   \n",
       "1    19NM1A0403                 AGARAPU VINEETHA KUMARI      97        77   \n",
       "2    19NM1A0404                   ALAMURI SREE POORNIMA      23        73   \n",
       "3    19NM1A0407                  AMARAPINNI ASHA SHINEE      78        27   \n",
       "4    19NM1A0409                      ATHMAKURI BHARGAVI      35        56   \n",
       "..          ...                                     ...     ...       ...   \n",
       "175  20NM5A0304                       KORUPOLU AISWARYA      47         1   \n",
       "176  20NM5A0305                          LEENASRI NAKKA      67        47   \n",
       "177  20NM5A0306                    SEEKU HARSHA DEEPIKA      92        82   \n",
       "178  20NM5A0307                                 Shabana      71         2   \n",
       "179  20NM5A0309                    TAGARAMPUDI GREESHMA      69        76   \n",
       "\n",
       "     Hindi  Scocial   Science  Maths  Total Grade  \n",
       "0       46        49        9      7    179  FAIL  \n",
       "1       78        60       44     32    388  PASS  \n",
       "2       26        39       67     34    262  PASS  \n",
       "3       28        28       37     33    231  PASS  \n",
       "4       48         1       59     16    215  PASS  \n",
       "..     ...       ...      ...    ...    ...   ...  \n",
       "175      4         4       62     83    201  PASS  \n",
       "176     96        67       31     84    392  PASS  \n",
       "177     32        83       13     28    330  PASS  \n",
       "178      2        81       68     32    256  PASS  \n",
       "179     90        50        8     47    340  PASS  \n",
       "\n",
       "[180 rows x 10 columns]"
      ]
     },
     "execution_count": 66,
     "metadata": {},
     "output_type": "execute_result"
    }
   ],
   "source": [
    "import pandas as pd\n",
    "r=pd.read_csv(\"marks.csv\")\n",
    "r"
   ]
  },
  {
   "cell_type": "code",
   "execution_count": 35,
   "id": "7b7fac16",
   "metadata": {},
   "outputs": [
    {
     "data": {
      "text/html": [
       "<div>\n",
       "<style scoped>\n",
       "    .dataframe tbody tr th:only-of-type {\n",
       "        vertical-align: middle;\n",
       "    }\n",
       "\n",
       "    .dataframe tbody tr th {\n",
       "        vertical-align: top;\n",
       "    }\n",
       "\n",
       "    .dataframe thead th {\n",
       "        text-align: right;\n",
       "    }\n",
       "</style>\n",
       "<table border=\"1\" class=\"dataframe\">\n",
       "  <thead>\n",
       "    <tr style=\"text-align: right;\">\n",
       "      <th></th>\n",
       "      <th>Roll Number</th>\n",
       "      <th>Name</th>\n",
       "      <th>Telugu</th>\n",
       "      <th>English</th>\n",
       "      <th>Hindi</th>\n",
       "      <th>Scocial</th>\n",
       "      <th>Science</th>\n",
       "      <th>Maths</th>\n",
       "      <th>Total</th>\n",
       "      <th>Grade</th>\n",
       "    </tr>\n",
       "  </thead>\n",
       "  <tbody>\n",
       "    <tr>\n",
       "      <th>0</th>\n",
       "      <td>19NM1A0402</td>\n",
       "      <td>ADDAGARLA GURUNADHA SAI LIKHITA SIVANI</td>\n",
       "      <td>87</td>\n",
       "      <td>64</td>\n",
       "      <td>6</td>\n",
       "      <td>79</td>\n",
       "      <td>64</td>\n",
       "      <td>2</td>\n",
       "      <td>302</td>\n",
       "      <td>PASS</td>\n",
       "    </tr>\n",
       "    <tr>\n",
       "      <th>1</th>\n",
       "      <td>19NM1A0403</td>\n",
       "      <td>AGARAPU VINEETHA KUMARI</td>\n",
       "      <td>60</td>\n",
       "      <td>89</td>\n",
       "      <td>94</td>\n",
       "      <td>41</td>\n",
       "      <td>98</td>\n",
       "      <td>56</td>\n",
       "      <td>438</td>\n",
       "      <td>PASS</td>\n",
       "    </tr>\n",
       "    <tr>\n",
       "      <th>2</th>\n",
       "      <td>19NM1A0404</td>\n",
       "      <td>ALAMURI SREE POORNIMA</td>\n",
       "      <td>92</td>\n",
       "      <td>76</td>\n",
       "      <td>53</td>\n",
       "      <td>61</td>\n",
       "      <td>21</td>\n",
       "      <td>92</td>\n",
       "      <td>395</td>\n",
       "      <td>PASS</td>\n",
       "    </tr>\n",
       "    <tr>\n",
       "      <th>3</th>\n",
       "      <td>19NM1A0407</td>\n",
       "      <td>AMARAPINNI ASHA SHINEE</td>\n",
       "      <td>92</td>\n",
       "      <td>63</td>\n",
       "      <td>86</td>\n",
       "      <td>82</td>\n",
       "      <td>23</td>\n",
       "      <td>44</td>\n",
       "      <td>390</td>\n",
       "      <td>PASS</td>\n",
       "    </tr>\n",
       "    <tr>\n",
       "      <th>4</th>\n",
       "      <td>19NM1A0409</td>\n",
       "      <td>ATHMAKURI BHARGAVI</td>\n",
       "      <td>75</td>\n",
       "      <td>93</td>\n",
       "      <td>46</td>\n",
       "      <td>67</td>\n",
       "      <td>69</td>\n",
       "      <td>86</td>\n",
       "      <td>436</td>\n",
       "      <td>PASS</td>\n",
       "    </tr>\n",
       "    <tr>\n",
       "      <th>...</th>\n",
       "      <td>...</td>\n",
       "      <td>...</td>\n",
       "      <td>...</td>\n",
       "      <td>...</td>\n",
       "      <td>...</td>\n",
       "      <td>...</td>\n",
       "      <td>...</td>\n",
       "      <td>...</td>\n",
       "      <td>...</td>\n",
       "      <td>...</td>\n",
       "    </tr>\n",
       "    <tr>\n",
       "      <th>175</th>\n",
       "      <td>20NM5A0304</td>\n",
       "      <td>KORUPOLU AISWARYA</td>\n",
       "      <td>56</td>\n",
       "      <td>98</td>\n",
       "      <td>75</td>\n",
       "      <td>20</td>\n",
       "      <td>87</td>\n",
       "      <td>53</td>\n",
       "      <td>389</td>\n",
       "      <td>PASS</td>\n",
       "    </tr>\n",
       "    <tr>\n",
       "      <th>176</th>\n",
       "      <td>20NM5A0305</td>\n",
       "      <td>LEENASRI NAKKA</td>\n",
       "      <td>48</td>\n",
       "      <td>48</td>\n",
       "      <td>41</td>\n",
       "      <td>0</td>\n",
       "      <td>77</td>\n",
       "      <td>68</td>\n",
       "      <td>282</td>\n",
       "      <td>PASS</td>\n",
       "    </tr>\n",
       "    <tr>\n",
       "      <th>177</th>\n",
       "      <td>20NM5A0306</td>\n",
       "      <td>SEEKU HARSHA DEEPIKA</td>\n",
       "      <td>82</td>\n",
       "      <td>69</td>\n",
       "      <td>29</td>\n",
       "      <td>55</td>\n",
       "      <td>47</td>\n",
       "      <td>26</td>\n",
       "      <td>308</td>\n",
       "      <td>PASS</td>\n",
       "    </tr>\n",
       "    <tr>\n",
       "      <th>178</th>\n",
       "      <td>20NM5A0307</td>\n",
       "      <td>Shabana</td>\n",
       "      <td>91</td>\n",
       "      <td>24</td>\n",
       "      <td>78</td>\n",
       "      <td>36</td>\n",
       "      <td>1</td>\n",
       "      <td>85</td>\n",
       "      <td>315</td>\n",
       "      <td>PASS</td>\n",
       "    </tr>\n",
       "    <tr>\n",
       "      <th>179</th>\n",
       "      <td>20NM5A0309</td>\n",
       "      <td>TAGARAMPUDI GREESHMA</td>\n",
       "      <td>73</td>\n",
       "      <td>42</td>\n",
       "      <td>33</td>\n",
       "      <td>35</td>\n",
       "      <td>98</td>\n",
       "      <td>73</td>\n",
       "      <td>354</td>\n",
       "      <td>PASS</td>\n",
       "    </tr>\n",
       "  </tbody>\n",
       "</table>\n",
       "<p>180 rows × 10 columns</p>\n",
       "</div>"
      ],
      "text/plain": [
       "    Roll Number                                    Name  Telugu  English   \\\n",
       "0    19NM1A0402  ADDAGARLA GURUNADHA SAI LIKHITA SIVANI      87        64   \n",
       "1    19NM1A0403                 AGARAPU VINEETHA KUMARI      60        89   \n",
       "2    19NM1A0404                   ALAMURI SREE POORNIMA      92        76   \n",
       "3    19NM1A0407                  AMARAPINNI ASHA SHINEE      92        63   \n",
       "4    19NM1A0409                      ATHMAKURI BHARGAVI      75        93   \n",
       "..          ...                                     ...     ...       ...   \n",
       "175  20NM5A0304                       KORUPOLU AISWARYA      56        98   \n",
       "176  20NM5A0305                          LEENASRI NAKKA      48        48   \n",
       "177  20NM5A0306                    SEEKU HARSHA DEEPIKA      82        69   \n",
       "178  20NM5A0307                                 Shabana      91        24   \n",
       "179  20NM5A0309                    TAGARAMPUDI GREESHMA      73        42   \n",
       "\n",
       "     Hindi  Scocial   Science  Maths  Total Grade  \n",
       "0        6        79       64      2    302  PASS  \n",
       "1       94        41       98     56    438  PASS  \n",
       "2       53        61       21     92    395  PASS  \n",
       "3       86        82       23     44    390  PASS  \n",
       "4       46        67       69     86    436  PASS  \n",
       "..     ...       ...      ...    ...    ...   ...  \n",
       "175     75        20       87     53    389  PASS  \n",
       "176     41         0       77     68    282  PASS  \n",
       "177     29        55       47     26    308  PASS  \n",
       "178     78        36        1     85    315  PASS  \n",
       "179     33        35       98     73    354  PASS  \n",
       "\n",
       "[180 rows x 10 columns]"
      ]
     },
     "execution_count": 35,
     "metadata": {},
     "output_type": "execute_result"
    }
   ],
   "source": [
    "excel=pd.read_excel(\"Students.xlsx\")\n",
    "excel"
   ]
  },
  {
   "cell_type": "code",
   "execution_count": 36,
   "id": "b97e4be6",
   "metadata": {},
   "outputs": [
    {
     "data": {
      "text/html": [
       "<div>\n",
       "<style scoped>\n",
       "    .dataframe tbody tr th:only-of-type {\n",
       "        vertical-align: middle;\n",
       "    }\n",
       "\n",
       "    .dataframe tbody tr th {\n",
       "        vertical-align: top;\n",
       "    }\n",
       "\n",
       "    .dataframe thead th {\n",
       "        text-align: right;\n",
       "    }\n",
       "</style>\n",
       "<table border=\"1\" class=\"dataframe\">\n",
       "  <thead>\n",
       "    <tr style=\"text-align: right;\">\n",
       "      <th></th>\n",
       "      <th>Telugu</th>\n",
       "      <th>English</th>\n",
       "      <th>Hindi</th>\n",
       "      <th>Scocial</th>\n",
       "      <th>Science</th>\n",
       "      <th>Maths</th>\n",
       "      <th>Total</th>\n",
       "    </tr>\n",
       "  </thead>\n",
       "  <tbody>\n",
       "    <tr>\n",
       "      <th>count</th>\n",
       "      <td>180.000000</td>\n",
       "      <td>180.000000</td>\n",
       "      <td>180.000000</td>\n",
       "      <td>180.000000</td>\n",
       "      <td>180.000000</td>\n",
       "      <td>180.000000</td>\n",
       "      <td>180.000000</td>\n",
       "    </tr>\n",
       "    <tr>\n",
       "      <th>mean</th>\n",
       "      <td>49.661111</td>\n",
       "      <td>52.983333</td>\n",
       "      <td>46.538889</td>\n",
       "      <td>48.850000</td>\n",
       "      <td>48.794444</td>\n",
       "      <td>47.600000</td>\n",
       "      <td>294.427778</td>\n",
       "    </tr>\n",
       "    <tr>\n",
       "      <th>std</th>\n",
       "      <td>27.707201</td>\n",
       "      <td>28.448223</td>\n",
       "      <td>31.076292</td>\n",
       "      <td>30.490309</td>\n",
       "      <td>27.441496</td>\n",
       "      <td>30.215723</td>\n",
       "      <td>64.460982</td>\n",
       "    </tr>\n",
       "    <tr>\n",
       "      <th>min</th>\n",
       "      <td>2.000000</td>\n",
       "      <td>0.000000</td>\n",
       "      <td>0.000000</td>\n",
       "      <td>0.000000</td>\n",
       "      <td>1.000000</td>\n",
       "      <td>0.000000</td>\n",
       "      <td>141.000000</td>\n",
       "    </tr>\n",
       "    <tr>\n",
       "      <th>25%</th>\n",
       "      <td>23.000000</td>\n",
       "      <td>28.000000</td>\n",
       "      <td>16.000000</td>\n",
       "      <td>22.000000</td>\n",
       "      <td>26.750000</td>\n",
       "      <td>21.750000</td>\n",
       "      <td>252.750000</td>\n",
       "    </tr>\n",
       "    <tr>\n",
       "      <th>50%</th>\n",
       "      <td>51.000000</td>\n",
       "      <td>56.000000</td>\n",
       "      <td>46.000000</td>\n",
       "      <td>49.000000</td>\n",
       "      <td>48.000000</td>\n",
       "      <td>41.000000</td>\n",
       "      <td>295.000000</td>\n",
       "    </tr>\n",
       "    <tr>\n",
       "      <th>75%</th>\n",
       "      <td>72.000000</td>\n",
       "      <td>77.000000</td>\n",
       "      <td>75.250000</td>\n",
       "      <td>77.250000</td>\n",
       "      <td>71.250000</td>\n",
       "      <td>78.000000</td>\n",
       "      <td>344.250000</td>\n",
       "    </tr>\n",
       "    <tr>\n",
       "      <th>max</th>\n",
       "      <td>100.000000</td>\n",
       "      <td>100.000000</td>\n",
       "      <td>100.000000</td>\n",
       "      <td>99.000000</td>\n",
       "      <td>100.000000</td>\n",
       "      <td>100.000000</td>\n",
       "      <td>462.000000</td>\n",
       "    </tr>\n",
       "  </tbody>\n",
       "</table>\n",
       "</div>"
      ],
      "text/plain": [
       "           Telugu    English        Hindi    Scocial      Science       Maths  \\\n",
       "count  180.000000  180.000000  180.000000  180.000000  180.000000  180.000000   \n",
       "mean    49.661111   52.983333   46.538889   48.850000   48.794444   47.600000   \n",
       "std     27.707201   28.448223   31.076292   30.490309   27.441496   30.215723   \n",
       "min      2.000000    0.000000    0.000000    0.000000    1.000000    0.000000   \n",
       "25%     23.000000   28.000000   16.000000   22.000000   26.750000   21.750000   \n",
       "50%     51.000000   56.000000   46.000000   49.000000   48.000000   41.000000   \n",
       "75%     72.000000   77.000000   75.250000   77.250000   71.250000   78.000000   \n",
       "max    100.000000  100.000000  100.000000   99.000000  100.000000  100.000000   \n",
       "\n",
       "            Total  \n",
       "count  180.000000  \n",
       "mean   294.427778  \n",
       "std     64.460982  \n",
       "min    141.000000  \n",
       "25%    252.750000  \n",
       "50%    295.000000  \n",
       "75%    344.250000  \n",
       "max    462.000000  "
      ]
     },
     "execution_count": 36,
     "metadata": {},
     "output_type": "execute_result"
    }
   ],
   "source": [
    "r.describe()"
   ]
  },
  {
   "cell_type": "code",
   "execution_count": 37,
   "id": "fc761bde",
   "metadata": {},
   "outputs": [
    {
     "data": {
      "text/html": [
       "<div>\n",
       "<style scoped>\n",
       "    .dataframe tbody tr th:only-of-type {\n",
       "        vertical-align: middle;\n",
       "    }\n",
       "\n",
       "    .dataframe tbody tr th {\n",
       "        vertical-align: top;\n",
       "    }\n",
       "\n",
       "    .dataframe thead th {\n",
       "        text-align: right;\n",
       "    }\n",
       "</style>\n",
       "<table border=\"1\" class=\"dataframe\">\n",
       "  <thead>\n",
       "    <tr style=\"text-align: right;\">\n",
       "      <th></th>\n",
       "      <th>Roll Number</th>\n",
       "      <th>Name</th>\n",
       "      <th>Telugu</th>\n",
       "      <th>English</th>\n",
       "      <th>Hindi</th>\n",
       "      <th>Scocial</th>\n",
       "      <th>Science</th>\n",
       "      <th>Maths</th>\n",
       "      <th>Total</th>\n",
       "      <th>Grade</th>\n",
       "    </tr>\n",
       "  </thead>\n",
       "  <tbody>\n",
       "    <tr>\n",
       "      <th>170</th>\n",
       "      <td>20NM5A0242</td>\n",
       "      <td>V. Lalitha Ramya</td>\n",
       "      <td>31</td>\n",
       "      <td>57</td>\n",
       "      <td>68</td>\n",
       "      <td>33</td>\n",
       "      <td>37</td>\n",
       "      <td>29</td>\n",
       "      <td>255</td>\n",
       "      <td>PASS</td>\n",
       "    </tr>\n",
       "    <tr>\n",
       "      <th>171</th>\n",
       "      <td>19NM1A0305</td>\n",
       "      <td>KALLA VENKATA SATYA SAI DIVYA</td>\n",
       "      <td>94</td>\n",
       "      <td>7</td>\n",
       "      <td>45</td>\n",
       "      <td>28</td>\n",
       "      <td>81</td>\n",
       "      <td>7</td>\n",
       "      <td>262</td>\n",
       "      <td>PASS</td>\n",
       "    </tr>\n",
       "    <tr>\n",
       "      <th>172</th>\n",
       "      <td>20NM5A0301</td>\n",
       "      <td>DANDILA PADMA SANKARI</td>\n",
       "      <td>33</td>\n",
       "      <td>27</td>\n",
       "      <td>6</td>\n",
       "      <td>49</td>\n",
       "      <td>95</td>\n",
       "      <td>91</td>\n",
       "      <td>301</td>\n",
       "      <td>PASS</td>\n",
       "    </tr>\n",
       "    <tr>\n",
       "      <th>173</th>\n",
       "      <td>20NM5A0302</td>\n",
       "      <td>KANDREGULA NIKHILA</td>\n",
       "      <td>93</td>\n",
       "      <td>92</td>\n",
       "      <td>76</td>\n",
       "      <td>61</td>\n",
       "      <td>61</td>\n",
       "      <td>3</td>\n",
       "      <td>386</td>\n",
       "      <td>PASS</td>\n",
       "    </tr>\n",
       "    <tr>\n",
       "      <th>174</th>\n",
       "      <td>20NM5A0303</td>\n",
       "      <td>KEDDARISEETI MOUNIKA</td>\n",
       "      <td>13</td>\n",
       "      <td>91</td>\n",
       "      <td>68</td>\n",
       "      <td>90</td>\n",
       "      <td>43</td>\n",
       "      <td>80</td>\n",
       "      <td>385</td>\n",
       "      <td>PASS</td>\n",
       "    </tr>\n",
       "    <tr>\n",
       "      <th>175</th>\n",
       "      <td>20NM5A0304</td>\n",
       "      <td>KORUPOLU AISWARYA</td>\n",
       "      <td>47</td>\n",
       "      <td>1</td>\n",
       "      <td>4</td>\n",
       "      <td>4</td>\n",
       "      <td>62</td>\n",
       "      <td>83</td>\n",
       "      <td>201</td>\n",
       "      <td>PASS</td>\n",
       "    </tr>\n",
       "    <tr>\n",
       "      <th>176</th>\n",
       "      <td>20NM5A0305</td>\n",
       "      <td>LEENASRI NAKKA</td>\n",
       "      <td>67</td>\n",
       "      <td>47</td>\n",
       "      <td>96</td>\n",
       "      <td>67</td>\n",
       "      <td>31</td>\n",
       "      <td>84</td>\n",
       "      <td>392</td>\n",
       "      <td>PASS</td>\n",
       "    </tr>\n",
       "    <tr>\n",
       "      <th>177</th>\n",
       "      <td>20NM5A0306</td>\n",
       "      <td>SEEKU HARSHA DEEPIKA</td>\n",
       "      <td>92</td>\n",
       "      <td>82</td>\n",
       "      <td>32</td>\n",
       "      <td>83</td>\n",
       "      <td>13</td>\n",
       "      <td>28</td>\n",
       "      <td>330</td>\n",
       "      <td>PASS</td>\n",
       "    </tr>\n",
       "    <tr>\n",
       "      <th>178</th>\n",
       "      <td>20NM5A0307</td>\n",
       "      <td>Shabana</td>\n",
       "      <td>71</td>\n",
       "      <td>2</td>\n",
       "      <td>2</td>\n",
       "      <td>81</td>\n",
       "      <td>68</td>\n",
       "      <td>32</td>\n",
       "      <td>256</td>\n",
       "      <td>PASS</td>\n",
       "    </tr>\n",
       "    <tr>\n",
       "      <th>179</th>\n",
       "      <td>20NM5A0309</td>\n",
       "      <td>TAGARAMPUDI GREESHMA</td>\n",
       "      <td>69</td>\n",
       "      <td>76</td>\n",
       "      <td>90</td>\n",
       "      <td>50</td>\n",
       "      <td>8</td>\n",
       "      <td>47</td>\n",
       "      <td>340</td>\n",
       "      <td>PASS</td>\n",
       "    </tr>\n",
       "  </tbody>\n",
       "</table>\n",
       "</div>"
      ],
      "text/plain": [
       "    Roll Number                           Name  Telugu  English   Hindi  \\\n",
       "170  20NM5A0242               V. Lalitha Ramya      31        57     68   \n",
       "171  19NM1A0305  KALLA VENKATA SATYA SAI DIVYA      94         7     45   \n",
       "172  20NM5A0301          DANDILA PADMA SANKARI      33        27      6   \n",
       "173  20NM5A0302             KANDREGULA NIKHILA      93        92     76   \n",
       "174  20NM5A0303           KEDDARISEETI MOUNIKA      13        91     68   \n",
       "175  20NM5A0304              KORUPOLU AISWARYA      47         1      4   \n",
       "176  20NM5A0305                 LEENASRI NAKKA      67        47     96   \n",
       "177  20NM5A0306           SEEKU HARSHA DEEPIKA      92        82     32   \n",
       "178  20NM5A0307                        Shabana      71         2      2   \n",
       "179  20NM5A0309           TAGARAMPUDI GREESHMA      69        76     90   \n",
       "\n",
       "     Scocial   Science  Maths  Total Grade  \n",
       "170        33       37     29    255  PASS  \n",
       "171        28       81      7    262  PASS  \n",
       "172        49       95     91    301  PASS  \n",
       "173        61       61      3    386  PASS  \n",
       "174        90       43     80    385  PASS  \n",
       "175         4       62     83    201  PASS  \n",
       "176        67       31     84    392  PASS  \n",
       "177        83       13     28    330  PASS  \n",
       "178        81       68     32    256  PASS  \n",
       "179        50        8     47    340  PASS  "
      ]
     },
     "execution_count": 37,
     "metadata": {},
     "output_type": "execute_result"
    }
   ],
   "source": [
    "r.tail(10)"
   ]
  },
  {
   "cell_type": "code",
   "execution_count": 38,
   "id": "0e195514",
   "metadata": {},
   "outputs": [
    {
     "data": {
      "text/html": [
       "<div>\n",
       "<style scoped>\n",
       "    .dataframe tbody tr th:only-of-type {\n",
       "        vertical-align: middle;\n",
       "    }\n",
       "\n",
       "    .dataframe tbody tr th {\n",
       "        vertical-align: top;\n",
       "    }\n",
       "\n",
       "    .dataframe thead th {\n",
       "        text-align: right;\n",
       "    }\n",
       "</style>\n",
       "<table border=\"1\" class=\"dataframe\">\n",
       "  <thead>\n",
       "    <tr style=\"text-align: right;\">\n",
       "      <th></th>\n",
       "      <th>Roll Number</th>\n",
       "      <th>Name</th>\n",
       "      <th>Telugu</th>\n",
       "      <th>English</th>\n",
       "      <th>Hindi</th>\n",
       "      <th>Scocial</th>\n",
       "      <th>Science</th>\n",
       "      <th>Maths</th>\n",
       "      <th>Total</th>\n",
       "      <th>Grade</th>\n",
       "    </tr>\n",
       "  </thead>\n",
       "  <tbody>\n",
       "    <tr>\n",
       "      <th>0</th>\n",
       "      <td>19NM1A0402</td>\n",
       "      <td>ADDAGARLA GURUNADHA SAI LIKHITA SIVANI</td>\n",
       "      <td>11</td>\n",
       "      <td>57</td>\n",
       "      <td>46</td>\n",
       "      <td>49</td>\n",
       "      <td>9</td>\n",
       "      <td>7</td>\n",
       "      <td>179</td>\n",
       "      <td>FAIL</td>\n",
       "    </tr>\n",
       "    <tr>\n",
       "      <th>1</th>\n",
       "      <td>19NM1A0403</td>\n",
       "      <td>AGARAPU VINEETHA KUMARI</td>\n",
       "      <td>97</td>\n",
       "      <td>77</td>\n",
       "      <td>78</td>\n",
       "      <td>60</td>\n",
       "      <td>44</td>\n",
       "      <td>32</td>\n",
       "      <td>388</td>\n",
       "      <td>PASS</td>\n",
       "    </tr>\n",
       "    <tr>\n",
       "      <th>2</th>\n",
       "      <td>19NM1A0404</td>\n",
       "      <td>ALAMURI SREE POORNIMA</td>\n",
       "      <td>23</td>\n",
       "      <td>73</td>\n",
       "      <td>26</td>\n",
       "      <td>39</td>\n",
       "      <td>67</td>\n",
       "      <td>34</td>\n",
       "      <td>262</td>\n",
       "      <td>PASS</td>\n",
       "    </tr>\n",
       "    <tr>\n",
       "      <th>3</th>\n",
       "      <td>19NM1A0407</td>\n",
       "      <td>AMARAPINNI ASHA SHINEE</td>\n",
       "      <td>78</td>\n",
       "      <td>27</td>\n",
       "      <td>28</td>\n",
       "      <td>28</td>\n",
       "      <td>37</td>\n",
       "      <td>33</td>\n",
       "      <td>231</td>\n",
       "      <td>PASS</td>\n",
       "    </tr>\n",
       "    <tr>\n",
       "      <th>4</th>\n",
       "      <td>19NM1A0409</td>\n",
       "      <td>ATHMAKURI BHARGAVI</td>\n",
       "      <td>35</td>\n",
       "      <td>56</td>\n",
       "      <td>48</td>\n",
       "      <td>1</td>\n",
       "      <td>59</td>\n",
       "      <td>16</td>\n",
       "      <td>215</td>\n",
       "      <td>PASS</td>\n",
       "    </tr>\n",
       "    <tr>\n",
       "      <th>5</th>\n",
       "      <td>19NM1A0411</td>\n",
       "      <td>BADIREDDI SRI NANDITHA</td>\n",
       "      <td>91</td>\n",
       "      <td>2</td>\n",
       "      <td>57</td>\n",
       "      <td>58</td>\n",
       "      <td>77</td>\n",
       "      <td>0</td>\n",
       "      <td>285</td>\n",
       "      <td>PASS</td>\n",
       "    </tr>\n",
       "    <tr>\n",
       "      <th>6</th>\n",
       "      <td>19NM1A0412</td>\n",
       "      <td>BANDA NAVYA PRIYA</td>\n",
       "      <td>7</td>\n",
       "      <td>33</td>\n",
       "      <td>93</td>\n",
       "      <td>30</td>\n",
       "      <td>93</td>\n",
       "      <td>86</td>\n",
       "      <td>342</td>\n",
       "      <td>PASS</td>\n",
       "    </tr>\n",
       "    <tr>\n",
       "      <th>7</th>\n",
       "      <td>19NM1A0414</td>\n",
       "      <td>BANDARU BHUVANA SRI</td>\n",
       "      <td>57</td>\n",
       "      <td>64</td>\n",
       "      <td>37</td>\n",
       "      <td>5</td>\n",
       "      <td>77</td>\n",
       "      <td>32</td>\n",
       "      <td>272</td>\n",
       "      <td>PASS</td>\n",
       "    </tr>\n",
       "    <tr>\n",
       "      <th>8</th>\n",
       "      <td>19NM1A0417</td>\n",
       "      <td>BEHARA HEMALATHA</td>\n",
       "      <td>37</td>\n",
       "      <td>13</td>\n",
       "      <td>7</td>\n",
       "      <td>87</td>\n",
       "      <td>98</td>\n",
       "      <td>60</td>\n",
       "      <td>302</td>\n",
       "      <td>PASS</td>\n",
       "    </tr>\n",
       "    <tr>\n",
       "      <th>9</th>\n",
       "      <td>19NM1A0418</td>\n",
       "      <td>BERI DIVYA</td>\n",
       "      <td>51</td>\n",
       "      <td>29</td>\n",
       "      <td>100</td>\n",
       "      <td>92</td>\n",
       "      <td>42</td>\n",
       "      <td>62</td>\n",
       "      <td>376</td>\n",
       "      <td>PASS</td>\n",
       "    </tr>\n",
       "  </tbody>\n",
       "</table>\n",
       "</div>"
      ],
      "text/plain": [
       "  Roll Number                                    Name  Telugu  English   \\\n",
       "0  19NM1A0402  ADDAGARLA GURUNADHA SAI LIKHITA SIVANI      11        57   \n",
       "1  19NM1A0403                 AGARAPU VINEETHA KUMARI      97        77   \n",
       "2  19NM1A0404                   ALAMURI SREE POORNIMA      23        73   \n",
       "3  19NM1A0407                  AMARAPINNI ASHA SHINEE      78        27   \n",
       "4  19NM1A0409                      ATHMAKURI BHARGAVI      35        56   \n",
       "5  19NM1A0411                  BADIREDDI SRI NANDITHA      91         2   \n",
       "6  19NM1A0412                       BANDA NAVYA PRIYA       7        33   \n",
       "7  19NM1A0414                     BANDARU BHUVANA SRI      57        64   \n",
       "8  19NM1A0417                        BEHARA HEMALATHA      37        13   \n",
       "9  19NM1A0418                              BERI DIVYA      51        29   \n",
       "\n",
       "   Hindi  Scocial   Science  Maths  Total Grade  \n",
       "0     46        49        9      7    179  FAIL  \n",
       "1     78        60       44     32    388  PASS  \n",
       "2     26        39       67     34    262  PASS  \n",
       "3     28        28       37     33    231  PASS  \n",
       "4     48         1       59     16    215  PASS  \n",
       "5     57        58       77      0    285  PASS  \n",
       "6     93        30       93     86    342  PASS  \n",
       "7     37         5       77     32    272  PASS  \n",
       "8      7        87       98     60    302  PASS  \n",
       "9    100        92       42     62    376  PASS  "
      ]
     },
     "execution_count": 38,
     "metadata": {},
     "output_type": "execute_result"
    }
   ],
   "source": [
    "r.head(10)"
   ]
  },
  {
   "cell_type": "code",
   "execution_count": 39,
   "id": "7ba1b563",
   "metadata": {},
   "outputs": [
    {
     "data": {
      "text/plain": [
       "Roll Number             19NM1A0201\n",
       "Name           A. Prasanna Lakshmi\n",
       "Telugu                           2\n",
       "English                          0\n",
       "Hindi                            0\n",
       "Scocial                          0\n",
       "Science                          1\n",
       "Maths                            0\n",
       "Total                          141\n",
       "Grade                         FAIL\n",
       "dtype: object"
      ]
     },
     "execution_count": 39,
     "metadata": {},
     "output_type": "execute_result"
    }
   ],
   "source": [
    "r.min()"
   ]
  },
  {
   "cell_type": "code",
   "execution_count": 40,
   "id": "07f6d58b",
   "metadata": {},
   "outputs": [
    {
     "data": {
      "text/plain": [
       "Roll Number          20NM5A0426\n",
       "Name           YERUKOLA SUPRIYA\n",
       "Telugu                      100\n",
       "English                     100\n",
       "Hindi                       100\n",
       "Scocial                      99\n",
       "Science                     100\n",
       "Maths                       100\n",
       "Total                       462\n",
       "Grade                      PASS\n",
       "dtype: object"
      ]
     },
     "execution_count": 40,
     "metadata": {},
     "output_type": "execute_result"
    }
   ],
   "source": [
    "r.max()"
   ]
  },
  {
   "cell_type": "code",
   "execution_count": 41,
   "id": "b1d595f7",
   "metadata": {},
   "outputs": [
    {
     "data": {
      "text/html": [
       "<div>\n",
       "<style scoped>\n",
       "    .dataframe tbody tr th:only-of-type {\n",
       "        vertical-align: middle;\n",
       "    }\n",
       "\n",
       "    .dataframe tbody tr th {\n",
       "        vertical-align: top;\n",
       "    }\n",
       "\n",
       "    .dataframe thead th {\n",
       "        text-align: right;\n",
       "    }\n",
       "</style>\n",
       "<table border=\"1\" class=\"dataframe\">\n",
       "  <thead>\n",
       "    <tr style=\"text-align: right;\">\n",
       "      <th></th>\n",
       "      <th>Roll Number</th>\n",
       "      <th>Name</th>\n",
       "      <th>Telugu</th>\n",
       "      <th>English</th>\n",
       "      <th>Hindi</th>\n",
       "      <th>Scocial</th>\n",
       "      <th>Science</th>\n",
       "      <th>Maths</th>\n",
       "      <th>Total</th>\n",
       "      <th>Grade</th>\n",
       "    </tr>\n",
       "  </thead>\n",
       "  <tbody>\n",
       "    <tr>\n",
       "      <th>0</th>\n",
       "      <td>False</td>\n",
       "      <td>False</td>\n",
       "      <td>False</td>\n",
       "      <td>False</td>\n",
       "      <td>False</td>\n",
       "      <td>False</td>\n",
       "      <td>False</td>\n",
       "      <td>False</td>\n",
       "      <td>False</td>\n",
       "      <td>False</td>\n",
       "    </tr>\n",
       "    <tr>\n",
       "      <th>1</th>\n",
       "      <td>False</td>\n",
       "      <td>False</td>\n",
       "      <td>False</td>\n",
       "      <td>False</td>\n",
       "      <td>False</td>\n",
       "      <td>False</td>\n",
       "      <td>False</td>\n",
       "      <td>False</td>\n",
       "      <td>False</td>\n",
       "      <td>False</td>\n",
       "    </tr>\n",
       "    <tr>\n",
       "      <th>2</th>\n",
       "      <td>False</td>\n",
       "      <td>False</td>\n",
       "      <td>False</td>\n",
       "      <td>False</td>\n",
       "      <td>False</td>\n",
       "      <td>False</td>\n",
       "      <td>False</td>\n",
       "      <td>False</td>\n",
       "      <td>False</td>\n",
       "      <td>False</td>\n",
       "    </tr>\n",
       "    <tr>\n",
       "      <th>3</th>\n",
       "      <td>False</td>\n",
       "      <td>False</td>\n",
       "      <td>False</td>\n",
       "      <td>False</td>\n",
       "      <td>False</td>\n",
       "      <td>False</td>\n",
       "      <td>False</td>\n",
       "      <td>False</td>\n",
       "      <td>False</td>\n",
       "      <td>False</td>\n",
       "    </tr>\n",
       "    <tr>\n",
       "      <th>4</th>\n",
       "      <td>False</td>\n",
       "      <td>False</td>\n",
       "      <td>False</td>\n",
       "      <td>False</td>\n",
       "      <td>False</td>\n",
       "      <td>False</td>\n",
       "      <td>False</td>\n",
       "      <td>False</td>\n",
       "      <td>False</td>\n",
       "      <td>False</td>\n",
       "    </tr>\n",
       "    <tr>\n",
       "      <th>...</th>\n",
       "      <td>...</td>\n",
       "      <td>...</td>\n",
       "      <td>...</td>\n",
       "      <td>...</td>\n",
       "      <td>...</td>\n",
       "      <td>...</td>\n",
       "      <td>...</td>\n",
       "      <td>...</td>\n",
       "      <td>...</td>\n",
       "      <td>...</td>\n",
       "    </tr>\n",
       "    <tr>\n",
       "      <th>175</th>\n",
       "      <td>False</td>\n",
       "      <td>False</td>\n",
       "      <td>False</td>\n",
       "      <td>False</td>\n",
       "      <td>False</td>\n",
       "      <td>False</td>\n",
       "      <td>False</td>\n",
       "      <td>False</td>\n",
       "      <td>False</td>\n",
       "      <td>False</td>\n",
       "    </tr>\n",
       "    <tr>\n",
       "      <th>176</th>\n",
       "      <td>False</td>\n",
       "      <td>False</td>\n",
       "      <td>False</td>\n",
       "      <td>False</td>\n",
       "      <td>False</td>\n",
       "      <td>False</td>\n",
       "      <td>False</td>\n",
       "      <td>False</td>\n",
       "      <td>False</td>\n",
       "      <td>False</td>\n",
       "    </tr>\n",
       "    <tr>\n",
       "      <th>177</th>\n",
       "      <td>False</td>\n",
       "      <td>False</td>\n",
       "      <td>False</td>\n",
       "      <td>False</td>\n",
       "      <td>False</td>\n",
       "      <td>False</td>\n",
       "      <td>False</td>\n",
       "      <td>False</td>\n",
       "      <td>False</td>\n",
       "      <td>False</td>\n",
       "    </tr>\n",
       "    <tr>\n",
       "      <th>178</th>\n",
       "      <td>False</td>\n",
       "      <td>False</td>\n",
       "      <td>False</td>\n",
       "      <td>False</td>\n",
       "      <td>False</td>\n",
       "      <td>False</td>\n",
       "      <td>False</td>\n",
       "      <td>False</td>\n",
       "      <td>False</td>\n",
       "      <td>False</td>\n",
       "    </tr>\n",
       "    <tr>\n",
       "      <th>179</th>\n",
       "      <td>False</td>\n",
       "      <td>False</td>\n",
       "      <td>False</td>\n",
       "      <td>False</td>\n",
       "      <td>False</td>\n",
       "      <td>False</td>\n",
       "      <td>False</td>\n",
       "      <td>False</td>\n",
       "      <td>False</td>\n",
       "      <td>False</td>\n",
       "    </tr>\n",
       "  </tbody>\n",
       "</table>\n",
       "<p>180 rows × 10 columns</p>\n",
       "</div>"
      ],
      "text/plain": [
       "     Roll Number   Name  Telugu  English   Hindi  Scocial   Science  Maths  \\\n",
       "0          False  False   False     False  False     False    False  False   \n",
       "1          False  False   False     False  False     False    False  False   \n",
       "2          False  False   False     False  False     False    False  False   \n",
       "3          False  False   False     False  False     False    False  False   \n",
       "4          False  False   False     False  False     False    False  False   \n",
       "..           ...    ...     ...       ...    ...       ...      ...    ...   \n",
       "175        False  False   False     False  False     False    False  False   \n",
       "176        False  False   False     False  False     False    False  False   \n",
       "177        False  False   False     False  False     False    False  False   \n",
       "178        False  False   False     False  False     False    False  False   \n",
       "179        False  False   False     False  False     False    False  False   \n",
       "\n",
       "     Total  Grade  \n",
       "0    False  False  \n",
       "1    False  False  \n",
       "2    False  False  \n",
       "3    False  False  \n",
       "4    False  False  \n",
       "..     ...    ...  \n",
       "175  False  False  \n",
       "176  False  False  \n",
       "177  False  False  \n",
       "178  False  False  \n",
       "179  False  False  \n",
       "\n",
       "[180 rows x 10 columns]"
      ]
     },
     "execution_count": 41,
     "metadata": {},
     "output_type": "execute_result"
    }
   ],
   "source": [
    "r.isnull()"
   ]
  },
  {
   "cell_type": "code",
   "execution_count": 43,
   "id": "517ee9c5",
   "metadata": {},
   "outputs": [
    {
     "data": {
      "text/plain": [
       "Roll Number    object\n",
       "Name           object\n",
       "Telugu          int64\n",
       "English         int64\n",
       "Hindi           int64\n",
       "Scocial         int64\n",
       "Science         int64\n",
       "Maths           int64\n",
       "Total           int64\n",
       "Grade          object\n",
       "dtype: object"
      ]
     },
     "execution_count": 43,
     "metadata": {},
     "output_type": "execute_result"
    }
   ],
   "source": [
    "r.dtypes"
   ]
  },
  {
   "cell_type": "code",
   "execution_count": 44,
   "id": "ad324dc9",
   "metadata": {},
   "outputs": [
    {
     "data": {
      "text/plain": [
       "0      19NM1A0402\n",
       "1      19NM1A0403\n",
       "2      19NM1A0404\n",
       "3      19NM1A0407\n",
       "4      19NM1A0409\n",
       "          ...    \n",
       "175    20NM5A0304\n",
       "176    20NM5A0305\n",
       "177    20NM5A0306\n",
       "178    20NM5A0307\n",
       "179    20NM5A0309\n",
       "Name: Roll Number, Length: 180, dtype: object"
      ]
     },
     "execution_count": 44,
     "metadata": {},
     "output_type": "execute_result"
    }
   ],
   "source": [
    "r[\"Roll Number\"]"
   ]
  },
  {
   "cell_type": "code",
   "execution_count": 45,
   "id": "ffc1c88f",
   "metadata": {},
   "outputs": [
    {
     "data": {
      "text/plain": [
       "0      FAIL\n",
       "1      PASS\n",
       "2      PASS\n",
       "3      PASS\n",
       "4      PASS\n",
       "       ... \n",
       "175    PASS\n",
       "176    PASS\n",
       "177    PASS\n",
       "178    PASS\n",
       "179    PASS\n",
       "Name: Grade, Length: 180, dtype: object"
      ]
     },
     "execution_count": 45,
     "metadata": {},
     "output_type": "execute_result"
    }
   ],
   "source": [
    "r[\"Grade\"]"
   ]
  },
  {
   "cell_type": "code",
   "execution_count": 47,
   "id": "6580d7b3",
   "metadata": {},
   "outputs": [
    {
     "data": {
      "text/html": [
       "<div>\n",
       "<style scoped>\n",
       "    .dataframe tbody tr th:only-of-type {\n",
       "        vertical-align: middle;\n",
       "    }\n",
       "\n",
       "    .dataframe tbody tr th {\n",
       "        vertical-align: top;\n",
       "    }\n",
       "\n",
       "    .dataframe thead th {\n",
       "        text-align: right;\n",
       "    }\n",
       "</style>\n",
       "<table border=\"1\" class=\"dataframe\">\n",
       "  <thead>\n",
       "    <tr style=\"text-align: right;\">\n",
       "      <th></th>\n",
       "      <th>Name RollNumber Branch Marks</th>\n",
       "    </tr>\n",
       "  </thead>\n",
       "  <tbody>\n",
       "    <tr>\n",
       "      <th>0</th>\n",
       "      <td>Vedha 449 ECE 85</td>\n",
       "    </tr>\n",
       "    <tr>\n",
       "      <th>1</th>\n",
       "      <td>Usha 4C8 ECE 90</td>\n",
       "    </tr>\n",
       "    <tr>\n",
       "      <th>2</th>\n",
       "      <td>Ankitha 453 ECE 86</td>\n",
       "    </tr>\n",
       "    <tr>\n",
       "      <th>3</th>\n",
       "      <td>Mouni 459 ECE 81</td>\n",
       "    </tr>\n",
       "    <tr>\n",
       "      <th>4</th>\n",
       "      <td>Priya 425 ECE 84</td>\n",
       "    </tr>\n",
       "    <tr>\n",
       "      <th>5</th>\n",
       "      <td>Nanditha 411 ECE 80</td>\n",
       "    </tr>\n",
       "    <tr>\n",
       "      <th>6</th>\n",
       "      <td>Sharmila 433 ECE 82</td>\n",
       "    </tr>\n",
       "  </tbody>\n",
       "</table>\n",
       "</div>"
      ],
      "text/plain": [
       "  Name RollNumber Branch Marks\n",
       "0             Vedha 449 ECE 85\n",
       "1              Usha 4C8 ECE 90\n",
       "2           Ankitha 453 ECE 86\n",
       "3             Mouni 459 ECE 81\n",
       "4             Priya 425 ECE 84\n",
       "5          Nanditha 411 ECE 80\n",
       "6          Sharmila 433 ECE 82"
      ]
     },
     "execution_count": 47,
     "metadata": {},
     "output_type": "execute_result"
    }
   ],
   "source": [
    "import pandas as pd\n",
    "cs=pd.read_csv(\"data1.csv\")\n",
    "cs"
   ]
  },
  {
   "cell_type": "code",
   "execution_count": 52,
   "id": "512c0d03",
   "metadata": {},
   "outputs": [
    {
     "data": {
      "text/plain": [
       "Name RollNumber Branch Marks    Ankitha 453 ECE 86\n",
       "dtype: object"
      ]
     },
     "execution_count": 52,
     "metadata": {},
     "output_type": "execute_result"
    }
   ],
   "source": [
    "cs.min()"
   ]
  },
  {
   "cell_type": "code",
   "execution_count": 53,
   "id": "5789a1b3",
   "metadata": {},
   "outputs": [
    {
     "data": {
      "text/plain": [
       "Name RollNumber Branch Marks    Vedha 449 ECE 85\n",
       "dtype: object"
      ]
     },
     "execution_count": 53,
     "metadata": {},
     "output_type": "execute_result"
    }
   ],
   "source": [
    "cs.max()"
   ]
  },
  {
   "cell_type": "code",
   "execution_count": 68,
   "id": "30221ca4",
   "metadata": {},
   "outputs": [],
   "source": [
    "T=r[\"Telugu\"]\n",
    "H=r[\"Hindi\"]\n",
    "M=r[\"Maths\"]\n",
    "G=r[\"Grade\"]\n",
    "E=r[\"English \"]"
   ]
  },
  {
   "cell_type": "code",
   "execution_count": 69,
   "id": "5289a0fd",
   "metadata": {},
   "outputs": [],
   "source": [
    "import matplotlib.pyplot as plt"
   ]
  },
  {
   "cell_type": "code",
   "execution_count": 72,
   "id": "9953649f",
   "metadata": {},
   "outputs": [
    {
     "data": {
      "image/png": "[encoded data removed]",
      "text/plain": [
       "<Figure size 432x288 with 1 Axes>"
      ]
     },
     "metadata": {
      "needs_background": "light"
     },
     "output_type": "display_data"
    }
   ],
   "source": [
    "plt.plot(T,H)\n",
    "plt.xlabel(\"x-values\")\n",
    "plt.ylabel(\"y-values\")\n",
    "plt.show()"
   ]
  },
  {
   "cell_type": "code",
   "execution_count": 73,
   "id": "75f43465",
   "metadata": {},
   "outputs": [
    {
     "data": {
      "image/png": "[encoded data removed]",
      "text/plain": [
       "<Figure size 432x288 with 1 Axes>"
      ]
     },
     "metadata": {
      "needs_background": "light"
     },
     "output_type": "display_data"
    }
   ],
   "source": [
    "plt.plot(E,M)\n",
    "plt.xlabel(\"x-values\")\n",
    "plt.ylabel(\"y-values\")\n",
    "plt.show()"
   ]
  },
  {
   "cell_type": "code",
   "execution_count": 74,
   "id": "4b9c29fd",
   "metadata": {},
   "outputs": [
    {
     "data": {
      "image/png": "[encoded data removed]",
      "text/plain": [
       "<Figure size 432x288 with 1 Axes>"
      ]
     },
     "metadata": {
      "needs_background": "light"
     },
     "output_type": "display_data"
    }
   ],
   "source": [
    "plt.plot(E,G)\n",
    "plt.xlabel(\"x-values\")\n",
    "plt.ylabel(\"y-values\")\n",
    "plt.show()"
   ]
  },
  {
   "cell_type": "code",
   "execution_count": 76,
   "id": "1024c4b0",
   "metadata": {},
   "outputs": [
    {
     "data": {
      "image/png": "[encoded data removed]",
      "text/plain": [
       "<Figure size 432x288 with 1 Axes>"
      ]
     },
     "metadata": {
      "needs_background": "light"
     },
     "output_type": "display_data"
    }
   ],
   "source": [
    "plt.plot(G,E)\n",
    "plt.xlabel(\"x-values\")\n",
    "plt.ylabel(\"y-values\")\n",
    "plt.show()"
   ]
  },
  {
   "cell_type": "code",
   "execution_count": 86,
   "id": "725a8a51",
   "metadata": {},
   "outputs": [
    {
     "data": {
      "image/png": "[encoded data removed]",
      "text/plain": [
       "<Figure size 432x288 with 1 Axes>"
      ]
     },
     "metadata": {
      "needs_background": "light"
     },
     "output_type": "display_data"
    }
   ],
   "source": [
    "plt.scatter(T,E,c=\"r\")\n",
    "plt.show()"
   ]
  },
  {
   "cell_type": "code",
   "execution_count": 79,
   "id": "1043fb9b",
   "metadata": {},
   "outputs": [
    {
     "data": {
      "image/png": "[encoded data removed]",
      "text/plain": [
       "<Figure size 432x288 with 1 Axes>"
      ]
     },
     "metadata": {
      "needs_background": "light"
     },
     "output_type": "display_data"
    }
   ],
   "source": [
    "plt.bar(T,E)\n",
    "plt.show()"
   ]
  },
  {
   "cell_type": "code",
   "execution_count": 81,
   "id": "a4de7447",
   "metadata": {},
   "outputs": [
    {
     "data": {
      "image/png": "[encoded data removed]",
      "text/plain": [
       "<Figure size 432x288 with 1 Axes>"
      ]
     },
     "metadata": {
      "needs_background": "light"
     },
     "output_type": "display_data"
    }
   ],
   "source": [
    "plt.hist(T)\n",
    "plt.show()"
   ]
  },
  {
   "cell_type": "code",
   "execution_count": 85,
   "id": "f43b2170",
   "metadata": {},
   "outputs": [
    {
     "data": {
      "image/png": "[encoded data removed]",
      "text/plain": [
       "<Figure size 432x288 with 1 Axes>"
      ]
     },
     "metadata": {},
     "output_type": "display_data"
    }
   ],
   "source": [
    "tt=r[\"Total\"]\n",
    "plt.pie(tt,labels=G)\n",
    "plt.show()"
   ]
  },
  {
   "cell_type": "code",
   "execution_count": 87,
   "id": "92a484f9",
   "metadata": {},
   "outputs": [
    {
     "data": {
      "text/plain": [
       "Roll Number    19NM1A040219NM1A040319NM1A040419NM1A040719NM1A...\n",
       "Name           ADDAGARLA GURUNADHA SAI LIKHITA SIVANIAGARAPU ...\n",
       "Telugu                                                      8939\n",
       "English                                                     9537\n",
       "Hindi                                                       8377\n",
       "Scocial                                                     8793\n",
       "Science                                                     8783\n",
       "Maths                                                       8568\n",
       "Total                                                      52997\n",
       "Grade          FAILPASSPASSPASSPASSPASSPASSPASSPASSPASSFAILPA...\n",
       "dtype: object"
      ]
     },
     "execution_count": 87,
     "metadata": {},
     "output_type": "execute_result"
    }
   ],
   "source": [
    "r.sum()"
   ]
  },
  {
   "cell_type": "code",
   "execution_count": 89,
   "id": "35df2320",
   "metadata": {},
   "outputs": [
    {
     "ename": "NameError",
     "evalue": "name 'raw_input' is not defined",
     "output_type": "error",
     "traceback": [
      "\u001b[1;31m---------------------------------------------------------------------------\u001b[0m",
      "\u001b[1;31mNameError\u001b[0m                                 Traceback (most recent call last)",
      "\u001b[1;32m<ipython-input-89-4f14aadc3464>\u001b[0m in \u001b[0;36m<module>\u001b[1;34m\u001b[0m\n\u001b[0;32m      2\u001b[0m \u001b[1;32mdef\u001b[0m \u001b[0mis_leap\u001b[0m\u001b[1;33m(\u001b[0m\u001b[0myear\u001b[0m\u001b[1;33m)\u001b[0m\u001b[1;33m:\u001b[0m\u001b[1;33m\u001b[0m\u001b[1;33m\u001b[0m\u001b[0m\n\u001b[0;32m      3\u001b[0m     \u001b[1;32mreturn\u001b[0m \u001b[1;33m(\u001b[0m\u001b[0myear\u001b[0m\u001b[1;33m%\u001b[0m\u001b[1;36m4\u001b[0m\u001b[1;33m==\u001b[0m\u001b[1;36m0\u001b[0m \u001b[1;32mand\u001b[0m \u001b[0myear\u001b[0m\u001b[1;33m%\u001b[0m\u001b[1;36m100\u001b[0m\u001b[1;33m!=\u001b[0m\u001b[1;36m0\u001b[0m \u001b[1;32mor\u001b[0m \u001b[0myear\u001b[0m\u001b[1;33m%\u001b[0m\u001b[1;36m400\u001b[0m\u001b[1;33m==\u001b[0m\u001b[1;36m0\u001b[0m\u001b[1;33m)\u001b[0m\u001b[1;33m\u001b[0m\u001b[1;33m\u001b[0m\u001b[0m\n\u001b[1;32m----> 4\u001b[1;33m \u001b[0myear\u001b[0m \u001b[1;33m=\u001b[0m \u001b[0mint\u001b[0m\u001b[1;33m(\u001b[0m\u001b[0mraw_input\u001b[0m\u001b[1;33m(\u001b[0m\u001b[1;33m)\u001b[0m\u001b[1;33m)\u001b[0m\u001b[1;33m\u001b[0m\u001b[1;33m\u001b[0m\u001b[0m\n\u001b[0m\u001b[0;32m      5\u001b[0m \u001b[0mis_leap\u001b[0m\u001b[1;33m(\u001b[0m\u001b[0myear\u001b[0m\u001b[1;33m)\u001b[0m\u001b[1;33m\u001b[0m\u001b[1;33m\u001b[0m\u001b[0m\n",
      "\u001b[1;31mNameError\u001b[0m: name 'raw_input' is not defined"
     ]
    }
   ],
   "source": [
    "# leap year\n",
    "def is_leap(year):\n",
    "    return (year%4==0 and year%100!=0 or year%400==0)\n",
    "year = int(raw_input())\n",
    "is_leap(year)"
   ]
  },
  {
   "cell_type": "code",
   "execution_count": null,
   "id": "dd1ba410",
   "metadata": {},
   "outputs": [],
   "source": []
  }
 ],
 "metadata": {
  "kernelspec": {
   "display_name": "Python 3",
   "language": "python",
   "name": "python3"
  },
  "language_info": {
   "codemirror_mode": {
    "name": "ipython",
    "version": 3
   },
   "file_extension": ".py",
   "mimetype": "text/x-python",
   "name": "python",
   "nbconvert_exporter": "python",
   "pygments_lexer": "ipython3",
   "version": "3.8.8"
  }
 },
 "nbformat": 4,
 "nbformat_minor": 5
}
