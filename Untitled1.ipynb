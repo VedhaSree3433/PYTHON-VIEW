{
 "cells": [
  {
   "cell_type": "code",
   "execution_count": 1,
   "id": "550d7274",
   "metadata": {},
   "outputs": [
    {
     "name": "stdout",
     "output_type": "stream",
     "text": [
      "[0, 1, 2, 3, 4]\n"
     ]
    }
   ],
   "source": [
    "def f(x):\n",
    "    for i in range(5):\n",
    "        yield i\n",
    "g=f(8)\n",
    "print(list(g))"
   ]
  },
  {
   "cell_type": "code",
   "execution_count": 2,
   "id": "6eaeb428",
   "metadata": {},
   "outputs": [
    {
     "name": "stdout",
     "output_type": "stream",
     "text": [
      "[1, 2, 3, 4, 5]\n"
     ]
    }
   ],
   "source": [
    "l=[1,2,3,4,5,1,2,3]\n",
    "myset=set(l)\n",
    "type(myset)\n",
    "l1=list(myset)\n",
    "print(l1)"
   ]
  },
  {
   "cell_type": "code",
   "execution_count": 5,
   "id": "d9120a2b",
   "metadata": {},
   "outputs": [
    {
     "name": "stdout",
     "output_type": "stream",
     "text": [
      "[3, 2, 1]\n"
     ]
    }
   ],
   "source": [
    "n=[[1,2,3],[4,5,6],[3,2,1]]\n",
    "print(n[2])"
   ]
  },
  {
   "cell_type": "code",
   "execution_count": 1,
   "id": "4cefb9ae",
   "metadata": {},
   "outputs": [
    {
     "data": {
      "text/plain": [
       "'po'"
      ]
     },
     "execution_count": 1,
     "metadata": {},
     "output_type": "execute_result"
    }
   ],
   "source": [
    "word=\"positive\"\n",
    "word[:2]"
   ]
  },
  {
   "cell_type": "code",
   "execution_count": 1,
   "id": "ce29fb9b",
   "metadata": {},
   "outputs": [
    {
     "data": {
      "text/plain": [
       "321"
      ]
     },
     "execution_count": 1,
     "metadata": {},
     "output_type": "execute_result"
    }
   ],
   "source": [
    "def strange(j):\n",
    "    k=0\n",
    "    while j>0:\n",
    "        k=10*k+j%10\n",
    "        j=j//10\n",
    "    return k\n",
    "strange(1230)"
   ]
  },
  {
   "cell_type": "code",
   "execution_count": 2,
   "id": "3be596e9",
   "metadata": {},
   "outputs": [
    {
     "name": "stdout",
     "output_type": "stream",
     "text": [
      "7\n"
     ]
    }
   ],
   "source": [
    "foo=[1,2,3,'a',None,(),[],]\n",
    "print(len(foo))"
   ]
  },
  {
   "cell_type": "code",
   "execution_count": null,
   "id": "284329c9",
   "metadata": {},
   "outputs": [],
   "source": [
    "int main()"
   ]
  }
 ],
 "metadata": {
  "kernelspec": {
   "display_name": "Python 3",
   "language": "python",
   "name": "python3"
  },
  "language_info": {
   "codemirror_mode": {
    "name": "ipython",
    "version": 3
   },
   "file_extension": ".py",
   "mimetype": "text/x-python",
   "name": "python",
   "nbconvert_exporter": "python",
   "pygments_lexer": "ipython3",
   "version": "3.8.8"
  }
 },
 "nbformat": 4,
 "nbformat_minor": 5
}
