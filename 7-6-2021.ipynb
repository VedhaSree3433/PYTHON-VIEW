{
 "cells": [
  {
   "cell_type": "markdown",
   "id": "8aba0e70",
   "metadata": {},
   "source": [
    "# Packages and modules\n",
    "## Package is a collection of modules\n",
    "## Module is a collection of functions\n",
    "* User defined modules\n",
    "* Predefined modules\n",
    "# File and File operations"
   ]
  },
  {
   "cell_type": "code",
   "execution_count": 1,
   "id": "ba29959c",
   "metadata": {},
   "outputs": [
    {
     "name": "stdout",
     "output_type": "stream",
     "text": [
      "['ArithmeticError', 'AssertionError', 'AttributeError', 'BaseException', 'BlockingIOError', 'BrokenPipeError', 'BufferError', 'BytesWarning', 'ChildProcessError', 'ConnectionAbortedError', 'ConnectionError', 'ConnectionRefusedError', 'ConnectionResetError', 'DeprecationWarning', 'EOFError', 'Ellipsis', 'EnvironmentError', 'Exception', 'False', 'FileExistsError', 'FileNotFoundError', 'FloatingPointError', 'FutureWarning', 'GeneratorExit', 'IOError', 'ImportError', 'ImportWarning', 'IndentationError', 'IndexError', 'InterruptedError', 'IsADirectoryError', 'KeyError', 'KeyboardInterrupt', 'LookupError', 'MemoryError', 'ModuleNotFoundError', 'NameError', 'None', 'NotADirectoryError', 'NotImplemented', 'NotImplementedError', 'OSError', 'OverflowError', 'PendingDeprecationWarning', 'PermissionError', 'ProcessLookupError', 'RecursionError', 'ReferenceError', 'ResourceWarning', 'RuntimeError', 'RuntimeWarning', 'StopAsyncIteration', 'StopIteration', 'SyntaxError', 'SyntaxWarning', 'SystemError', 'SystemExit', 'TabError', 'TimeoutError', 'True', 'TypeError', 'UnboundLocalError', 'UnicodeDecodeError', 'UnicodeEncodeError', 'UnicodeError', 'UnicodeTranslateError', 'UnicodeWarning', 'UserWarning', 'ValueError', 'Warning', 'WindowsError', 'ZeroDivisionError', '__IPYTHON__', '__build_class__', '__debug__', '__doc__', '__import__', '__loader__', '__name__', '__package__', '__spec__', 'abs', 'all', 'any', 'ascii', 'bin', 'bool', 'breakpoint', 'bytearray', 'bytes', 'callable', 'chr', 'classmethod', 'compile', 'complex', 'copyright', 'credits', 'delattr', 'dict', 'dir', 'display', 'divmod', 'enumerate', 'eval', 'exec', 'filter', 'float', 'format', 'frozenset', 'get_ipython', 'getattr', 'globals', 'hasattr', 'hash', 'help', 'hex', 'id', 'input', 'int', 'isinstance', 'issubclass', 'iter', 'len', 'license', 'list', 'locals', 'map', 'max', 'memoryview', 'min', 'next', 'object', 'oct', 'open', 'ord', 'pow', 'print', 'property', 'range', 'repr', 'reversed', 'round', 'set', 'setattr', 'slice', 'sorted', 'staticmethod', 'str', 'sum', 'super', 'tuple', 'type', 'vars', 'zip']\n"
     ]
    }
   ],
   "source": [
    "import builtins\n",
    "print(dir(builtins))"
   ]
  },
  {
   "cell_type": "code",
   "execution_count": 2,
   "id": "ff443b55",
   "metadata": {},
   "outputs": [
    {
     "name": "stdout",
     "output_type": "stream",
     "text": [
      "['__doc__', '__loader__', '__name__', '__package__', '__spec__', 'acos', 'acosh', 'asin', 'asinh', 'atan', 'atan2', 'atanh', 'ceil', 'comb', 'copysign', 'cos', 'cosh', 'degrees', 'dist', 'e', 'erf', 'erfc', 'exp', 'expm1', 'fabs', 'factorial', 'floor', 'fmod', 'frexp', 'fsum', 'gamma', 'gcd', 'hypot', 'inf', 'isclose', 'isfinite', 'isinf', 'isnan', 'isqrt', 'ldexp', 'lgamma', 'log', 'log10', 'log1p', 'log2', 'modf', 'nan', 'perm', 'pi', 'pow', 'prod', 'radians', 'remainder', 'sin', 'sinh', 'sqrt', 'tan', 'tanh', 'tau', 'trunc']\n"
     ]
    }
   ],
   "source": [
    "import math as mt\n",
    "print(dir(mt))\n"
   ]
  },
  {
   "cell_type": "code",
   "execution_count": 3,
   "id": "1c2803fb",
   "metadata": {},
   "outputs": [
    {
     "name": "stdout",
     "output_type": "stream",
     "text": [
      "8.0\n"
     ]
    }
   ],
   "source": [
    "print(mt.pow(2,3))"
   ]
  },
  {
   "cell_type": "code",
   "execution_count": 4,
   "id": "e48e842b",
   "metadata": {},
   "outputs": [
    {
     "name": "stdout",
     "output_type": "stream",
     "text": [
      "27.0\n"
     ]
    }
   ],
   "source": [
    "print(mt.pow(3,3))"
   ]
  },
  {
   "cell_type": "code",
   "execution_count": 5,
   "id": "010a6352",
   "metadata": {},
   "outputs": [
    {
     "name": "stdout",
     "output_type": "stream",
     "text": [
      "729.0\n"
     ]
    }
   ],
   "source": [
    "print(mt.pow(9,3))"
   ]
  },
  {
   "cell_type": "code",
   "execution_count": 6,
   "id": "dad5212a",
   "metadata": {},
   "outputs": [
    {
     "name": "stdout",
     "output_type": "stream",
     "text": [
      "3.0\n"
     ]
    }
   ],
   "source": [
    "print(mt.sqrt(9))"
   ]
  },
  {
   "cell_type": "code",
   "execution_count": 7,
   "id": "64904382",
   "metadata": {},
   "outputs": [
    {
     "name": "stdout",
     "output_type": "stream",
     "text": [
      "1.6197751905438615\n"
     ]
    }
   ],
   "source": [
    "print(mt.tan(45))"
   ]
  },
  {
   "cell_type": "code",
   "execution_count": 8,
   "id": "ab5edd45",
   "metadata": {},
   "outputs": [
    {
     "name": "stdout",
     "output_type": "stream",
     "text": [
      "6\n"
     ]
    }
   ],
   "source": [
    "# ceil (round figure, largest value)\n",
    "a=5.6\n",
    "print(mt.ceil(a))"
   ]
  },
  {
   "cell_type": "code",
   "execution_count": 9,
   "id": "9bde81ed",
   "metadata": {},
   "outputs": [
    {
     "name": "stdout",
     "output_type": "stream",
     "text": [
      "5\n"
     ]
    }
   ],
   "source": [
    "# floor (smallest value)\n",
    "a=5.6\n",
    "print(mt.floor(a))"
   ]
  },
  {
   "cell_type": "code",
   "execution_count": 12,
   "id": "9715e462",
   "metadata": {},
   "outputs": [
    {
     "name": "stdout",
     "output_type": "stream",
     "text": [
      "120\n"
     ]
    }
   ],
   "source": [
    "a=5\n",
    "print(mt.factorial(a))"
   ]
  },
  {
   "cell_type": "code",
   "execution_count": 14,
   "id": "c39aff4f",
   "metadata": {},
   "outputs": [
    {
     "name": "stdout",
     "output_type": "stream",
     "text": [
      "['BPF', 'LOG4', 'NV_MAGICCONST', 'RECIP_BPF', 'Random', 'SG_MAGICCONST', 'SystemRandom', 'TWOPI', '_Sequence', '_Set', '__all__', '__builtins__', '__cached__', '__doc__', '__file__', '__loader__', '__name__', '__package__', '__spec__', '_accumulate', '_acos', '_bisect', '_ceil', '_cos', '_e', '_exp', '_inst', '_log', '_os', '_pi', '_random', '_repeat', '_sha512', '_sin', '_sqrt', '_test', '_test_generator', '_urandom', '_warn', 'betavariate', 'choice', 'choices', 'expovariate', 'gammavariate', 'gauss', 'getrandbits', 'getstate', 'lognormvariate', 'normalvariate', 'paretovariate', 'randint', 'random', 'randrange', 'sample', 'seed', 'setstate', 'shuffle', 'triangular', 'uniform', 'vonmisesvariate', 'weibullvariate']\n"
     ]
    }
   ],
   "source": [
    "import random as rd\n",
    "print(dir(rd))"
   ]
  },
  {
   "cell_type": "code",
   "execution_count": 16,
   "id": "398df0e6",
   "metadata": {},
   "outputs": [
    {
     "name": "stdout",
     "output_type": "stream",
     "text": [
      "29\n"
     ]
    }
   ],
   "source": [
    "print(rd.randint(10,50))"
   ]
  },
  {
   "cell_type": "code",
   "execution_count": 17,
   "id": "26065327",
   "metadata": {},
   "outputs": [
    {
     "name": "stdout",
     "output_type": "stream",
     "text": [
      "0.6812367300836802\n"
     ]
    }
   ],
   "source": [
    "print(rd.random())"
   ]
  },
  {
   "cell_type": "markdown",
   "id": "7467e4e2",
   "metadata": {},
   "source": [
    "# User defined modules"
   ]
  },
  {
   "cell_type": "code",
   "execution_count": 18,
   "id": "a03bde22",
   "metadata": {},
   "outputs": [
    {
     "data": {
      "text/plain": [
       "'C:\\\\Users\\\\ESWER\\\\Desktop\\\\PYTHON VIEW'"
      ]
     },
     "execution_count": 18,
     "metadata": {},
     "output_type": "execute_result"
    }
   ],
   "source": [
    "pwd()"
   ]
  },
  {
   "cell_type": "code",
   "execution_count": 24,
   "id": "c1259490",
   "metadata": {},
   "outputs": [
    {
     "name": "stdout",
     "output_type": "stream",
     "text": [
      " Volume in drive C has no label.\n",
      " Volume Serial Number is 7E43-9A0F\n",
      "\n",
      " Directory of C:\\Users\\ESWER\\Desktop\\PYTHON VIEW\n",
      "\n",
      "07-06-2021  13:58    <DIR>          .\n",
      "07-06-2021  13:58    <DIR>          ..\n",
      "07-06-2021  13:06    <DIR>          .ipynb_checkpoints\n",
      "07-06-2021  13:26           156,967 25-5-2021.ipynb\n",
      "07-06-2021  13:58             8,941 7-6-2021.ipynb\n",
      "07-06-2021  13:37                 0 module.py\n",
      "26-05-2021  13:38             2,456 puppy.jpg\n",
      "03-06-2021  13:06                72 Untitled1.ipynb\n",
      "               5 File(s)        168,436 bytes\n",
      "               3 Dir(s)   9,242,951,680 bytes free\n"
     ]
    }
   ],
   "source": [
    "ls"
   ]
  },
  {
   "cell_type": "code",
   "execution_count": 27,
   "id": "65beaea6",
   "metadata": {},
   "outputs": [
    {
     "name": "stdout",
     "output_type": "stream",
     "text": [
      "15\n"
     ]
    }
   ],
   "source": [
    "import module\n",
    "print(module.add(5,10))"
   ]
  },
  {
   "cell_type": "code",
   "execution_count": 31,
   "id": "d067eaac",
   "metadata": {},
   "outputs": [
    {
     "name": "stdout",
     "output_type": "stream",
     "text": [
      "15\n",
      "40\n",
      "100\n"
     ]
    }
   ],
   "source": [
    "import module as pt\n",
    "print(pt.add(5,10))\n",
    "print(pt.sub(50,10))\n",
    "print(pt.mul(5,20))"
   ]
  },
  {
   "cell_type": "code",
   "execution_count": 32,
   "id": "6d1c812c",
   "metadata": {},
   "outputs": [
    {
     "name": "stdout",
     "output_type": "stream",
     "text": [
      "11\n"
     ]
    }
   ],
   "source": [
    "import module as pt \n",
    "print(pt.add(5,6))"
   ]
  },
  {
   "cell_type": "markdown",
   "id": "162b1bf6",
   "metadata": {},
   "source": [
    "# File is a collection of data\n",
    "## File operations \n",
    "## open\n",
    "### write() w\n",
    "### read() r\n",
    "### append() a\n",
    "### close\n"
   ]
  },
  {
   "cell_type": "code",
   "execution_count": 33,
   "id": "f2dfc7dd",
   "metadata": {},
   "outputs": [
    {
     "name": "stdout",
     "output_type": "stream",
     "text": [
      "14\n"
     ]
    }
   ],
   "source": [
    "f=open('data.txt','w')\n",
    "kk=f.write(\"Good Afternoon\")\n",
    "print(kk) # how much data is printed length is displayed\n",
    "f.close()"
   ]
  },
  {
   "cell_type": "code",
   "execution_count": 34,
   "id": "e73dbd4f",
   "metadata": {},
   "outputs": [],
   "source": [
    "f2=open(\"data1.txt\",\"w\")\n",
    "fk2=f2.write(\"Good Afternoon\\n\"*100)\n",
    "f2.close()"
   ]
  },
  {
   "cell_type": "code",
   "execution_count": 35,
   "id": "66833d72",
   "metadata": {},
   "outputs": [
    {
     "ename": "ValueError",
     "evalue": "I/O operation on closed file.",
     "output_type": "error",
     "traceback": [
      "\u001b[1;31m---------------------------------------------------------------------------\u001b[0m",
      "\u001b[1;31mValueError\u001b[0m                                Traceback (most recent call last)",
      "\u001b[1;32m<ipython-input-35-a1645a250a41>\u001b[0m in \u001b[0;36m<module>\u001b[1;34m\u001b[0m\n\u001b[1;32m----> 1\u001b[1;33m \u001b[0mfk2\u001b[0m\u001b[1;33m=\u001b[0m\u001b[0mf2\u001b[0m\u001b[1;33m.\u001b[0m\u001b[0mwrite\u001b[0m\u001b[1;33m(\u001b[0m\u001b[1;34m\"Good Afternoon\\n\"\u001b[0m\u001b[1;33m*\u001b[0m\u001b[1;36m100\u001b[0m\u001b[1;33m)\u001b[0m\u001b[1;33m\u001b[0m\u001b[1;33m\u001b[0m\u001b[0m\n\u001b[0m",
      "\u001b[1;31mValueError\u001b[0m: I/O operation on closed file."
     ]
    }
   ],
   "source": [
    "fk2=f2.write(\"Good Afternoon\\n\"*100)"
   ]
  },
  {
   "cell_type": "code",
   "execution_count": 40,
   "id": "5000ac06",
   "metadata": {},
   "outputs": [
    {
     "name": "stdout",
     "output_type": "stream",
     "text": [
      "Good Afternoon\n"
     ]
    }
   ],
   "source": [
    "fr=open(\"data.txt\",\"r\")\n",
    "frr=fr.read()\n",
    "print(frr)\n",
    "fr.close()"
   ]
  },
  {
   "cell_type": "code",
   "execution_count": 42,
   "id": "f524893f",
   "metadata": {},
   "outputs": [
    {
     "name": "stdout",
     "output_type": "stream",
     "text": [
      "['Good Afternoon']\n"
     ]
    }
   ],
   "source": [
    "fl=open(\"data.txt\",'r')\n",
    "flr=fl.readlines()\n",
    "print(flr)\n",
    "fl.close()"
   ]
  },
  {
   "cell_type": "code",
   "execution_count": 45,
   "id": "20bc95bd",
   "metadata": {},
   "outputs": [],
   "source": [
    "fa=open(\"data.txt\",'a')\n",
    "fw=fa.write(\"\\nGood Evening\")\n",
    "fa.close()"
   ]
  },
  {
   "cell_type": "code",
   "execution_count": 51,
   "id": "b3d657a8",
   "metadata": {},
   "outputs": [
    {
     "name": "stdout",
     "output_type": "stream",
     "text": [
      "Number of lines in file:  2\n"
     ]
    }
   ],
   "source": [
    "# Task\n",
    "t=open(\"data.txt\",\"r\")\n",
    "rt=t.read()\n",
    "c=1\n",
    "for i in rt:\n",
    "    if i==\"\\n\":\n",
    "        c=c+1\n",
    "print(\"Number of lines in file: \",c)"
   ]
  },
  {
   "cell_type": "code",
   "execution_count": 55,
   "id": "e540048d",
   "metadata": {},
   "outputs": [
    {
     "name": "stdout",
     "output_type": "stream",
     "text": [
      "Number of characters in file:  40\n"
     ]
    }
   ],
   "source": [
    "t=open(\"data.txt\",\"r\")\n",
    "rt=t.read()\n",
    "c=1\n",
    "for i in rt:\n",
    "    if i.isalpha:\n",
    "        c=c+1\n",
    "print(\"Number of characters in file: \",c)"
   ]
  },
  {
   "cell_type": "code",
   "execution_count": 2,
   "id": "707ea790",
   "metadata": {},
   "outputs": [
    {
     "name": "stdout",
     "output_type": "stream",
     "text": [
      "Number of lines in file:  2\n",
      "Number of characters in file:  39\n"
     ]
    }
   ],
   "source": [
    "t=open(\"data.txt\",\"r\")\n",
    "rt=t.read()\n",
    "c=1\n",
    "for i in rt:\n",
    "    if i==\"\\n\":\n",
    "        c=c+1\n",
    "print(\"Number of lines in file: \",c)\n",
    "print(\"Number of characters in file: \",len(rt))"
   ]
  },
  {
   "cell_type": "code",
   "execution_count": 4,
   "id": "245c5518",
   "metadata": {},
   "outputs": [
    {
     "name": "stdout",
     "output_type": "stream",
     "text": [
      "no.of words in file: 5\n"
     ]
    }
   ],
   "source": [
    "#no. of words in a file\n",
    "w=open(\"data.txt\",\"r\")\n",
    "f=w.read()\n",
    "wt=f.split()\n",
    "print(\"number of words in file:\",len(wt))"
   ]
  },
  {
   "cell_type": "code",
   "execution_count": 5,
   "id": "6f3b4ab0",
   "metadata": {},
   "outputs": [
    {
     "name": "stdout",
     "output_type": "stream",
     "text": [
      "['BPF', 'LOG4', 'NV_MAGICCONST', 'RECIP_BPF', 'Random', 'SG_MAGICCONST', 'SystemRandom', 'TWOPI', '_Sequence', '_Set', '__all__', '__builtins__', '__cached__', '__doc__', '__file__', '__loader__', '__name__', '__package__', '__spec__', '_accumulate', '_acos', '_bisect', '_ceil', '_cos', '_e', '_exp', '_inst', '_log', '_os', '_pi', '_random', '_repeat', '_sha512', '_sin', '_sqrt', '_test', '_test_generator', '_urandom', '_warn', 'betavariate', 'choice', 'choices', 'expovariate', 'gammavariate', 'gauss', 'getrandbits', 'getstate', 'lognormvariate', 'normalvariate', 'paretovariate', 'randint', 'random', 'randrange', 'sample', 'seed', 'setstate', 'shuffle', 'triangular', 'uniform', 'vonmisesvariate', 'weibullvariate']\n"
     ]
    }
   ],
   "source": [
    "import random\n",
    "print(dir(random))"
   ]
  },
  {
   "cell_type": "code",
   "execution_count": 6,
   "id": "7f50554d",
   "metadata": {},
   "outputs": [],
   "source": [
    "from random import randint"
   ]
  },
  {
   "cell_type": "code",
   "execution_count": 7,
   "id": "132617c3",
   "metadata": {},
   "outputs": [
    {
     "data": {
      "text/plain": [
       "47"
      ]
     },
     "execution_count": 7,
     "metadata": {},
     "output_type": "execute_result"
    }
   ],
   "source": [
    "randint(1,100)"
   ]
  },
  {
   "cell_type": "code",
   "execution_count": 8,
   "id": "d4dcee54",
   "metadata": {},
   "outputs": [],
   "source": [
    "# 100 Students marks in file\n",
    "## find pass students\n",
    "## find fail students\n",
    "## first class students"
   ]
  },
  {
   "cell_type": "code",
   "execution_count": 11,
   "id": "dc93729f",
   "metadata": {},
   "outputs": [],
   "source": [
    "from random import randint\n",
    "def studentsmarks(n,lb,ub):\n",
    "    f=open(\"marks.txt\",\"w\")\n",
    "    for i in range(n):\n",
    "        mt=randint(lb,ub)\n",
    "        f.write(str(mt)+\"\\n\")\n",
    "studentsmarks(100,1,100)"
   ]
  },
  {
   "cell_type": "code",
   "execution_count": 14,
   "id": "ddcc16f8",
   "metadata": {},
   "outputs": [
    {
     "name": "stdout",
     "output_type": "stream",
     "text": [
      "Number of students passed in a class 69\n",
      "Number of students failed in a class 33\n"
     ]
    }
   ],
   "source": [
    "# no.of pass students and fail students data\n",
    "def passfail():\n",
    "    pas=1\n",
    "    fail=1\n",
    "    with open(\"marks.txt\",\"r\") as fn:\n",
    "        for i in fn:\n",
    "            if i>=\"40\":\n",
    "                pas=pas+1\n",
    "            else:\n",
    "                fail=fail+1\n",
    "        print(\"Number of students passed in a class\",pas)\n",
    "        print(\"Number of students failed in a class\",fail)\n",
    "passfail()"
   ]
  },
  {
   "cell_type": "code",
   "execution_count": null,
   "id": "ad95e981",
   "metadata": {},
   "outputs": [],
   "source": []
  },
  {
   "cell_type": "code",
   "execution_count": 18,
   "id": "c8f17546",
   "metadata": {},
   "outputs": [],
   "source": [
    "for i in range(100):\n",
    "    f=open(\"data\"+str(i)+\".txt\",\"w\")"
   ]
  },
  {
   "cell_type": "code",
   "execution_count": 19,
   "id": "1f2782e0",
   "metadata": {},
   "outputs": [],
   "source": [
    "# num=\"8074513566\"\n",
    "# num2=\"937652468\"\n",
    "# start ^ end $\n",
    "## do operations"
   ]
  },
  {
   "cell_type": "code",
   "execution_count": 20,
   "id": "1f2377b8",
   "metadata": {},
   "outputs": [
    {
     "name": "stdout",
     "output_type": "stream",
     "text": [
      "['A', 'ASCII', 'DEBUG', 'DOTALL', 'I', 'IGNORECASE', 'L', 'LOCALE', 'M', 'MULTILINE', 'Match', 'Pattern', 'RegexFlag', 'S', 'Scanner', 'T', 'TEMPLATE', 'U', 'UNICODE', 'VERBOSE', 'X', '_MAXCACHE', '__all__', '__builtins__', '__cached__', '__doc__', '__file__', '__loader__', '__name__', '__package__', '__spec__', '__version__', '_cache', '_compile', '_compile_repl', '_expand', '_locale', '_pickle', '_special_chars_map', '_subx', 'compile', 'copyreg', 'enum', 'error', 'escape', 'findall', 'finditer', 'fullmatch', 'functools', 'match', 'purge', 'search', 'split', 'sre_compile', 'sre_parse', 'sub', 'subn', 'template']\n"
     ]
    }
   ],
   "source": [
    "import re\n",
    "print(dir(re))"
   ]
  },
  {
   "cell_type": "code",
   "execution_count": 23,
   "id": "87ee800a",
   "metadata": {},
   "outputs": [
    {
     "name": "stdout",
     "output_type": "stream",
     "text": [
      "enter the number: 7247418\n",
      "Not valid\n"
     ]
    }
   ],
   "source": [
    "import re\n",
    "num=input(\"enter the number: \")\n",
    "pt=\"^[6-9]{1}[0-9]{9}$\"\n",
    "if re.match(pt,num):\n",
    "    print(\"Given number is valid\")\n",
    "else:\n",
    "    print(\"Not valid\")"
   ]
  },
  {
   "cell_type": "code",
   "execution_count": 26,
   "id": "5e0aeae9",
   "metadata": {},
   "outputs": [
    {
     "name": "stdout",
     "output_type": "stream",
     "text": [
      "enter the mail: vedha@gmail.com\n",
      "Given email is valid\n"
     ]
    }
   ],
   "source": [
    "email=input(\"enter the mail: \")\n",
    "pt=\"^[a-z_.0-9]{4,10}[@][a-z]{3,8}[.][a-z]{3,4}$\"\n",
    "if re.match(pt,email):\n",
    "    print(\"Given email is valid\")\n",
    "else:\n",
    "    print(\"Not valid\")"
   ]
  },
  {
   "cell_type": "code",
   "execution_count": 27,
   "id": "cc4ca908",
   "metadata": {},
   "outputs": [
    {
     "name": "stdout",
     "output_type": "stream",
     "text": [
      "['A', 'ASCII', 'DEBUG', 'DOTALL', 'I', 'IGNORECASE', 'L', 'LOCALE', 'M', 'MULTILINE', 'Match', 'Pattern', 'RegexFlag', 'S', 'Scanner', 'T', 'TEMPLATE', 'U', 'UNICODE', 'VERBOSE', 'X', '_MAXCACHE', '__all__', '__builtins__', '__cached__', '__doc__', '__file__', '__loader__', '__name__', '__package__', '__spec__', '__version__', '_cache', '_compile', '_compile_repl', '_expand', '_locale', '_pickle', '_special_chars_map', '_subx', 'compile', 'copyreg', 'enum', 'error', 'escape', 'findall', 'finditer', 'fullmatch', 'functools', 'match', 'purge', 'search', 'split', 'sre_compile', 'sre_parse', 'sub', 'subn', 'template']\n"
     ]
    }
   ],
   "source": [
    "print(dir(re))"
   ]
  },
  {
   "cell_type": "code",
   "execution_count": 33,
   "id": "0c8fd79d",
   "metadata": {},
   "outputs": [
    {
     "name": "stdout",
     "output_type": "stream",
     "text": [
      "['Sr']\n"
     ]
    }
   ],
   "source": [
    "name=\"VedhaSree\"\n",
    "k=re.findall(\"Sr\",name)\n",
    "print(k)"
   ]
  },
  {
   "cell_type": "code",
   "execution_count": 38,
   "id": "a3ecebaa",
   "metadata": {},
   "outputs": [
    {
     "name": "stdout",
     "output_type": "stream",
     "text": [
      "<re.Match object; span=(3, 6), match='nan'>\n"
     ]
    }
   ],
   "source": [
    "name=\"Vignan college\"\n",
    "s=re.search(\"nan\",name)\n",
    "print(s)"
   ]
  },
  {
   "cell_type": "code",
   "execution_count": 39,
   "id": "c3b4bc58",
   "metadata": {},
   "outputs": [
    {
     "name": "stdout",
     "output_type": "stream",
     "text": [
      "['Vig', ' college']\n"
     ]
    }
   ],
   "source": [
    "name=\"Vignan college\"\n",
    "sp=re.split(\"nan\",name)\n",
    "print(sp)"
   ]
  },
  {
   "cell_type": "code",
   "execution_count": null,
   "id": "70d0ac44",
   "metadata": {},
   "outputs": [],
   "source": []
  }
 ],
 "metadata": {
  "kernelspec": {
   "display_name": "Python 3",
   "language": "python",
   "name": "python3"
  },
  "language_info": {
   "codemirror_mode": {
    "name": "ipython",
    "version": 3
   },
   "file_extension": ".py",
   "mimetype": "text/x-python",
   "name": "python",
   "nbconvert_exporter": "python",
   "pygments_lexer": "ipython3",
   "version": "3.8.8"
  }
 },
 "nbformat": 4,
 "nbformat_minor": 5
}
