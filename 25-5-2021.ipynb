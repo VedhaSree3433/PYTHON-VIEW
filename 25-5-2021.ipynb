{
 "cells": [
  {
   "cell_type": "code",
   "execution_count": 6,
   "id": "39dae8b1",
   "metadata": {
    "scrolled": true
   },
   "outputs": [
    {
     "name": "stdout",
     "output_type": "stream",
     "text": [
      "hello world\n"
     ]
    }
   ],
   "source": [
    "print(\"hello world\")"
   ]
  },
  {
   "cell_type": "code",
   "execution_count": 11,
   "id": "d65c3fd8",
   "metadata": {
    "scrolled": true
   },
   "outputs": [
    {
     "name": "stdout",
     "output_type": "stream",
     "text": [
      "hai hello\n"
     ]
    }
   ],
   "source": [
    "print(\"hai hello\")"
   ]
  },
  {
   "cell_type": "code",
   "execution_count": 12,
   "id": "07672432",
   "metadata": {},
   "outputs": [
    {
     "name": "stdout",
     "output_type": "stream",
     "text": [
      "welcome\n"
     ]
    }
   ],
   "source": [
    "print(\"welcome\")"
   ]
  },
  {
   "cell_type": "markdown",
   "id": "f7a4353a",
   "metadata": {},
   "source": [
    "# heading1\n",
    "## heading2\n",
    "###### heading6\n",
    "**bold text**\n",
    "*italic*\n",
    "***bolditalic***\n",
    "* list\n",
    "    * sublist1\n",
    "    * sublist2\n",
    "        * inner sublist\n",
    ">1.order list1<br>\n",
    ">2.order list2"
   ]
  },
  {
   "cell_type": "markdown",
   "id": "c049570c",
   "metadata": {},
   "source": [
    "<h1 style=\"color:red;font-size:20px\">This is heading1</h1>\n",
    "<i>hai how are you</i>\n",
    "    <strong>bold text</strong>"
   ]
  },
  {
   "cell_type": "markdown",
   "id": "ace4e2b0",
   "metadata": {},
   "source": [
    "<img src=\"puppy.jpg\" alt=\"dog image\">\n",
    "<a href=\"http://google.com/\">Welcome to Google</a>"
   ]
  },
  {
   "cell_type": "markdown",
   "id": "059e7e42",
   "metadata": {},
   "source": [
    "# Python variables\n",
    "* A variable must start with a letter or the underscore.\n",
    "* A variable name cannot start with a anumber.\n",
    "* A variable name can only contain alpha-numeric characters and underscore(A to Z (or) (a to z) (or) (0-9) (or) ...)\n",
    "* variable name are case-sensitive"
   ]
  },
  {
   "cell_type": "code",
   "execution_count": 4,
   "id": "827be9e8",
   "metadata": {},
   "outputs": [
    {
     "name": "stdout",
     "output_type": "stream",
     "text": [
      "10\n",
      "20\n",
      "30\n"
     ]
    }
   ],
   "source": [
    "a=10\n",
    "print(a)\n",
    "b=20\n",
    "print(b)\n",
    "c=30\n",
    "print(c)"
   ]
  },
  {
   "cell_type": "code",
   "execution_count": 5,
   "id": "f0d43c8f",
   "metadata": {},
   "outputs": [
    {
     "name": "stdout",
     "output_type": "stream",
     "text": [
      "50\n"
     ]
    }
   ],
   "source": [
    "_=50\n",
    "print(_)"
   ]
  },
  {
   "cell_type": "code",
   "execution_count": 6,
   "id": "b1a82561",
   "metadata": {},
   "outputs": [
    {
     "ename": "SyntaxError",
     "evalue": "invalid syntax (<ipython-input-6-3f2de25626a2>, line 1)",
     "output_type": "error",
     "traceback": [
      "\u001b[1;36m  File \u001b[1;32m\"<ipython-input-6-3f2de25626a2>\"\u001b[1;36m, line \u001b[1;32m1\u001b[0m\n\u001b[1;33m    &=5\u001b[0m\n\u001b[1;37m    ^\u001b[0m\n\u001b[1;31mSyntaxError\u001b[0m\u001b[1;31m:\u001b[0m invalid syntax\n"
     ]
    }
   ],
   "source": [
    "&=5\n",
    "print(&)"
   ]
  },
  {
   "cell_type": "code",
   "execution_count": 10,
   "id": "36fa078b",
   "metadata": {},
   "outputs": [
    {
     "name": "stdout",
     "output_type": "stream",
     "text": [
      "vedha\n"
     ]
    }
   ],
   "source": [
    "s1 = \"vedha\"\n",
    "print(s1)"
   ]
  },
  {
   "cell_type": "code",
   "execution_count": 11,
   "id": "4ef6e511",
   "metadata": {},
   "outputs": [
    {
     "name": "stdout",
     "output_type": "stream",
     "text": [
      "vedha\n"
     ]
    }
   ],
   "source": [
    "_1 = \"vedha\"\n",
    "print(_1)"
   ]
  },
  {
   "cell_type": "code",
   "execution_count": 12,
   "id": "2bf184e7",
   "metadata": {},
   "outputs": [
    {
     "name": "stdout",
     "output_type": "stream",
     "text": [
      "20\n"
     ]
    }
   ],
   "source": [
    "A=20\n",
    "print(A)"
   ]
  },
  {
   "cell_type": "markdown",
   "id": "79f59caf",
   "metadata": {},
   "source": [
    "# Datatypes\n",
    "    * int\n",
    "    * float\n",
    "    * string \n",
    "    * complex"
   ]
  },
  {
   "cell_type": "code",
   "execution_count": 14,
   "id": "ea30823c",
   "metadata": {},
   "outputs": [
    {
     "name": "stdout",
     "output_type": "stream",
     "text": [
      "10\n",
      "<class 'int'>\n"
     ]
    }
   ],
   "source": [
    "s=10\n",
    "print(s)\n",
    "print(type(s))"
   ]
  },
  {
   "cell_type": "code",
   "execution_count": 16,
   "id": "53bce4a9",
   "metadata": {},
   "outputs": [
    {
     "name": "stdout",
     "output_type": "stream",
     "text": [
      "10.05\n",
      "<class 'float'>\n"
     ]
    }
   ],
   "source": [
    "f=10.05\n",
    "print(f)\n",
    "print(type(f))"
   ]
  },
  {
   "cell_type": "code",
   "execution_count": 17,
   "id": "e6d01f3a",
   "metadata": {},
   "outputs": [
    {
     "name": "stdout",
     "output_type": "stream",
     "text": [
      "vedha\n",
      "<class 'str'>\n"
     ]
    }
   ],
   "source": [
    "s1=\"vedha\"\n",
    "print(s1)\n",
    "print(type(s1))"
   ]
  },
  {
   "cell_type": "code",
   "execution_count": 18,
   "id": "f8ecbd73",
   "metadata": {},
   "outputs": [
    {
     "name": "stdout",
     "output_type": "stream",
     "text": [
      "(3+2j)\n",
      "<class 'complex'>\n"
     ]
    }
   ],
   "source": [
    "a=3+2j;\n",
    "print(a)\n",
    "print(type(a))"
   ]
  },
  {
   "cell_type": "code",
   "execution_count": 19,
   "id": "0f2df02e",
   "metadata": {},
   "outputs": [
    {
     "name": "stdout",
     "output_type": "stream",
     "text": [
      "10\n",
      "<class 'int'>\n",
      "10.0\n",
      "<class 'float'>\n"
     ]
    }
   ],
   "source": [
    "# tyepcasting\n",
    "a=10\n",
    "print(a)\n",
    "print(type(a))\n",
    "b=float(a)\n",
    "print(b)\n",
    "print(type(b))"
   ]
  },
  {
   "cell_type": "code",
   "execution_count": 21,
   "id": "21474e78",
   "metadata": {},
   "outputs": [
    {
     "name": "stdout",
     "output_type": "stream",
     "text": [
      "20.0\n",
      "<class 'float'>\n",
      "20.0\n",
      "<class 'str'>\n"
     ]
    }
   ],
   "source": [
    "a=20\n",
    "print(float(a))\n",
    "print(type(float(a)))\n",
    "print(str(float(a)))\n",
    "print(type(str(float(a))))"
   ]
  },
  {
   "cell_type": "code",
   "execution_count": 23,
   "id": "9952a419",
   "metadata": {},
   "outputs": [
    {
     "name": "stdout",
     "output_type": "stream",
     "text": [
      "<class 'float'>\n",
      "10\n",
      "<class 'int'>\n"
     ]
    }
   ],
   "source": [
    "k=10.06\n",
    "print(type(k))\n",
    "print(int(k))\n",
    "print(type(int(k)))"
   ]
  },
  {
   "cell_type": "code",
   "execution_count": 24,
   "id": "e54f6ba7",
   "metadata": {},
   "outputs": [
    {
     "name": "stdout",
     "output_type": "stream",
     "text": [
      "10.06\n",
      "<class 'str'>\n"
     ]
    }
   ],
   "source": [
    "k=10.06\n",
    "print(str(k))\n",
    "print(type(str(k)))"
   ]
  },
  {
   "cell_type": "code",
   "execution_count": 31,
   "id": "07e3ab84",
   "metadata": {},
   "outputs": [
    {
     "name": "stdout",
     "output_type": "stream",
     "text": [
      "<class 'str'>\n",
      "5.0\n",
      "(5+0j)\n"
     ]
    }
   ],
   "source": [
    "s=\"5\"\n",
    "print(type(s))\n",
    "print(float(s))\n",
    "print(complex(s))"
   ]
  },
  {
   "cell_type": "code",
   "execution_count": 29,
   "id": "3d72dd70",
   "metadata": {},
   "outputs": [
    {
     "data": {
      "text/plain": [
       "'hai students\\nhow are you'"
      ]
     },
     "execution_count": 29,
     "metadata": {},
     "output_type": "execute_result"
    }
   ],
   "source": [
    "# python --- single line comment\n",
    "# print(\"hai\")\n",
    "\n",
    "'''hai students\n",
    "how are you'''"
   ]
  },
  {
   "cell_type": "code",
   "execution_count": 33,
   "id": "61a53748",
   "metadata": {},
   "outputs": [
    {
     "name": "stdout",
     "output_type": "stream",
     "text": [
      "Enter a value :49\n",
      "49\n"
     ]
    }
   ],
   "source": [
    "s=input(\"Enter a value :\")\n",
    "print(s)"
   ]
  },
  {
   "cell_type": "code",
   "execution_count": 35,
   "id": "0e6353b1",
   "metadata": {},
   "outputs": [
    {
     "name": "stdout",
     "output_type": "stream",
     "text": [
      "enter a value :5\n",
      "<class 'int'>\n"
     ]
    }
   ],
   "source": [
    "s=int(input(\"enter a value :\"))\n",
    "print(type(s))"
   ]
  },
  {
   "cell_type": "code",
   "execution_count": 37,
   "id": "b3e6a95c",
   "metadata": {},
   "outputs": [
    {
     "name": "stdout",
     "output_type": "stream",
     "text": [
      "enter float value :4\n",
      "4.0\n",
      "<class 'float'>\n"
     ]
    }
   ],
   "source": [
    "f=float(input(\"enter float value :\"))\n",
    "print(f)\n",
    "print(type(f))"
   ]
  },
  {
   "cell_type": "code",
   "execution_count": 44,
   "id": "83041f90",
   "metadata": {},
   "outputs": [
    {
     "name": "stdout",
     "output_type": "stream",
     "text": [
      "Enter a value :4\n",
      "Enter b value :5\n",
      "9\n",
      "addition of a & b is  9\n",
      "addition of 4 and 5 is :9\n",
      "addition of 4 and 5 is : 9\n",
      "addition of 9 and 5 is :4\n"
     ]
    }
   ],
   "source": [
    "a=int(input(\"Enter a value :\"))\n",
    "b=int(input(\"Enter b value :\"))\n",
    "print(a+b)\n",
    "print(\"addition of a & b is \",a+b)\n",
    "print(\"addition of %d and %d is :%d\"%(a,b,a+b))\n",
    "print(\"addition of {} and {} is : {}\".format(a,b,a+b))\n",
    "print(\"addition of {2} and {1} is :{0}\".format(a,b,a+b))"
   ]
  },
  {
   "cell_type": "markdown",
   "id": "881d4540",
   "metadata": {},
   "source": [
    "# Python operators\n",
    "    *Arithemtic"
   ]
  },
  {
   "cell_type": "code",
   "execution_count": 4,
   "id": "90413e58",
   "metadata": {},
   "outputs": [
    {
     "name": "stdout",
     "output_type": "stream",
     "text": [
      "42\n",
      "18\n",
      "360\n",
      "2.5\n",
      "2\n",
      "6\n"
     ]
    }
   ],
   "source": [
    "# Arithmetic operators(+,-,*,/,//,%)\n",
    "a=30\n",
    "b=12\n",
    "print(a+b)\n",
    "print(a-b)\n",
    "print(a*b)\n",
    "print(a/b)\n",
    "print(a//b)\n",
    "print(a%b)"
   ]
  },
  {
   "cell_type": "code",
   "execution_count": 5,
   "id": "5d2c9424",
   "metadata": {},
   "outputs": [
    {
     "name": "stdout",
     "output_type": "stream",
     "text": [
      "True\n",
      "False\n",
      "False\n",
      "False\n"
     ]
    }
   ],
   "source": [
    "# logical operator(and,or,not)\n",
    "print(True and True)\n",
    "print(True and False)\n",
    "print(False and True)\n",
    "print(False and False)"
   ]
  },
  {
   "cell_type": "code",
   "execution_count": 6,
   "id": "49a5176d",
   "metadata": {},
   "outputs": [
    {
     "name": "stdout",
     "output_type": "stream",
     "text": [
      "True\n",
      "True\n",
      "True\n",
      "False\n"
     ]
    }
   ],
   "source": [
    "print(True or True)\n",
    "print(True or False)\n",
    "print(False or True)\n",
    "print(False or False)"
   ]
  },
  {
   "cell_type": "code",
   "execution_count": 9,
   "id": "46095ab1",
   "metadata": {},
   "outputs": [
    {
     "data": {
      "text/plain": [
       "True"
      ]
     },
     "execution_count": 9,
     "metadata": {},
     "output_type": "execute_result"
    }
   ],
   "source": [
    "x=10\n",
    "y=10\n",
    "x is y"
   ]
  },
  {
   "cell_type": "code",
   "execution_count": 13,
   "id": "4f4de7d2",
   "metadata": {},
   "outputs": [
    {
     "name": "stdout",
     "output_type": "stream",
     "text": [
      "15\n",
      "300\n"
     ]
    }
   ],
   "source": [
    "# Assignment operator(=,*=,+=,-=,/=,%=)\n",
    "a=10\n",
    "a+=5 # a=a+5\n",
    "print(a)"
   ]
  },
  {
   "cell_type": "code",
   "execution_count": 18,
   "id": "25227cec",
   "metadata": {},
   "outputs": [
    {
     "name": "stdout",
     "output_type": "stream",
     "text": [
      "200\n",
      "150\n",
      "15.0\n",
      "5.0\n"
     ]
    }
   ],
   "source": [
    "a=10\n",
    "a*=20 #a=a*20\n",
    "print(a)\n",
    "\n",
    "a-=50\n",
    "print(a)\n",
    "\n",
    "a/=10\n",
    "print(a)\n",
    "\n",
    "a%=10\n",
    "print(a)"
   ]
  },
  {
   "cell_type": "code",
   "execution_count": 26,
   "id": "4e83937e",
   "metadata": {},
   "outputs": [
    {
     "name": "stdout",
     "output_type": "stream",
     "text": [
      "False\n",
      "False\n",
      "True\n",
      "True\n",
      "False\n",
      "True\n"
     ]
    }
   ],
   "source": [
    "# comparision operator(>,<,>=,<=,!=,==)\n",
    "a=10\n",
    "b=10\n",
    "print(a>b)\n",
    "print(a<b)\n",
    "print(a<=b)\n",
    "print(a>=b)\n",
    "print(a!=b)\n",
    "print(a==b)"
   ]
  },
  {
   "cell_type": "code",
   "execution_count": 27,
   "id": "2b9766fc",
   "metadata": {},
   "outputs": [
    {
     "name": "stdout",
     "output_type": "stream",
     "text": [
      "False\n",
      "True\n"
     ]
    }
   ],
   "source": [
    "# identity operator()\n",
    "a=10\n",
    "b=20\n",
    "print(a is b)\n",
    "print(a is not b)"
   ]
  },
  {
   "cell_type": "code",
   "execution_count": 30,
   "id": "7304777d",
   "metadata": {},
   "outputs": [
    {
     "name": "stdout",
     "output_type": "stream",
     "text": [
      "True\n",
      "True\n",
      "False\n",
      "True\n"
     ]
    }
   ],
   "source": [
    "# membership operator\n",
    "a=\"vedha\"\n",
    "print(\"d\" in a)\n",
    "print(\"v\" in a)\n",
    "print(\"z\" in a)\n",
    "print(\"z\" not in a)"
   ]
  },
  {
   "cell_type": "markdown",
   "id": "1b269db4",
   "metadata": {},
   "source": [
    "# conditional statements\n",
    "### if -->checks for single case\n",
    "#### syntax:\n",
    "    if(condition):\n",
    "        //statements\n",
    "        \n",
    "        \n",
    "### if else --> To check whether given condition is true or false\n",
    "##### syntax:\n",
    "    if(condition):\n",
    "        //statements\n",
    "    else:\n",
    "        //statements\n",
    "\n",
    "### nested if:--> If first condition is true it checks inner if (or) else part or it returns the else part\n",
    "#### syntax:\n",
    "    if(condition1):\n",
    "        //statements\n",
    "        if(condition2):\n",
    "            //statements\n",
    "         else:\n",
    "         //statements\n",
    "    else:\n",
    "    //statements\n",
    "    \n",
    "### elseif:--> It checks n number of cases\n",
    "#### syntax:\n",
    "    if(condition1):\n",
    "        //statements\n",
    "        elif(condition2):\n",
    "            //statements\n",
    "        elif(condition3):\n",
    "            //statements\n",
    "        else:\n",
    "            //statements    \n",
    "            \n"
   ]
  },
  {
   "cell_type": "code",
   "execution_count": 38,
   "id": "63b14569",
   "metadata": {},
   "outputs": [
    {
     "name": "stdout",
     "output_type": "stream",
     "text": [
      "20 is big\n"
     ]
    }
   ],
   "source": [
    "# biggest of two numbers\n",
    "a=20\n",
    "b=10\n",
    "if(a>b):\n",
    "    print(\"{} is big\".format(a))"
   ]
  },
  {
   "cell_type": "code",
   "execution_count": 39,
   "id": "e9242b22",
   "metadata": {},
   "outputs": [
    {
     "name": "stdout",
     "output_type": "stream",
     "text": [
      "30\n",
      "40\n",
      "40 is big\n"
     ]
    }
   ],
   "source": [
    "a=int(input())\n",
    "b=int(input())\n",
    "if(a>b):\n",
    "    print(\"{} is big\".format(a))\n",
    "else:\n",
    "    print(\"{} is big\".format(b))"
   ]
  },
  {
   "cell_type": "code",
   "execution_count": 41,
   "id": "ef4a450e",
   "metadata": {},
   "outputs": [
    {
     "name": "stdout",
     "output_type": "stream",
     "text": [
      "enter the age19\n",
      "eligible to vote\n"
     ]
    }
   ],
   "source": [
    "# eligible to vote or not\n",
    "a=int(input(\"enter the age\"))\n",
    "if(a>=18):\n",
    "    print(\"eligible to vote\")\n",
    "else:\n",
    "    print(\"not eligible to vote\")"
   ]
  },
  {
   "cell_type": "code",
   "execution_count": 48,
   "id": "e00ad7cc",
   "metadata": {},
   "outputs": [
    {
     "name": "stdout",
     "output_type": "stream",
     "text": [
      "3\n",
      "2\n",
      "1\n",
      "3 is big\n"
     ]
    }
   ],
   "source": [
    "# biggest of three numbers\n",
    "a=int(input())\n",
    "b=int(input())\n",
    "c=int(input())\n",
    "if(a>b):\n",
    "    if(a>c):\n",
    "        print(\"{} is big\".format(a))\n",
    "    else:\n",
    "            print(\"{} is big\".format(c))\n",
    "elif(b>c):\n",
    "    print(\"{} is big\".format(b))\n",
    "else:\n",
    "    print(\"{} is big\".format(c))"
   ]
  },
  {
   "cell_type": "code",
   "execution_count": 49,
   "id": "1e2a09ee",
   "metadata": {},
   "outputs": [
    {
     "name": "stdout",
     "output_type": "stream",
     "text": [
      "20\n",
      "30\n",
      "10\n",
      "30 is big\n"
     ]
    }
   ],
   "source": [
    "# biggest of three numbers\n",
    "a=int(input())\n",
    "b=int(input())\n",
    "c=int(input())\n",
    "if(a>b and a>c):\n",
    "    print(\"{} is big\".format(a))\n",
    "elif(b>c):\n",
    "    print(\"{} is big\".format(b))\n",
    "else:\n",
    "    print(\"{} is big\".format(c))  "
   ]
  },
  {
   "cell_type": "code",
   "execution_count": 52,
   "id": "c23d3aee",
   "metadata": {},
   "outputs": [
    {
     "name": "stdout",
     "output_type": "stream",
     "text": [
      "3\n",
      "3 is odd\n"
     ]
    }
   ],
   "source": [
    "# even or odd\n",
    "a=int(input())\n",
    "if(a%2==0):\n",
    "    print(\"{} is even\".format(a))\n",
    "else:\n",
    "    print(\"{} is odd\".format(a))"
   ]
  },
  {
   "cell_type": "code",
   "execution_count": 56,
   "id": "e8ee227f",
   "metadata": {},
   "outputs": [
    {
     "name": "stdout",
     "output_type": "stream",
     "text": [
      "30\n",
      "40\n",
      "50\n",
      "30 is not in given range\n"
     ]
    }
   ],
   "source": [
    "# check the given number is in given range or not\n",
    "a=int(input())\n",
    "b=int(input())\n",
    "c=int(input())\n",
    "if(a>=b and a<=c):\n",
    "    print(\"{} is in given range\".format(a))\n",
    "else:\n",
    "    print(\"{} is not in given range\".format(a))"
   ]
  },
  {
   "cell_type": "code",
   "execution_count": 58,
   "id": "976640eb",
   "metadata": {},
   "outputs": [
    {
     "name": "stdout",
     "output_type": "stream",
     "text": [
      "123 is equal to 123\n"
     ]
    }
   ],
   "source": [
    "# check if given string is equal to number or not\n",
    "s=\"123\"\n",
    "n=123\n",
    "if str(n) == s:\n",
    "    print(n,\"is equal to\",s)\n",
    "else:\n",
    "    print(n,\"is not equal to\",s)"
   ]
  },
  {
   "cell_type": "code",
   "execution_count": 61,
   "id": "84c7eef4",
   "metadata": {},
   "outputs": [
    {
     "name": "stdout",
     "output_type": "stream",
     "text": [
      "vedha\n",
      "123\n"
     ]
    },
    {
     "ename": "ValueError",
     "evalue": "invalid literal for int() with base 10: 'vedha'",
     "output_type": "error",
     "traceback": [
      "\u001b[1;31m---------------------------------------------------------------------------\u001b[0m",
      "\u001b[1;31mValueError\u001b[0m                                Traceback (most recent call last)",
      "\u001b[1;32m<ipython-input-61-2a2264f0bb97>\u001b[0m in \u001b[0;36m<module>\u001b[1;34m\u001b[0m\n\u001b[0;32m      1\u001b[0m \u001b[0ms\u001b[0m\u001b[1;33m=\u001b[0m\u001b[0minput\u001b[0m\u001b[1;33m(\u001b[0m\u001b[1;33m)\u001b[0m\u001b[1;33m\u001b[0m\u001b[1;33m\u001b[0m\u001b[0m\n\u001b[0;32m      2\u001b[0m \u001b[0mn\u001b[0m\u001b[1;33m=\u001b[0m\u001b[0mint\u001b[0m\u001b[1;33m(\u001b[0m\u001b[0minput\u001b[0m\u001b[1;33m(\u001b[0m\u001b[1;33m)\u001b[0m\u001b[1;33m)\u001b[0m\u001b[1;33m\u001b[0m\u001b[1;33m\u001b[0m\u001b[0m\n\u001b[1;32m----> 3\u001b[1;33m \u001b[1;32mif\u001b[0m \u001b[0mn\u001b[0m \u001b[1;33m==\u001b[0m \u001b[0mint\u001b[0m\u001b[1;33m(\u001b[0m\u001b[0ms\u001b[0m\u001b[1;33m)\u001b[0m\u001b[1;33m:\u001b[0m\u001b[1;33m\u001b[0m\u001b[1;33m\u001b[0m\u001b[0m\n\u001b[0m\u001b[0;32m      4\u001b[0m     \u001b[0mprint\u001b[0m\u001b[1;33m(\u001b[0m\u001b[0mn\u001b[0m\u001b[1;33m,\u001b[0m\u001b[1;34m\"is equal to\"\u001b[0m\u001b[1;33m,\u001b[0m\u001b[0ms\u001b[0m\u001b[1;33m)\u001b[0m\u001b[1;33m\u001b[0m\u001b[1;33m\u001b[0m\u001b[0m\n\u001b[0;32m      5\u001b[0m \u001b[1;32melse\u001b[0m\u001b[1;33m:\u001b[0m\u001b[1;33m\u001b[0m\u001b[1;33m\u001b[0m\u001b[0m\n",
      "\u001b[1;31mValueError\u001b[0m: invalid literal for int() with base 10: 'vedha'"
     ]
    }
   ],
   "source": [
    "s=input()\n",
    "n=int(input())\n",
    "if n == int(s):\n",
    "    print(n,\"is equal to\",s)\n",
    "else:\n",
    "    print(n,\"is not equal to\",s)"
   ]
  },
  {
   "cell_type": "markdown",
   "id": "3c715f99",
   "metadata": {},
   "source": [
    "# initialization of loop\n",
    "# conduction checking\n",
    "## in/decrement\n",
    "\n",
    "## while\n",
    "## for loop\n",
    "## nested loop\n",
    "## loop control statements"
   ]
  },
  {
   "cell_type": "code",
   "execution_count": 1,
   "id": "7177de55",
   "metadata": {},
   "outputs": [
    {
     "name": "stdout",
     "output_type": "stream",
     "text": [
      "0\n",
      "1\n",
      "2\n",
      "3\n",
      "4\n",
      "5\n",
      "6\n",
      "7\n",
      "8\n",
      "9\n",
      "10\n"
     ]
    }
   ],
   "source": [
    "i=0\n",
    "while i<=10:\n",
    "    print(i)\n",
    "    i=i+1"
   ]
  },
  {
   "cell_type": "code",
   "execution_count": 1,
   "id": "2e19540a",
   "metadata": {},
   "outputs": [
    {
     "name": "stdout",
     "output_type": "stream",
     "text": [
      "0\n",
      "2\n",
      "4\n",
      "6\n",
      "8\n"
     ]
    }
   ],
   "source": [
    "i=0\n",
    "while i<10:\n",
    "    if i%2==0:\n",
    "        print(i)\n",
    "    i=i+1"
   ]
  },
  {
   "cell_type": "code",
   "execution_count": 2,
   "id": "d0534ba2",
   "metadata": {},
   "outputs": [
    {
     "name": "stdout",
     "output_type": "stream",
     "text": [
      "Even Number is 0\n",
      "odd number is 1\n",
      "Even Number is 2\n",
      "odd number is 3\n",
      "Even Number is 4\n",
      "odd number is 5\n",
      "Even Number is 6\n",
      "odd number is 7\n",
      "Even Number is 8\n",
      "odd number is 9\n",
      "Even Number is 10\n"
     ]
    }
   ],
   "source": [
    "i=0\n",
    "while i<=10:\n",
    "    if i%2==0:\n",
    "        print(\"Even Number is\",i)\n",
    "    else:\n",
    "        print(\"odd number is\",i)\n",
    "    i=i+1"
   ]
  },
  {
   "cell_type": "code",
   "execution_count": 4,
   "id": "0cd697e8",
   "metadata": {},
   "outputs": [
    {
     "name": "stdout",
     "output_type": "stream",
     "text": [
      "\n",
      "*\n",
      "**\n",
      "***\n",
      "****\n",
      "*****\n"
     ]
    }
   ],
   "source": [
    "i=0\n",
    "while i<=5:\n",
    "    print(\"*\"*i)\n",
    "    i=i+1"
   ]
  },
  {
   "cell_type": "code",
   "execution_count": 5,
   "id": "e0987aa0",
   "metadata": {},
   "outputs": [
    {
     "name": "stdout",
     "output_type": "stream",
     "text": [
      "**********\n",
      "*********\n",
      "********\n",
      "*******\n",
      "******\n",
      "*****\n",
      "****\n",
      "***\n",
      "**\n",
      "*\n",
      "\n"
     ]
    }
   ],
   "source": [
    "i=10\n",
    "while i>=0:\n",
    "    print(\"*\"*i)\n",
    "    i=i-1"
   ]
  },
  {
   "cell_type": "code",
   "execution_count": 6,
   "id": "a766f9f7",
   "metadata": {},
   "outputs": [
    {
     "name": "stdout",
     "output_type": "stream",
     "text": [
      "😄😄😄😄😄😄😄😄😄😄\n",
      "😄😄😄😄😄😄😄😄😄\n",
      "😄😄😄😄😄😄😄😄\n",
      "😄😄😄😄😄😄😄\n",
      "😄😄😄😄😄😄\n",
      "😄😄😄😄😄\n",
      "😄😄😄😄\n",
      "😄😄😄\n",
      "😄😄\n",
      "😄\n",
      "\n"
     ]
    }
   ],
   "source": [
    "i=10\n",
    "while i>=0:\n",
    "    print(\"😄\"*i)\n",
    "    i=i-1"
   ]
  },
  {
   "cell_type": "code",
   "execution_count": 7,
   "id": "a9d57538",
   "metadata": {},
   "outputs": [
    {
     "name": "stdout",
     "output_type": "stream",
     "text": [
      "\n",
      "😄\n",
      "😄😄\n",
      "😄😄😄\n",
      "😄😄😄😄\n",
      "😄😄😄😄😄\n",
      "😄😄😄😄😄😄\n",
      "😄😄😄😄😄😄😄\n",
      "😄😄😄😄😄😄😄😄\n",
      "😄😄😄😄😄😄😄😄😄\n",
      "😄😄😄😄😄😄😄😄😄😄\n"
     ]
    }
   ],
   "source": [
    "i=0\n",
    "while i<=10:\n",
    "    print(\"😄\"*i)\n",
    "    i=i+1"
   ]
  },
  {
   "cell_type": "code",
   "execution_count": 2,
   "id": "b66e3fe6",
   "metadata": {},
   "outputs": [
    {
     "name": "stdout",
     "output_type": "stream",
     "text": [
      "Enter the number5\n",
      "1,2,3,4,5,15\n"
     ]
    }
   ],
   "source": [
    "# 5 1+2+3+4+5=15\n",
    "n=int(input(\"Enter the number\"))\n",
    "summ=0\n",
    "i=1\n",
    "while i<=n:\n",
    "    print(i,end=\",\")\n",
    "    summ=summ+i\n",
    "    i=i+1\n",
    "print(summ)    "
   ]
  },
  {
   "cell_type": "code",
   "execution_count": 5,
   "id": "4f2cb62a",
   "metadata": {},
   "outputs": [
    {
     "name": "stdout",
     "output_type": "stream",
     "text": [
      "Enter the number:4\n",
      "1,2,3,4,factorial of number is  24\n"
     ]
    }
   ],
   "source": [
    "n=int(input(\"Enter the number:\"))\n",
    "fact=1\n",
    "i=1\n",
    "while i<=n:\n",
    "    print(i,end=\",\")\n",
    "    fact=fact*i\n",
    "    i=i+1\n",
    "print(\"factorial of number is \",fact)    "
   ]
  },
  {
   "cell_type": "markdown",
   "id": "1231200e",
   "metadata": {},
   "source": [
    "# loop control systems\n",
    "## break \n",
    "## continue\n",
    "## pass"
   ]
  },
  {
   "cell_type": "code",
   "execution_count": 6,
   "id": "dea54bae",
   "metadata": {},
   "outputs": [
    {
     "name": "stdout",
     "output_type": "stream",
     "text": [
      "0\n",
      "1\n",
      "2\n",
      "3\n",
      "4\n",
      "5\n"
     ]
    }
   ],
   "source": [
    "i=0\n",
    "while i<=5:\n",
    "    print(i)\n",
    "    i=i+1\n"
   ]
  },
  {
   "cell_type": "code",
   "execution_count": 5,
   "id": "07e2033c",
   "metadata": {},
   "outputs": [
    {
     "name": "stdout",
     "output_type": "stream",
     "text": [
      "1\n",
      "2\n",
      "3\n"
     ]
    }
   ],
   "source": [
    "i=0\n",
    "while i<10:\n",
    "    if i==3:\n",
    "        break\n",
    "    i=i+1\n",
    "    print(i)"
   ]
  },
  {
   "cell_type": "code",
   "execution_count": 4,
   "id": "07ba23ab",
   "metadata": {},
   "outputs": [
    {
     "name": "stdout",
     "output_type": "stream",
     "text": [
      "1\n",
      "2\n",
      "4\n",
      "5\n",
      "6\n",
      "7\n",
      "8\n",
      "9\n",
      "10\n"
     ]
    }
   ],
   "source": [
    "i=0\n",
    "while i<10:\n",
    "    i=i+1\n",
    "    if i==3:\n",
    "        continue\n",
    "    print(i)"
   ]
  },
  {
   "cell_type": "markdown",
   "id": "f749351c",
   "metadata": {},
   "source": [
    "## start value for loop\n",
    "## end value for loop\n",
    "## step"
   ]
  },
  {
   "cell_type": "code",
   "execution_count": 6,
   "id": "2cae65f0",
   "metadata": {},
   "outputs": [
    {
     "name": "stdout",
     "output_type": "stream",
     "text": [
      "0\n",
      "10\n",
      "2\n"
     ]
    }
   ],
   "source": [
    "for vignan in (0,10,2):\n",
    "    print(vignan)"
   ]
  },
  {
   "cell_type": "code",
   "execution_count": 7,
   "id": "81f3b24f",
   "metadata": {},
   "outputs": [
    {
     "name": "stdout",
     "output_type": "stream",
     "text": [
      "0\n",
      "2\n",
      "4\n",
      "6\n",
      "8\n"
     ]
    }
   ],
   "source": [
    "for kl in range(0,10,2):\n",
    "    print(kl)"
   ]
  },
  {
   "cell_type": "code",
   "execution_count": 10,
   "id": "24ea2421",
   "metadata": {},
   "outputs": [
    {
     "name": "stdout",
     "output_type": "stream",
     "text": [
      "10,12,14,16,18,20,22,24,26,28,30,32,34,36,38,40,42,44,46,48,50,52,54,56,58,60,62,64,66,68,70,72,74,76,78,80,82,84,86,88,90,92,94,96,98,100,"
     ]
    }
   ],
   "source": [
    "for i in range(10,101,2):\n",
    "    print(i,end=\",\")"
   ]
  },
  {
   "cell_type": "code",
   "execution_count": 13,
   "id": "06fa4bca",
   "metadata": {},
   "outputs": [
    {
     "name": "stdout",
     "output_type": "stream",
     "text": [
      "500,502,504,506,508,510,512,514,516,518,520,522,524,526,528,530,532,534,536,538,540,542,544,546,548,550,552,554,556,558,560,562,564,566,568,570,572,574,576,578,580,582,584,586,588,590,592,594,596,598,600,602,604,606,608,610,612,614,616,618,620,622,624,626,628,630,632,634,636,638,640,642,644,646,648,650,652,654,656,658,660,662,664,666,668,670,672,674,676,678,680,682,684,686,688,690,692,694,696,698,700,702,704,706,708,710,712,714,716,718,720,722,724,726,728,730,732,734,736,738,740,742,744,746,748,750,752,754,756,758,760,762,764,766,768,770,772,774,776,778,780,782,784,786,788,790,792,794,796,798,800,802,804,806,808,810,812,814,816,818,820,822,824,826,828,830,832,834,836,838,840,842,844,846,848,850,852,854,856,858,860,862,864,866,868,870,872,874,876,878,880,882,884,886,888,890,892,894,896,898,900,902,904,906,908,910,912,914,916,918,920,922,924,926,928,930,932,934,936,938,940,942,944,946,948,950,952,954,956,958,960,962,964,966,968,970,972,974,976,978,980,982,984,986,988,990,992,994,996,998,1000,"
     ]
    }
   ],
   "source": [
    "for i in range(500,1002,2):\n",
    "    print(i,end=\",\")"
   ]
  },
  {
   "cell_type": "code",
   "execution_count": 14,
   "id": "6c4a188a",
   "metadata": {},
   "outputs": [
    {
     "name": "stdout",
     "output_type": "stream",
     "text": [
      "100,98,96,94,92,90,88,86,84,82,80,78,76,74,72,70,68,66,64,62,60,58,56,54,52,50,48,46,44,42,40,38,36,34,32,30,28,26,24,22,20,18,16,14,12,"
     ]
    }
   ],
   "source": [
    "for i in range(100,10,-2):\n",
    "              print(i,end=\",\")"
   ]
  },
  {
   "cell_type": "code",
   "execution_count": 15,
   "id": "78703014",
   "metadata": {},
   "outputs": [
    {
     "name": "stdout",
     "output_type": "stream",
     "text": [
      "good afternoon\n",
      "good afternoon\n",
      "good afternoon\n",
      "good afternoon\n",
      "good afternoon\n",
      "good afternoon\n",
      "good afternoon\n",
      "good afternoon\n",
      "good afternoon\n",
      "good afternoon\n",
      "good afternoon\n",
      "good afternoon\n",
      "good afternoon\n",
      "good afternoon\n",
      "good afternoon\n",
      "good afternoon\n",
      "good afternoon\n",
      "good afternoon\n",
      "good afternoon\n",
      "good afternoon\n",
      "good afternoon\n",
      "good afternoon\n",
      "good afternoon\n",
      "good afternoon\n",
      "good afternoon\n",
      "good afternoon\n",
      "good afternoon\n",
      "good afternoon\n",
      "good afternoon\n",
      "good afternoon\n",
      "good afternoon\n",
      "good afternoon\n",
      "good afternoon\n",
      "good afternoon\n",
      "good afternoon\n",
      "good afternoon\n",
      "good afternoon\n",
      "good afternoon\n",
      "good afternoon\n",
      "good afternoon\n",
      "good afternoon\n",
      "good afternoon\n",
      "good afternoon\n",
      "good afternoon\n",
      "good afternoon\n",
      "good afternoon\n",
      "good afternoon\n",
      "good afternoon\n",
      "good afternoon\n",
      "good afternoon\n",
      "good afternoon\n",
      "good afternoon\n",
      "good afternoon\n",
      "good afternoon\n",
      "good afternoon\n",
      "good afternoon\n",
      "good afternoon\n",
      "good afternoon\n",
      "good afternoon\n",
      "good afternoon\n",
      "good afternoon\n",
      "good afternoon\n",
      "good afternoon\n",
      "good afternoon\n",
      "good afternoon\n",
      "good afternoon\n",
      "good afternoon\n",
      "good afternoon\n",
      "good afternoon\n",
      "good afternoon\n",
      "good afternoon\n",
      "good afternoon\n",
      "good afternoon\n",
      "good afternoon\n",
      "good afternoon\n",
      "good afternoon\n",
      "good afternoon\n",
      "good afternoon\n",
      "good afternoon\n",
      "good afternoon\n",
      "good afternoon\n",
      "good afternoon\n",
      "good afternoon\n",
      "good afternoon\n",
      "good afternoon\n",
      "good afternoon\n",
      "good afternoon\n",
      "good afternoon\n",
      "good afternoon\n",
      "good afternoon\n",
      "good afternoon\n",
      "good afternoon\n",
      "good afternoon\n",
      "good afternoon\n",
      "good afternoon\n",
      "good afternoon\n",
      "good afternoon\n",
      "good afternoon\n",
      "good afternoon\n",
      "good afternoon\n"
     ]
    }
   ],
   "source": [
    "for i in range(100):\n",
    "    print(\"good afternoon\")"
   ]
  },
  {
   "cell_type": "code",
   "execution_count": 16,
   "id": "62d667c1",
   "metadata": {},
   "outputs": [
    {
     "name": "stdout",
     "output_type": "stream",
     "text": [
      "99\n",
      "98\n",
      "97\n",
      "96\n",
      "95\n",
      "94\n",
      "93\n",
      "92\n",
      "91\n",
      "90\n",
      "89\n",
      "88\n",
      "87\n",
      "86\n",
      "85\n",
      "84\n",
      "83\n",
      "82\n",
      "81\n",
      "80\n",
      "79\n",
      "78\n",
      "77\n",
      "76\n",
      "75\n",
      "74\n",
      "73\n",
      "72\n",
      "71\n",
      "70\n",
      "69\n",
      "68\n",
      "67\n",
      "66\n",
      "65\n",
      "64\n",
      "63\n",
      "62\n",
      "61\n",
      "60\n",
      "59\n",
      "58\n",
      "57\n",
      "56\n",
      "55\n",
      "54\n",
      "53\n",
      "52\n",
      "51\n",
      "50\n",
      "49\n",
      "48\n",
      "47\n",
      "46\n",
      "45\n",
      "44\n",
      "43\n",
      "42\n",
      "41\n",
      "40\n",
      "39\n",
      "38\n",
      "37\n",
      "36\n",
      "35\n",
      "34\n",
      "33\n",
      "32\n",
      "31\n",
      "30\n",
      "29\n",
      "28\n",
      "27\n",
      "26\n",
      "25\n",
      "24\n",
      "23\n",
      "22\n",
      "21\n",
      "20\n",
      "19\n",
      "18\n",
      "17\n",
      "16\n",
      "15\n",
      "14\n",
      "13\n",
      "12\n",
      "11\n",
      "10\n",
      "9\n",
      "8\n",
      "7\n",
      "6\n",
      "5\n",
      "4\n",
      "3\n",
      "2\n",
      "1\n",
      "0\n"
     ]
    }
   ],
   "source": [
    "for i in reversed(range(100)):\n",
    "    print(i)"
   ]
  },
  {
   "cell_type": "code",
   "execution_count": 17,
   "id": "dc0b97e6",
   "metadata": {},
   "outputs": [
    {
     "name": "stdout",
     "output_type": "stream",
     "text": [
      "98\n",
      "96\n",
      "94\n",
      "92\n",
      "90\n",
      "88\n",
      "86\n",
      "84\n",
      "82\n",
      "80\n",
      "78\n",
      "76\n",
      "74\n",
      "72\n",
      "70\n",
      "68\n",
      "66\n",
      "64\n",
      "62\n",
      "60\n",
      "58\n",
      "56\n",
      "54\n",
      "52\n",
      "50\n",
      "48\n",
      "46\n",
      "44\n",
      "42\n",
      "40\n",
      "38\n",
      "36\n",
      "34\n",
      "32\n",
      "30\n",
      "28\n",
      "26\n",
      "24\n",
      "22\n",
      "20\n",
      "18\n",
      "16\n",
      "14\n",
      "12\n",
      "10\n",
      "8\n",
      "6\n",
      "4\n",
      "2\n",
      "0\n"
     ]
    }
   ],
   "source": [
    "for i in reversed(range(0,100,2)):\n",
    "    print(i)"
   ]
  },
  {
   "cell_type": "code",
   "execution_count": 6,
   "id": "ec28e8fe",
   "metadata": {},
   "outputs": [
    {
     "name": "stdout",
     "output_type": "stream",
     "text": [
      "enter the number5\n",
      "its prime number 5\n"
     ]
    }
   ],
   "source": [
    "n=int(input(\"enter the number\"))\n",
    "if n>0:\n",
    "    for i in range(2,n+1):\n",
    "        if n%i==0:\n",
    "            print(\"its prime number\",n)\n",
    "            break\n",
    "    else:\n",
    "            print(\"not prime number\",n)"
   ]
  },
  {
   "cell_type": "code",
   "execution_count": 7,
   "id": "752fa131",
   "metadata": {},
   "outputs": [
    {
     "name": "stdout",
     "output_type": "stream",
     "text": [
      "enter the number123\n",
      "321\n"
     ]
    }
   ],
   "source": [
    "# reverse*10+remainder\n",
    "n=int(input(\"enter the number\"))\n",
    "rev=0\n",
    "while n>0:\n",
    "    rem=n%10\n",
    "    rev=rev*10+rem\n",
    "    n=n//10\n",
    "print(rev)\n",
    "    "
   ]
  },
  {
   "cell_type": "code",
   "execution_count": null,
   "id": "db145217",
   "metadata": {},
   "outputs": [],
   "source": [
    "for i in range(10):\n",
    "    "
   ]
  },
  {
   "cell_type": "code",
   "execution_count": 9,
   "id": "c5b036e7",
   "metadata": {},
   "outputs": [
    {
     "name": "stdout",
     "output_type": "stream",
     "text": [
      "enter the number5\n",
      "120\n"
     ]
    }
   ],
   "source": [
    "num=int(input(\"enter the number\"))\n",
    "fact=1\n",
    "for i in range(1,num+1):\n",
    "    fact=fact*i\n",
    "print(fact)"
   ]
  },
  {
   "cell_type": "markdown",
   "id": "3cce2492",
   "metadata": {},
   "source": [
    "# nested loop"
   ]
  },
  {
   "cell_type": "code",
   "execution_count": 11,
   "id": "adfee6eb",
   "metadata": {},
   "outputs": [
    {
     "name": "stdout",
     "output_type": "stream",
     "text": [
      "012345"
     ]
    }
   ],
   "source": [
    "for i in range(6):\n",
    "    print(i,end=\"\")"
   ]
  },
  {
   "cell_type": "code",
   "execution_count": 14,
   "id": "9f929667",
   "metadata": {},
   "outputs": [
    {
     "name": "stdout",
     "output_type": "stream",
     "text": [
      "1\n",
      "12\n",
      "123\n",
      "1234\n",
      "12345\n"
     ]
    }
   ],
   "source": [
    "for i in range(1,6):\n",
    "    for k in range(1,i+1):\n",
    "        print(k,end=\"\")\n",
    "    print()"
   ]
  },
  {
   "cell_type": "code",
   "execution_count": 16,
   "id": "511196fc",
   "metadata": {},
   "outputs": [
    {
     "name": "stdout",
     "output_type": "stream",
     "text": [
      "['False', 'None', 'True', 'and', 'as', 'assert', 'async', 'await', 'break', 'class', 'continue', 'def', 'del', 'elif', 'else', 'except', 'finally', 'for', 'from', 'global', 'if', 'import', 'in', 'is', 'lambda', 'nonlocal', 'not', 'or', 'pass', 'raise', 'return', 'try', 'while', 'with', 'yield']\n"
     ]
    }
   ],
   "source": [
    "import keyword\n",
    "print(keyword.kwlist)"
   ]
  },
  {
   "cell_type": "code",
   "execution_count": 21,
   "id": "406c8a5a",
   "metadata": {},
   "outputs": [
    {
     "name": "stdout",
     "output_type": "stream",
     "text": [
      "65\n",
      "90\n",
      "97\n",
      "122\n",
      "z\n",
      "H\n"
     ]
    }
   ],
   "source": [
    "# ord()\n",
    "# chr()\n",
    "print(ord('A'))\n",
    "print(ord('Z'))\n",
    "print(ord('a'))\n",
    "print(ord('z'))\n",
    "print(chr(122))\n",
    "print(chr(72))"
   ]
  },
  {
   "cell_type": "code",
   "execution_count": 24,
   "id": "cfb7997a",
   "metadata": {},
   "outputs": [
    {
     "name": "stdout",
     "output_type": "stream",
     "text": [
      "A,B,C,D,E,F,G,H,I,J,K,L,M,N,O,P,Q,R,S,T,U,V,W,X,Y,Z,"
     ]
    }
   ],
   "source": [
    "for i in range(65,91):\n",
    "    print(chr(i),end=\",\")\n",
    "    "
   ]
  },
  {
   "cell_type": "code",
   "execution_count": 25,
   "id": "15de6eb3",
   "metadata": {},
   "outputs": [
    {
     "name": "stdout",
     "output_type": "stream",
     "text": [
      "a,b,c,d,e,f,g,h,i,j,k,l,m,n,o,p,q,r,s,t,u,v,w,x,y,z,"
     ]
    }
   ],
   "source": [
    "for i in range(97,123):\n",
    "    print(chr(i),end=\",\")"
   ]
  },
  {
   "cell_type": "code",
   "execution_count": 26,
   "id": "27e541bd",
   "metadata": {},
   "outputs": [
    {
     "name": "stdout",
     "output_type": "stream",
     "text": [
      "A,B,C,D,E,F,G,H,I,J,K,L,M,N,O,P,Q,R,S,T,U,V,W,X,Y,Z,[,"
     ]
    }
   ],
   "source": [
    "for i in range(65,92):\n",
    "    print(chr(i),end=\",\")"
   ]
  },
  {
   "cell_type": "code",
   "execution_count": 28,
   "id": "cbb2c0ff",
   "metadata": {},
   "outputs": [
    {
     "name": "stdout",
     "output_type": "stream",
     "text": [
      "z,y,x,w,v,u,t,s,r,q,p,o,n,m,l,k,j,i,h,g,f,e,d,c,b,a,"
     ]
    }
   ],
   "source": [
    "for i in range(122,96,-1):\n",
    "    print(chr(i),end=\",\")"
   ]
  },
  {
   "cell_type": "code",
   "execution_count": 37,
   "id": "854655c0",
   "metadata": {},
   "outputs": [
    {
     "name": "stdout",
     "output_type": "stream",
     "text": [
      "A\n",
      "AB\n",
      "ABC\n",
      "ABCD\n",
      "ABCDE\n"
     ]
    }
   ],
   "source": [
    "for i in range(65,70):\n",
    "    for k in range(65,i+1):\n",
    "            print(chr(k),end=\"\")\n",
    "    print()\n",
    "        "
   ]
  },
  {
   "cell_type": "code",
   "execution_count": 44,
   "id": "1f88be9e",
   "metadata": {
    "scrolled": true
   },
   "outputs": [
    {
     "name": "stdout",
     "output_type": "stream",
     "text": [
      "ABCDEF\n",
      "ABCDE\n",
      "ABCD\n",
      "ABC\n",
      "AB\n",
      "A\n"
     ]
    }
   ],
   "source": [
    "for i in range(70,64,-1):\n",
    "    for k in range(65,i+1):\n",
    "            print(chr(k),end=\"\")\n",
    "    print()\n",
    "        "
   ]
  },
  {
   "cell_type": "code",
   "execution_count": 2,
   "id": "7cc05be9",
   "metadata": {},
   "outputs": [
    {
     "name": "stdout",
     "output_type": "stream",
     "text": [
      "enter the number370\n",
      "armstrong number\n"
     ]
    }
   ],
   "source": [
    "num=int(input(\"enter the number\"))\n",
    "summ=0\n",
    "check=num\n",
    "while num>0:\n",
    "    rem=num%10\n",
    "    summ=summ+rem**3\n",
    "    num=num//10\n",
    "if check==summ:\n",
    "    print(\"armstrong number\")\n",
    "else:\n",
    "    print(\"not an armstrong\")"
   ]
  },
  {
   "cell_type": "code",
   "execution_count": 4,
   "id": "a5ce59c7",
   "metadata": {},
   "outputs": [
    {
     "name": "stdout",
     "output_type": "stream",
     "text": [
      "<class 'str'>\n",
      "vignan womens clg"
     ]
    }
   ],
   "source": [
    "st=\"vignan womens clg\"\n",
    "print(type(st))\n",
    "for i in st:\n",
    "    print(i,end=\"\")"
   ]
  },
  {
   "cell_type": "code",
   "execution_count": 9,
   "id": "7dfa8493",
   "metadata": {},
   "outputs": [
    {
     "name": "stdout",
     "output_type": "stream",
     "text": [
      "5\n",
      "h\n",
      "o\n",
      "l\n",
      "l\n"
     ]
    }
   ],
   "source": [
    "vg=\"hello\"\n",
    "print(len(vg))\n",
    "print(vg[0])\n",
    "print(vg[4])\n",
    "print(vg[-2])\n",
    "print(vg[-3])"
   ]
  },
  {
   "cell_type": "code",
   "execution_count": 10,
   "id": "8a44f0f6",
   "metadata": {},
   "outputs": [
    {
     "name": "stdout",
     "output_type": "stream",
     "text": [
      "egelloc nangiv\n"
     ]
    }
   ],
   "source": [
    "vgl=\"vignan college\"\n",
    "print(vgl[::-1])"
   ]
  },
  {
   "cell_type": "code",
   "execution_count": 13,
   "id": "0963d2f5",
   "metadata": {},
   "outputs": [
    {
     "name": "stdout",
     "output_type": "stream",
     "text": [
      "an c\n"
     ]
    }
   ],
   "source": [
    "vgl=\"vignan college\"\n",
    "print(vgl[4:8:])"
   ]
  },
  {
   "cell_type": "code",
   "execution_count": 19,
   "id": "a31f1aaf",
   "metadata": {},
   "outputs": [
    {
     "name": "stdout",
     "output_type": "stream",
     "text": [
      "morning\n"
     ]
    }
   ],
   "source": [
    "vgl2=\"good morning\"\n",
    "print(vgl2[5::])"
   ]
  },
  {
   "cell_type": "code",
   "execution_count": 22,
   "id": "fd1a7cd6",
   "metadata": {},
   "outputs": [
    {
     "name": "stdout",
     "output_type": "stream",
     "text": [
      "Vga nttt fEgneigFrWmn\n"
     ]
    }
   ],
   "source": [
    "vgs=\"Vignan Institute of Engineering For Women\"\n",
    "print(vgs[::2])"
   ]
  },
  {
   "cell_type": "code",
   "execution_count": 24,
   "id": "4c432004",
   "metadata": {},
   "outputs": [
    {
     "name": "stdout",
     "output_type": "stream",
     "text": [
      "nor ieg  utIai\n"
     ]
    }
   ],
   "source": [
    "vgs=\"Vignan Institute of Engineering For Women\"\n",
    "print(vgs[::-3])"
   ]
  },
  {
   "cell_type": "code",
   "execution_count": 26,
   "id": "e7417762",
   "metadata": {},
   "outputs": [
    {
     "name": "stdout",
     "output_type": "stream",
     "text": [
      "['__add__', '__class__', '__contains__', '__delattr__', '__dir__', '__doc__', '__eq__', '__format__', '__ge__', '__getattribute__', '__getitem__', '__getnewargs__', '__gt__', '__hash__', '__init__', '__init_subclass__', '__iter__', '__le__', '__len__', '__lt__', '__mod__', '__mul__', '__ne__', '__new__', '__reduce__', '__reduce_ex__', '__repr__', '__rmod__', '__rmul__', '__setattr__', '__sizeof__', '__str__', '__subclasshook__', 'capitalize', 'casefold', 'center', 'count', 'encode', 'endswith', 'expandtabs', 'find', 'format', 'format_map', 'index', 'isalnum', 'isalpha', 'isascii', 'isdecimal', 'isdigit', 'isidentifier', 'islower', 'isnumeric', 'isprintable', 'isspace', 'istitle', 'isupper', 'join', 'ljust', 'lower', 'lstrip', 'maketrans', 'partition', 'replace', 'rfind', 'rindex', 'rjust', 'rpartition', 'rsplit', 'rstrip', 'split', 'splitlines', 'startswith', 'strip', 'swapcase', 'title', 'translate', 'upper', 'zfill']\n"
     ]
    }
   ],
   "source": [
    "print(dir(str))"
   ]
  },
  {
   "cell_type": "code",
   "execution_count": 27,
   "id": "49e90777",
   "metadata": {},
   "outputs": [
    {
     "name": "stdout",
     "output_type": "stream",
     "text": [
      "['__add__', '__class__', '__contains__', '__delattr__', '__dir__', '__doc__', '__eq__', '__format__', '__ge__', '__getattribute__', '__getitem__', '__getnewargs__', '__gt__', '__hash__', '__init__', '__init_subclass__', '__iter__', '__le__', '__len__', '__lt__', '__mod__', '__mul__', '__ne__', '__new__', '__reduce__', '__reduce_ex__', '__repr__', '__rmod__', '__rmul__', '__setattr__', '__sizeof__', '__str__', '__subclasshook__', 'capitalize', 'casefold', 'center', 'count', 'encode', 'endswith', 'expandtabs', 'find', 'format', 'format_map', 'index', 'isalnum', 'isalpha', 'isascii', 'isdecimal', 'isdigit', 'isidentifier', 'islower', 'isnumeric', 'isprintable', 'isspace', 'istitle', 'isupper', 'join', 'ljust', 'lower', 'lstrip', 'maketrans', 'partition', 'replace', 'rfind', 'rindex', 'rjust', 'rpartition', 'rsplit', 'rstrip', 'split', 'splitlines', 'startswith', 'strip', 'swapcase', 'title', 'translate', 'upper', 'zfill']\n"
     ]
    }
   ],
   "source": [
    "print(dir(vgs))"
   ]
  },
  {
   "cell_type": "code",
   "execution_count": 8,
   "id": "df24f243",
   "metadata": {},
   "outputs": [
    {
     "name": "stdout",
     "output_type": "stream",
     "text": [
      "4\n",
      "True\n",
      "False\n"
     ]
    }
   ],
   "source": [
    "vgl=\"Vignan's Institute of Engineering for Women\"\n",
    "print(vgl.count('e'))\n",
    "print(vgl.endswith('n'))\n",
    "print(vgl.endswith('e'))"
   ]
  },
  {
   "cell_type": "code",
   "execution_count": 35,
   "id": "18be0b29",
   "metadata": {},
   "outputs": [
    {
     "name": "stdout",
     "output_type": "stream",
     "text": [
      "9\n",
      "19\n",
      "False\n"
     ]
    }
   ],
   "source": [
    "vgl=\"Vignan's Institute of Engineering for Women\"\n",
    "print(vgl.find('I'))\n",
    "print(vgl.index('o'))\n",
    "print(vgl.isalnum())"
   ]
  },
  {
   "cell_type": "code",
   "execution_count": 36,
   "id": "edb2b2f8",
   "metadata": {},
   "outputs": [
    {
     "name": "stdout",
     "output_type": "stream",
     "text": [
      "True\n"
     ]
    }
   ],
   "source": [
    "vgg=\"123\"\n",
    "print(vgg.isalnum())"
   ]
  },
  {
   "cell_type": "code",
   "execution_count": 38,
   "id": "1a7becdb",
   "metadata": {},
   "outputs": [
    {
     "name": "stdout",
     "output_type": "stream",
     "text": [
      "False\n"
     ]
    }
   ],
   "source": [
    "vgg=\"hello1\"\n",
    "print(vgg.isalpha())"
   ]
  },
  {
   "cell_type": "code",
   "execution_count": 39,
   "id": "8acb6387",
   "metadata": {},
   "outputs": [
    {
     "name": "stdout",
     "output_type": "stream",
     "text": [
      "False\n"
     ]
    }
   ],
   "source": [
    "vgg=\"1234@\"\n",
    "print(vgg.isdigit())"
   ]
  },
  {
   "cell_type": "code",
   "execution_count": 43,
   "id": "8835d755",
   "metadata": {},
   "outputs": [
    {
     "name": "stdout",
     "output_type": "stream",
     "text": [
      "Vedha\n",
      "                      vedha                       \n"
     ]
    }
   ],
   "source": [
    "snt=\"vedha\"\n",
    "print(snt.capitalize())\n",
    "print(snt.center(50))"
   ]
  },
  {
   "cell_type": "code",
   "execution_count": 44,
   "id": "01673051",
   "metadata": {},
   "outputs": [
    {
     "name": "stdout",
     "output_type": "stream",
     "text": [
      "True\n",
      "False\n",
      "vedha\n",
      "VEDHA\n",
      "VEDHA\n",
      "Vedha\n"
     ]
    }
   ],
   "source": [
    "snt=\"vedha\"\n",
    "print(snt.islower())\n",
    "print(snt.isupper())\n",
    "print(snt.lower())\n",
    "print(snt.upper())\n",
    "print(snt.swapcase())\n",
    "print(snt.title())"
   ]
  },
  {
   "cell_type": "code",
   "execution_count": 6,
   "id": "28a74e26",
   "metadata": {},
   "outputs": [
    {
     "name": "stdout",
     "output_type": "stream",
     "text": [
      "good afternoon\n",
      "14\n",
      "t\n",
      "t\n"
     ]
    }
   ],
   "source": [
    "s2=\"good afternoon\"\n",
    "print(s2)\n",
    "print(len(s2))\n",
    "print(s2[7])\n",
    "print(s2[len(s2)//2])"
   ]
  },
  {
   "cell_type": "code",
   "execution_count": 9,
   "id": "efd267b3",
   "metadata": {},
   "outputs": [
    {
     "name": "stdout",
     "output_type": "stream",
     "text": [
      "GoodAfternoon\n",
      "False\n"
     ]
    }
   ],
   "source": [
    "a=\"Good\"\n",
    "b=\"Afternoon\"\n",
    "c=a.__add__(b)\n",
    "print(c)\n",
    "d=a.__eq__(b)\n",
    "print(d)"
   ]
  },
  {
   "cell_type": "code",
   "execution_count": 11,
   "id": "351d7f6a",
   "metadata": {},
   "outputs": [
    {
     "name": "stdout",
     "output_type": "stream",
     "text": [
      "['Good', 'Afternoon', 'Every', 'One', 'From', 'Vignan']\n"
     ]
    }
   ],
   "source": [
    "sl=\"Good Afternoon Every One From Vignan\"\n",
    "s2=sl.split()\n",
    "print(s2)"
   ]
  },
  {
   "cell_type": "code",
   "execution_count": 12,
   "id": "0d0f2328",
   "metadata": {},
   "outputs": [
    {
     "name": "stdout",
     "output_type": "stream",
     "text": [
      "['Good Aft', 'rnoon Ev', 'ry On', ' From Vignan']\n"
     ]
    }
   ],
   "source": [
    "sl=\"Good Afternoon Every One From Vignan\"\n",
    "s2=sl.split('e')\n",
    "print(s2)"
   ]
  },
  {
   "cell_type": "code",
   "execution_count": 13,
   "id": "bc8e3325",
   "metadata": {},
   "outputs": [
    {
     "name": "stdout",
     "output_type": "stream",
     "text": [
      "GAfternoonoAfternoonoAfternoond\n"
     ]
    }
   ],
   "source": [
    "sl1=\"Good\"\n",
    "sl2=\"Afternoon\".join(sl1)\n",
    "print(sl2)"
   ]
  },
  {
   "cell_type": "code",
   "execution_count": 14,
   "id": "d2a32dfc",
   "metadata": {},
   "outputs": [
    {
     "name": "stdout",
     "output_type": "stream",
     "text": [
      "good@afternoon\n"
     ]
    }
   ],
   "source": [
    "s1=\"good afternoon\"\n",
    "s2=s1.split()\n",
    "s3=\"@\".join(s2)\n",
    "print(s3)"
   ]
  },
  {
   "cell_type": "code",
   "execution_count": 15,
   "id": "58219901",
   "metadata": {},
   "outputs": [
    {
     "name": "stdout",
     "output_type": "stream",
     "text": [
      "Vignan CollEgE Of EnginEEring\n"
     ]
    }
   ],
   "source": [
    "h1=\"Vignan College Of Engineering\"\n",
    "h2=h1.replace('e',\"E\")\n",
    "print(h2)"
   ]
  },
  {
   "cell_type": "code",
   "execution_count": 22,
   "id": "4ac50ef1",
   "metadata": {},
   "outputs": [
    {
     "name": "stdout",
     "output_type": "stream",
     "text": [
      "202\n",
      "palindrome\n"
     ]
    }
   ],
   "source": [
    "s1=(input())\n",
    "s2=s1[::-1]\n",
    "if(s1==s2):\n",
    "    print(\"palindrome\")\n",
    "else:\n",
    "    print(\"not palindrome\")"
   ]
  },
  {
   "cell_type": "code",
   "execution_count": 32,
   "id": "68c4ae7d",
   "metadata": {},
   "outputs": [
    {
     "name": "stdout",
     "output_type": "stream",
     "text": [
      "alphabets  GoodMorningHelloWorldByeBye\n",
      "even numbers  44680\n",
      "odd numbers  35315\n"
     ]
    }
   ],
   "source": [
    "Task2=\"Goo3d5Mor4ningHello3Wo1rldByeBye45680\"\n",
    "a=\" \"\n",
    "odd=\" \"\n",
    "even=\" \"\n",
    "for i in Task2:\n",
    "    if i.isalpha():\n",
    "        a+=i\n",
    "    elif int(i)%2==0:\n",
    "        even+=i\n",
    "    else:\n",
    "        odd+=i\n",
    "print(\"alphabets\",a)\n",
    "print(\"even numbers\",even)\n",
    "print(\"odd numbers\",odd)"
   ]
  },
  {
   "cell_type": "code",
   "execution_count": 33,
   "id": "35b915b8",
   "metadata": {},
   "outputs": [
    {
     "name": "stdout",
     "output_type": "stream",
     "text": [
      "2\n"
     ]
    }
   ],
   "source": [
    "s1=\"Hello World\"\n",
    "count=0\n",
    "for i in s1:\n",
    "    if i==\"o\":\n",
    "        count=count+1\n",
    "print(count)"
   ]
  },
  {
   "cell_type": "code",
   "execution_count": 35,
   "id": "5d7ce3b7",
   "metadata": {},
   "outputs": [
    {
     "name": "stdout",
     "output_type": "stream",
     "text": [
      "1\n"
     ]
    }
   ],
   "source": [
    "s2=\"VIGNAN\"\n",
    "count=0\n",
    "for i in s2:\n",
    "    if i==\"I\":\n",
    "        count=count+1\n",
    "print(count)"
   ]
  },
  {
   "cell_type": "code",
   "execution_count": 37,
   "id": "2d3fdae9",
   "metadata": {},
   "outputs": [
    {
     "name": "stdout",
     "output_type": "stream",
     "text": [
      "\n",
      "*\n",
      "**\n",
      "***\n",
      "****\n",
      "*****\n",
      "******\n",
      "*****\n",
      "****\n",
      "***\n",
      "**\n",
      "*\n",
      "\n"
     ]
    }
   ],
   "source": [
    "i=0\n",
    "while(i<=5):\n",
    "    print(\"*\" *i)\n",
    "    i+=1\n",
    "    \n",
    "while(i>=0):\n",
    "    print(\"*\" *i)\n",
    "    i-=1\n"
   ]
  },
  {
   "cell_type": "markdown",
   "id": "bf8ad3a5",
   "metadata": {},
   "source": [
    "# Functions\n",
    "* collection of keywords\n",
    "* code reusability\n",
    "### Def functionname():\n",
    "        ###Body of the function\n",
    "### functionname()"
   ]
  },
  {
   "cell_type": "code",
   "execution_count": 39,
   "id": "1cb4d9f3",
   "metadata": {},
   "outputs": [
    {
     "name": "stdout",
     "output_type": "stream",
     "text": [
      "30\n"
     ]
    }
   ],
   "source": [
    "def add():\n",
    "    a=10\n",
    "    b=20\n",
    "    c=a+b\n",
    "    print(c)\n",
    "add()"
   ]
  },
  {
   "cell_type": "code",
   "execution_count": 40,
   "id": "97be9237",
   "metadata": {},
   "outputs": [
    {
     "name": "stdout",
     "output_type": "stream",
     "text": [
      "200\n"
     ]
    }
   ],
   "source": [
    "def mul():\n",
    "    a=10\n",
    "    b=20\n",
    "    c=a*b\n",
    "    print(c)\n",
    "mul()"
   ]
  },
  {
   "cell_type": "code",
   "execution_count": 41,
   "id": "cfd7e346",
   "metadata": {},
   "outputs": [
    {
     "name": "stdout",
     "output_type": "stream",
     "text": [
      "0.5\n"
     ]
    }
   ],
   "source": [
    "def div():\n",
    "    a=10\n",
    "    b=20\n",
    "    c=a/b\n",
    "    print(c)\n",
    "div()"
   ]
  },
  {
   "cell_type": "code",
   "execution_count": 42,
   "id": "6193a9b9",
   "metadata": {},
   "outputs": [
    {
     "name": "stdout",
     "output_type": "stream",
     "text": [
      "-10\n"
     ]
    }
   ],
   "source": [
    "def sub():\n",
    "    a=10\n",
    "    b=20\n",
    "    c=a-b\n",
    "    print(c)\n",
    "sub()"
   ]
  },
  {
   "cell_type": "code",
   "execution_count": 55,
   "id": "6d5de7ba",
   "metadata": {},
   "outputs": [
    {
     "name": "stdout",
     "output_type": "stream",
     "text": [
      "enter the number6\n",
      "720\n"
     ]
    }
   ],
   "source": [
    "def fact():\n",
    "    n=int(input(\"enter the number\"))\n",
    "    fact=1\n",
    "    i=1\n",
    "    while i<=n:\n",
    "        fact=fact*i\n",
    "        i=i+1\n",
    "    print(fact)\n",
    "fact()"
   ]
  },
  {
   "cell_type": "markdown",
   "id": "728ce9fc",
   "metadata": {},
   "source": [
    "# Types of functions\n",
    "## without arg and without return values\n",
    "## without arg and with return values\n",
    "## with arg and without return values\n",
    "## with arg and with return values"
   ]
  },
  {
   "cell_type": "code",
   "execution_count": 57,
   "id": "9229437a",
   "metadata": {},
   "outputs": [
    {
     "name": "stdout",
     "output_type": "stream",
     "text": [
      "120\n"
     ]
    }
   ],
   "source": [
    "## without arg and without return values\n",
    "def fact():\n",
    "    fact=1\n",
    "    for i in range(1,6):\n",
    "        fact=fact*i\n",
    "    print(fact)\n",
    "fact()"
   ]
  },
  {
   "cell_type": "code",
   "execution_count": 59,
   "id": "24400506",
   "metadata": {},
   "outputs": [
    {
     "name": "stdout",
     "output_type": "stream",
     "text": [
      "720\n"
     ]
    }
   ],
   "source": [
    "## with arg and without return values\n",
    "def fact(n):\n",
    "    fact=1\n",
    "    for i in range(1,n+1):\n",
    "        fact=fact*i\n",
    "    print(fact)\n",
    "fact(6)"
   ]
  },
  {
   "cell_type": "code",
   "execution_count": 60,
   "id": "9c42016e",
   "metadata": {},
   "outputs": [
    {
     "data": {
      "text/plain": [
       "120"
      ]
     },
     "execution_count": 60,
     "metadata": {},
     "output_type": "execute_result"
    }
   ],
   "source": [
    "## without arg and with return values\n",
    "def fact():\n",
    "    fact=1\n",
    "    for i in range(1,6):\n",
    "        fact=fact*i\n",
    "    return fact\n",
    "    print(fact)\n",
    "fact()"
   ]
  },
  {
   "cell_type": "code",
   "execution_count": 62,
   "id": "df22fdd2",
   "metadata": {},
   "outputs": [
    {
     "data": {
      "text/plain": [
       "120"
      ]
     },
     "execution_count": 62,
     "metadata": {},
     "output_type": "execute_result"
    }
   ],
   "source": [
    "fact()"
   ]
  },
  {
   "cell_type": "code",
   "execution_count": 66,
   "id": "4802545a",
   "metadata": {},
   "outputs": [
    {
     "data": {
      "text/plain": [
       "120"
      ]
     },
     "execution_count": 66,
     "metadata": {},
     "output_type": "execute_result"
    }
   ],
   "source": [
    "## with arg and with return values\n",
    "def fact(n):\n",
    "    fact=1\n",
    "    for i in range(1,n+1):\n",
    "        fact=fact*i\n",
    "    return fact\n",
    "    print(fact)\n",
    "fact(5)"
   ]
  },
  {
   "cell_type": "code",
   "execution_count": 3,
   "id": "5a7840f4",
   "metadata": {},
   "outputs": [
    {
     "name": "stdout",
     "output_type": "stream",
     "text": [
      "*\n",
      "**\n",
      "***\n",
      "****\n",
      "*****\n",
      "*****\n",
      "****\n",
      "***\n",
      "**\n",
      "*\n"
     ]
    }
   ],
   "source": [
    "c=1\n",
    "for i in range(1,11):\n",
    "    if i<5:\n",
    "        print(\"*\"*c)\n",
    "        c=c+1\n",
    "    elif i==5:\n",
    "        print(\"*\"*c)\n",
    "        c=c+1\n",
    "    else:\n",
    "        if i>5:\n",
    "            c=c-1\n",
    "            print(\"*\"*c)"
   ]
  },
  {
   "cell_type": "code",
   "execution_count": 7,
   "id": "4844ee54",
   "metadata": {},
   "outputs": [
    {
     "name": "stdout",
     "output_type": "stream",
     "text": [
      " 😎\n",
      " 😎😎\n",
      " 😎😎😎\n",
      " 😎😎😎😎\n",
      " 😎😎😎😎😎\n",
      " 😎😎😎😎\n",
      " 😎😎😎\n",
      " 😎😎\n",
      " 😎\n"
     ]
    }
   ],
   "source": [
    "st=\" \"\n",
    "for i in range(1,10):\n",
    "    if i<=5:\n",
    "        st+=\"😎\"\n",
    "        print(st)\n",
    "    elif i>5:\n",
    "        st=st[:-1]\n",
    "        print(st)"
   ]
  },
  {
   "cell_type": "code",
   "execution_count": 10,
   "id": "97fa5576",
   "metadata": {},
   "outputs": [
    {
     "name": "stdout",
     "output_type": "stream",
     "text": [
      "6\n"
     ]
    }
   ],
   "source": [
    "s1=\"Vignan Institue of Engineering for Women\"\n",
    "s2=len(s1.split())\n",
    "print(s2)"
   ]
  },
  {
   "cell_type": "code",
   "execution_count": 11,
   "id": "aa6a6ef6",
   "metadata": {},
   "outputs": [
    {
     "name": "stdout",
     "output_type": "stream",
     "text": [
      "enter string: Vedha Sree\n",
      "2\n"
     ]
    }
   ],
   "source": [
    "s1=input(\"enter string: \")\n",
    "s2=len(s1.split())\n",
    "print(s2)"
   ]
  },
  {
   "cell_type": "code",
   "execution_count": 17,
   "id": "01d28839",
   "metadata": {},
   "outputs": [
    {
     "name": "stdout",
     "output_type": "stream",
     "text": [
      "Enter the string: a3b4c5\n",
      "a\n",
      "3\n",
      "b\n",
      "4\n",
      "c\n",
      "5\n",
      " aaabbbbccccc\n"
     ]
    }
   ],
   "source": [
    "s1=input(\"Enter the string: \")\n",
    "out=' '\n",
    "for i in s1:\n",
    "    if i.isalpha():\n",
    "        ch=i\n",
    "        print(ch)\n",
    "    else:\n",
    "        num=int(i)\n",
    "        print(num)\n",
    "        out=out+num*ch\n",
    "print(out)"
   ]
  },
  {
   "cell_type": "code",
   "execution_count": 18,
   "id": "74308dce",
   "metadata": {},
   "outputs": [
    {
     "name": "stdout",
     "output_type": "stream",
     "text": [
      "10 20 30\n",
      "60\n"
     ]
    }
   ],
   "source": [
    "# default arg\n",
    "def arg(a,b,c):\n",
    "    print(a,b,c)\n",
    "    d=c+a+b\n",
    "    print(d)\n",
    "arg(10,20,30)"
   ]
  },
  {
   "cell_type": "code",
   "execution_count": 19,
   "id": "ec673e5e",
   "metadata": {},
   "outputs": [
    {
     "name": "stdout",
     "output_type": "stream",
     "text": [
      "my name is Vedha my role is Student\n"
     ]
    }
   ],
   "source": [
    "def dfun(name,role):\n",
    "    print(\"my name is\",name,\"my role is\",role)\n",
    "dfun(\"Vedha\",\"Student\")"
   ]
  },
  {
   "cell_type": "code",
   "execution_count": 20,
   "id": "b0422931",
   "metadata": {},
   "outputs": [
    {
     "name": "stdout",
     "output_type": "stream",
     "text": [
      "my name is Usha my role is Student\n"
     ]
    }
   ],
   "source": [
    "dfun(\"Usha\",\"Student\")"
   ]
  },
  {
   "cell_type": "code",
   "execution_count": 21,
   "id": "8adc2549",
   "metadata": {},
   "outputs": [
    {
     "name": "stdout",
     "output_type": "stream",
     "text": [
      "my name is Vedha my role is Student\n"
     ]
    }
   ],
   "source": [
    "def ddfun(name=\"Vedha\",role=\"Student\"):\n",
    "    print(\"my name is\",name,\"my role is\",role)\n",
    "ddfun()"
   ]
  },
  {
   "cell_type": "code",
   "execution_count": 23,
   "id": "ec3a2fae",
   "metadata": {},
   "outputs": [
    {
     "name": "stdout",
     "output_type": "stream",
     "text": [
      "my name is Vedha my role is Student\n"
     ]
    }
   ],
   "source": [
    "def keyword(name,role):\n",
    "    print(\"my name is\",name,\"my role is\",role)\n",
    "keyword(name=\"Vedha\",role=\"Student\")"
   ]
  },
  {
   "cell_type": "code",
   "execution_count": 24,
   "id": "bf3fccdb",
   "metadata": {},
   "outputs": [
    {
     "name": "stdout",
     "output_type": "stream",
     "text": [
      "vedha\n",
      "bindu\n",
      "usha\n"
     ]
    }
   ],
   "source": [
    "# Arbitary * keywords\n",
    "def keystar(*names):\n",
    "    for i in names:\n",
    "        print(i)\n",
    "keystar(\"vedha\",\"bindu\",\"usha\")"
   ]
  },
  {
   "cell_type": "code",
   "execution_count": 25,
   "id": "e9911a56",
   "metadata": {},
   "outputs": [
    {
     "name": "stdout",
     "output_type": "stream",
     "text": [
      "vignan dvd\n"
     ]
    }
   ],
   "source": [
    "# Arbitary * keywords\n",
    "def keystar(**names):\n",
    "    print(names[\"clz\"],names[\"add\"])\n",
    "keystar(clz=\"vignan\",add=\"dvd\")"
   ]
  },
  {
   "cell_type": "code",
   "execution_count": 29,
   "id": "be1f86f5",
   "metadata": {},
   "outputs": [
    {
     "name": "stdout",
     "output_type": "stream",
     "text": [
      "120\n"
     ]
    }
   ],
   "source": [
    "# recursive function\n",
    "fact=1\n",
    "def factt(n):\n",
    "    if n==1:\n",
    "        return 1\n",
    "    else:\n",
    "        return n*factt(n-1)\n",
    "print(factt(5))"
   ]
  },
  {
   "cell_type": "code",
   "execution_count": 31,
   "id": "d2261a6d",
   "metadata": {},
   "outputs": [
    {
     "data": {
      "text/plain": [
       "120"
      ]
     },
     "execution_count": 31,
     "metadata": {},
     "output_type": "execute_result"
    }
   ],
   "source": [
    "def factt(n):\n",
    "    if n==1:\n",
    "        return 1\n",
    "    else:\n",
    "        return factt(n-1)*n\n",
    "factt(5)"
   ]
  },
  {
   "cell_type": "markdown",
   "id": "582528ec",
   "metadata": {},
   "source": [
    "# Data Structures\n",
    "* primitive data structures\n",
    "    * Integers\n",
    "    * Float\n",
    "    * Strings\n",
    "    * Boolean\n",
    "* non-primitive data structures\n",
    "    * Lists\n",
    "    * Tuples\n",
    "    * Dictionaries\n",
    "    * Sets\n",
    "    * Files\n",
    "    * Arrays"
   ]
  },
  {
   "cell_type": "code",
   "execution_count": 33,
   "id": "d2e7d942",
   "metadata": {},
   "outputs": [],
   "source": [
    "a=10\n",
    "type(a)\n",
    "a=12.5\n",
    "type(a)\n",
    "a=True"
   ]
  },
  {
   "cell_type": "markdown",
   "id": "cc97f9ea",
   "metadata": {},
   "source": [
    "# List:\n",
    "* Collection of elements or items\n",
    "* It is stored and retrive ordered and indexed\n",
    "* represented [] sperated by ,\n",
    "* It allows duplicate items"
   ]
  },
  {
   "cell_type": "code",
   "execution_count": 34,
   "id": "9122f933",
   "metadata": {},
   "outputs": [
    {
     "data": {
      "text/plain": [
       "list"
      ]
     },
     "execution_count": 34,
     "metadata": {},
     "output_type": "execute_result"
    }
   ],
   "source": [
    "li = []\n",
    "type(li)"
   ]
  },
  {
   "cell_type": "code",
   "execution_count": 35,
   "id": "bce2a458",
   "metadata": {},
   "outputs": [],
   "source": [
    "li=30"
   ]
  },
  {
   "cell_type": "code",
   "execution_count": 36,
   "id": "59f87fc8",
   "metadata": {},
   "outputs": [
    {
     "data": {
      "text/plain": [
       "int"
      ]
     },
     "execution_count": 36,
     "metadata": {},
     "output_type": "execute_result"
    }
   ],
   "source": [
    "type(li)"
   ]
  },
  {
   "cell_type": "code",
   "execution_count": 38,
   "id": "028783a1",
   "metadata": {},
   "outputs": [
    {
     "data": {
      "text/plain": [
       "list"
      ]
     },
     "execution_count": 38,
     "metadata": {},
     "output_type": "execute_result"
    }
   ],
   "source": [
    "li=[]\n",
    "type(li)"
   ]
  },
  {
   "cell_type": "code",
   "execution_count": 39,
   "id": "9a160d61",
   "metadata": {},
   "outputs": [
    {
     "data": {
      "text/plain": [
       "[2, 6, 8, 9]"
      ]
     },
     "execution_count": 39,
     "metadata": {},
     "output_type": "execute_result"
    }
   ],
   "source": [
    "li=[2,6,8,9]\n",
    "li"
   ]
  },
  {
   "cell_type": "code",
   "execution_count": 44,
   "id": "e6b4ed83",
   "metadata": {},
   "outputs": [
    {
     "data": {
      "text/plain": [
       "[2, 5.4, 'vedha', True]"
      ]
     },
     "execution_count": 44,
     "metadata": {},
     "output_type": "execute_result"
    }
   ],
   "source": [
    "li=[2,5.4,\"vedha\",True]\n",
    "li"
   ]
  },
  {
   "cell_type": "code",
   "execution_count": 61,
   "id": "0f7637ef",
   "metadata": {},
   "outputs": [
    {
     "name": "stdout",
     "output_type": "stream",
     "text": [
      "5.4\n",
      "vedha\n",
      "[2, 5.4, 'vedha']\n",
      "[5.4, 'vedha', True]\n",
      "[True, 'vedha', 5.4, 2]\n",
      "[2, 'vedha']\n",
      "[5.4, True]\n"
     ]
    }
   ],
   "source": [
    "li # To access the entire list\n",
    "print(li[1]) # Access the elements through index\n",
    "print(li[-2])\n",
    "print(li[-4:-1])\n",
    "print(li[1:])\n",
    "print(li[::-1])\n",
    "print(li[::2])\n",
    "print(li[1::2])"
   ]
  },
  {
   "cell_type": "code",
   "execution_count": 67,
   "id": "dbbb77c7",
   "metadata": {},
   "outputs": [
    {
     "name": "stdout",
     "output_type": "stream",
     "text": [
      "[3, 6, 4, 7]\n",
      "[2, 6, 7, 2]\n",
      "[3, 4, 3]\n",
      "[2, 3, 6, 4, 7, 3]\n",
      "[2, 3, 6, 4, 7, 3]\n",
      "[2, 6, 7]\n",
      "[3, 6, 4, 7, 3]\n"
     ]
    }
   ],
   "source": [
    "li2=[2,3,6,4,7,3,2]\n",
    "print(li2[-6:-2])\n",
    "print(li2[::2])\n",
    "print(li2[1::2])\n",
    "print(li2[0:6])\n",
    "print(li2[0:6:1])\n",
    "print(li2[0:6:2])\n",
    "print(li2[-6:-1:1])"
   ]
  },
  {
   "cell_type": "code",
   "execution_count": 68,
   "id": "82826d8d",
   "metadata": {},
   "outputs": [
    {
     "name": "stdout",
     "output_type": "stream",
     "text": [
      "['__add__', '__class__', '__contains__', '__delattr__', '__delitem__', '__dir__', '__doc__', '__eq__', '__format__', '__ge__', '__getattribute__', '__getitem__', '__gt__', '__hash__', '__iadd__', '__imul__', '__init__', '__init_subclass__', '__iter__', '__le__', '__len__', '__lt__', '__mul__', '__ne__', '__new__', '__reduce__', '__reduce_ex__', '__repr__', '__reversed__', '__rmul__', '__setattr__', '__setitem__', '__sizeof__', '__str__', '__subclasshook__', 'append', 'clear', 'copy', 'count', 'extend', 'index', 'insert', 'pop', 'remove', 'reverse', 'sort']\n"
     ]
    }
   ],
   "source": [
    "print(dir(list))"
   ]
  },
  {
   "cell_type": "code",
   "execution_count": 3,
   "id": "dca7d2f0",
   "metadata": {},
   "outputs": [
    {
     "name": "stdout",
     "output_type": "stream",
     "text": [
      "Enter number: 5\n",
      "Prime number\n"
     ]
    }
   ],
   "source": [
    "def prime():\n",
    "    n=int(input(\"Enter number: \"))\n",
    "    if n%2==0:\n",
    "        print(\"Not Prime number\")\n",
    "    else:\n",
    "        print(\"Prime number\")\n",
    "prime()"
   ]
  },
  {
   "cell_type": "code",
   "execution_count": 11,
   "id": "cc62c8a9",
   "metadata": {},
   "outputs": [
    {
     "name": "stdout",
     "output_type": "stream",
     "text": [
      "Enter number: 5\n"
     ]
    },
    {
     "data": {
      "text/plain": [
       "'Prime Number'"
      ]
     },
     "execution_count": 11,
     "metadata": {},
     "output_type": "execute_result"
    }
   ],
   "source": [
    "def prime():\n",
    "    n=int(input(\"Enter number: \"))\n",
    "    if (n==1):\n",
    "        return False\n",
    "    elif (n==2):\n",
    "        return \"Prime number\";\n",
    "    else:\n",
    "        for x in range(2,n):\n",
    "            if(n % x==0):\n",
    "                return \"Not a prime number\"\n",
    "        return \"Prime Number\"             \n",
    "prime()\n"
   ]
  },
  {
   "cell_type": "code",
   "execution_count": 12,
   "id": "22b55e01",
   "metadata": {},
   "outputs": [
    {
     "ename": "NameError",
     "evalue": "name 'li' is not defined",
     "output_type": "error",
     "traceback": [
      "\u001b[1;31m---------------------------------------------------------------------------\u001b[0m",
      "\u001b[1;31mNameError\u001b[0m                                 Traceback (most recent call last)",
      "\u001b[1;32m<ipython-input-12-3fab4c9c2cf3>\u001b[0m in \u001b[0;36m<module>\u001b[1;34m\u001b[0m\n\u001b[1;32m----> 1\u001b[1;33m \u001b[0mli\u001b[0m\u001b[1;33m\u001b[0m\u001b[1;33m\u001b[0m\u001b[0m\n\u001b[0m",
      "\u001b[1;31mNameError\u001b[0m: name 'li' is not defined"
     ]
    }
   ],
   "source": []
  },
  {
   "cell_type": "code",
   "execution_count": 13,
   "id": "0be7fb84",
   "metadata": {},
   "outputs": [
    {
     "data": {
      "text/plain": [
       "[2, 5.4, 'vedha', True]"
      ]
     },
     "execution_count": 13,
     "metadata": {},
     "output_type": "execute_result"
    }
   ],
   "source": [
    "li=[2,5.4,\"vedha\",True]\n",
    "li"
   ]
  },
  {
   "cell_type": "code",
   "execution_count": 15,
   "id": "b8b4e91c",
   "metadata": {},
   "outputs": [
    {
     "data": {
      "text/plain": [
       "[2, 3, 6, 4, 7, 3, 2]"
      ]
     },
     "execution_count": 15,
     "metadata": {},
     "output_type": "execute_result"
    }
   ],
   "source": [
    "li2=[2,3,6,4,7,3,2]\n",
    "li2"
   ]
  },
  {
   "cell_type": "code",
   "execution_count": 16,
   "id": "60362240",
   "metadata": {},
   "outputs": [],
   "source": [
    "li.append(35) # adding an element to end of list"
   ]
  },
  {
   "cell_type": "code",
   "execution_count": 17,
   "id": "9347d306",
   "metadata": {},
   "outputs": [
    {
     "data": {
      "text/plain": [
       "[2, 5.4, 'vedha', True, 35]"
      ]
     },
     "execution_count": 17,
     "metadata": {},
     "output_type": "execute_result"
    }
   ],
   "source": [
    "li"
   ]
  },
  {
   "cell_type": "code",
   "execution_count": 18,
   "id": "c9bb6236",
   "metadata": {},
   "outputs": [],
   "source": [
    "li2.append(\"vedha\")"
   ]
  },
  {
   "cell_type": "code",
   "execution_count": 19,
   "id": "d6e73efd",
   "metadata": {},
   "outputs": [
    {
     "data": {
      "text/plain": [
       "[2, 3, 6, 4, 7, 3, 2, 'vedha']"
      ]
     },
     "execution_count": 19,
     "metadata": {},
     "output_type": "execute_result"
    }
   ],
   "source": [
    "li2"
   ]
  },
  {
   "cell_type": "code",
   "execution_count": 20,
   "id": "5d77ec39",
   "metadata": {},
   "outputs": [],
   "source": [
    "li.insert(2,\"usha\") # adding an element at particular position in the list"
   ]
  },
  {
   "cell_type": "code",
   "execution_count": 21,
   "id": "1383b357",
   "metadata": {},
   "outputs": [
    {
     "data": {
      "text/plain": [
       "[2, 5.4, 'usha', 'vedha', True, 35]"
      ]
     },
     "execution_count": 21,
     "metadata": {},
     "output_type": "execute_result"
    }
   ],
   "source": [
    "li"
   ]
  },
  {
   "cell_type": "code",
   "execution_count": 22,
   "id": "516b5e9e",
   "metadata": {},
   "outputs": [
    {
     "ename": "TypeError",
     "evalue": "'<' not supported between instances of 'str' and 'float'",
     "output_type": "error",
     "traceback": [
      "\u001b[1;31m---------------------------------------------------------------------------\u001b[0m",
      "\u001b[1;31mTypeError\u001b[0m                                 Traceback (most recent call last)",
      "\u001b[1;32m<ipython-input-22-1bd59660c28b>\u001b[0m in \u001b[0;36m<module>\u001b[1;34m\u001b[0m\n\u001b[1;32m----> 1\u001b[1;33m \u001b[0mli\u001b[0m\u001b[1;33m.\u001b[0m\u001b[0msort\u001b[0m\u001b[1;33m(\u001b[0m\u001b[1;33m)\u001b[0m\u001b[1;33m\u001b[0m\u001b[1;33m\u001b[0m\u001b[0m\n\u001b[0m",
      "\u001b[1;31mTypeError\u001b[0m: '<' not supported between instances of 'str' and 'float'"
     ]
    }
   ],
   "source": [
    "li.sort() # sort in ascending order"
   ]
  },
  {
   "cell_type": "code",
   "execution_count": 23,
   "id": "8ce70d5a",
   "metadata": {},
   "outputs": [],
   "source": [
    "li=[5,3,2,8,9,11,1,2,5]\n",
    "li.sort()"
   ]
  },
  {
   "cell_type": "code",
   "execution_count": 24,
   "id": "e7f28cc1",
   "metadata": {},
   "outputs": [
    {
     "data": {
      "text/plain": [
       "[1, 2, 2, 3, 5, 5, 8, 9, 11]"
      ]
     },
     "execution_count": 24,
     "metadata": {},
     "output_type": "execute_result"
    }
   ],
   "source": [
    "li"
   ]
  },
  {
   "cell_type": "code",
   "execution_count": 27,
   "id": "ebe90364",
   "metadata": {},
   "outputs": [
    {
     "data": {
      "text/plain": [
       "8"
      ]
     },
     "execution_count": 27,
     "metadata": {},
     "output_type": "execute_result"
    }
   ],
   "source": [
    "li.pop() # last element is removed in a list"
   ]
  },
  {
   "cell_type": "code",
   "execution_count": 28,
   "id": "6f69b5a6",
   "metadata": {},
   "outputs": [
    {
     "data": {
      "text/plain": [
       "[1, 2, 2, 3, 5, 5]"
      ]
     },
     "execution_count": 28,
     "metadata": {},
     "output_type": "execute_result"
    }
   ],
   "source": [
    "li"
   ]
  },
  {
   "cell_type": "code",
   "execution_count": 29,
   "id": "efc57ff7",
   "metadata": {},
   "outputs": [
    {
     "data": {
      "text/plain": [
       "5"
      ]
     },
     "execution_count": 29,
     "metadata": {},
     "output_type": "execute_result"
    }
   ],
   "source": [
    "li.pop()"
   ]
  },
  {
   "cell_type": "code",
   "execution_count": 30,
   "id": "442dbc98",
   "metadata": {},
   "outputs": [
    {
     "data": {
      "text/plain": [
       "[1, 2, 2, 3, 5]"
      ]
     },
     "execution_count": 30,
     "metadata": {},
     "output_type": "execute_result"
    }
   ],
   "source": [
    "li"
   ]
  },
  {
   "cell_type": "code",
   "execution_count": 31,
   "id": "9b1984bb",
   "metadata": {},
   "outputs": [
    {
     "data": {
      "text/plain": [
       "[1, 2, 3, 5]"
      ]
     },
     "execution_count": 31,
     "metadata": {},
     "output_type": "execute_result"
    }
   ],
   "source": [
    "li.remove(2)\n",
    "li"
   ]
  },
  {
   "cell_type": "code",
   "execution_count": 32,
   "id": "3d4e00dc",
   "metadata": {},
   "outputs": [],
   "source": [
    "li.remove(5) # remove the element "
   ]
  },
  {
   "cell_type": "code",
   "execution_count": 33,
   "id": "e3bb63c1",
   "metadata": {},
   "outputs": [
    {
     "data": {
      "text/plain": [
       "[1, 2, 3]"
      ]
     },
     "execution_count": 33,
     "metadata": {},
     "output_type": "execute_result"
    }
   ],
   "source": [
    "li"
   ]
  },
  {
   "cell_type": "code",
   "execution_count": 34,
   "id": "313a5461",
   "metadata": {},
   "outputs": [
    {
     "data": {
      "text/plain": [
       "[1, 3, 54, 6]"
      ]
     },
     "execution_count": 34,
     "metadata": {},
     "output_type": "execute_result"
    }
   ],
   "source": [
    "li=[\"vedha\",1,3,54,6]\n",
    "li.remove(\"vedha\")\n",
    "li"
   ]
  },
  {
   "cell_type": "code",
   "execution_count": 35,
   "id": "d197b33b",
   "metadata": {},
   "outputs": [
    {
     "data": {
      "text/plain": [
       "[6, 54, 3, 1]"
      ]
     },
     "execution_count": 35,
     "metadata": {},
     "output_type": "execute_result"
    }
   ],
   "source": [
    "li.reverse() # reverse the list\n",
    "li"
   ]
  },
  {
   "cell_type": "code",
   "execution_count": 36,
   "id": "2b34f9d8",
   "metadata": {},
   "outputs": [
    {
     "data": {
      "text/plain": [
       "[6, 7, 8]"
      ]
     },
     "execution_count": 36,
     "metadata": {},
     "output_type": "execute_result"
    }
   ],
   "source": [
    "li=[1,2,3,[6,7,8]]\n",
    "li[3]"
   ]
  },
  {
   "cell_type": "code",
   "execution_count": 37,
   "id": "ac3d8a30",
   "metadata": {},
   "outputs": [
    {
     "data": {
      "text/plain": [
       "6"
      ]
     },
     "execution_count": 37,
     "metadata": {},
     "output_type": "execute_result"
    }
   ],
   "source": [
    "li[3][0]"
   ]
  },
  {
   "cell_type": "code",
   "execution_count": 38,
   "id": "b4ac1b1d",
   "metadata": {},
   "outputs": [
    {
     "data": {
      "text/plain": [
       "7"
      ]
     },
     "execution_count": 38,
     "metadata": {},
     "output_type": "execute_result"
    }
   ],
   "source": [
    "li[3][1]"
   ]
  },
  {
   "cell_type": "code",
   "execution_count": 39,
   "id": "31cf4f4c",
   "metadata": {},
   "outputs": [
    {
     "data": {
      "text/plain": [
       "8"
      ]
     },
     "execution_count": 39,
     "metadata": {},
     "output_type": "execute_result"
    }
   ],
   "source": [
    "li[3][2]"
   ]
  },
  {
   "cell_type": "code",
   "execution_count": 40,
   "id": "25a99e7a",
   "metadata": {},
   "outputs": [
    {
     "name": "stdout",
     "output_type": "stream",
     "text": [
      "3\n",
      "2\n"
     ]
    }
   ],
   "source": [
    "l2=[2,3,4,4,4,5,6]\n",
    "print(l2.count(4))\n",
    "print(l2.index(4))"
   ]
  },
  {
   "cell_type": "code",
   "execution_count": 48,
   "id": "a46652d4",
   "metadata": {},
   "outputs": [
    {
     "data": {
      "text/plain": [
       "[34, 35]"
      ]
     },
     "execution_count": 48,
     "metadata": {},
     "output_type": "execute_result"
    }
   ],
   "source": [
    "l3=[34,35]\n",
    "l2=l3.copy() # copying data\n",
    "l2"
   ]
  },
  {
   "cell_type": "code",
   "execution_count": 52,
   "id": "4af2d029",
   "metadata": {},
   "outputs": [
    {
     "data": {
      "text/plain": [
       "[1, 2, 3, [6, 7, 8]]"
      ]
     },
     "execution_count": 52,
     "metadata": {},
     "output_type": "execute_result"
    }
   ],
   "source": [
    "l1=[1,2,3]\n",
    "l1.remove(2)\n",
    "li"
   ]
  },
  {
   "cell_type": "code",
   "execution_count": 41,
   "id": "868ff11a",
   "metadata": {},
   "outputs": [
    {
     "data": {
      "text/plain": [
       "[1, 2, 3, 4]"
      ]
     },
     "execution_count": 41,
     "metadata": {},
     "output_type": "execute_result"
    }
   ],
   "source": [
    "s1=[1,2,3,4]\n",
    "s2=[5,6,7,8]\n",
    "s2=s1.copy()\n",
    "s2"
   ]
  },
  {
   "cell_type": "code",
   "execution_count": 42,
   "id": "c8a3cc1c",
   "metadata": {},
   "outputs": [],
   "source": [
    "s3=s2.copy()"
   ]
  },
  {
   "cell_type": "code",
   "execution_count": 43,
   "id": "1315f53d",
   "metadata": {},
   "outputs": [
    {
     "data": {
      "text/plain": [
       "[1, 2, 3, 4]"
      ]
     },
     "execution_count": 43,
     "metadata": {},
     "output_type": "execute_result"
    }
   ],
   "source": [
    "s3"
   ]
  },
  {
   "cell_type": "code",
   "execution_count": 44,
   "id": "c1e33e40",
   "metadata": {},
   "outputs": [],
   "source": [
    "s3.append(5)"
   ]
  },
  {
   "cell_type": "code",
   "execution_count": 45,
   "id": "7772bd35",
   "metadata": {},
   "outputs": [
    {
     "data": {
      "text/plain": [
       "[1, 2, 3, 4, 5]"
      ]
     },
     "execution_count": 45,
     "metadata": {},
     "output_type": "execute_result"
    }
   ],
   "source": [
    "s3"
   ]
  },
  {
   "cell_type": "code",
   "execution_count": 46,
   "id": "86c36b32",
   "metadata": {},
   "outputs": [
    {
     "data": {
      "text/plain": [
       "[]"
      ]
     },
     "execution_count": 46,
     "metadata": {},
     "output_type": "execute_result"
    }
   ],
   "source": [
    "s3.clear()\n",
    "s3"
   ]
  },
  {
   "cell_type": "code",
   "execution_count": 47,
   "id": "3a489d2a",
   "metadata": {},
   "outputs": [
    {
     "data": {
      "text/plain": [
       "[1, 2, 3, 4]"
      ]
     },
     "execution_count": 47,
     "metadata": {},
     "output_type": "execute_result"
    }
   ],
   "source": [
    "s2"
   ]
  },
  {
   "cell_type": "code",
   "execution_count": 55,
   "id": "fa928f8c",
   "metadata": {},
   "outputs": [
    {
     "data": {
      "text/plain": [
       "[5, 6, 6, 7, 8, 9]"
      ]
     },
     "execution_count": 55,
     "metadata": {},
     "output_type": "execute_result"
    }
   ],
   "source": [
    "l1=[2,3,3,4,5]\n",
    "l2=[5,6,6,7,8,9]\n",
    "l1.extend(l2)\n",
    "l2"
   ]
  },
  {
   "cell_type": "code",
   "execution_count": 56,
   "id": "6e98ac4e",
   "metadata": {},
   "outputs": [
    {
     "data": {
      "text/plain": [
       "[2, 3, 3, 4, 5, 5, 6, 6, 7, 8, 9]"
      ]
     },
     "execution_count": 56,
     "metadata": {},
     "output_type": "execute_result"
    }
   ],
   "source": [
    "l1"
   ]
  },
  {
   "cell_type": "code",
   "execution_count": 57,
   "id": "34b3b704",
   "metadata": {},
   "outputs": [
    {
     "data": {
      "text/plain": [
       "[5, 6, 6, 7, 8, 9, 2, 3, 3, 4, 5, 5, 6, 6, 7, 8, 9]"
      ]
     },
     "execution_count": 57,
     "metadata": {},
     "output_type": "execute_result"
    }
   ],
   "source": [
    "l2.extend(l1)\n",
    "l2"
   ]
  },
  {
   "cell_type": "code",
   "execution_count": 60,
   "id": "a22fc067",
   "metadata": {},
   "outputs": [
    {
     "data": {
      "text/plain": [
       "9"
      ]
     },
     "execution_count": 60,
     "metadata": {},
     "output_type": "execute_result"
    }
   ],
   "source": [
    "max(l2) # max element in the list"
   ]
  },
  {
   "cell_type": "code",
   "execution_count": 61,
   "id": "f670729a",
   "metadata": {},
   "outputs": [
    {
     "data": {
      "text/plain": [
       "2"
      ]
     },
     "execution_count": 61,
     "metadata": {},
     "output_type": "execute_result"
    }
   ],
   "source": [
    "min(l2) # min element in the list"
   ]
  },
  {
   "cell_type": "code",
   "execution_count": 62,
   "id": "9d64b79e",
   "metadata": {},
   "outputs": [
    {
     "data": {
      "text/plain": [
       "17"
      ]
     },
     "execution_count": 62,
     "metadata": {},
     "output_type": "execute_result"
    }
   ],
   "source": [
    "len(l2) # length of list"
   ]
  },
  {
   "cell_type": "code",
   "execution_count": 63,
   "id": "e22b0a46",
   "metadata": {},
   "outputs": [
    {
     "name": "stdout",
     "output_type": "stream",
     "text": [
      "99\n"
     ]
    }
   ],
   "source": [
    "sum=0\n",
    "for i in l2:\n",
    "    sum=sum+i\n",
    "print(sum)"
   ]
  },
  {
   "cell_type": "code",
   "execution_count": 66,
   "id": "4212eee3",
   "metadata": {},
   "outputs": [
    {
     "name": "stdout",
     "output_type": "stream",
     "text": [
      "5.823529411764706\n"
     ]
    }
   ],
   "source": [
    "avg=sum/len(l2)\n",
    "print(avg)"
   ]
  },
  {
   "cell_type": "code",
   "execution_count": 78,
   "id": "8681f210",
   "metadata": {},
   "outputs": [
    {
     "name": "stdout",
     "output_type": "stream",
     "text": [
      "2.8333333333333335\n"
     ]
    }
   ],
   "source": [
    "s=[1,2,3.5,4.2,'a',\"vedha\"]\n",
    "s=str(s)\n",
    "type(s)\n",
    "sum=c=0\n",
    "for i in s:\n",
    "    if i.isdigit():\n",
    "        sum=sum+int(i)\n",
    "        c=c+1\n",
    "print(sum/c)"
   ]
  },
  {
   "cell_type": "code",
   "execution_count": 82,
   "id": "f4f12778",
   "metadata": {},
   "outputs": [
    {
     "name": "stdout",
     "output_type": "stream",
     "text": [
      "2.675\n"
     ]
    }
   ],
   "source": [
    "s=[1,2,3.5,4.2,'a',\"vedha\"]\n",
    "sum=c=0\n",
    "for i in s:\n",
    "    if type(i)==int or type(i)==float:\n",
    "        sum=sum+float(i)\n",
    "        c=c+1\n",
    "print(sum/c)"
   ]
  },
  {
   "cell_type": "code",
   "execution_count": 83,
   "id": "93685a66",
   "metadata": {},
   "outputs": [
    {
     "data": {
      "text/plain": [
       "[3, 3, 4, 6, 8, 9, 9, 10]"
      ]
     },
     "execution_count": 83,
     "metadata": {},
     "output_type": "execute_result"
    }
   ],
   "source": [
    "li=[4,3,3,10,6,8,9,9]\n",
    "li.sort()\n",
    "li"
   ]
  },
  {
   "cell_type": "code",
   "execution_count": 88,
   "id": "62e56da2",
   "metadata": {},
   "outputs": [
    {
     "data": {
      "text/plain": [
       "10"
      ]
     },
     "execution_count": 88,
     "metadata": {},
     "output_type": "execute_result"
    }
   ],
   "source": [
    "max(li)"
   ]
  },
  {
   "cell_type": "code",
   "execution_count": 87,
   "id": "94a3a44a",
   "metadata": {},
   "outputs": [
    {
     "data": {
      "text/plain": [
       "9"
      ]
     },
     "execution_count": 87,
     "metadata": {},
     "output_type": "execute_result"
    }
   ],
   "source": [
    "li[-2]"
   ]
  },
  {
   "cell_type": "code",
   "execution_count": 89,
   "id": "24d8d9fe",
   "metadata": {},
   "outputs": [
    {
     "name": "stdout",
     "output_type": "stream",
     "text": [
      "9\n",
      "8\n"
     ]
    }
   ],
   "source": [
    "li=[2,3,4,5,6,7,4,4,5,6,8,8,9,1,2,2,3,3]\n",
    "li.sort()\n",
    "num=max(li)\n",
    "print(num)\n",
    "for i in li[::-1]:\n",
    "    if(i==num):\n",
    "        continue\n",
    "    else:\n",
    "        print(i)\n",
    "        break\n"
   ]
  },
  {
   "cell_type": "code",
   "execution_count": 90,
   "id": "21c3683d",
   "metadata": {},
   "outputs": [
    {
     "name": "stdout",
     "output_type": "stream",
     "text": [
      "[3, 4, 6, 8, 9, 10]\n",
      "6\n"
     ]
    }
   ],
   "source": [
    "li=[4,3,3,10,10,10,6,8,9,9]\n",
    "li.sort()\n",
    "nli=[]\n",
    "for i in li:\n",
    "    if i not in nli:\n",
    "        nli.append(i)\n",
    "print(nli)\n",
    "print(nli[-4])"
   ]
  },
  {
   "cell_type": "code",
   "execution_count": 95,
   "id": "5e47bb4f",
   "metadata": {},
   "outputs": [
    {
     "name": "stdout",
     "output_type": "stream",
     "text": [
      "['1', '2', '3', '4', '5']\n",
      "[1, 2, 3, 4, 5]\n"
     ]
    }
   ],
   "source": [
    "s=\"1 2 3 4 5\"\n",
    "li=s.split()\n",
    "print(li)\n",
    "nlist=[]\n",
    "for i in li:\n",
    "    nlist.append(int(i))\n",
    "print(nlist)"
   ]
  },
  {
   "cell_type": "code",
   "execution_count": 96,
   "id": "6075e036",
   "metadata": {},
   "outputs": [
    {
     "name": "stdout",
     "output_type": "stream",
     "text": [
      "['__add__', '__class__', '__contains__', '__delattr__', '__dir__', '__doc__', '__eq__', '__format__', '__ge__', '__getattribute__', '__getitem__', '__getnewargs__', '__gt__', '__hash__', '__init__', '__init_subclass__', '__iter__', '__le__', '__len__', '__lt__', '__mul__', '__ne__', '__new__', '__reduce__', '__reduce_ex__', '__repr__', '__rmul__', '__setattr__', '__sizeof__', '__str__', '__subclasshook__', 'count', 'index']\n"
     ]
    }
   ],
   "source": [
    "print(dir(tuple))"
   ]
  },
  {
   "cell_type": "code",
   "execution_count": 97,
   "id": "bc5bd492",
   "metadata": {},
   "outputs": [
    {
     "name": "stdout",
     "output_type": "stream",
     "text": [
      "['__and__', '__class__', '__contains__', '__delattr__', '__dir__', '__doc__', '__eq__', '__format__', '__ge__', '__getattribute__', '__gt__', '__hash__', '__iand__', '__init__', '__init_subclass__', '__ior__', '__isub__', '__iter__', '__ixor__', '__le__', '__len__', '__lt__', '__ne__', '__new__', '__or__', '__rand__', '__reduce__', '__reduce_ex__', '__repr__', '__ror__', '__rsub__', '__rxor__', '__setattr__', '__sizeof__', '__str__', '__sub__', '__subclasshook__', '__xor__', 'add', 'clear', 'copy', 'difference', 'difference_update', 'discard', 'intersection', 'intersection_update', 'isdisjoint', 'issubset', 'issuperset', 'pop', 'remove', 'symmetric_difference', 'symmetric_difference_update', 'union', 'update']\n"
     ]
    }
   ],
   "source": [
    "print(dir(set))"
   ]
  },
  {
   "cell_type": "code",
   "execution_count": 98,
   "id": "74b9f1e3",
   "metadata": {},
   "outputs": [
    {
     "name": "stdout",
     "output_type": "stream",
     "text": [
      "['__class__', '__contains__', '__delattr__', '__delitem__', '__dir__', '__doc__', '__eq__', '__format__', '__ge__', '__getattribute__', '__getitem__', '__gt__', '__hash__', '__init__', '__init_subclass__', '__iter__', '__le__', '__len__', '__lt__', '__ne__', '__new__', '__reduce__', '__reduce_ex__', '__repr__', '__reversed__', '__setattr__', '__setitem__', '__sizeof__', '__str__', '__subclasshook__', 'clear', 'copy', 'fromkeys', 'get', 'items', 'keys', 'pop', 'popitem', 'setdefault', 'update', 'values']\n"
     ]
    }
   ],
   "source": [
    "print(dir(dict))"
   ]
  },
  {
   "cell_type": "markdown",
   "id": "512037ae",
   "metadata": {},
   "source": [
    "# Tuple\n",
    "* Collection of multiple data \n",
    "* immutable ( can't edit elements)\n",
    "* ordered and indexed ( slicing is possible)\n",
    "* It allows duplicate data\n",
    "* It is repersented using ()"
   ]
  },
  {
   "cell_type": "code",
   "execution_count": 1,
   "id": "062605a6",
   "metadata": {},
   "outputs": [
    {
     "data": {
      "text/plain": [
       "tuple"
      ]
     },
     "execution_count": 1,
     "metadata": {},
     "output_type": "execute_result"
    }
   ],
   "source": [
    "t=()\n",
    "type(t)"
   ]
  },
  {
   "cell_type": "code",
   "execution_count": 10,
   "id": "3e827aac",
   "metadata": {},
   "outputs": [
    {
     "data": {
      "text/plain": [
       "('vedha', 1, 3.2, 1, 2, 2, 'usha', [1, 2, 3])"
      ]
     },
     "execution_count": 10,
     "metadata": {},
     "output_type": "execute_result"
    }
   ],
   "source": [
    "t=(\"vedha\",1,3.2,1,2,2,\"usha\",[1,2,3])\n",
    "t"
   ]
  },
  {
   "cell_type": "code",
   "execution_count": 3,
   "id": "10f76251",
   "metadata": {},
   "outputs": [
    {
     "ename": "AttributeError",
     "evalue": "'tuple' object has no attribute 'append'",
     "output_type": "error",
     "traceback": [
      "\u001b[1;31m---------------------------------------------------------------------------\u001b[0m",
      "\u001b[1;31mAttributeError\u001b[0m                            Traceback (most recent call last)",
      "\u001b[1;32m<ipython-input-3-cba90fb8b5fa>\u001b[0m in \u001b[0;36m<module>\u001b[1;34m\u001b[0m\n\u001b[1;32m----> 1\u001b[1;33m \u001b[0mt\u001b[0m\u001b[1;33m.\u001b[0m\u001b[0mappend\u001b[0m\u001b[1;33m(\u001b[0m\u001b[1;36m45\u001b[0m\u001b[1;33m)\u001b[0m\u001b[1;33m\u001b[0m\u001b[1;33m\u001b[0m\u001b[0m\n\u001b[0m",
      "\u001b[1;31mAttributeError\u001b[0m: 'tuple' object has no attribute 'append'"
     ]
    }
   ],
   "source": [
    "t.append(45)"
   ]
  },
  {
   "cell_type": "code",
   "execution_count": 4,
   "id": "45c5a715",
   "metadata": {},
   "outputs": [
    {
     "ename": "AttributeError",
     "evalue": "'tuple' object has no attribute 'insert'",
     "output_type": "error",
     "traceback": [
      "\u001b[1;31m---------------------------------------------------------------------------\u001b[0m",
      "\u001b[1;31mAttributeError\u001b[0m                            Traceback (most recent call last)",
      "\u001b[1;32m<ipython-input-4-13fe2afa1e78>\u001b[0m in \u001b[0;36m<module>\u001b[1;34m\u001b[0m\n\u001b[1;32m----> 1\u001b[1;33m \u001b[0mt\u001b[0m\u001b[1;33m.\u001b[0m\u001b[0minsert\u001b[0m\u001b[1;33m(\u001b[0m\u001b[1;36m2\u001b[0m\u001b[1;33m,\u001b[0m\u001b[1;34m\"bindu\"\u001b[0m\u001b[1;33m)\u001b[0m\u001b[1;33m\u001b[0m\u001b[1;33m\u001b[0m\u001b[0m\n\u001b[0m",
      "\u001b[1;31mAttributeError\u001b[0m: 'tuple' object has no attribute 'insert'"
     ]
    }
   ],
   "source": [
    "t.insert(2,\"bindu\")"
   ]
  },
  {
   "cell_type": "code",
   "execution_count": 5,
   "id": "f43ff464",
   "metadata": {},
   "outputs": [
    {
     "ename": "AttributeError",
     "evalue": "'tuple' object has no attribute 'remove'",
     "output_type": "error",
     "traceback": [
      "\u001b[1;31m---------------------------------------------------------------------------\u001b[0m",
      "\u001b[1;31mAttributeError\u001b[0m                            Traceback (most recent call last)",
      "\u001b[1;32m<ipython-input-5-8b19ba38af68>\u001b[0m in \u001b[0;36m<module>\u001b[1;34m\u001b[0m\n\u001b[1;32m----> 1\u001b[1;33m \u001b[0mt\u001b[0m\u001b[1;33m.\u001b[0m\u001b[0mremove\u001b[0m\u001b[1;33m(\u001b[0m\u001b[1;34m\"vedha\"\u001b[0m\u001b[1;33m)\u001b[0m\u001b[1;33m\u001b[0m\u001b[1;33m\u001b[0m\u001b[0m\n\u001b[0m",
      "\u001b[1;31mAttributeError\u001b[0m: 'tuple' object has no attribute 'remove'"
     ]
    }
   ],
   "source": [
    "t.remove(\"vedha\")"
   ]
  },
  {
   "cell_type": "code",
   "execution_count": 11,
   "id": "b2643193",
   "metadata": {},
   "outputs": [
    {
     "data": {
      "text/plain": [
       "('vedha', 1, 3.2, 1, 2, 2, 'usha', [1, 2, 3])"
      ]
     },
     "execution_count": 11,
     "metadata": {},
     "output_type": "execute_result"
    }
   ],
   "source": [
    "t[0:]"
   ]
  },
  {
   "cell_type": "code",
   "execution_count": 12,
   "id": "bbebe47d",
   "metadata": {},
   "outputs": [
    {
     "data": {
      "text/plain": [
       "('vedha', 1, 3.2, 1, 2)"
      ]
     },
     "execution_count": 12,
     "metadata": {},
     "output_type": "execute_result"
    }
   ],
   "source": [
    "t[0:5]"
   ]
  },
  {
   "cell_type": "code",
   "execution_count": 13,
   "id": "a72d93d9",
   "metadata": {},
   "outputs": [
    {
     "data": {
      "text/plain": [
       "[1, 2, 3]"
      ]
     },
     "execution_count": 13,
     "metadata": {},
     "output_type": "execute_result"
    }
   ],
   "source": [
    "t[-1]"
   ]
  },
  {
   "cell_type": "code",
   "execution_count": 14,
   "id": "3c94c9d9",
   "metadata": {},
   "outputs": [
    {
     "data": {
      "text/plain": [
       "(2, 2, 'usha')"
      ]
     },
     "execution_count": 14,
     "metadata": {},
     "output_type": "execute_result"
    }
   ],
   "source": [
    "t[-4:-1]"
   ]
  },
  {
   "cell_type": "code",
   "execution_count": 15,
   "id": "6c894c58",
   "metadata": {},
   "outputs": [
    {
     "data": {
      "text/plain": [
       "2"
      ]
     },
     "execution_count": 15,
     "metadata": {},
     "output_type": "execute_result"
    }
   ],
   "source": [
    "t.count(2)"
   ]
  },
  {
   "cell_type": "code",
   "execution_count": 18,
   "id": "ead99ed3",
   "metadata": {},
   "outputs": [
    {
     "name": "stdout",
     "output_type": "stream",
     "text": [
      "1\n",
      "0\n"
     ]
    }
   ],
   "source": [
    "print(t.count(\"vedha\"))\n",
    "print(t.index(\"vedha\"))"
   ]
  },
  {
   "cell_type": "markdown",
   "id": "884ffe1e",
   "metadata": {},
   "source": [
    "# Set\n",
    "* collection of multiple data\n",
    "* Does not allow duplicates\n",
    "* unordered and unindex (slicing not possible)\n",
    "* it is represented using {} \n",
    "* It is mutable (we cane change the values)"
   ]
  },
  {
   "cell_type": "code",
   "execution_count": 19,
   "id": "16fdca67",
   "metadata": {},
   "outputs": [
    {
     "name": "stdout",
     "output_type": "stream",
     "text": [
      "['__and__', '__class__', '__contains__', '__delattr__', '__dir__', '__doc__', '__eq__', '__format__', '__ge__', '__getattribute__', '__gt__', '__hash__', '__iand__', '__init__', '__init_subclass__', '__ior__', '__isub__', '__iter__', '__ixor__', '__le__', '__len__', '__lt__', '__ne__', '__new__', '__or__', '__rand__', '__reduce__', '__reduce_ex__', '__repr__', '__ror__', '__rsub__', '__rxor__', '__setattr__', '__sizeof__', '__str__', '__sub__', '__subclasshook__', '__xor__', 'add', 'clear', 'copy', 'difference', 'difference_update', 'discard', 'intersection', 'intersection_update', 'isdisjoint', 'issubset', 'issuperset', 'pop', 'remove', 'symmetric_difference', 'symmetric_difference_update', 'union', 'update']\n"
     ]
    }
   ],
   "source": [
    "print(dir(set))"
   ]
  },
  {
   "cell_type": "code",
   "execution_count": 21,
   "id": "2dd3c2cf",
   "metadata": {},
   "outputs": [
    {
     "data": {
      "text/plain": [
       "dict"
      ]
     },
     "execution_count": 21,
     "metadata": {},
     "output_type": "execute_result"
    }
   ],
   "source": [
    "s={}\n",
    "type(s)"
   ]
  },
  {
   "cell_type": "code",
   "execution_count": 22,
   "id": "a3e1e9e2",
   "metadata": {},
   "outputs": [
    {
     "data": {
      "text/plain": [
       "set"
      ]
     },
     "execution_count": 22,
     "metadata": {},
     "output_type": "execute_result"
    }
   ],
   "source": [
    "s=set()\n",
    "type(s)"
   ]
  },
  {
   "cell_type": "code",
   "execution_count": 23,
   "id": "93bf9672",
   "metadata": {},
   "outputs": [
    {
     "data": {
      "text/plain": [
       "{1, 2, 4.5, 'usha', 'vedha'}"
      ]
     },
     "execution_count": 23,
     "metadata": {},
     "output_type": "execute_result"
    }
   ],
   "source": [
    "s={1,2,4.5,\"vedha\",\"usha\",True}\n",
    "s"
   ]
  },
  {
   "cell_type": "code",
   "execution_count": 24,
   "id": "c3c74946",
   "metadata": {},
   "outputs": [
    {
     "data": {
      "text/plain": [
       "set"
      ]
     },
     "execution_count": 24,
     "metadata": {},
     "output_type": "execute_result"
    }
   ],
   "source": [
    "type(s)"
   ]
  },
  {
   "cell_type": "code",
   "execution_count": 25,
   "id": "edcc696b",
   "metadata": {},
   "outputs": [
    {
     "data": {
      "text/plain": [
       "{1, 2, 30, 4.5, 'usha', 'vedha'}"
      ]
     },
     "execution_count": 25,
     "metadata": {},
     "output_type": "execute_result"
    }
   ],
   "source": [
    "s.add(30)\n",
    "s"
   ]
  },
  {
   "cell_type": "code",
   "execution_count": 26,
   "id": "1aaabc77",
   "metadata": {},
   "outputs": [
    {
     "data": {
      "text/plain": [
       "{1, 2, 30, 4.5, 'hi', 'usha', 'vedha'}"
      ]
     },
     "execution_count": 26,
     "metadata": {},
     "output_type": "execute_result"
    }
   ],
   "source": [
    "s.add(\"hi\")\n",
    "s"
   ]
  },
  {
   "cell_type": "code",
   "execution_count": 27,
   "id": "47780f05",
   "metadata": {},
   "outputs": [
    {
     "ename": "TypeError",
     "evalue": "'set' object is not subscriptable",
     "output_type": "error",
     "traceback": [
      "\u001b[1;31m---------------------------------------------------------------------------\u001b[0m",
      "\u001b[1;31mTypeError\u001b[0m                                 Traceback (most recent call last)",
      "\u001b[1;32m<ipython-input-27-f70620bf1203>\u001b[0m in \u001b[0;36m<module>\u001b[1;34m\u001b[0m\n\u001b[1;32m----> 1\u001b[1;33m \u001b[0ms\u001b[0m\u001b[1;33m[\u001b[0m\u001b[1;36m2\u001b[0m\u001b[1;33m]\u001b[0m\u001b[1;33m\u001b[0m\u001b[1;33m\u001b[0m\u001b[0m\n\u001b[0m",
      "\u001b[1;31mTypeError\u001b[0m: 'set' object is not subscriptable"
     ]
    }
   ],
   "source": [
    "s[2]"
   ]
  },
  {
   "cell_type": "code",
   "execution_count": 28,
   "id": "d81b27c2",
   "metadata": {},
   "outputs": [
    {
     "ename": "TypeError",
     "evalue": "'set' object is not subscriptable",
     "output_type": "error",
     "traceback": [
      "\u001b[1;31m---------------------------------------------------------------------------\u001b[0m",
      "\u001b[1;31mTypeError\u001b[0m                                 Traceback (most recent call last)",
      "\u001b[1;32m<ipython-input-28-1b2e60c6cbe5>\u001b[0m in \u001b[0;36m<module>\u001b[1;34m\u001b[0m\n\u001b[1;32m----> 1\u001b[1;33m \u001b[0ms\u001b[0m\u001b[1;33m[\u001b[0m\u001b[1;36m1\u001b[0m\u001b[1;33m:\u001b[0m\u001b[1;36m5\u001b[0m\u001b[1;33m]\u001b[0m\u001b[1;33m\u001b[0m\u001b[1;33m\u001b[0m\u001b[0m\n\u001b[0m",
      "\u001b[1;31mTypeError\u001b[0m: 'set' object is not subscriptable"
     ]
    }
   ],
   "source": [
    "s[1:5]"
   ]
  },
  {
   "cell_type": "code",
   "execution_count": 29,
   "id": "478865c7",
   "metadata": {},
   "outputs": [
    {
     "data": {
      "text/plain": [
       "{1, 2, 30, 4.5, 'hi', 'usha', 'vedha'}"
      ]
     },
     "execution_count": 29,
     "metadata": {},
     "output_type": "execute_result"
    }
   ],
   "source": [
    "s.add(2)\n",
    "s"
   ]
  },
  {
   "cell_type": "code",
   "execution_count": 31,
   "id": "0788080d",
   "metadata": {},
   "outputs": [
    {
     "data": {
      "text/plain": [
       "{2, 5, 'vedha'}"
      ]
     },
     "execution_count": 31,
     "metadata": {},
     "output_type": "execute_result"
    }
   ],
   "source": [
    "s1={2,2,5,5,\"vedha\",\"vedha\"}\n",
    "s1"
   ]
  },
  {
   "cell_type": "code",
   "execution_count": 32,
   "id": "df7050cc",
   "metadata": {},
   "outputs": [
    {
     "data": {
      "text/plain": [
       "{1, 2, 30, 4.5, 'hi', 'usha', 'vedha'}"
      ]
     },
     "execution_count": 32,
     "metadata": {},
     "output_type": "execute_result"
    }
   ],
   "source": [
    "s3=s.copy() # elements get replaced\n",
    "s3"
   ]
  },
  {
   "cell_type": "code",
   "execution_count": 55,
   "id": "520f7ffe",
   "metadata": {},
   "outputs": [
    {
     "data": {
      "text/plain": [
       "{1, 2, 30, 4.5, 'hi', 'usha', 'vedha'}"
      ]
     },
     "execution_count": 55,
     "metadata": {},
     "output_type": "execute_result"
    }
   ],
   "source": [
    "s={1, 2, 30, 4.5, 'hi', 'usha', 'vedha'}\n",
    "s"
   ]
  },
  {
   "cell_type": "code",
   "execution_count": 56,
   "id": "1b3bc832",
   "metadata": {},
   "outputs": [
    {
     "data": {
      "text/plain": [
       "{1, 2, 30, 4.5, 'hi', 'usha', 'vedha'}"
      ]
     },
     "execution_count": 56,
     "metadata": {},
     "output_type": "execute_result"
    }
   ],
   "source": [
    "s1=s.copy()\n",
    "s1"
   ]
  },
  {
   "cell_type": "code",
   "execution_count": 57,
   "id": "59808ed8",
   "metadata": {},
   "outputs": [
    {
     "data": {
      "text/plain": [
       "{1, 2, 30, 4.5, 'hi', 'usha', 'vedha'}"
      ]
     },
     "execution_count": 57,
     "metadata": {},
     "output_type": "execute_result"
    }
   ],
   "source": [
    "s"
   ]
  },
  {
   "cell_type": "code",
   "execution_count": 58,
   "id": "7d41b60a",
   "metadata": {},
   "outputs": [
    {
     "data": {
      "text/plain": [
       "{1, 2, 30, 4.5, 'b', 'd', 'hi', 'i', 'n', 'u', 'usha', 'vedha'}"
      ]
     },
     "execution_count": 58,
     "metadata": {},
     "output_type": "execute_result"
    }
   ],
   "source": [
    "s.update(\"bindu\")\n",
    "s"
   ]
  },
  {
   "cell_type": "code",
   "execution_count": 37,
   "id": "9e1999ba",
   "metadata": {},
   "outputs": [
    {
     "ename": "TypeError",
     "evalue": "'int' object is not iterable",
     "output_type": "error",
     "traceback": [
      "\u001b[1;31m---------------------------------------------------------------------------\u001b[0m",
      "\u001b[1;31mTypeError\u001b[0m                                 Traceback (most recent call last)",
      "\u001b[1;32m<ipython-input-37-39942293351b>\u001b[0m in \u001b[0;36m<module>\u001b[1;34m\u001b[0m\n\u001b[1;32m----> 1\u001b[1;33m \u001b[0ms\u001b[0m\u001b[1;33m.\u001b[0m\u001b[0mupdate\u001b[0m\u001b[1;33m(\u001b[0m\u001b[1;36m123\u001b[0m\u001b[1;33m)\u001b[0m\u001b[1;33m\u001b[0m\u001b[1;33m\u001b[0m\u001b[0m\n\u001b[0m",
      "\u001b[1;31mTypeError\u001b[0m: 'int' object is not iterable"
     ]
    }
   ],
   "source": [
    "s.update(123)"
   ]
  },
  {
   "cell_type": "code",
   "execution_count": 59,
   "id": "b1c07c99",
   "metadata": {},
   "outputs": [
    {
     "data": {
      "text/plain": [
       "{1, 11, 12, 13, 2, 30, 4.5, 'b', 'd', 'hi', 'i', 'n', 'u', 'usha', 'vedha'}"
      ]
     },
     "execution_count": 59,
     "metadata": {},
     "output_type": "execute_result"
    }
   ],
   "source": [
    "s.update([11,12,13])\n",
    "s"
   ]
  },
  {
   "cell_type": "code",
   "execution_count": 60,
   "id": "b6e3b823",
   "metadata": {},
   "outputs": [
    {
     "name": "stdout",
     "output_type": "stream",
     "text": [
      "{1, 2, 'hi', 4.5, 'b', 'i', 'n', 'vedha', 99, 100, 11, 12, 13, 'd', 'usha', 'u', 101, 30}"
     ]
    }
   ],
   "source": [
    "s.update((99,100,101))\n",
    "print(s,end=\"\")"
   ]
  },
  {
   "cell_type": "code",
   "execution_count": 61,
   "id": "6eb29c48",
   "metadata": {},
   "outputs": [
    {
     "data": {
      "text/plain": [
       "1"
      ]
     },
     "execution_count": 61,
     "metadata": {},
     "output_type": "execute_result"
    }
   ],
   "source": [
    "s.pop()"
   ]
  },
  {
   "cell_type": "code",
   "execution_count": 62,
   "id": "09b4ce9b",
   "metadata": {},
   "outputs": [
    {
     "name": "stdout",
     "output_type": "stream",
     "text": [
      "{2, 'hi', 4.5, 'b', 'i', 'n', 'vedha', 99, 100, 11, 12, 13, 'd', 'usha', 'u', 101, 30}"
     ]
    }
   ],
   "source": [
    "print(s,end=\"\")"
   ]
  },
  {
   "cell_type": "code",
   "execution_count": 63,
   "id": "ba9c2481",
   "metadata": {},
   "outputs": [
    {
     "data": {
      "text/plain": [
       "{100, 101, 11, 12, 13, 2, 30, 4.5, 99, 'b', 'd', 'hi', 'i', 'n', 'u', 'vedha'}"
      ]
     },
     "execution_count": 63,
     "metadata": {},
     "output_type": "execute_result"
    }
   ],
   "source": [
    "s.remove(\"usha\")\n",
    "s"
   ]
  },
  {
   "cell_type": "code",
   "execution_count": 64,
   "id": "f079dd17",
   "metadata": {},
   "outputs": [
    {
     "data": {
      "text/plain": [
       "{100, 101, 11, 12, 13, 2, 30, 4.5, 99, 'b', 'd', 'hi', 'i', 'n', 'u'}"
      ]
     },
     "execution_count": 64,
     "metadata": {},
     "output_type": "execute_result"
    }
   ],
   "source": [
    "s.remove(\"vedha\")\n",
    "s"
   ]
  },
  {
   "cell_type": "code",
   "execution_count": 65,
   "id": "a295fb86",
   "metadata": {},
   "outputs": [
    {
     "data": {
      "text/plain": [
       "{100, 101, 11, 12, 13, 2, 30, 4.5, 'b', 'd', 'hi', 'i', 'n', 'u'}"
      ]
     },
     "execution_count": 65,
     "metadata": {},
     "output_type": "execute_result"
    }
   ],
   "source": [
    "s.remove(99)\n",
    "s"
   ]
  },
  {
   "cell_type": "code",
   "execution_count": 66,
   "id": "0685c3ac",
   "metadata": {},
   "outputs": [
    {
     "data": {
      "text/plain": [
       "{101, 11, 12, 13, 2, 30, 4.5, 'b', 'd', 'hi', 'i', 'n', 'u'}"
      ]
     },
     "execution_count": 66,
     "metadata": {},
     "output_type": "execute_result"
    }
   ],
   "source": [
    "s.discard(100)\n",
    "s"
   ]
  },
  {
   "cell_type": "code",
   "execution_count": 67,
   "id": "d4096c41",
   "metadata": {},
   "outputs": [
    {
     "data": {
      "text/plain": [
       "{11, 12, 13, 2, 30, 4.5, 'b', 'd', 'hi', 'i', 'n', 'u'}"
      ]
     },
     "execution_count": 67,
     "metadata": {},
     "output_type": "execute_result"
    }
   ],
   "source": [
    "s.discard(101)\n",
    "s"
   ]
  },
  {
   "cell_type": "code",
   "execution_count": 69,
   "id": "cec1814b",
   "metadata": {},
   "outputs": [
    {
     "data": {
      "text/plain": [
       "{11, 12, 13, 2, 30, 4.5, 'b', 'd', 'hi', 'i', 'u'}"
      ]
     },
     "execution_count": 69,
     "metadata": {},
     "output_type": "execute_result"
    }
   ],
   "source": [
    "s.discard(\"n\")\n",
    "s"
   ]
  },
  {
   "cell_type": "code",
   "execution_count": 70,
   "id": "9d17222a",
   "metadata": {},
   "outputs": [
    {
     "data": {
      "text/plain": [
       "{11, 12, 13, 2, 30, 4.5, 'b', 'd', 'i', 'u'}"
      ]
     },
     "execution_count": 70,
     "metadata": {},
     "output_type": "execute_result"
    }
   ],
   "source": [
    "s.remove(\"hi\")\n",
    "s"
   ]
  },
  {
   "cell_type": "code",
   "execution_count": 71,
   "id": "70111f2c",
   "metadata": {},
   "outputs": [
    {
     "ename": "KeyError",
     "evalue": "'hi'",
     "output_type": "error",
     "traceback": [
      "\u001b[1;31m---------------------------------------------------------------------------\u001b[0m",
      "\u001b[1;31mKeyError\u001b[0m                                  Traceback (most recent call last)",
      "\u001b[1;32m<ipython-input-71-3f583997c750>\u001b[0m in \u001b[0;36m<module>\u001b[1;34m\u001b[0m\n\u001b[1;32m----> 1\u001b[1;33m \u001b[0ms\u001b[0m\u001b[1;33m.\u001b[0m\u001b[0mremove\u001b[0m\u001b[1;33m(\u001b[0m\u001b[1;34m\"hi\"\u001b[0m\u001b[1;33m)\u001b[0m\u001b[1;33m\u001b[0m\u001b[1;33m\u001b[0m\u001b[0m\n\u001b[0m\u001b[0;32m      2\u001b[0m \u001b[0ms\u001b[0m\u001b[1;33m\u001b[0m\u001b[1;33m\u001b[0m\u001b[0m\n",
      "\u001b[1;31mKeyError\u001b[0m: 'hi'"
     ]
    }
   ],
   "source": [
    "s.remove(\"hi\")\n",
    "s"
   ]
  },
  {
   "cell_type": "code",
   "execution_count": 72,
   "id": "64bf693b",
   "metadata": {},
   "outputs": [
    {
     "data": {
      "text/plain": [
       "{11, 12, 13, 2, 30, 4.5, 'b', 'd', 'i', 'u'}"
      ]
     },
     "execution_count": 72,
     "metadata": {},
     "output_type": "execute_result"
    }
   ],
   "source": [
    "s"
   ]
  },
  {
   "cell_type": "code",
   "execution_count": 73,
   "id": "a6d6f729",
   "metadata": {},
   "outputs": [
    {
     "data": {
      "text/plain": [
       "{11, 12, 13, 30, 4.5, 'b', 'd', 'i', 'u'}"
      ]
     },
     "execution_count": 73,
     "metadata": {},
     "output_type": "execute_result"
    }
   ],
   "source": [
    "s.discard(2)\n",
    "s"
   ]
  },
  {
   "cell_type": "code",
   "execution_count": 74,
   "id": "4327ff8f",
   "metadata": {},
   "outputs": [
    {
     "data": {
      "text/plain": [
       "{11, 12, 13, 30, 4.5, 'b', 'd', 'i', 'u'}"
      ]
     },
     "execution_count": 74,
     "metadata": {},
     "output_type": "execute_result"
    }
   ],
   "source": [
    "s.discard(2)\n",
    "s"
   ]
  },
  {
   "cell_type": "code",
   "execution_count": 76,
   "id": "ed3228fb",
   "metadata": {},
   "outputs": [
    {
     "data": {
      "text/plain": [
       "set()"
      ]
     },
     "execution_count": 76,
     "metadata": {},
     "output_type": "execute_result"
    }
   ],
   "source": [
    "s.clear()\n",
    "s"
   ]
  },
  {
   "cell_type": "code",
   "execution_count": 83,
   "id": "ab6b0299",
   "metadata": {},
   "outputs": [
    {
     "name": "stdout",
     "output_type": "stream",
     "text": [
      "{1, 2, 3, 4}\n",
      "{8, 9, 7}\n",
      "{1, 2, 3, 4}\n",
      "{5, 6, 7, 8, 9}\n"
     ]
    }
   ],
   "source": [
    "a={1,2,3,4,5,6}\n",
    "b={5,6,7,8,9}\n",
    "print(a.difference(b))\n",
    "print(b.difference(a))\n",
    "a.difference_update(b)\n",
    "print(a)\n",
    "b.difference_update(a)\n",
    "print(b)"
   ]
  },
  {
   "cell_type": "code",
   "execution_count": 87,
   "id": "7c762da4",
   "metadata": {},
   "outputs": [
    {
     "data": {
      "text/plain": [
       "{1, 2, 3, 4, 5, 6, 7, 8}"
      ]
     },
     "execution_count": 87,
     "metadata": {},
     "output_type": "execute_result"
    }
   ],
   "source": [
    "a={1,2,3,4,5}\n",
    "b={4,5,6,7,8}\n",
    "a.union(b)"
   ]
  },
  {
   "cell_type": "code",
   "execution_count": 94,
   "id": "75874224",
   "metadata": {},
   "outputs": [
    {
     "name": "stdout",
     "output_type": "stream",
     "text": [
      "{4, 5}\n",
      "{4, 5}\n",
      "{4, 5}\n",
      "{4, 5, 6, 7, 8}\n",
      "{4, 5}\n"
     ]
    }
   ],
   "source": [
    "print(a.intersection(b))\n",
    "print(b.intersection(a))\n",
    "a.intersection_update(b)\n",
    "print(a)\n",
    "print(b)\n",
    "b.intersection_update(a)\n",
    "print(b)"
   ]
  },
  {
   "cell_type": "code",
   "execution_count": 95,
   "id": "b050df5d",
   "metadata": {},
   "outputs": [
    {
     "data": {
      "text/plain": [
       "{4, 5}"
      ]
     },
     "execution_count": 95,
     "metadata": {},
     "output_type": "execute_result"
    }
   ],
   "source": [
    "a"
   ]
  },
  {
   "cell_type": "code",
   "execution_count": 96,
   "id": "36b131b7",
   "metadata": {},
   "outputs": [
    {
     "data": {
      "text/plain": [
       "{4, 5}"
      ]
     },
     "execution_count": 96,
     "metadata": {},
     "output_type": "execute_result"
    }
   ],
   "source": [
    "b"
   ]
  },
  {
   "cell_type": "code",
   "execution_count": 98,
   "id": "379835b9",
   "metadata": {},
   "outputs": [
    {
     "name": "stdout",
     "output_type": "stream",
     "text": [
      "{1, 2, 3, 7, 8}\n",
      "{1, 2, 3, 7, 8}\n"
     ]
    }
   ],
   "source": [
    "a={1,2,3,4,5,6}\n",
    "b={4,5,6,7,8}\n",
    "print(a.symmetric_difference(b))\n",
    "print(b.symmetric_difference(a))"
   ]
  },
  {
   "cell_type": "code",
   "execution_count": 99,
   "id": "0e17b886",
   "metadata": {},
   "outputs": [
    {
     "name": "stdout",
     "output_type": "stream",
     "text": [
      "{1, 2, 3, 7, 8}\n"
     ]
    }
   ],
   "source": [
    "a.symmetric_difference_update(b)\n",
    "print(a)"
   ]
  },
  {
   "cell_type": "code",
   "execution_count": 100,
   "id": "28da4e64",
   "metadata": {},
   "outputs": [
    {
     "name": "stdout",
     "output_type": "stream",
     "text": [
      "False\n"
     ]
    }
   ],
   "source": [
    "a={1,2,3,4,5}\n",
    "b={5,6,7}\n",
    "print(a.isdisjoint(b))"
   ]
  },
  {
   "cell_type": "code",
   "execution_count": 101,
   "id": "3ca41ad4",
   "metadata": {},
   "outputs": [
    {
     "name": "stdout",
     "output_type": "stream",
     "text": [
      "True\n"
     ]
    }
   ],
   "source": [
    "a={1,2,3,4}\n",
    "b={5,6,7}\n",
    "print(a.isdisjoint(b))"
   ]
  },
  {
   "cell_type": "code",
   "execution_count": 103,
   "id": "c737c166",
   "metadata": {},
   "outputs": [
    {
     "name": "stdout",
     "output_type": "stream",
     "text": [
      "True\n",
      "False\n"
     ]
    }
   ],
   "source": [
    "a={1,2,3}\n",
    "b={1,2,3,4,5,6}\n",
    "print(a.issubset(b))\n",
    "print(b.issubset(a))"
   ]
  },
  {
   "cell_type": "code",
   "execution_count": 104,
   "id": "a092c51d",
   "metadata": {},
   "outputs": [
    {
     "name": "stdout",
     "output_type": "stream",
     "text": [
      "False\n",
      "False\n"
     ]
    }
   ],
   "source": [
    "a={1,2,3,11}\n",
    "b={1,2,3,4,5,6}\n",
    "print(a.issubset(b))\n",
    "print(b.issubset(a))"
   ]
  },
  {
   "cell_type": "code",
   "execution_count": 106,
   "id": "7ddd9a36",
   "metadata": {},
   "outputs": [
    {
     "name": "stdout",
     "output_type": "stream",
     "text": [
      "True\n",
      "False\n",
      "True\n",
      "False\n"
     ]
    }
   ],
   "source": [
    "a={1,2,3}\n",
    "b={1,2,3,4,5,6}\n",
    "print(a.issubset(b))\n",
    "print(b.issubset(a))\n",
    "print(b.issuperset(a))\n",
    "print(a.issuperset(b))"
   ]
  },
  {
   "cell_type": "markdown",
   "id": "a3c98a64",
   "metadata": {},
   "source": [
    "# Dictionaries\n",
    "* collection of multiple data\n",
    "* ordered and unindexed (slicing not possible)\n",
    "* Does not allow duplicates\n",
    "* It represents using {}\n",
    "* Data is stored in the format of key and value"
   ]
  },
  {
   "cell_type": "code",
   "execution_count": 107,
   "id": "72d6da8f",
   "metadata": {},
   "outputs": [
    {
     "name": "stdout",
     "output_type": "stream",
     "text": [
      "['__class__', '__contains__', '__delattr__', '__delitem__', '__dir__', '__doc__', '__eq__', '__format__', '__ge__', '__getattribute__', '__getitem__', '__gt__', '__hash__', '__init__', '__init_subclass__', '__iter__', '__le__', '__len__', '__lt__', '__ne__', '__new__', '__reduce__', '__reduce_ex__', '__repr__', '__reversed__', '__setattr__', '__setitem__', '__sizeof__', '__str__', '__subclasshook__', 'clear', 'copy', 'fromkeys', 'get', 'items', 'keys', 'pop', 'popitem', 'setdefault', 'update', 'values']\n"
     ]
    }
   ],
   "source": [
    "print(dir(dict))"
   ]
  },
  {
   "cell_type": "code",
   "execution_count": 2,
   "id": "43f1f2e7",
   "metadata": {},
   "outputs": [
    {
     "data": {
      "text/plain": [
       "dict"
      ]
     },
     "execution_count": 2,
     "metadata": {},
     "output_type": "execute_result"
    }
   ],
   "source": [
    "d={}\n",
    "type(d)"
   ]
  },
  {
   "cell_type": "code",
   "execution_count": 3,
   "id": "5e8cfa3d",
   "metadata": {},
   "outputs": [
    {
     "data": {
      "text/plain": [
       "{449: 'vedha', 'trainer': 'bindu', 'student': 'usha'}"
      ]
     },
     "execution_count": 3,
     "metadata": {},
     "output_type": "execute_result"
    }
   ],
   "source": [
    "d={\n",
    "    449:\"vedha\",\n",
    "    \"trainer\":\"bindu\",\n",
    "    \"student\":\"usha\"\n",
    "}\n",
    "d"
   ]
  },
  {
   "cell_type": "code",
   "execution_count": 5,
   "id": "c8c8b6f2",
   "metadata": {},
   "outputs": [
    {
     "data": {
      "text/plain": [
       "'vedha'"
      ]
     },
     "execution_count": 5,
     "metadata": {},
     "output_type": "execute_result"
    }
   ],
   "source": [
    "d[449]"
   ]
  },
  {
   "cell_type": "code",
   "execution_count": 6,
   "id": "09fc1f31",
   "metadata": {},
   "outputs": [
    {
     "data": {
      "text/plain": [
       "'bindu'"
      ]
     },
     "execution_count": 6,
     "metadata": {},
     "output_type": "execute_result"
    }
   ],
   "source": [
    "d[\"trainer\"]"
   ]
  },
  {
   "cell_type": "code",
   "execution_count": 7,
   "id": "ce727c8c",
   "metadata": {},
   "outputs": [
    {
     "ename": "KeyError",
     "evalue": "536",
     "output_type": "error",
     "traceback": [
      "\u001b[1;31m---------------------------------------------------------------------------\u001b[0m",
      "\u001b[1;31mKeyError\u001b[0m                                  Traceback (most recent call last)",
      "\u001b[1;32m<ipython-input-7-22146cf43d2e>\u001b[0m in \u001b[0;36m<module>\u001b[1;34m\u001b[0m\n\u001b[1;32m----> 1\u001b[1;33m \u001b[0md\u001b[0m\u001b[1;33m[\u001b[0m\u001b[1;36m536\u001b[0m\u001b[1;33m]\u001b[0m\u001b[1;33m\u001b[0m\u001b[1;33m\u001b[0m\u001b[0m\n\u001b[0m",
      "\u001b[1;31mKeyError\u001b[0m: 536"
     ]
    }
   ],
   "source": [
    "d[536]"
   ]
  },
  {
   "cell_type": "code",
   "execution_count": 9,
   "id": "885453dd",
   "metadata": {},
   "outputs": [
    {
     "ename": "NameError",
     "evalue": "name 'keys' is not defined",
     "output_type": "error",
     "traceback": [
      "\u001b[1;31m---------------------------------------------------------------------------\u001b[0m",
      "\u001b[1;31mNameError\u001b[0m                                 Traceback (most recent call last)",
      "\u001b[1;32m<ipython-input-9-e853abf8a6af>\u001b[0m in \u001b[0;36m<module>\u001b[1;34m\u001b[0m\n\u001b[1;32m----> 1\u001b[1;33m \u001b[0md\u001b[0m\u001b[1;33m[\u001b[0m\u001b[0mkeys\u001b[0m\u001b[1;33m]\u001b[0m\u001b[1;33m\u001b[0m\u001b[1;33m\u001b[0m\u001b[0m\n\u001b[0m",
      "\u001b[1;31mNameError\u001b[0m: name 'keys' is not defined"
     ]
    }
   ],
   "source": [
    "d[keys]"
   ]
  },
  {
   "cell_type": "code",
   "execution_count": 10,
   "id": "6b0555ac",
   "metadata": {},
   "outputs": [
    {
     "data": {
      "text/plain": [
       "dict_items([(449, 'vedha'), ('trainer', 'bindu'), ('student', 'usha')])"
      ]
     },
     "execution_count": 10,
     "metadata": {},
     "output_type": "execute_result"
    }
   ],
   "source": [
    "d.items()"
   ]
  },
  {
   "cell_type": "code",
   "execution_count": 11,
   "id": "549b9235",
   "metadata": {},
   "outputs": [
    {
     "data": {
      "text/plain": [
       "dict_keys([449, 'trainer', 'student'])"
      ]
     },
     "execution_count": 11,
     "metadata": {},
     "output_type": "execute_result"
    }
   ],
   "source": [
    "d.keys()"
   ]
  },
  {
   "cell_type": "code",
   "execution_count": 12,
   "id": "796fccde",
   "metadata": {},
   "outputs": [
    {
     "data": {
      "text/plain": [
       "dict_values(['vedha', 'bindu', 'usha'])"
      ]
     },
     "execution_count": 12,
     "metadata": {},
     "output_type": "execute_result"
    }
   ],
   "source": [
    "d.values()"
   ]
  },
  {
   "cell_type": "code",
   "execution_count": 14,
   "id": "577c154b",
   "metadata": {},
   "outputs": [
    {
     "name": "stdout",
     "output_type": "stream",
     "text": [
      "vedha\n",
      "bindu\n",
      "usha\n"
     ]
    }
   ],
   "source": [
    "for i in d:\n",
    "    print(d[i])"
   ]
  },
  {
   "cell_type": "code",
   "execution_count": 17,
   "id": "3b4b0c87",
   "metadata": {},
   "outputs": [
    {
     "name": "stdout",
     "output_type": "stream",
     "text": [
      "vedha\n",
      "bindu\n",
      "usha\n"
     ]
    }
   ],
   "source": [
    "for i in d.keys():\n",
    "    print(d[i])"
   ]
  },
  {
   "cell_type": "code",
   "execution_count": 18,
   "id": "452069c0",
   "metadata": {},
   "outputs": [
    {
     "name": "stdout",
     "output_type": "stream",
     "text": [
      "vedha\n",
      "bindu\n",
      "usha\n"
     ]
    }
   ],
   "source": [
    "for i in d.values():\n",
    "    print(i)"
   ]
  },
  {
   "cell_type": "code",
   "execution_count": 20,
   "id": "4d576056",
   "metadata": {},
   "outputs": [
    {
     "name": "stdout",
     "output_type": "stream",
     "text": [
      "(449, 'vedha')\n",
      "('trainer', 'bindu')\n",
      "('student', 'usha')\n"
     ]
    }
   ],
   "source": [
    "for i in d.items():\n",
    "    print(i)"
   ]
  },
  {
   "cell_type": "code",
   "execution_count": 23,
   "id": "4b9d5715",
   "metadata": {},
   "outputs": [
    {
     "data": {
      "text/plain": [
       "{'4': None, '5': None}"
      ]
     },
     "execution_count": 23,
     "metadata": {},
     "output_type": "execute_result"
    }
   ],
   "source": [
    "x=d.fromkeys(\"454\")\n",
    "x"
   ]
  },
  {
   "cell_type": "code",
   "execution_count": 22,
   "id": "6ded0103",
   "metadata": {},
   "outputs": [
    {
     "data": {
      "text/plain": [
       "{449: 'vedha', 'trainer': 'bindu', 'student': 'usha'}"
      ]
     },
     "execution_count": 22,
     "metadata": {},
     "output_type": "execute_result"
    }
   ],
   "source": [
    "d"
   ]
  },
  {
   "cell_type": "code",
   "execution_count": 24,
   "id": "0d3c5ae8",
   "metadata": {},
   "outputs": [
    {
     "data": {
      "text/plain": [
       "{'key1': None, 'key3': None, 'key2': None}"
      ]
     },
     "execution_count": 24,
     "metadata": {},
     "output_type": "execute_result"
    }
   ],
   "source": [
    "x={'key1','key2','key3'}\n",
    "z=dict.fromkeys(x)\n",
    "z"
   ]
  },
  {
   "cell_type": "code",
   "execution_count": 25,
   "id": "73c10551",
   "metadata": {},
   "outputs": [
    {
     "data": {
      "text/plain": [
       "{'key1', 'key2', 'key3'}"
      ]
     },
     "execution_count": 25,
     "metadata": {},
     "output_type": "execute_result"
    }
   ],
   "source": [
    "x"
   ]
  },
  {
   "cell_type": "code",
   "execution_count": 27,
   "id": "a8dfb206",
   "metadata": {},
   "outputs": [
    {
     "data": {
      "text/plain": [
       "{'key1': [5, 6, 3], 'key3': [5, 6, 3], 'key2': [5, 6, 3]}"
      ]
     },
     "execution_count": 27,
     "metadata": {},
     "output_type": "execute_result"
    }
   ],
   "source": [
    "x={'key1','key2','key3'}\n",
    "y=[5,6,3]\n",
    "z=dict.fromkeys(x,y)\n",
    "z"
   ]
  },
  {
   "cell_type": "code",
   "execution_count": 28,
   "id": "5429d33d",
   "metadata": {},
   "outputs": [
    {
     "data": {
      "text/plain": [
       "{449: 'vedha', 'trainer': 'bindu', 'student': 'usha'}"
      ]
     },
     "execution_count": 28,
     "metadata": {},
     "output_type": "execute_result"
    }
   ],
   "source": [
    "d"
   ]
  },
  {
   "cell_type": "code",
   "execution_count": 37,
   "id": "066df0c2",
   "metadata": {},
   "outputs": [
    {
     "data": {
      "text/plain": [
       "{449: 'vedha', 'trainer': 'bindu', 'student': 'usha', 20: 40}"
      ]
     },
     "execution_count": 37,
     "metadata": {},
     "output_type": "execute_result"
    }
   ],
   "source": [
    "d={\n",
    "    449:\"vedha\",\n",
    "    \"trainer\":\"bindu\",\n",
    "    \"student\":\"usha\",\n",
    "    20:40\n",
    "}\n",
    "d"
   ]
  },
  {
   "cell_type": "code",
   "execution_count": 38,
   "id": "5d0071c3",
   "metadata": {},
   "outputs": [
    {
     "data": {
      "text/plain": [
       "'vedha'"
      ]
     },
     "execution_count": 38,
     "metadata": {},
     "output_type": "execute_result"
    }
   ],
   "source": [
    "d.pop(449)"
   ]
  },
  {
   "cell_type": "code",
   "execution_count": 39,
   "id": "b9bb6c31",
   "metadata": {},
   "outputs": [
    {
     "data": {
      "text/plain": [
       "(20, 40)"
      ]
     },
     "execution_count": 39,
     "metadata": {},
     "output_type": "execute_result"
    }
   ],
   "source": [
    "d.popitem()"
   ]
  },
  {
   "cell_type": "code",
   "execution_count": 40,
   "id": "1e236e60",
   "metadata": {},
   "outputs": [
    {
     "data": {
      "text/plain": [
       "{'trainer': 'bindu', 'student': 'usha'}"
      ]
     },
     "execution_count": 40,
     "metadata": {},
     "output_type": "execute_result"
    }
   ],
   "source": [
    "d"
   ]
  },
  {
   "cell_type": "code",
   "execution_count": 41,
   "id": "33aeb2f2",
   "metadata": {},
   "outputs": [
    {
     "ename": "TypeError",
     "evalue": "popitem() takes no arguments (1 given)",
     "output_type": "error",
     "traceback": [
      "\u001b[1;31m---------------------------------------------------------------------------\u001b[0m",
      "\u001b[1;31mTypeError\u001b[0m                                 Traceback (most recent call last)",
      "\u001b[1;32m<ipython-input-41-5ccf43f08c8b>\u001b[0m in \u001b[0;36m<module>\u001b[1;34m\u001b[0m\n\u001b[1;32m----> 1\u001b[1;33m \u001b[0md\u001b[0m\u001b[1;33m.\u001b[0m\u001b[0mpopitem\u001b[0m\u001b[1;33m(\u001b[0m\u001b[1;36m678\u001b[0m\u001b[1;33m)\u001b[0m\u001b[1;33m\u001b[0m\u001b[1;33m\u001b[0m\u001b[0m\n\u001b[0m",
      "\u001b[1;31mTypeError\u001b[0m: popitem() takes no arguments (1 given)"
     ]
    }
   ],
   "source": [
    "d.popitem(678)"
   ]
  },
  {
   "cell_type": "code",
   "execution_count": 42,
   "id": "e1536eff",
   "metadata": {},
   "outputs": [
    {
     "data": {
      "text/plain": [
       "{'trainer': 'bindu', 'student': 'usha'}"
      ]
     },
     "execution_count": 42,
     "metadata": {},
     "output_type": "execute_result"
    }
   ],
   "source": [
    "d"
   ]
  },
  {
   "cell_type": "code",
   "execution_count": 44,
   "id": "278c268c",
   "metadata": {},
   "outputs": [
    {
     "data": {
      "text/plain": [
       "{'trainer': 'bindu', 'student': 'usha', 449: None}"
      ]
     },
     "execution_count": 44,
     "metadata": {},
     "output_type": "execute_result"
    }
   ],
   "source": [
    "d.setdefault(449) # add elements\n",
    "d"
   ]
  },
  {
   "cell_type": "code",
   "execution_count": 45,
   "id": "df2ea57a",
   "metadata": {},
   "outputs": [
    {
     "data": {
      "text/plain": [
       "{'trainer': 'bindu', 'student': 'usha', 449: None, 'hello': 'hai'}"
      ]
     },
     "execution_count": 45,
     "metadata": {},
     "output_type": "execute_result"
    }
   ],
   "source": [
    "d.setdefault(\"hello\",\"hai\")\n",
    "d"
   ]
  },
  {
   "cell_type": "code",
   "execution_count": 46,
   "id": "c2c4d01e",
   "metadata": {},
   "outputs": [
    {
     "data": {
      "text/plain": [
       "'hai'"
      ]
     },
     "execution_count": 46,
     "metadata": {},
     "output_type": "execute_result"
    }
   ],
   "source": [
    "d[\"hello\"]"
   ]
  },
  {
   "cell_type": "code",
   "execution_count": 47,
   "id": "663969db",
   "metadata": {},
   "outputs": [
    {
     "data": {
      "text/plain": [
       "{'trainer': 'bindu', 'student': 'usha', 449: None, 'hello': 'hai'}"
      ]
     },
     "execution_count": 47,
     "metadata": {},
     "output_type": "execute_result"
    }
   ],
   "source": [
    "d"
   ]
  },
  {
   "cell_type": "code",
   "execution_count": 48,
   "id": "b3b2f6ae",
   "metadata": {},
   "outputs": [
    {
     "data": {
      "text/plain": [
       "{'key1', 'key2', 'key3'}"
      ]
     },
     "execution_count": 48,
     "metadata": {},
     "output_type": "execute_result"
    }
   ],
   "source": [
    "x"
   ]
  },
  {
   "cell_type": "code",
   "execution_count": 50,
   "id": "c34465de",
   "metadata": {},
   "outputs": [
    {
     "data": {
      "text/plain": [
       "{'trainer': 'bindu', 'student': 'usha', 449: None, 'hello': 'hai'}"
      ]
     },
     "execution_count": 50,
     "metadata": {},
     "output_type": "execute_result"
    }
   ],
   "source": [
    "x=d.copy()\n",
    "x"
   ]
  },
  {
   "cell_type": "code",
   "execution_count": 51,
   "id": "8fb66802",
   "metadata": {},
   "outputs": [
    {
     "data": {
      "text/plain": [
       "{'trainer': 'bindu', 'student': 'usha', 449: None, 'hello': 'hai'}"
      ]
     },
     "execution_count": 51,
     "metadata": {},
     "output_type": "execute_result"
    }
   ],
   "source": [
    "d"
   ]
  },
  {
   "cell_type": "code",
   "execution_count": 52,
   "id": "7096dcdc",
   "metadata": {},
   "outputs": [
    {
     "data": {
      "text/plain": [
       "{'key1': [5, 6, 3], 'key3': [5, 6, 3], 'key2': [5, 6, 3]}"
      ]
     },
     "execution_count": 52,
     "metadata": {},
     "output_type": "execute_result"
    }
   ],
   "source": [
    "z"
   ]
  },
  {
   "cell_type": "code",
   "execution_count": 53,
   "id": "796919e8",
   "metadata": {},
   "outputs": [
    {
     "data": {
      "text/plain": [
       "{'trainer': 'bindu',\n",
       " 'student': 'usha',\n",
       " 449: None,\n",
       " 'hello': 'hai',\n",
       " 'key1': [5, 6, 3],\n",
       " 'key3': [5, 6, 3],\n",
       " 'key2': [5, 6, 3]}"
      ]
     },
     "execution_count": 53,
     "metadata": {},
     "output_type": "execute_result"
    }
   ],
   "source": [
    "d.update(z)\n",
    "d"
   ]
  },
  {
   "cell_type": "code",
   "execution_count": 54,
   "id": "3899a01c",
   "metadata": {},
   "outputs": [
    {
     "data": {
      "text/plain": [
       "{}"
      ]
     },
     "execution_count": 54,
     "metadata": {},
     "output_type": "execute_result"
    }
   ],
   "source": [
    "z.clear()\n",
    "z"
   ]
  },
  {
   "cell_type": "markdown",
   "id": "31e8df39",
   "metadata": {},
   "source": [
    "# contacts application\n",
    "* Adding of contacts\n",
    "* display list of contacts\n",
    "* searching of contacts\n",
    "* delete contact\n",
    "* modify contact\n",
    "* import contact"
   ]
  },
  {
   "cell_type": "code",
   "execution_count": 56,
   "id": "fd63aecc",
   "metadata": {},
   "outputs": [
    {
     "name": "stdout",
     "output_type": "stream",
     "text": [
      "Contact added successfully\n",
      "Contact added successfully\n",
      "Contact added successfully\n"
     ]
    }
   ],
   "source": [
    "# Adding contacts\n",
    "contacts={}\n",
    "def addcontact(name,phone):\n",
    "    if name not in contacts:\n",
    "        contacts[name]=phone\n",
    "        print(\"Contact added successfully\")\n",
    "    else:\n",
    "        print(\"Contact already exist\")\n",
    "addcontact(\"vedha\",8074513566)\n",
    "addcontact(\"bindu\",6303955842)\n",
    "addcontact(\"usha\",9121609134)"
   ]
  },
  {
   "cell_type": "code",
   "execution_count": 57,
   "id": "61f8c034",
   "metadata": {},
   "outputs": [
    {
     "data": {
      "text/plain": [
       "{'vedha': 8074513566, 'bindu': 6303955842, 'usha': 9121609134}"
      ]
     },
     "execution_count": 57,
     "metadata": {},
     "output_type": "execute_result"
    }
   ],
   "source": [
    "contacts"
   ]
  },
  {
   "cell_type": "code",
   "execution_count": 1,
   "id": "de455032",
   "metadata": {},
   "outputs": [
    {
     "name": "stdout",
     "output_type": "stream",
     "text": [
      "3\n",
      "enter contact name and number: vedha 8074513566\n",
      "Contact added successfully\n",
      "enter contact name and number: bindu 6303955842\n",
      "Contact added successfully\n",
      "enter contact name and number: usha 9121609134\n",
      "Contact added successfully\n"
     ]
    }
   ],
   "source": [
    "# Adding contacts\n",
    "contacts={}\n",
    "def addcontact(name,phone):\n",
    "    if name not in contacts:\n",
    "        contacts[name]=phone\n",
    "        print(\"Contact added successfully\")\n",
    "    else:\n",
    "        print(\"Contact already exist\")\n",
    "n=int(input())\n",
    "for i in range(n):\n",
    "    li=input(\"enter contact name and number: \").split()\n",
    "    b=li[0]\n",
    "    c=li[1]\n",
    "    addcontact(b,c)"
   ]
  },
  {
   "cell_type": "code",
   "execution_count": 2,
   "id": "7327a414",
   "metadata": {},
   "outputs": [
    {
     "data": {
      "text/plain": [
       "{'vedha': '8074513566', 'bindu': '6303955842', 'usha': '9121609134'}"
      ]
     },
     "execution_count": 2,
     "metadata": {},
     "output_type": "execute_result"
    }
   ],
   "source": [
    "contacts"
   ]
  },
  {
   "cell_type": "code",
   "execution_count": 3,
   "id": "09567190",
   "metadata": {},
   "outputs": [
    {
     "name": "stdout",
     "output_type": "stream",
     "text": [
      "vedha : 8074513566\n",
      "bindu : 6303955842\n",
      "usha : 9121609134\n"
     ]
    }
   ],
   "source": [
    "def listcontacts(contacts):\n",
    "    for i in contacts:\n",
    "        print(i,\":\",contacts[i])\n",
    "    return\n",
    "listcontacts(contacts)"
   ]
  },
  {
   "cell_type": "code",
   "execution_count": 4,
   "id": "4f6fa1e3",
   "metadata": {},
   "outputs": [
    {
     "name": "stdout",
     "output_type": "stream",
     "text": [
      "search contact by name: vedha\n",
      "8074513566\n"
     ]
    }
   ],
   "source": [
    "# searching contact\n",
    "def searchcontact(name):\n",
    "    if name in contacts:\n",
    "        print(contacts[name])\n",
    "    else:\n",
    "        print(\"Contact not found\")\n",
    "n=input(\"search contact by name: \")\n",
    "searchcontact(n)"
   ]
  },
  {
   "cell_type": "code",
   "execution_count": 11,
   "id": "39506544",
   "metadata": {},
   "outputs": [
    {
     "name": "stdout",
     "output_type": "stream",
     "text": [
      "delete contact by name: usha\n",
      "Contact not found\n"
     ]
    }
   ],
   "source": [
    "# delete particular contact\n",
    "def deletecontact(name):\n",
    "    if name in contacts:\n",
    "        print(contacts.pop(name))\n",
    "    else:\n",
    "        print(\"Contact not found\")\n",
    "n=input(\"delete contact by name: \")\n",
    "deletecontact(n)"
   ]
  },
  {
   "cell_type": "code",
   "execution_count": 12,
   "id": "67a7ca69",
   "metadata": {},
   "outputs": [
    {
     "data": {
      "text/plain": [
       "{'vedha': 9010117658, 'bindu': '6303955842'}"
      ]
     },
     "execution_count": 12,
     "metadata": {},
     "output_type": "execute_result"
    }
   ],
   "source": [
    "contacts"
   ]
  },
  {
   "cell_type": "code",
   "execution_count": 6,
   "id": "823d539d",
   "metadata": {},
   "outputs": [
    {
     "data": {
      "text/plain": [
       "{'vedha': 9010117658, 'bindu': '6303955842', 'usha': '9121609134'}"
      ]
     },
     "execution_count": 6,
     "metadata": {},
     "output_type": "execute_result"
    }
   ],
   "source": [
    "# modify contact\n",
    "contacts[\"vedha\"]=9010117658\n",
    "contacts"
   ]
  },
  {
   "cell_type": "code",
   "execution_count": 13,
   "id": "590ac388",
   "metadata": {},
   "outputs": [
    {
     "ename": "NameError",
     "evalue": "name 'update' is not defined",
     "output_type": "error",
     "traceback": [
      "\u001b[1;31m---------------------------------------------------------------------------\u001b[0m",
      "\u001b[1;31mNameError\u001b[0m                                 Traceback (most recent call last)",
      "\u001b[1;32m<ipython-input-13-79a8298cd40c>\u001b[0m in \u001b[0;36m<module>\u001b[1;34m\u001b[0m\n\u001b[0;32m      1\u001b[0m \u001b[1;31m# import contacts\u001b[0m\u001b[1;33m\u001b[0m\u001b[1;33m\u001b[0m\u001b[1;33m\u001b[0m\u001b[0m\n\u001b[1;32m----> 2\u001b[1;33m \u001b[0mupdate\u001b[0m\u001b[1;33m\u001b[0m\u001b[1;33m\u001b[0m\u001b[0m\n\u001b[0m",
      "\u001b[1;31mNameError\u001b[0m: name 'update' is not defined"
     ]
    }
   ],
   "source": [
    "# import contacts\n",
    "update"
   ]
  },
  {
   "cell_type": "code",
   "execution_count": 36,
   "id": "7d021e92",
   "metadata": {},
   "outputs": [
    {
     "name": "stdout",
     "output_type": "stream",
     "text": [
      "3\n",
      "enter contact name and number: vedha 8074513566\n",
      "Contact added successfully\n",
      "enter contact name and number: bindu 7164824612\n",
      "Contact added successfully\n",
      "enter contact name and number: usha 48639648\n",
      "Contact added successfully\n"
     ]
    }
   ],
   "source": [
    "# Adding contacts\n",
    "contacts={}\n",
    "def addcontact(name,phone):\n",
    "    if name not in contacts:\n",
    "        contacts[name]=phone\n",
    "        print(\"Contact added successfully\")\n",
    "    else:\n",
    "        print(\"Contact already exist\")\n",
    "n=int(input())\n",
    "for i in range(n):\n",
    "    li=input(\"enter contact name and number: \").split()\n",
    "    b=li[0]\n",
    "    c=li[1]\n",
    "    addcontact(b,c)"
   ]
  },
  {
   "cell_type": "code",
   "execution_count": 39,
   "id": "0703b7c2",
   "metadata": {},
   "outputs": [
    {
     "name": "stdout",
     "output_type": "stream",
     "text": [
      "contact modified\n"
     ]
    }
   ],
   "source": [
    "# modify contact\n",
    "def modifycontact(contacts,name,num):\n",
    "    if name in contacts:\n",
    "        contacts[name]=number\n",
    "        print(\"contact modified\")\n",
    "    else:\n",
    "        print(\"Contact not found\")\n",
    "    return\n",
    "modifycontact(contacts,\"vedha\",9010117658)"
   ]
  },
  {
   "cell_type": "code",
   "execution_count": 41,
   "id": "0987457b",
   "metadata": {},
   "outputs": [
    {
     "data": {
      "text/plain": [
       "{'vedha': '9010117685', 'bindu': '7164824612', 'usha': '48639648'}"
      ]
     },
     "execution_count": 41,
     "metadata": {},
     "output_type": "execute_result"
    }
   ],
   "source": [
    "contacts"
   ]
  },
  {
   "cell_type": "code",
   "execution_count": 44,
   "id": "8d33f125",
   "metadata": {},
   "outputs": [
    {
     "name": "stdout",
     "output_type": "stream",
     "text": [
      "2 contacts added succesfully\n"
     ]
    },
    {
     "data": {
      "text/plain": [
       "{'vedha': '9010117685',\n",
       " 'bindu': '7164824612',\n",
       " 'usha': '48639648',\n",
       " 'ankitha': 89328375,\n",
       " 'nanditha': 736526532}"
      ]
     },
     "execution_count": 44,
     "metadata": {},
     "output_type": "execute_result"
    }
   ],
   "source": [
    "# import contacts\n",
    "def importcontacts(newcontacts):\n",
    "    contacts.update(newcontacts)\n",
    "    print(len(newcontacts.keys()),\"contacts added succesfully\")\n",
    "    return contacts\n",
    "newcontacts={\"ankitha\":89328375,\"nanditha\":736526532}\n",
    "importcontacts(newcontacts)"
   ]
  },
  {
   "cell_type": "code",
   "execution_count": 46,
   "id": "d1c57edc",
   "metadata": {},
   "outputs": [
    {
     "name": "stdout",
     "output_type": "stream",
     "text": [
      "3.141592653589793\n",
      "56\n"
     ]
    }
   ],
   "source": [
    "# packages and modules\n",
    "\n",
    "import math\n",
    "print(math.pi)\n",
    "print(math.floor(56.8))"
   ]
  },
  {
   "cell_type": "code",
   "execution_count": 48,
   "id": "1a49edac",
   "metadata": {},
   "outputs": [
    {
     "name": "stdout",
     "output_type": "stream",
     "text": [
      "69\n",
      "14\n",
      "40\n",
      "95\n",
      "62\n",
      "42\n",
      "44\n",
      "18\n",
      "68\n",
      "10\n"
     ]
    }
   ],
   "source": [
    "import random\n",
    "\n",
    "def generaterandomnum(n,lb,up):\n",
    "    for i in range(0,n):\n",
    "        print(random.randint(lb,up))\n",
    "    return\n",
    "generaterandomnum(10,0,100)"
   ]
  },
  {
   "cell_type": "code",
   "execution_count": 49,
   "id": "1f85dbbf",
   "metadata": {},
   "outputs": [],
   "source": [
    "import re"
   ]
  },
  {
   "cell_type": "markdown",
   "id": "a0e0c475",
   "metadata": {},
   "source": [
    "# regular expression\n",
    "    * match()\n",
    "    * search()\n",
    "    * findall()"
   ]
  },
  {
   "cell_type": "code",
   "execution_count": 50,
   "id": "a183caae",
   "metadata": {},
   "outputs": [
    {
     "data": {
      "text/plain": [
       "<re.Match object; span=(0, 1), match='v'>"
      ]
     },
     "execution_count": 50,
     "metadata": {},
     "output_type": "execute_result"
    }
   ],
   "source": [
    "import re # package module\n",
    "re.match('v',\"vedha\")"
   ]
  },
  {
   "cell_type": "code",
   "execution_count": 51,
   "id": "dd6a4a6e",
   "metadata": {},
   "outputs": [],
   "source": [
    "re.match('e',\"vedha\")"
   ]
  },
  {
   "cell_type": "code",
   "execution_count": 52,
   "id": "b1df3827",
   "metadata": {},
   "outputs": [
    {
     "data": {
      "text/plain": [
       "<re.Match object; span=(0, 4), match='5678'>"
      ]
     },
     "execution_count": 52,
     "metadata": {},
     "output_type": "execute_result"
    }
   ],
   "source": [
    "re.match('5678',\"567891234\")"
   ]
  },
  {
   "cell_type": "code",
   "execution_count": 53,
   "id": "1202b67e",
   "metadata": {},
   "outputs": [],
   "source": [
    "re.match('56789',\"345692564\")"
   ]
  },
  {
   "cell_type": "code",
   "execution_count": 54,
   "id": "f2ef18b3",
   "metadata": {},
   "outputs": [
    {
     "data": {
      "text/plain": [
       "<re.Match object; span=(0, 2), match='ve'>"
      ]
     },
     "execution_count": 54,
     "metadata": {},
     "output_type": "execute_result"
    }
   ],
   "source": [
    "re.match('ve',\"vedha\")"
   ]
  },
  {
   "cell_type": "code",
   "execution_count": 55,
   "id": "b0af4b1f",
   "metadata": {},
   "outputs": [],
   "source": [
    "re.match('dh',\"vedha\")"
   ]
  },
  {
   "cell_type": "code",
   "execution_count": 56,
   "id": "fa424ac8",
   "metadata": {},
   "outputs": [
    {
     "name": "stdout",
     "output_type": "stream",
     "text": [
      "vedha\n"
     ]
    },
    {
     "data": {
      "text/plain": [
       "<re.Match object; span=(0, 2), match='ve'>"
      ]
     },
     "execution_count": 56,
     "metadata": {},
     "output_type": "execute_result"
    }
   ],
   "source": [
    "n=input()\n",
    "re.match('ve',n)"
   ]
  },
  {
   "cell_type": "code",
   "execution_count": 57,
   "id": "7264f827",
   "metadata": {},
   "outputs": [
    {
     "data": {
      "text/plain": [
       "<re.Match object; span=(4, 5), match='a'>"
      ]
     },
     "execution_count": 57,
     "metadata": {},
     "output_type": "execute_result"
    }
   ],
   "source": [
    "re.search(\"a\",\"vedha\")"
   ]
  },
  {
   "cell_type": "code",
   "execution_count": 58,
   "id": "2133dd8c",
   "metadata": {},
   "outputs": [],
   "source": [
    "re.search(\"s\",\"vedha\")"
   ]
  },
  {
   "cell_type": "code",
   "execution_count": 59,
   "id": "cb10c9cf",
   "metadata": {},
   "outputs": [
    {
     "data": {
      "text/plain": [
       "<re.Match object; span=(2, 4), match='dh'>"
      ]
     },
     "execution_count": 59,
     "metadata": {},
     "output_type": "execute_result"
    }
   ],
   "source": [
    "re.search(\"dh\",\"vedha\")"
   ]
  },
  {
   "cell_type": "code",
   "execution_count": 60,
   "id": "a8014998",
   "metadata": {},
   "outputs": [
    {
     "data": {
      "text/plain": [
       "'usha'"
      ]
     },
     "execution_count": 60,
     "metadata": {},
     "output_type": "execute_result"
    }
   ],
   "source": [
    "re.sub(\"sne\",\"us\",\"sneha\")"
   ]
  },
  {
   "cell_type": "code",
   "execution_count": 61,
   "id": "88913749",
   "metadata": {},
   "outputs": [
    {
     "data": {
      "text/plain": [
       "['a', 'a', 'a', 'a', 'a', 'a', 'a', 'a']"
      ]
     },
     "execution_count": 61,
     "metadata": {},
     "output_type": "execute_result"
    }
   ],
   "source": [
    "re.findall('a',\"vedhaaaaaaaa\")"
   ]
  },
  {
   "cell_type": "code",
   "execution_count": 62,
   "id": "842b4b6f",
   "metadata": {},
   "outputs": [
    {
     "data": {
      "text/plain": [
       "['vedh', '', '', '', '']"
      ]
     },
     "execution_count": 62,
     "metadata": {},
     "output_type": "execute_result"
    }
   ],
   "source": [
    "re.split('a',\"vedhaaaa\")"
   ]
  },
  {
   "cell_type": "code",
   "execution_count": 64,
   "id": "1ef24814",
   "metadata": {},
   "outputs": [
    {
     "data": {
      "text/plain": [
       "['', 'vedh', 'aaa']"
      ]
     },
     "execution_count": 64,
     "metadata": {},
     "output_type": "execute_result"
    }
   ],
   "source": [
    "re.split('a',\"avedhaaaa\",2)"
   ]
  },
  {
   "cell_type": "code",
   "execution_count": 65,
   "id": "71e852ef",
   "metadata": {},
   "outputs": [
    {
     "data": {
      "text/plain": [
       "['', 'vedh', '', '', 'a']"
      ]
     },
     "execution_count": 65,
     "metadata": {},
     "output_type": "execute_result"
    }
   ],
   "source": [
    "re.split('a',\"avedhaaaa\",4)"
   ]
  },
  {
   "cell_type": "code",
   "execution_count": 66,
   "id": "f6022d7b",
   "metadata": {},
   "outputs": [
    {
     "data": {
      "text/plain": [
       "['', 'vedh', '', '', '', '']"
      ]
     },
     "execution_count": 66,
     "metadata": {},
     "output_type": "execute_result"
    }
   ],
   "source": [
    "re.split('a',\"avedhaaaa\",10)"
   ]
  },
  {
   "cell_type": "markdown",
   "id": "da9e9ab0",
   "metadata": {},
   "source": [
    "# ^ Beginning of line\n",
    "* $ ending of line\n",
    "* . it allows only one character\n",
    "* \\s allowswhite space\n",
    "* \\S does not allow white space"
   ]
  },
  {
   "cell_type": "code",
   "execution_count": 67,
   "id": "fa263fa2",
   "metadata": {},
   "outputs": [
    {
     "data": {
      "text/plain": [
       "<re.Match object; span=(0, 1), match='v'>"
      ]
     },
     "execution_count": 67,
     "metadata": {},
     "output_type": "execute_result"
    }
   ],
   "source": [
    "re.match('v',\"vedha\")"
   ]
  },
  {
   "cell_type": "code",
   "execution_count": 68,
   "id": "5d235c3d",
   "metadata": {},
   "outputs": [
    {
     "data": {
      "text/plain": [
       "<re.Match object; span=(0, 3), match='ved'>"
      ]
     },
     "execution_count": 68,
     "metadata": {},
     "output_type": "execute_result"
    }
   ],
   "source": [
    "re.match('^ved',\"vedha\")"
   ]
  },
  {
   "cell_type": "code",
   "execution_count": 69,
   "id": "fa01acf7",
   "metadata": {},
   "outputs": [
    {
     "data": {
      "text/plain": [
       "<re.Match object; span=(0, 1), match='v'>"
      ]
     },
     "execution_count": 69,
     "metadata": {},
     "output_type": "execute_result"
    }
   ],
   "source": [
    "re.match('^v',\"vedha\")"
   ]
  },
  {
   "cell_type": "code",
   "execution_count": 70,
   "id": "0b5aff30",
   "metadata": {},
   "outputs": [],
   "source": [
    "re.search('^a',\"vedhaaaaa\")"
   ]
  },
  {
   "cell_type": "code",
   "execution_count": 71,
   "id": "3a1e6cdd",
   "metadata": {},
   "outputs": [
    {
     "data": {
      "text/plain": [
       "<re.Match object; span=(0, 1), match='m'>"
      ]
     },
     "execution_count": 71,
     "metadata": {},
     "output_type": "execute_result"
    }
   ],
   "source": [
    "re.search('^m',\"malayalam\")"
   ]
  },
  {
   "cell_type": "code",
   "execution_count": 72,
   "id": "0df2d8f8",
   "metadata": {},
   "outputs": [
    {
     "data": {
      "text/plain": [
       "[]"
      ]
     },
     "execution_count": 72,
     "metadata": {},
     "output_type": "execute_result"
    }
   ],
   "source": [
    "re.findall('^a',\"vedhaaaa\")"
   ]
  },
  {
   "cell_type": "code",
   "execution_count": 74,
   "id": "6645d326",
   "metadata": {},
   "outputs": [
    {
     "data": {
      "text/plain": [
       "['v']"
      ]
     },
     "execution_count": 74,
     "metadata": {},
     "output_type": "execute_result"
    }
   ],
   "source": [
    "re.findall('^v',\"vvvvedhaaaavv\")"
   ]
  },
  {
   "cell_type": "code",
   "execution_count": 75,
   "id": "34278601",
   "metadata": {},
   "outputs": [],
   "source": [
    "re.match('a$',\"vedha\")"
   ]
  },
  {
   "cell_type": "code",
   "execution_count": 76,
   "id": "6cf4365b",
   "metadata": {},
   "outputs": [
    {
     "data": {
      "text/plain": [
       "<re.Match object; span=(4, 5), match='a'>"
      ]
     },
     "execution_count": 76,
     "metadata": {},
     "output_type": "execute_result"
    }
   ],
   "source": [
    "re.search('a$',\"vedha\")"
   ]
  },
  {
   "cell_type": "code",
   "execution_count": 77,
   "id": "7a9c6d3f",
   "metadata": {},
   "outputs": [
    {
     "data": {
      "text/plain": [
       "<re.Match object; span=(8, 9), match='a'>"
      ]
     },
     "execution_count": 77,
     "metadata": {},
     "output_type": "execute_result"
    }
   ],
   "source": [
    "re.search('a$',\"vedhaaaaa\")"
   ]
  },
  {
   "cell_type": "code",
   "execution_count": 78,
   "id": "b0a0ebe5",
   "metadata": {},
   "outputs": [
    {
     "data": {
      "text/plain": [
       "['a']"
      ]
     },
     "execution_count": 78,
     "metadata": {},
     "output_type": "execute_result"
    }
   ],
   "source": [
    "re.findall('a$',\"vedhaaaaa\")"
   ]
  },
  {
   "cell_type": "code",
   "execution_count": 79,
   "id": "da04904a",
   "metadata": {},
   "outputs": [],
   "source": [
    "# ."
   ]
  },
  {
   "cell_type": "code",
   "execution_count": 80,
   "id": "31f5f39c",
   "metadata": {},
   "outputs": [
    {
     "data": {
      "text/plain": [
       "<re.Match object; span=(0, 2), match='ve'>"
      ]
     },
     "execution_count": 80,
     "metadata": {},
     "output_type": "execute_result"
    }
   ],
   "source": [
    "re.match(\".e\",\"vedha\")"
   ]
  },
  {
   "cell_type": "code",
   "execution_count": 82,
   "id": "5b4b740e",
   "metadata": {},
   "outputs": [
    {
     "data": {
      "text/plain": [
       "<re.Match object; span=(0, 5), match='vedha'>"
      ]
     },
     "execution_count": 82,
     "metadata": {},
     "output_type": "execute_result"
    }
   ],
   "source": [
    "re.match(\".e...\",\"vedha\")"
   ]
  },
  {
   "cell_type": "code",
   "execution_count": 97,
   "id": "dc0b0010",
   "metadata": {},
   "outputs": [
    {
     "data": {
      "text/plain": [
       "<re.Match object; span=(0, 2), match='ve'>"
      ]
     },
     "execution_count": 97,
     "metadata": {},
     "output_type": "execute_result"
    }
   ],
   "source": [
    "re.search('.e',\"vedha\")"
   ]
  },
  {
   "cell_type": "code",
   "execution_count": 94,
   "id": "40776ec6",
   "metadata": {},
   "outputs": [
    {
     "data": {
      "text/plain": [
       "[' ', ' ']"
      ]
     },
     "execution_count": 94,
     "metadata": {},
     "output_type": "execute_result"
    }
   ],
   "source": [
    "re.findall('\\s',\"ve dh a\")"
   ]
  },
  {
   "cell_type": "code",
   "execution_count": 95,
   "id": "13181f22",
   "metadata": {},
   "outputs": [
    {
     "data": {
      "text/plain": [
       "['v', 'e', 'd', 'h', 'a']"
      ]
     },
     "execution_count": 95,
     "metadata": {},
     "output_type": "execute_result"
    }
   ],
   "source": [
    "re.findall('\\S',\"ve dh a\")"
   ]
  },
  {
   "cell_type": "code",
   "execution_count": null,
   "id": "4eea1060",
   "metadata": {},
   "outputs": [],
   "source": []
  }
 ],
 "metadata": {
  "kernelspec": {
   "display_name": "Python 3",
   "language": "python",
   "name": "python3"
  },
  "language_info": {
   "codemirror_mode": {
    "name": "ipython",
    "version": 3
   },
   "file_extension": ".py",
   "mimetype": "text/x-python",
   "name": "python",
   "nbconvert_exporter": "python",
   "pygments_lexer": "ipython3",
   "version": "3.8.8"
  }
 },
 "nbformat": 4,
 "nbformat_minor": 5
}
