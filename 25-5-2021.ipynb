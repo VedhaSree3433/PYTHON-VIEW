{
 "cells": [
  {
   "cell_type": "code",
   "execution_count": 6,
   "id": "39dae8b1",
   "metadata": {
    "scrolled": true
   },
   "outputs": [
    {
     "name": "stdout",
     "output_type": "stream",
     "text": [
      "hello world\n"
     ]
    }
   ],
   "source": [
    "print(\"hello world\")"
   ]
  },
  {
   "cell_type": "code",
   "execution_count": 11,
   "id": "d65c3fd8",
   "metadata": {
    "scrolled": true
   },
   "outputs": [
    {
     "name": "stdout",
     "output_type": "stream",
     "text": [
      "hai hello\n"
     ]
    }
   ],
   "source": [
    "print(\"hai hello\")"
   ]
  },
  {
   "cell_type": "code",
   "execution_count": 12,
   "id": "07672432",
   "metadata": {},
   "outputs": [
    {
     "name": "stdout",
     "output_type": "stream",
     "text": [
      "welcome\n"
     ]
    }
   ],
   "source": [
    "print(\"welcome\")"
   ]
  },
  {
   "cell_type": "markdown",
   "id": "f7a4353a",
   "metadata": {},
   "source": [
    "# heading1\n",
    "## heading2\n",
    "###### heading6\n",
    "**bold text**\n",
    "*italic*\n",
    "***bolditalic***\n",
    "* list\n",
    "    * sublist1\n",
    "    * sublist2\n",
    "        * inner sublist\n",
    ">1.order list1<br>\n",
    ">2.order list2"
   ]
  },
  {
   "cell_type": "markdown",
   "id": "c049570c",
   "metadata": {},
   "source": [
    "<h1 style=\"color:red;font-size:20px\">This is heading1</h1>\n",
    "<i>hai how are you</i>\n",
    "    <strong>bold text</strong>"
   ]
  },
  {
   "cell_type": "markdown",
   "id": "ace4e2b0",
   "metadata": {},
   "source": [
    "<img src=\"puppy.jpg\" alt=\"dog image\">\n",
    "<a href=\"http://google.com/\">Welcome to Google</a>"
   ]
  },
  {
   "cell_type": "markdown",
   "id": "059e7e42",
   "metadata": {},
   "source": [
    "# Python variables\n",
    "* A variable must start with a letter or the underscore.\n",
    "* A variable name cannot start with a anumber.\n",
    "* A variable name can only contain alpha-numeric characters and underscore(A to Z (or) (a to z) (or) (0-9) (or) ...)\n",
    "* variable name are case-sensitive"
   ]
  },
  {
   "cell_type": "code",
   "execution_count": 4,
   "id": "827be9e8",
   "metadata": {},
   "outputs": [
    {
     "name": "stdout",
     "output_type": "stream",
     "text": [
      "10\n",
      "20\n",
      "30\n"
     ]
    }
   ],
   "source": [
    "a=10\n",
    "print(a)\n",
    "b=20\n",
    "print(b)\n",
    "c=30\n",
    "print(c)"
   ]
  },
  {
   "cell_type": "code",
   "execution_count": 5,
   "id": "f0d43c8f",
   "metadata": {},
   "outputs": [
    {
     "name": "stdout",
     "output_type": "stream",
     "text": [
      "50\n"
     ]
    }
   ],
   "source": [
    "_=50\n",
    "print(_)"
   ]
  },
  {
   "cell_type": "code",
   "execution_count": 6,
   "id": "b1a82561",
   "metadata": {},
   "outputs": [
    {
     "ename": "SyntaxError",
     "evalue": "invalid syntax (<ipython-input-6-3f2de25626a2>, line 1)",
     "output_type": "error",
     "traceback": [
      "\u001b[1;36m  File \u001b[1;32m\"<ipython-input-6-3f2de25626a2>\"\u001b[1;36m, line \u001b[1;32m1\u001b[0m\n\u001b[1;33m    &=5\u001b[0m\n\u001b[1;37m    ^\u001b[0m\n\u001b[1;31mSyntaxError\u001b[0m\u001b[1;31m:\u001b[0m invalid syntax\n"
     ]
    }
   ],
   "source": [
    "&=5\n",
    "print(&)"
   ]
  },
  {
   "cell_type": "code",
   "execution_count": 10,
   "id": "36fa078b",
   "metadata": {},
   "outputs": [
    {
     "name": "stdout",
     "output_type": "stream",
     "text": [
      "vedha\n"
     ]
    }
   ],
   "source": [
    "s1 = \"vedha\"\n",
    "print(s1)"
   ]
  },
  {
   "cell_type": "code",
   "execution_count": 11,
   "id": "4ef6e511",
   "metadata": {},
   "outputs": [
    {
     "name": "stdout",
     "output_type": "stream",
     "text": [
      "vedha\n"
     ]
    }
   ],
   "source": [
    "_1 = \"vedha\"\n",
    "print(_1)"
   ]
  },
  {
   "cell_type": "code",
   "execution_count": 12,
   "id": "2bf184e7",
   "metadata": {},
   "outputs": [
    {
     "name": "stdout",
     "output_type": "stream",
     "text": [
      "20\n"
     ]
    }
   ],
   "source": [
    "A=20\n",
    "print(A)"
   ]
  },
  {
   "cell_type": "markdown",
   "id": "79f59caf",
   "metadata": {},
   "source": [
    "# Datatypes\n",
    "    * int\n",
    "    * float\n",
    "    * string \n",
    "    * complex"
   ]
  },
  {
   "cell_type": "code",
   "execution_count": 14,
   "id": "ea30823c",
   "metadata": {},
   "outputs": [
    {
     "name": "stdout",
     "output_type": "stream",
     "text": [
      "10\n",
      "<class 'int'>\n"
     ]
    }
   ],
   "source": [
    "s=10\n",
    "print(s)\n",
    "print(type(s))"
   ]
  },
  {
   "cell_type": "code",
   "execution_count": 16,
   "id": "53bce4a9",
   "metadata": {},
   "outputs": [
    {
     "name": "stdout",
     "output_type": "stream",
     "text": [
      "10.05\n",
      "<class 'float'>\n"
     ]
    }
   ],
   "source": [
    "f=10.05\n",
    "print(f)\n",
    "print(type(f))"
   ]
  },
  {
   "cell_type": "code",
   "execution_count": 17,
   "id": "e6d01f3a",
   "metadata": {},
   "outputs": [
    {
     "name": "stdout",
     "output_type": "stream",
     "text": [
      "vedha\n",
      "<class 'str'>\n"
     ]
    }
   ],
   "source": [
    "s1=\"vedha\"\n",
    "print(s1)\n",
    "print(type(s1))"
   ]
  },
  {
   "cell_type": "code",
   "execution_count": 18,
   "id": "f8ecbd73",
   "metadata": {},
   "outputs": [
    {
     "name": "stdout",
     "output_type": "stream",
     "text": [
      "(3+2j)\n",
      "<class 'complex'>\n"
     ]
    }
   ],
   "source": [
    "a=3+2j;\n",
    "print(a)\n",
    "print(type(a))"
   ]
  },
  {
   "cell_type": "code",
   "execution_count": 19,
   "id": "0f2df02e",
   "metadata": {},
   "outputs": [
    {
     "name": "stdout",
     "output_type": "stream",
     "text": [
      "10\n",
      "<class 'int'>\n",
      "10.0\n",
      "<class 'float'>\n"
     ]
    }
   ],
   "source": [
    "# tyepcasting\n",
    "a=10\n",
    "print(a)\n",
    "print(type(a))\n",
    "b=float(a)\n",
    "print(b)\n",
    "print(type(b))"
   ]
  },
  {
   "cell_type": "code",
   "execution_count": 21,
   "id": "21474e78",
   "metadata": {},
   "outputs": [
    {
     "name": "stdout",
     "output_type": "stream",
     "text": [
      "20.0\n",
      "<class 'float'>\n",
      "20.0\n",
      "<class 'str'>\n"
     ]
    }
   ],
   "source": [
    "a=20\n",
    "print(float(a))\n",
    "print(type(float(a)))\n",
    "print(str(float(a)))\n",
    "print(type(str(float(a))))"
   ]
  },
  {
   "cell_type": "code",
   "execution_count": 23,
   "id": "9952a419",
   "metadata": {},
   "outputs": [
    {
     "name": "stdout",
     "output_type": "stream",
     "text": [
      "<class 'float'>\n",
      "10\n",
      "<class 'int'>\n"
     ]
    }
   ],
   "source": [
    "k=10.06\n",
    "print(type(k))\n",
    "print(int(k))\n",
    "print(type(int(k)))"
   ]
  },
  {
   "cell_type": "code",
   "execution_count": 24,
   "id": "e54f6ba7",
   "metadata": {},
   "outputs": [
    {
     "name": "stdout",
     "output_type": "stream",
     "text": [
      "10.06\n",
      "<class 'str'>\n"
     ]
    }
   ],
   "source": [
    "k=10.06\n",
    "print(str(k))\n",
    "print(type(str(k)))"
   ]
  },
  {
   "cell_type": "code",
   "execution_count": 31,
   "id": "07e3ab84",
   "metadata": {},
   "outputs": [
    {
     "name": "stdout",
     "output_type": "stream",
     "text": [
      "<class 'str'>\n",
      "5.0\n",
      "(5+0j)\n"
     ]
    }
   ],
   "source": [
    "s=\"5\"\n",
    "print(type(s))\n",
    "print(float(s))\n",
    "print(complex(s))"
   ]
  },
  {
   "cell_type": "code",
   "execution_count": 29,
   "id": "3d72dd70",
   "metadata": {},
   "outputs": [
    {
     "data": {
      "text/plain": [
       "'hai students\\nhow are you'"
      ]
     },
     "execution_count": 29,
     "metadata": {},
     "output_type": "execute_result"
    }
   ],
   "source": [
    "# python --- single line comment\n",
    "# print(\"hai\")\n",
    "\n",
    "'''hai students\n",
    "how are you'''"
   ]
  },
  {
   "cell_type": "code",
   "execution_count": 33,
   "id": "61a53748",
   "metadata": {},
   "outputs": [
    {
     "name": "stdout",
     "output_type": "stream",
     "text": [
      "Enter a value :49\n",
      "49\n"
     ]
    }
   ],
   "source": [
    "s=input(\"Enter a value :\")\n",
    "print(s)"
   ]
  },
  {
   "cell_type": "code",
   "execution_count": 35,
   "id": "0e6353b1",
   "metadata": {},
   "outputs": [
    {
     "name": "stdout",
     "output_type": "stream",
     "text": [
      "enter a value :5\n",
      "<class 'int'>\n"
     ]
    }
   ],
   "source": [
    "s=int(input(\"enter a value :\"))\n",
    "print(type(s))"
   ]
  },
  {
   "cell_type": "code",
   "execution_count": 37,
   "id": "b3e6a95c",
   "metadata": {},
   "outputs": [
    {
     "name": "stdout",
     "output_type": "stream",
     "text": [
      "enter float value :4\n",
      "4.0\n",
      "<class 'float'>\n"
     ]
    }
   ],
   "source": [
    "f=float(input(\"enter float value :\"))\n",
    "print(f)\n",
    "print(type(f))"
   ]
  },
  {
   "cell_type": "code",
   "execution_count": 44,
   "id": "83041f90",
   "metadata": {},
   "outputs": [
    {
     "name": "stdout",
     "output_type": "stream",
     "text": [
      "Enter a value :4\n",
      "Enter b value :5\n",
      "9\n",
      "addition of a & b is  9\n",
      "addition of 4 and 5 is :9\n",
      "addition of 4 and 5 is : 9\n",
      "addition of 9 and 5 is :4\n"
     ]
    }
   ],
   "source": [
    "a=int(input(\"Enter a value :\"))\n",
    "b=int(input(\"Enter b value :\"))\n",
    "print(a+b)\n",
    "print(\"addition of a & b is \",a+b)\n",
    "print(\"addition of %d and %d is :%d\"%(a,b,a+b))\n",
    "print(\"addition of {} and {} is : {}\".format(a,b,a+b))\n",
    "print(\"addition of {2} and {1} is :{0}\".format(a,b,a+b))"
   ]
  },
  {
   "cell_type": "markdown",
   "id": "881d4540",
   "metadata": {},
   "source": [
    "# Python operators\n",
    "    *Arithemtic"
   ]
  },
  {
   "cell_type": "code",
   "execution_count": 4,
   "id": "90413e58",
   "metadata": {},
   "outputs": [
    {
     "name": "stdout",
     "output_type": "stream",
     "text": [
      "42\n",
      "18\n",
      "360\n",
      "2.5\n",
      "2\n",
      "6\n"
     ]
    }
   ],
   "source": [
    "# Arithmetic operators(+,-,*,/,//,%)\n",
    "a=30\n",
    "b=12\n",
    "print(a+b)\n",
    "print(a-b)\n",
    "print(a*b)\n",
    "print(a/b)\n",
    "print(a//b)\n",
    "print(a%b)"
   ]
  },
  {
   "cell_type": "code",
   "execution_count": 5,
   "id": "5d2c9424",
   "metadata": {},
   "outputs": [
    {
     "name": "stdout",
     "output_type": "stream",
     "text": [
      "True\n",
      "False\n",
      "False\n",
      "False\n"
     ]
    }
   ],
   "source": [
    "# logical operator(and,or,not)\n",
    "print(True and True)\n",
    "print(True and False)\n",
    "print(False and True)\n",
    "print(False and False)"
   ]
  },
  {
   "cell_type": "code",
   "execution_count": 6,
   "id": "49a5176d",
   "metadata": {},
   "outputs": [
    {
     "name": "stdout",
     "output_type": "stream",
     "text": [
      "True\n",
      "True\n",
      "True\n",
      "False\n"
     ]
    }
   ],
   "source": [
    "print(True or True)\n",
    "print(True or False)\n",
    "print(False or True)\n",
    "print(False or False)"
   ]
  },
  {
   "cell_type": "code",
   "execution_count": 9,
   "id": "46095ab1",
   "metadata": {},
   "outputs": [
    {
     "data": {
      "text/plain": [
       "True"
      ]
     },
     "execution_count": 9,
     "metadata": {},
     "output_type": "execute_result"
    }
   ],
   "source": [
    "x=10\n",
    "y=10\n",
    "x is y"
   ]
  },
  {
   "cell_type": "code",
   "execution_count": 13,
   "id": "4f4de7d2",
   "metadata": {},
   "outputs": [
    {
     "name": "stdout",
     "output_type": "stream",
     "text": [
      "15\n",
      "300\n"
     ]
    }
   ],
   "source": [
    "# Assignment operator(=,*=,+=,-=,/=,%=)\n",
    "a=10\n",
    "a+=5 # a=a+5\n",
    "print(a)"
   ]
  },
  {
   "cell_type": "code",
   "execution_count": 18,
   "id": "25227cec",
   "metadata": {},
   "outputs": [
    {
     "name": "stdout",
     "output_type": "stream",
     "text": [
      "200\n",
      "150\n",
      "15.0\n",
      "5.0\n"
     ]
    }
   ],
   "source": [
    "a=10\n",
    "a*=20 #a=a*20\n",
    "print(a)\n",
    "\n",
    "a-=50\n",
    "print(a)\n",
    "\n",
    "a/=10\n",
    "print(a)\n",
    "\n",
    "a%=10\n",
    "print(a)"
   ]
  },
  {
   "cell_type": "code",
   "execution_count": 26,
   "id": "4e83937e",
   "metadata": {},
   "outputs": [
    {
     "name": "stdout",
     "output_type": "stream",
     "text": [
      "False\n",
      "False\n",
      "True\n",
      "True\n",
      "False\n",
      "True\n"
     ]
    }
   ],
   "source": [
    "# comparision operator(>,<,>=,<=,!=,==)\n",
    "a=10\n",
    "b=10\n",
    "print(a>b)\n",
    "print(a<b)\n",
    "print(a<=b)\n",
    "print(a>=b)\n",
    "print(a!=b)\n",
    "print(a==b)"
   ]
  },
  {
   "cell_type": "code",
   "execution_count": 27,
   "id": "2b9766fc",
   "metadata": {},
   "outputs": [
    {
     "name": "stdout",
     "output_type": "stream",
     "text": [
      "False\n",
      "True\n"
     ]
    }
   ],
   "source": [
    "# identity operator()\n",
    "a=10\n",
    "b=20\n",
    "print(a is b)\n",
    "print(a is not b)"
   ]
  },
  {
   "cell_type": "code",
   "execution_count": 30,
   "id": "7304777d",
   "metadata": {},
   "outputs": [
    {
     "name": "stdout",
     "output_type": "stream",
     "text": [
      "True\n",
      "True\n",
      "False\n",
      "True\n"
     ]
    }
   ],
   "source": [
    "# membership operator\n",
    "a=\"vedha\"\n",
    "print(\"d\" in a)\n",
    "print(\"v\" in a)\n",
    "print(\"z\" in a)\n",
    "print(\"z\" not in a)"
   ]
  },
  {
   "cell_type": "markdown",
   "id": "1b269db4",
   "metadata": {},
   "source": [
    "# conditional statements\n",
    "### if -->checks for single case\n",
    "#### syntax:\n",
    "    if(condition):\n",
    "        //statements\n",
    "        \n",
    "        \n",
    "### if else --> To check whether given condition is true or false\n",
    "##### syntax:\n",
    "    if(condition):\n",
    "        //statements\n",
    "    else:\n",
    "        //statements\n",
    "\n",
    "### nested if:--> If first condition is true it checks inner if (or) else part or it returns the else part\n",
    "#### syntax:\n",
    "    if(condition1):\n",
    "        //statements\n",
    "        if(condition2):\n",
    "            //statements\n",
    "         else:\n",
    "         //statements\n",
    "    else:\n",
    "    //statements\n",
    "    \n",
    "### elseif:--> It checks n number of cases\n",
    "#### syntax:\n",
    "    if(condition1):\n",
    "        //statements\n",
    "        elif(condition2):\n",
    "            //statements\n",
    "        elif(condition3):\n",
    "            //statements\n",
    "        else:\n",
    "            //statements    \n",
    "            \n"
   ]
  },
  {
   "cell_type": "code",
   "execution_count": 38,
   "id": "63b14569",
   "metadata": {},
   "outputs": [
    {
     "name": "stdout",
     "output_type": "stream",
     "text": [
      "20 is big\n"
     ]
    }
   ],
   "source": [
    "# biggest of two numbers\n",
    "a=20\n",
    "b=10\n",
    "if(a>b):\n",
    "    print(\"{} is big\".format(a))"
   ]
  },
  {
   "cell_type": "code",
   "execution_count": 39,
   "id": "e9242b22",
   "metadata": {},
   "outputs": [
    {
     "name": "stdout",
     "output_type": "stream",
     "text": [
      "30\n",
      "40\n",
      "40 is big\n"
     ]
    }
   ],
   "source": [
    "a=int(input())\n",
    "b=int(input())\n",
    "if(a>b):\n",
    "    print(\"{} is big\".format(a))\n",
    "else:\n",
    "    print(\"{} is big\".format(b))"
   ]
  },
  {
   "cell_type": "code",
   "execution_count": 41,
   "id": "ef4a450e",
   "metadata": {},
   "outputs": [
    {
     "name": "stdout",
     "output_type": "stream",
     "text": [
      "enter the age19\n",
      "eligible to vote\n"
     ]
    }
   ],
   "source": [
    "# eligible to vote or not\n",
    "a=int(input(\"enter the age\"))\n",
    "if(a>=18):\n",
    "    print(\"eligible to vote\")\n",
    "else:\n",
    "    print(\"not eligible to vote\")"
   ]
  },
  {
   "cell_type": "code",
   "execution_count": 48,
   "id": "e00ad7cc",
   "metadata": {},
   "outputs": [
    {
     "name": "stdout",
     "output_type": "stream",
     "text": [
      "3\n",
      "2\n",
      "1\n",
      "3 is big\n"
     ]
    }
   ],
   "source": [
    "# biggest of three numbers\n",
    "a=int(input())\n",
    "b=int(input())\n",
    "c=int(input())\n",
    "if(a>b):\n",
    "    if(a>c):\n",
    "        print(\"{} is big\".format(a))\n",
    "    else:\n",
    "            print(\"{} is big\".format(c))\n",
    "elif(b>c):\n",
    "    print(\"{} is big\".format(b))\n",
    "else:\n",
    "    print(\"{} is big\".format(c))"
   ]
  },
  {
   "cell_type": "code",
   "execution_count": 49,
   "id": "1e2a09ee",
   "metadata": {},
   "outputs": [
    {
     "name": "stdout",
     "output_type": "stream",
     "text": [
      "20\n",
      "30\n",
      "10\n",
      "30 is big\n"
     ]
    }
   ],
   "source": [
    "# biggest of three numbers\n",
    "a=int(input())\n",
    "b=int(input())\n",
    "c=int(input())\n",
    "if(a>b and a>c):\n",
    "    print(\"{} is big\".format(a))\n",
    "elif(b>c):\n",
    "    print(\"{} is big\".format(b))\n",
    "else:\n",
    "    print(\"{} is big\".format(c))  "
   ]
  },
  {
   "cell_type": "code",
   "execution_count": 52,
   "id": "c23d3aee",
   "metadata": {},
   "outputs": [
    {
     "name": "stdout",
     "output_type": "stream",
     "text": [
      "3\n",
      "3 is odd\n"
     ]
    }
   ],
   "source": [
    "# even or odd\n",
    "a=int(input())\n",
    "if(a%2==0):\n",
    "    print(\"{} is even\".format(a))\n",
    "else:\n",
    "    print(\"{} is odd\".format(a))"
   ]
  },
  {
   "cell_type": "code",
   "execution_count": 56,
   "id": "e8ee227f",
   "metadata": {},
   "outputs": [
    {
     "name": "stdout",
     "output_type": "stream",
     "text": [
      "30\n",
      "40\n",
      "50\n",
      "30 is not in given range\n"
     ]
    }
   ],
   "source": [
    "# check the given number is in given range or not\n",
    "a=int(input())\n",
    "b=int(input())\n",
    "c=int(input())\n",
    "if(a>=b and a<=c):\n",
    "    print(\"{} is in given range\".format(a))\n",
    "else:\n",
    "    print(\"{} is not in given range\".format(a))"
   ]
  },
  {
   "cell_type": "code",
   "execution_count": 58,
   "id": "976640eb",
   "metadata": {},
   "outputs": [
    {
     "name": "stdout",
     "output_type": "stream",
     "text": [
      "123 is equal to 123\n"
     ]
    }
   ],
   "source": [
    "# check if given string is equal to number or not\n",
    "s=\"123\"\n",
    "n=123\n",
    "if str(n) == s:\n",
    "    print(n,\"is equal to\",s)\n",
    "else:\n",
    "    print(n,\"is not equal to\",s)"
   ]
  },
  {
   "cell_type": "code",
   "execution_count": 61,
   "id": "84c7eef4",
   "metadata": {},
   "outputs": [
    {
     "name": "stdout",
     "output_type": "stream",
     "text": [
      "vedha\n",
      "123\n"
     ]
    },
    {
     "ename": "ValueError",
     "evalue": "invalid literal for int() with base 10: 'vedha'",
     "output_type": "error",
     "traceback": [
      "\u001b[1;31m---------------------------------------------------------------------------\u001b[0m",
      "\u001b[1;31mValueError\u001b[0m                                Traceback (most recent call last)",
      "\u001b[1;32m<ipython-input-61-2a2264f0bb97>\u001b[0m in \u001b[0;36m<module>\u001b[1;34m\u001b[0m\n\u001b[0;32m      1\u001b[0m \u001b[0ms\u001b[0m\u001b[1;33m=\u001b[0m\u001b[0minput\u001b[0m\u001b[1;33m(\u001b[0m\u001b[1;33m)\u001b[0m\u001b[1;33m\u001b[0m\u001b[1;33m\u001b[0m\u001b[0m\n\u001b[0;32m      2\u001b[0m \u001b[0mn\u001b[0m\u001b[1;33m=\u001b[0m\u001b[0mint\u001b[0m\u001b[1;33m(\u001b[0m\u001b[0minput\u001b[0m\u001b[1;33m(\u001b[0m\u001b[1;33m)\u001b[0m\u001b[1;33m)\u001b[0m\u001b[1;33m\u001b[0m\u001b[1;33m\u001b[0m\u001b[0m\n\u001b[1;32m----> 3\u001b[1;33m \u001b[1;32mif\u001b[0m \u001b[0mn\u001b[0m \u001b[1;33m==\u001b[0m \u001b[0mint\u001b[0m\u001b[1;33m(\u001b[0m\u001b[0ms\u001b[0m\u001b[1;33m)\u001b[0m\u001b[1;33m:\u001b[0m\u001b[1;33m\u001b[0m\u001b[1;33m\u001b[0m\u001b[0m\n\u001b[0m\u001b[0;32m      4\u001b[0m     \u001b[0mprint\u001b[0m\u001b[1;33m(\u001b[0m\u001b[0mn\u001b[0m\u001b[1;33m,\u001b[0m\u001b[1;34m\"is equal to\"\u001b[0m\u001b[1;33m,\u001b[0m\u001b[0ms\u001b[0m\u001b[1;33m)\u001b[0m\u001b[1;33m\u001b[0m\u001b[1;33m\u001b[0m\u001b[0m\n\u001b[0;32m      5\u001b[0m \u001b[1;32melse\u001b[0m\u001b[1;33m:\u001b[0m\u001b[1;33m\u001b[0m\u001b[1;33m\u001b[0m\u001b[0m\n",
      "\u001b[1;31mValueError\u001b[0m: invalid literal for int() with base 10: 'vedha'"
     ]
    }
   ],
   "source": [
    "s=input()\n",
    "n=int(input())\n",
    "if n == int(s):\n",
    "    print(n,\"is equal to\",s)\n",
    "else:\n",
    "    print(n,\"is not equal to\",s)"
   ]
  },
  {
   "cell_type": "markdown",
   "id": "3c715f99",
   "metadata": {},
   "source": [
    "# initialization of loop\n",
    "# conduction checking\n",
    "## in/decrement\n",
    "\n",
    "## while\n",
    "## for loop\n",
    "## nested loop\n",
    "## loop control statements"
   ]
  },
  {
   "cell_type": "code",
   "execution_count": 1,
   "id": "7177de55",
   "metadata": {},
   "outputs": [
    {
     "name": "stdout",
     "output_type": "stream",
     "text": [
      "0\n",
      "1\n",
      "2\n",
      "3\n",
      "4\n",
      "5\n",
      "6\n",
      "7\n",
      "8\n",
      "9\n",
      "10\n"
     ]
    }
   ],
   "source": [
    "i=0\n",
    "while i<=10:\n",
    "    print(i)\n",
    "    i=i+1"
   ]
  },
  {
   "cell_type": "code",
   "execution_count": 1,
   "id": "2e19540a",
   "metadata": {},
   "outputs": [
    {
     "name": "stdout",
     "output_type": "stream",
     "text": [
      "0\n",
      "2\n",
      "4\n",
      "6\n",
      "8\n"
     ]
    }
   ],
   "source": [
    "i=0\n",
    "while i<10:\n",
    "    if i%2==0:\n",
    "        print(i)\n",
    "    i=i+1"
   ]
  },
  {
   "cell_type": "code",
   "execution_count": 2,
   "id": "d0534ba2",
   "metadata": {},
   "outputs": [
    {
     "name": "stdout",
     "output_type": "stream",
     "text": [
      "Even Number is 0\n",
      "odd number is 1\n",
      "Even Number is 2\n",
      "odd number is 3\n",
      "Even Number is 4\n",
      "odd number is 5\n",
      "Even Number is 6\n",
      "odd number is 7\n",
      "Even Number is 8\n",
      "odd number is 9\n",
      "Even Number is 10\n"
     ]
    }
   ],
   "source": [
    "i=0\n",
    "while i<=10:\n",
    "    if i%2==0:\n",
    "        print(\"Even Number is\",i)\n",
    "    else:\n",
    "        print(\"odd number is\",i)\n",
    "    i=i+1"
   ]
  },
  {
   "cell_type": "code",
   "execution_count": 4,
   "id": "0cd697e8",
   "metadata": {},
   "outputs": [
    {
     "name": "stdout",
     "output_type": "stream",
     "text": [
      "\n",
      "*\n",
      "**\n",
      "***\n",
      "****\n",
      "*****\n"
     ]
    }
   ],
   "source": [
    "i=0\n",
    "while i<=5:\n",
    "    print(\"*\"*i)\n",
    "    i=i+1"
   ]
  },
  {
   "cell_type": "code",
   "execution_count": 5,
   "id": "e0987aa0",
   "metadata": {},
   "outputs": [
    {
     "name": "stdout",
     "output_type": "stream",
     "text": [
      "**********\n",
      "*********\n",
      "********\n",
      "*******\n",
      "******\n",
      "*****\n",
      "****\n",
      "***\n",
      "**\n",
      "*\n",
      "\n"
     ]
    }
   ],
   "source": [
    "i=10\n",
    "while i>=0:\n",
    "    print(\"*\"*i)\n",
    "    i=i-1"
   ]
  },
  {
   "cell_type": "code",
   "execution_count": 6,
   "id": "a766f9f7",
   "metadata": {},
   "outputs": [
    {
     "name": "stdout",
     "output_type": "stream",
     "text": [
      "😄😄😄😄😄😄😄😄😄😄\n",
      "😄😄😄😄😄😄😄😄😄\n",
      "😄😄😄😄😄😄😄😄\n",
      "😄😄😄😄😄😄😄\n",
      "😄😄😄😄😄😄\n",
      "😄😄😄😄😄\n",
      "😄😄😄😄\n",
      "😄😄😄\n",
      "😄😄\n",
      "😄\n",
      "\n"
     ]
    }
   ],
   "source": [
    "i=10\n",
    "while i>=0:\n",
    "    print(\"😄\"*i)\n",
    "    i=i-1"
   ]
  },
  {
   "cell_type": "code",
   "execution_count": 7,
   "id": "a9d57538",
   "metadata": {},
   "outputs": [
    {
     "name": "stdout",
     "output_type": "stream",
     "text": [
      "\n",
      "😄\n",
      "😄😄\n",
      "😄😄😄\n",
      "😄😄😄😄\n",
      "😄😄😄😄😄\n",
      "😄😄😄😄😄😄\n",
      "😄😄😄😄😄😄😄\n",
      "😄😄😄😄😄😄😄😄\n",
      "😄😄😄😄😄😄😄😄😄\n",
      "😄😄😄😄😄😄😄😄😄😄\n"
     ]
    }
   ],
   "source": [
    "i=0\n",
    "while i<=10:\n",
    "    print(\"😄\"*i)\n",
    "    i=i+1"
   ]
  },
  {
   "cell_type": "code",
   "execution_count": 2,
   "id": "b66e3fe6",
   "metadata": {},
   "outputs": [
    {
     "name": "stdout",
     "output_type": "stream",
     "text": [
      "Enter the number5\n",
      "1,2,3,4,5,15\n"
     ]
    }
   ],
   "source": [
    "# 5 1+2+3+4+5=15\n",
    "n=int(input(\"Enter the number\"))\n",
    "summ=0\n",
    "i=1\n",
    "while i<=n:\n",
    "    print(i,end=\",\")\n",
    "    summ=summ+i\n",
    "    i=i+1\n",
    "print(summ)    "
   ]
  },
  {
   "cell_type": "code",
   "execution_count": 5,
   "id": "4f2cb62a",
   "metadata": {},
   "outputs": [
    {
     "name": "stdout",
     "output_type": "stream",
     "text": [
      "Enter the number:4\n",
      "1,2,3,4,factorial of number is  24\n"
     ]
    }
   ],
   "source": [
    "n=int(input(\"Enter the number:\"))\n",
    "fact=1\n",
    "i=1\n",
    "while i<=n:\n",
    "    print(i,end=\",\")\n",
    "    fact=fact*i\n",
    "    i=i+1\n",
    "print(\"factorial of number is \",fact)    "
   ]
  },
  {
   "cell_type": "markdown",
   "id": "1231200e",
   "metadata": {},
   "source": [
    "# loop control systems\n",
    "## break \n",
    "## continue\n",
    "## pass"
   ]
  },
  {
   "cell_type": "code",
   "execution_count": 6,
   "id": "dea54bae",
   "metadata": {},
   "outputs": [
    {
     "name": "stdout",
     "output_type": "stream",
     "text": [
      "0\n",
      "1\n",
      "2\n",
      "3\n",
      "4\n",
      "5\n"
     ]
    }
   ],
   "source": [
    "i=0\n",
    "while i<=5:\n",
    "    print(i)\n",
    "    i=i+1\n"
   ]
  },
  {
   "cell_type": "code",
   "execution_count": 5,
   "id": "07e2033c",
   "metadata": {},
   "outputs": [
    {
     "name": "stdout",
     "output_type": "stream",
     "text": [
      "1\n",
      "2\n",
      "3\n"
     ]
    }
   ],
   "source": [
    "i=0\n",
    "while i<10:\n",
    "    if i==3:\n",
    "        break\n",
    "    i=i+1\n",
    "    print(i)"
   ]
  },
  {
   "cell_type": "code",
   "execution_count": 4,
   "id": "07ba23ab",
   "metadata": {},
   "outputs": [
    {
     "name": "stdout",
     "output_type": "stream",
     "text": [
      "1\n",
      "2\n",
      "4\n",
      "5\n",
      "6\n",
      "7\n",
      "8\n",
      "9\n",
      "10\n"
     ]
    }
   ],
   "source": [
    "i=0\n",
    "while i<10:\n",
    "    i=i+1\n",
    "    if i==3:\n",
    "        continue\n",
    "    print(i)"
   ]
  },
  {
   "cell_type": "markdown",
   "id": "f749351c",
   "metadata": {},
   "source": [
    "## start value for loop\n",
    "## end value for loop\n",
    "## step"
   ]
  },
  {
   "cell_type": "code",
   "execution_count": 6,
   "id": "2cae65f0",
   "metadata": {},
   "outputs": [
    {
     "name": "stdout",
     "output_type": "stream",
     "text": [
      "0\n",
      "10\n",
      "2\n"
     ]
    }
   ],
   "source": [
    "for vignan in (0,10,2):\n",
    "    print(vignan)"
   ]
  },
  {
   "cell_type": "code",
   "execution_count": 7,
   "id": "81f3b24f",
   "metadata": {},
   "outputs": [
    {
     "name": "stdout",
     "output_type": "stream",
     "text": [
      "0\n",
      "2\n",
      "4\n",
      "6\n",
      "8\n"
     ]
    }
   ],
   "source": [
    "for kl in range(0,10,2):\n",
    "    print(kl)"
   ]
  },
  {
   "cell_type": "code",
   "execution_count": 10,
   "id": "24ea2421",
   "metadata": {},
   "outputs": [
    {
     "name": "stdout",
     "output_type": "stream",
     "text": [
      "10,12,14,16,18,20,22,24,26,28,30,32,34,36,38,40,42,44,46,48,50,52,54,56,58,60,62,64,66,68,70,72,74,76,78,80,82,84,86,88,90,92,94,96,98,100,"
     ]
    }
   ],
   "source": [
    "for i in range(10,101,2):\n",
    "    print(i,end=\",\")"
   ]
  },
  {
   "cell_type": "code",
   "execution_count": 13,
   "id": "06fa4bca",
   "metadata": {},
   "outputs": [
    {
     "name": "stdout",
     "output_type": "stream",
     "text": [
      "500,502,504,506,508,510,512,514,516,518,520,522,524,526,528,530,532,534,536,538,540,542,544,546,548,550,552,554,556,558,560,562,564,566,568,570,572,574,576,578,580,582,584,586,588,590,592,594,596,598,600,602,604,606,608,610,612,614,616,618,620,622,624,626,628,630,632,634,636,638,640,642,644,646,648,650,652,654,656,658,660,662,664,666,668,670,672,674,676,678,680,682,684,686,688,690,692,694,696,698,700,702,704,706,708,710,712,714,716,718,720,722,724,726,728,730,732,734,736,738,740,742,744,746,748,750,752,754,756,758,760,762,764,766,768,770,772,774,776,778,780,782,784,786,788,790,792,794,796,798,800,802,804,806,808,810,812,814,816,818,820,822,824,826,828,830,832,834,836,838,840,842,844,846,848,850,852,854,856,858,860,862,864,866,868,870,872,874,876,878,880,882,884,886,888,890,892,894,896,898,900,902,904,906,908,910,912,914,916,918,920,922,924,926,928,930,932,934,936,938,940,942,944,946,948,950,952,954,956,958,960,962,964,966,968,970,972,974,976,978,980,982,984,986,988,990,992,994,996,998,1000,"
     ]
    }
   ],
   "source": [
    "for i in range(500,1002,2):\n",
    "    print(i,end=\",\")"
   ]
  },
  {
   "cell_type": "code",
   "execution_count": 14,
   "id": "6c4a188a",
   "metadata": {},
   "outputs": [
    {
     "name": "stdout",
     "output_type": "stream",
     "text": [
      "100,98,96,94,92,90,88,86,84,82,80,78,76,74,72,70,68,66,64,62,60,58,56,54,52,50,48,46,44,42,40,38,36,34,32,30,28,26,24,22,20,18,16,14,12,"
     ]
    }
   ],
   "source": [
    "for i in range(100,10,-2):\n",
    "              print(i,end=\",\")"
   ]
  },
  {
   "cell_type": "code",
   "execution_count": 15,
   "id": "78703014",
   "metadata": {},
   "outputs": [
    {
     "name": "stdout",
     "output_type": "stream",
     "text": [
      "good afternoon\n",
      "good afternoon\n",
      "good afternoon\n",
      "good afternoon\n",
      "good afternoon\n",
      "good afternoon\n",
      "good afternoon\n",
      "good afternoon\n",
      "good afternoon\n",
      "good afternoon\n",
      "good afternoon\n",
      "good afternoon\n",
      "good afternoon\n",
      "good afternoon\n",
      "good afternoon\n",
      "good afternoon\n",
      "good afternoon\n",
      "good afternoon\n",
      "good afternoon\n",
      "good afternoon\n",
      "good afternoon\n",
      "good afternoon\n",
      "good afternoon\n",
      "good afternoon\n",
      "good afternoon\n",
      "good afternoon\n",
      "good afternoon\n",
      "good afternoon\n",
      "good afternoon\n",
      "good afternoon\n",
      "good afternoon\n",
      "good afternoon\n",
      "good afternoon\n",
      "good afternoon\n",
      "good afternoon\n",
      "good afternoon\n",
      "good afternoon\n",
      "good afternoon\n",
      "good afternoon\n",
      "good afternoon\n",
      "good afternoon\n",
      "good afternoon\n",
      "good afternoon\n",
      "good afternoon\n",
      "good afternoon\n",
      "good afternoon\n",
      "good afternoon\n",
      "good afternoon\n",
      "good afternoon\n",
      "good afternoon\n",
      "good afternoon\n",
      "good afternoon\n",
      "good afternoon\n",
      "good afternoon\n",
      "good afternoon\n",
      "good afternoon\n",
      "good afternoon\n",
      "good afternoon\n",
      "good afternoon\n",
      "good afternoon\n",
      "good afternoon\n",
      "good afternoon\n",
      "good afternoon\n",
      "good afternoon\n",
      "good afternoon\n",
      "good afternoon\n",
      "good afternoon\n",
      "good afternoon\n",
      "good afternoon\n",
      "good afternoon\n",
      "good afternoon\n",
      "good afternoon\n",
      "good afternoon\n",
      "good afternoon\n",
      "good afternoon\n",
      "good afternoon\n",
      "good afternoon\n",
      "good afternoon\n",
      "good afternoon\n",
      "good afternoon\n",
      "good afternoon\n",
      "good afternoon\n",
      "good afternoon\n",
      "good afternoon\n",
      "good afternoon\n",
      "good afternoon\n",
      "good afternoon\n",
      "good afternoon\n",
      "good afternoon\n",
      "good afternoon\n",
      "good afternoon\n",
      "good afternoon\n",
      "good afternoon\n",
      "good afternoon\n",
      "good afternoon\n",
      "good afternoon\n",
      "good afternoon\n",
      "good afternoon\n",
      "good afternoon\n",
      "good afternoon\n"
     ]
    }
   ],
   "source": [
    "for i in range(100):\n",
    "    print(\"good afternoon\")"
   ]
  },
  {
   "cell_type": "code",
   "execution_count": 16,
   "id": "62d667c1",
   "metadata": {},
   "outputs": [
    {
     "name": "stdout",
     "output_type": "stream",
     "text": [
      "99\n",
      "98\n",
      "97\n",
      "96\n",
      "95\n",
      "94\n",
      "93\n",
      "92\n",
      "91\n",
      "90\n",
      "89\n",
      "88\n",
      "87\n",
      "86\n",
      "85\n",
      "84\n",
      "83\n",
      "82\n",
      "81\n",
      "80\n",
      "79\n",
      "78\n",
      "77\n",
      "76\n",
      "75\n",
      "74\n",
      "73\n",
      "72\n",
      "71\n",
      "70\n",
      "69\n",
      "68\n",
      "67\n",
      "66\n",
      "65\n",
      "64\n",
      "63\n",
      "62\n",
      "61\n",
      "60\n",
      "59\n",
      "58\n",
      "57\n",
      "56\n",
      "55\n",
      "54\n",
      "53\n",
      "52\n",
      "51\n",
      "50\n",
      "49\n",
      "48\n",
      "47\n",
      "46\n",
      "45\n",
      "44\n",
      "43\n",
      "42\n",
      "41\n",
      "40\n",
      "39\n",
      "38\n",
      "37\n",
      "36\n",
      "35\n",
      "34\n",
      "33\n",
      "32\n",
      "31\n",
      "30\n",
      "29\n",
      "28\n",
      "27\n",
      "26\n",
      "25\n",
      "24\n",
      "23\n",
      "22\n",
      "21\n",
      "20\n",
      "19\n",
      "18\n",
      "17\n",
      "16\n",
      "15\n",
      "14\n",
      "13\n",
      "12\n",
      "11\n",
      "10\n",
      "9\n",
      "8\n",
      "7\n",
      "6\n",
      "5\n",
      "4\n",
      "3\n",
      "2\n",
      "1\n",
      "0\n"
     ]
    }
   ],
   "source": [
    "for i in reversed(range(100)):\n",
    "    print(i)"
   ]
  },
  {
   "cell_type": "code",
   "execution_count": 17,
   "id": "dc0b97e6",
   "metadata": {},
   "outputs": [
    {
     "name": "stdout",
     "output_type": "stream",
     "text": [
      "98\n",
      "96\n",
      "94\n",
      "92\n",
      "90\n",
      "88\n",
      "86\n",
      "84\n",
      "82\n",
      "80\n",
      "78\n",
      "76\n",
      "74\n",
      "72\n",
      "70\n",
      "68\n",
      "66\n",
      "64\n",
      "62\n",
      "60\n",
      "58\n",
      "56\n",
      "54\n",
      "52\n",
      "50\n",
      "48\n",
      "46\n",
      "44\n",
      "42\n",
      "40\n",
      "38\n",
      "36\n",
      "34\n",
      "32\n",
      "30\n",
      "28\n",
      "26\n",
      "24\n",
      "22\n",
      "20\n",
      "18\n",
      "16\n",
      "14\n",
      "12\n",
      "10\n",
      "8\n",
      "6\n",
      "4\n",
      "2\n",
      "0\n"
     ]
    }
   ],
   "source": [
    "for i in reversed(range(0,100,2)):\n",
    "    print(i)"
   ]
  },
  {
   "cell_type": "code",
   "execution_count": 6,
   "id": "ec28e8fe",
   "metadata": {},
   "outputs": [
    {
     "name": "stdout",
     "output_type": "stream",
     "text": [
      "enter the number5\n",
      "its prime number 5\n"
     ]
    }
   ],
   "source": [
    "n=int(input(\"enter the number\"))\n",
    "if n>0:\n",
    "    for i in range(2,n+1):\n",
    "        if n%i==0:\n",
    "            print(\"its prime number\",n)\n",
    "            break\n",
    "    else:\n",
    "            print(\"not prime number\",n)"
   ]
  },
  {
   "cell_type": "code",
   "execution_count": 7,
   "id": "752fa131",
   "metadata": {},
   "outputs": [
    {
     "name": "stdout",
     "output_type": "stream",
     "text": [
      "enter the number123\n",
      "321\n"
     ]
    }
   ],
   "source": [
    "# reverse*10+remainder\n",
    "n=int(input(\"enter the number\"))\n",
    "rev=0\n",
    "while n>0:\n",
    "    rem=n%10\n",
    "    rev=rev*10+rem\n",
    "    n=n//10\n",
    "print(rev)\n",
    "    "
   ]
  },
  {
   "cell_type": "code",
   "execution_count": null,
   "id": "db145217",
   "metadata": {},
   "outputs": [],
   "source": [
    "for i in range(10):\n",
    "    "
   ]
  },
  {
   "cell_type": "code",
   "execution_count": 9,
   "id": "c5b036e7",
   "metadata": {},
   "outputs": [
    {
     "name": "stdout",
     "output_type": "stream",
     "text": [
      "enter the number5\n",
      "120\n"
     ]
    }
   ],
   "source": [
    "num=int(input(\"enter the number\"))\n",
    "fact=1\n",
    "for i in range(1,num+1):\n",
    "    fact=fact*i\n",
    "print(fact)"
   ]
  },
  {
   "cell_type": "markdown",
   "id": "3cce2492",
   "metadata": {},
   "source": [
    "# nested loop"
   ]
  },
  {
   "cell_type": "code",
   "execution_count": 11,
   "id": "adfee6eb",
   "metadata": {},
   "outputs": [
    {
     "name": "stdout",
     "output_type": "stream",
     "text": [
      "012345"
     ]
    }
   ],
   "source": [
    "for i in range(6):\n",
    "    print(i,end=\"\")"
   ]
  },
  {
   "cell_type": "code",
   "execution_count": 14,
   "id": "9f929667",
   "metadata": {},
   "outputs": [
    {
     "name": "stdout",
     "output_type": "stream",
     "text": [
      "1\n",
      "12\n",
      "123\n",
      "1234\n",
      "12345\n"
     ]
    }
   ],
   "source": [
    "for i in range(1,6):\n",
    "    for k in range(1,i+1):\n",
    "        print(k,end=\"\")\n",
    "    print()"
   ]
  },
  {
   "cell_type": "code",
   "execution_count": 16,
   "id": "511196fc",
   "metadata": {},
   "outputs": [
    {
     "name": "stdout",
     "output_type": "stream",
     "text": [
      "['False', 'None', 'True', 'and', 'as', 'assert', 'async', 'await', 'break', 'class', 'continue', 'def', 'del', 'elif', 'else', 'except', 'finally', 'for', 'from', 'global', 'if', 'import', 'in', 'is', 'lambda', 'nonlocal', 'not', 'or', 'pass', 'raise', 'return', 'try', 'while', 'with', 'yield']\n"
     ]
    }
   ],
   "source": [
    "import keyword\n",
    "print(keyword.kwlist)"
   ]
  },
  {
   "cell_type": "code",
   "execution_count": 21,
   "id": "406c8a5a",
   "metadata": {},
   "outputs": [
    {
     "name": "stdout",
     "output_type": "stream",
     "text": [
      "65\n",
      "90\n",
      "97\n",
      "122\n",
      "z\n",
      "H\n"
     ]
    }
   ],
   "source": [
    "# ord()\n",
    "# chr()\n",
    "print(ord('A'))\n",
    "print(ord('Z'))\n",
    "print(ord('a'))\n",
    "print(ord('z'))\n",
    "print(chr(122))\n",
    "print(chr(72))"
   ]
  },
  {
   "cell_type": "code",
   "execution_count": 24,
   "id": "cfb7997a",
   "metadata": {},
   "outputs": [
    {
     "name": "stdout",
     "output_type": "stream",
     "text": [
      "A,B,C,D,E,F,G,H,I,J,K,L,M,N,O,P,Q,R,S,T,U,V,W,X,Y,Z,"
     ]
    }
   ],
   "source": [
    "for i in range(65,91):\n",
    "    print(chr(i),end=\",\")\n",
    "    "
   ]
  },
  {
   "cell_type": "code",
   "execution_count": 25,
   "id": "15de6eb3",
   "metadata": {},
   "outputs": [
    {
     "name": "stdout",
     "output_type": "stream",
     "text": [
      "a,b,c,d,e,f,g,h,i,j,k,l,m,n,o,p,q,r,s,t,u,v,w,x,y,z,"
     ]
    }
   ],
   "source": [
    "for i in range(97,123):\n",
    "    print(chr(i),end=\",\")"
   ]
  },
  {
   "cell_type": "code",
   "execution_count": 26,
   "id": "27e541bd",
   "metadata": {},
   "outputs": [
    {
     "name": "stdout",
     "output_type": "stream",
     "text": [
      "A,B,C,D,E,F,G,H,I,J,K,L,M,N,O,P,Q,R,S,T,U,V,W,X,Y,Z,[,"
     ]
    }
   ],
   "source": [
    "for i in range(65,92):\n",
    "    print(chr(i),end=\",\")"
   ]
  },
  {
   "cell_type": "code",
   "execution_count": 28,
   "id": "cbb2c0ff",
   "metadata": {},
   "outputs": [
    {
     "name": "stdout",
     "output_type": "stream",
     "text": [
      "z,y,x,w,v,u,t,s,r,q,p,o,n,m,l,k,j,i,h,g,f,e,d,c,b,a,"
     ]
    }
   ],
   "source": [
    "for i in range(122,96,-1):\n",
    "    print(chr(i),end=\",\")"
   ]
  },
  {
   "cell_type": "code",
   "execution_count": 37,
   "id": "854655c0",
   "metadata": {},
   "outputs": [
    {
     "name": "stdout",
     "output_type": "stream",
     "text": [
      "A\n",
      "AB\n",
      "ABC\n",
      "ABCD\n",
      "ABCDE\n"
     ]
    }
   ],
   "source": [
    "for i in range(65,70):\n",
    "    for k in range(65,i+1):\n",
    "            print(chr(k),end=\"\")\n",
    "    print()\n",
    "        "
   ]
  },
  {
   "cell_type": "code",
   "execution_count": 44,
   "id": "1f88be9e",
   "metadata": {
    "scrolled": true
   },
   "outputs": [
    {
     "name": "stdout",
     "output_type": "stream",
     "text": [
      "ABCDEF\n",
      "ABCDE\n",
      "ABCD\n",
      "ABC\n",
      "AB\n",
      "A\n"
     ]
    }
   ],
   "source": [
    "for i in range(70,64,-1):\n",
    "    for k in range(65,i+1):\n",
    "            print(chr(k),end=\"\")\n",
    "    print()\n",
    "        "
   ]
  },
  {
   "cell_type": "code",
   "execution_count": 2,
   "id": "7cc05be9",
   "metadata": {},
   "outputs": [
    {
     "name": "stdout",
     "output_type": "stream",
     "text": [
      "enter the number370\n",
      "armstrong number\n"
     ]
    }
   ],
   "source": [
    "num=int(input(\"enter the number\"))\n",
    "summ=0\n",
    "check=num\n",
    "while num>0:\n",
    "    rem=num%10\n",
    "    summ=summ+rem**3\n",
    "    num=num//10\n",
    "if check==summ:\n",
    "    print(\"armstrong number\")\n",
    "else:\n",
    "    print(\"not an armstrong\")"
   ]
  },
  {
   "cell_type": "code",
   "execution_count": 4,
   "id": "a5ce59c7",
   "metadata": {},
   "outputs": [
    {
     "name": "stdout",
     "output_type": "stream",
     "text": [
      "<class 'str'>\n",
      "vignan womens clg"
     ]
    }
   ],
   "source": [
    "st=\"vignan womens clg\"\n",
    "print(type(st))\n",
    "for i in st:\n",
    "    print(i,end=\"\")"
   ]
  },
  {
   "cell_type": "code",
   "execution_count": 9,
   "id": "7dfa8493",
   "metadata": {},
   "outputs": [
    {
     "name": "stdout",
     "output_type": "stream",
     "text": [
      "5\n",
      "h\n",
      "o\n",
      "l\n",
      "l\n"
     ]
    }
   ],
   "source": [
    "vg=\"hello\"\n",
    "print(len(vg))\n",
    "print(vg[0])\n",
    "print(vg[4])\n",
    "print(vg[-2])\n",
    "print(vg[-3])"
   ]
  },
  {
   "cell_type": "code",
   "execution_count": 10,
   "id": "8a44f0f6",
   "metadata": {},
   "outputs": [
    {
     "name": "stdout",
     "output_type": "stream",
     "text": [
      "egelloc nangiv\n"
     ]
    }
   ],
   "source": [
    "vgl=\"vignan college\"\n",
    "print(vgl[::-1])"
   ]
  },
  {
   "cell_type": "code",
   "execution_count": 13,
   "id": "0963d2f5",
   "metadata": {},
   "outputs": [
    {
     "name": "stdout",
     "output_type": "stream",
     "text": [
      "an c\n"
     ]
    }
   ],
   "source": [
    "vgl=\"vignan college\"\n",
    "print(vgl[4:8:])"
   ]
  },
  {
   "cell_type": "code",
   "execution_count": 19,
   "id": "a31f1aaf",
   "metadata": {},
   "outputs": [
    {
     "name": "stdout",
     "output_type": "stream",
     "text": [
      "morning\n"
     ]
    }
   ],
   "source": [
    "vgl2=\"good morning\"\n",
    "print(vgl2[5::])"
   ]
  },
  {
   "cell_type": "code",
   "execution_count": 22,
   "id": "fd1a7cd6",
   "metadata": {},
   "outputs": [
    {
     "name": "stdout",
     "output_type": "stream",
     "text": [
      "Vga nttt fEgneigFrWmn\n"
     ]
    }
   ],
   "source": [
    "vgs=\"Vignan Institute of Engineering For Women\"\n",
    "print(vgs[::2])"
   ]
  },
  {
   "cell_type": "code",
   "execution_count": 24,
   "id": "4c432004",
   "metadata": {},
   "outputs": [
    {
     "name": "stdout",
     "output_type": "stream",
     "text": [
      "nor ieg  utIai\n"
     ]
    }
   ],
   "source": [
    "vgs=\"Vignan Institute of Engineering For Women\"\n",
    "print(vgs[::-3])"
   ]
  },
  {
   "cell_type": "code",
   "execution_count": 26,
   "id": "e7417762",
   "metadata": {},
   "outputs": [
    {
     "name": "stdout",
     "output_type": "stream",
     "text": [
      "['__add__', '__class__', '__contains__', '__delattr__', '__dir__', '__doc__', '__eq__', '__format__', '__ge__', '__getattribute__', '__getitem__', '__getnewargs__', '__gt__', '__hash__', '__init__', '__init_subclass__', '__iter__', '__le__', '__len__', '__lt__', '__mod__', '__mul__', '__ne__', '__new__', '__reduce__', '__reduce_ex__', '__repr__', '__rmod__', '__rmul__', '__setattr__', '__sizeof__', '__str__', '__subclasshook__', 'capitalize', 'casefold', 'center', 'count', 'encode', 'endswith', 'expandtabs', 'find', 'format', 'format_map', 'index', 'isalnum', 'isalpha', 'isascii', 'isdecimal', 'isdigit', 'isidentifier', 'islower', 'isnumeric', 'isprintable', 'isspace', 'istitle', 'isupper', 'join', 'ljust', 'lower', 'lstrip', 'maketrans', 'partition', 'replace', 'rfind', 'rindex', 'rjust', 'rpartition', 'rsplit', 'rstrip', 'split', 'splitlines', 'startswith', 'strip', 'swapcase', 'title', 'translate', 'upper', 'zfill']\n"
     ]
    }
   ],
   "source": [
    "print(dir(str))"
   ]
  },
  {
   "cell_type": "code",
   "execution_count": 27,
   "id": "49e90777",
   "metadata": {},
   "outputs": [
    {
     "name": "stdout",
     "output_type": "stream",
     "text": [
      "['__add__', '__class__', '__contains__', '__delattr__', '__dir__', '__doc__', '__eq__', '__format__', '__ge__', '__getattribute__', '__getitem__', '__getnewargs__', '__gt__', '__hash__', '__init__', '__init_subclass__', '__iter__', '__le__', '__len__', '__lt__', '__mod__', '__mul__', '__ne__', '__new__', '__reduce__', '__reduce_ex__', '__repr__', '__rmod__', '__rmul__', '__setattr__', '__sizeof__', '__str__', '__subclasshook__', 'capitalize', 'casefold', 'center', 'count', 'encode', 'endswith', 'expandtabs', 'find', 'format', 'format_map', 'index', 'isalnum', 'isalpha', 'isascii', 'isdecimal', 'isdigit', 'isidentifier', 'islower', 'isnumeric', 'isprintable', 'isspace', 'istitle', 'isupper', 'join', 'ljust', 'lower', 'lstrip', 'maketrans', 'partition', 'replace', 'rfind', 'rindex', 'rjust', 'rpartition', 'rsplit', 'rstrip', 'split', 'splitlines', 'startswith', 'strip', 'swapcase', 'title', 'translate', 'upper', 'zfill']\n"
     ]
    }
   ],
   "source": [
    "print(dir(vgs))"
   ]
  },
  {
   "cell_type": "code",
   "execution_count": 32,
   "id": "df24f243",
   "metadata": {},
   "outputs": [
    {
     "name": "stdout",
     "output_type": "stream",
     "text": [
      "4\n",
      "True\n",
      "False\n"
     ]
    }
   ],
   "source": [
    "vgl=\"Vignan's Institute of Engineering for Women\"\n",
    "print(vgl.count('e'))\n",
    "print(vgl.endswith('n'))\n",
    "print(vgl.endswith('e'))"
   ]
  },
  {
   "cell_type": "code",
   "execution_count": 35,
   "id": "18be0b29",
   "metadata": {},
   "outputs": [
    {
     "name": "stdout",
     "output_type": "stream",
     "text": [
      "9\n",
      "19\n",
      "False\n"
     ]
    }
   ],
   "source": [
    "vgl=\"Vignan's Institute of Engineering for Women\"\n",
    "print(vgl.find('I'))\n",
    "print(vgl.index('o'))\n",
    "print(vgl.isalnum())"
   ]
  },
  {
   "cell_type": "code",
   "execution_count": 36,
   "id": "edb2b2f8",
   "metadata": {},
   "outputs": [
    {
     "name": "stdout",
     "output_type": "stream",
     "text": [
      "True\n"
     ]
    }
   ],
   "source": [
    "vgg=\"123\"\n",
    "print(vgg.isalnum())"
   ]
  },
  {
   "cell_type": "code",
   "execution_count": 38,
   "id": "1a7becdb",
   "metadata": {},
   "outputs": [
    {
     "name": "stdout",
     "output_type": "stream",
     "text": [
      "False\n"
     ]
    }
   ],
   "source": [
    "vgg=\"hello1\"\n",
    "print(vgg.isalpha())"
   ]
  },
  {
   "cell_type": "code",
   "execution_count": 39,
   "id": "8acb6387",
   "metadata": {},
   "outputs": [
    {
     "name": "stdout",
     "output_type": "stream",
     "text": [
      "False\n"
     ]
    }
   ],
   "source": [
    "vgg=\"1234@\"\n",
    "print(vgg.isdigit())"
   ]
  },
  {
   "cell_type": "code",
   "execution_count": 43,
   "id": "8835d755",
   "metadata": {},
   "outputs": [
    {
     "name": "stdout",
     "output_type": "stream",
     "text": [
      "Vedha\n",
      "                      vedha                       \n"
     ]
    }
   ],
   "source": [
    "snt=\"vedha\"\n",
    "print(snt.capitalize())\n",
    "print(snt.center(50))"
   ]
  },
  {
   "cell_type": "code",
   "execution_count": 44,
   "id": "01673051",
   "metadata": {},
   "outputs": [
    {
     "name": "stdout",
     "output_type": "stream",
     "text": [
      "True\n",
      "False\n",
      "vedha\n",
      "VEDHA\n",
      "VEDHA\n",
      "Vedha\n"
     ]
    }
   ],
   "source": [
    "snt=\"vedha\"\n",
    "print(snt.islower())\n",
    "print(snt.isupper())\n",
    "print(snt.lower())\n",
    "print(snt.upper())\n",
    "print(snt.swapcase())\n",
    "print(snt.title())"
   ]
  },
  {
   "cell_type": "code",
   "execution_count": 6,
   "id": "28a74e26",
   "metadata": {},
   "outputs": [
    {
     "name": "stdout",
     "output_type": "stream",
     "text": [
      "good afternoon\n",
      "14\n",
      "t\n",
      "t\n"
     ]
    }
   ],
   "source": [
    "s2=\"good afternoon\"\n",
    "print(s2)\n",
    "print(len(s2))\n",
    "print(s2[7])\n",
    "print(s2[len(s2)//2])"
   ]
  },
  {
   "cell_type": "code",
   "execution_count": 9,
   "id": "1f18f3bc",
   "metadata": {},
   "outputs": [
    {
     "name": "stdout",
     "output_type": "stream",
     "text": [
      "GoodAfternoon\n",
      "False\n"
     ]
    }
   ],
   "source": [
    "a=\"Good\"\n",
    "b=\"Afternoon\"\n",
    "c=a.__add__(b)\n",
    "print(c)\n",
    "d=a.__eq__(b)\n",
    "print(d)"
   ]
  },
  {
   "cell_type": "code",
   "execution_count": 11,
   "id": "0e5f211c",
   "metadata": {},
   "outputs": [
    {
     "name": "stdout",
     "output_type": "stream",
     "text": [
      "['Good', 'Afternoon', 'Every', 'One', 'From', 'Vignan']\n"
     ]
    }
   ],
   "source": [
    "sl=\"Good Afternoon Every One From Vignan\"\n",
    "s2=sl.split()\n",
    "print(s2)"
   ]
  },
  {
   "cell_type": "code",
   "execution_count": 12,
   "id": "a2fcdf19",
   "metadata": {},
   "outputs": [
    {
     "name": "stdout",
     "output_type": "stream",
     "text": [
      "['Good Aft', 'rnoon Ev', 'ry On', ' From Vignan']\n"
     ]
    }
   ],
   "source": [
    "sl=\"Good Afternoon Every One From Vignan\"\n",
    "s2=sl.split('e')\n",
    "print(s2)"
   ]
  },
  {
   "cell_type": "code",
   "execution_count": 13,
   "id": "9cfe9736",
   "metadata": {},
   "outputs": [
    {
     "name": "stdout",
     "output_type": "stream",
     "text": [
      "GAfternoonoAfternoonoAfternoond\n"
     ]
    }
   ],
   "source": [
    "sl1=\"Good\"\n",
    "sl2=\"Afternoon\".join(sl1)\n",
    "print(sl2)"
   ]
  },
  {
   "cell_type": "code",
   "execution_count": 14,
   "id": "d95c629d",
   "metadata": {},
   "outputs": [
    {
     "name": "stdout",
     "output_type": "stream",
     "text": [
      "good@afternoon\n"
     ]
    }
   ],
   "source": [
    "s1=\"good afternoon\"\n",
    "s2=s1.split()\n",
    "s3=\"@\".join(s2)\n",
    "print(s3)"
   ]
  },
  {
   "cell_type": "code",
   "execution_count": 15,
   "id": "81bd451a",
   "metadata": {},
   "outputs": [
    {
     "name": "stdout",
     "output_type": "stream",
     "text": [
      "Vignan CollEgE Of EnginEEring\n"
     ]
    }
   ],
   "source": [
    "h1=\"Vignan College Of Engineering\"\n",
    "h2=h1.replace('e',\"E\")\n",
    "print(h2)"
   ]
  },
  {
   "cell_type": "code",
   "execution_count": 22,
   "id": "20fc845c",
   "metadata": {},
   "outputs": [
    {
     "name": "stdout",
     "output_type": "stream",
     "text": [
      "202\n",
      "palindrome\n"
     ]
    }
   ],
   "source": [
    "s1=(input())\n",
    "s2=s1[::-1]\n",
    "if(s1==s2):\n",
    "    print(\"palindrome\")\n",
    "else:\n",
    "    print(\"not palindrome\")"
   ]
  },
  {
   "cell_type": "code",
   "execution_count": 32,
   "id": "fede4458",
   "metadata": {},
   "outputs": [
    {
     "name": "stdout",
     "output_type": "stream",
     "text": [
      "alphabets  GoodMorningHelloWorldByeBye\n",
      "even numbers  44680\n",
      "odd numbers  35315\n"
     ]
    }
   ],
   "source": [
    "Task2=\"Goo3d5Mor4ningHello3Wo1rldByeBye45680\"\n",
    "a=\" \"\n",
    "odd=\" \"\n",
    "even=\" \"\n",
    "for i in Task2:\n",
    "    if i.isalpha():\n",
    "        a+=i\n",
    "    elif int(i)%2==0:\n",
    "        even+=i\n",
    "    else:\n",
    "        odd+=i\n",
    "print(\"alphabets\",a)\n",
    "print(\"even numbers\",even)\n",
    "print(\"odd numbers\",odd)"
   ]
  },
  {
   "cell_type": "code",
   "execution_count": 33,
   "id": "f94f1421",
   "metadata": {},
   "outputs": [
    {
     "name": "stdout",
     "output_type": "stream",
     "text": [
      "2\n"
     ]
    }
   ],
   "source": [
    "s1=\"Hello World\"\n",
    "count=0\n",
    "for i in s1:\n",
    "    if i==\"o\":\n",
    "        count=count+1\n",
    "print(count)"
   ]
  },
  {
   "cell_type": "code",
   "execution_count": 35,
   "id": "e2340682",
   "metadata": {},
   "outputs": [
    {
     "name": "stdout",
     "output_type": "stream",
     "text": [
      "1\n"
     ]
    }
   ],
   "source": [
    "s2=\"VIGNAN\"\n",
    "count=0\n",
    "for i in s2:\n",
    "    if i==\"I\":\n",
    "        count=count+1\n",
    "print(count)"
   ]
  },
  {
   "cell_type": "code",
   "execution_count": null,
   "id": "3226e4c5",
   "metadata": {},
   "outputs": [],
   "source": []
  }
 ],
 "metadata": {
  "kernelspec": {
   "display_name": "Python 3",
   "language": "python",
   "name": "python3"
  },
  "language_info": {
   "codemirror_mode": {
    "name": "ipython",
    "version": 3
   },
   "file_extension": ".py",
   "mimetype": "text/x-python",
   "name": "python",
   "nbconvert_exporter": "python",
   "pygments_lexer": "ipython3",
   "version": "3.8.8"
  }
 },
 "nbformat": 4,
 "nbformat_minor": 5
}
